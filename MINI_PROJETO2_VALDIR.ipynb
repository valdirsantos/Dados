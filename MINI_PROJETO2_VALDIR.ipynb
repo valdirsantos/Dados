{
  "cells": [
    {
      "cell_type": "code",
      "execution_count": 42,
      "metadata": {
        "id": "_ur7Lgq-H_u3"
      },
      "outputs": [],
      "source": [
        "import pandas as pd\n",
        "import numpy as np\n",
        "import seaborn as sns\n",
        "import matplotlib.pyplot as plt\n",
        "import plotly.express as ex \n",
        "import plotly.graph_objects as go\n"
      ]
    },
    {
      "cell_type": "code",
      "execution_count": 43,
      "metadata": {
        "id": "lWdQbJTqdTtn"
      },
      "outputs": [
        {
          "ename": "URLError",
          "evalue": "<urlopen error [SSL: CERTIFICATE_VERIFY_FAILED] certificate verify failed: certificate has expired (_ssl.c:1129)>",
          "output_type": "error",
          "traceback": [
            "\u001b[0;31m---------------------------------------------------------------------------\u001b[0m",
            "\u001b[0;31mSSLCertVerificationError\u001b[0m                  Traceback (most recent call last)",
            "\u001b[0;32m~/anaconda3/lib/python3.9/urllib/request.py\u001b[0m in \u001b[0;36mdo_open\u001b[0;34m(self, http_class, req, **http_conn_args)\u001b[0m\n\u001b[1;32m   1345\u001b[0m             \u001b[0;32mtry\u001b[0m\u001b[0;34m:\u001b[0m\u001b[0;34m\u001b[0m\u001b[0;34m\u001b[0m\u001b[0m\n\u001b[0;32m-> 1346\u001b[0;31m                 h.request(req.get_method(), req.selector, req.data, headers,\n\u001b[0m\u001b[1;32m   1347\u001b[0m                           encode_chunked=req.has_header('Transfer-encoding'))\n",
            "\u001b[0;32m~/anaconda3/lib/python3.9/http/client.py\u001b[0m in \u001b[0;36mrequest\u001b[0;34m(self, method, url, body, headers, encode_chunked)\u001b[0m\n\u001b[1;32m   1278\u001b[0m         \u001b[0;34m\"\"\"Send a complete request to the server.\"\"\"\u001b[0m\u001b[0;34m\u001b[0m\u001b[0;34m\u001b[0m\u001b[0m\n\u001b[0;32m-> 1279\u001b[0;31m         \u001b[0mself\u001b[0m\u001b[0;34m.\u001b[0m\u001b[0m_send_request\u001b[0m\u001b[0;34m(\u001b[0m\u001b[0mmethod\u001b[0m\u001b[0;34m,\u001b[0m \u001b[0murl\u001b[0m\u001b[0;34m,\u001b[0m \u001b[0mbody\u001b[0m\u001b[0;34m,\u001b[0m \u001b[0mheaders\u001b[0m\u001b[0;34m,\u001b[0m \u001b[0mencode_chunked\u001b[0m\u001b[0;34m)\u001b[0m\u001b[0;34m\u001b[0m\u001b[0;34m\u001b[0m\u001b[0m\n\u001b[0m\u001b[1;32m   1280\u001b[0m \u001b[0;34m\u001b[0m\u001b[0m\n",
            "\u001b[0;32m~/anaconda3/lib/python3.9/http/client.py\u001b[0m in \u001b[0;36m_send_request\u001b[0;34m(self, method, url, body, headers, encode_chunked)\u001b[0m\n\u001b[1;32m   1324\u001b[0m             \u001b[0mbody\u001b[0m \u001b[0;34m=\u001b[0m \u001b[0m_encode\u001b[0m\u001b[0;34m(\u001b[0m\u001b[0mbody\u001b[0m\u001b[0;34m,\u001b[0m \u001b[0;34m'body'\u001b[0m\u001b[0;34m)\u001b[0m\u001b[0;34m\u001b[0m\u001b[0;34m\u001b[0m\u001b[0m\n\u001b[0;32m-> 1325\u001b[0;31m         \u001b[0mself\u001b[0m\u001b[0;34m.\u001b[0m\u001b[0mendheaders\u001b[0m\u001b[0;34m(\u001b[0m\u001b[0mbody\u001b[0m\u001b[0;34m,\u001b[0m \u001b[0mencode_chunked\u001b[0m\u001b[0;34m=\u001b[0m\u001b[0mencode_chunked\u001b[0m\u001b[0;34m)\u001b[0m\u001b[0;34m\u001b[0m\u001b[0;34m\u001b[0m\u001b[0m\n\u001b[0m\u001b[1;32m   1326\u001b[0m \u001b[0;34m\u001b[0m\u001b[0m\n",
            "\u001b[0;32m~/anaconda3/lib/python3.9/http/client.py\u001b[0m in \u001b[0;36mendheaders\u001b[0;34m(self, message_body, encode_chunked)\u001b[0m\n\u001b[1;32m   1273\u001b[0m             \u001b[0;32mraise\u001b[0m \u001b[0mCannotSendHeader\u001b[0m\u001b[0;34m(\u001b[0m\u001b[0;34m)\u001b[0m\u001b[0;34m\u001b[0m\u001b[0;34m\u001b[0m\u001b[0m\n\u001b[0;32m-> 1274\u001b[0;31m         \u001b[0mself\u001b[0m\u001b[0;34m.\u001b[0m\u001b[0m_send_output\u001b[0m\u001b[0;34m(\u001b[0m\u001b[0mmessage_body\u001b[0m\u001b[0;34m,\u001b[0m \u001b[0mencode_chunked\u001b[0m\u001b[0;34m=\u001b[0m\u001b[0mencode_chunked\u001b[0m\u001b[0;34m)\u001b[0m\u001b[0;34m\u001b[0m\u001b[0;34m\u001b[0m\u001b[0m\n\u001b[0m\u001b[1;32m   1275\u001b[0m \u001b[0;34m\u001b[0m\u001b[0m\n",
            "\u001b[0;32m~/anaconda3/lib/python3.9/http/client.py\u001b[0m in \u001b[0;36m_send_output\u001b[0;34m(self, message_body, encode_chunked)\u001b[0m\n\u001b[1;32m   1033\u001b[0m         \u001b[0;32mdel\u001b[0m \u001b[0mself\u001b[0m\u001b[0;34m.\u001b[0m\u001b[0m_buffer\u001b[0m\u001b[0;34m[\u001b[0m\u001b[0;34m:\u001b[0m\u001b[0;34m]\u001b[0m\u001b[0;34m\u001b[0m\u001b[0;34m\u001b[0m\u001b[0m\n\u001b[0;32m-> 1034\u001b[0;31m         \u001b[0mself\u001b[0m\u001b[0;34m.\u001b[0m\u001b[0msend\u001b[0m\u001b[0;34m(\u001b[0m\u001b[0mmsg\u001b[0m\u001b[0;34m)\u001b[0m\u001b[0;34m\u001b[0m\u001b[0;34m\u001b[0m\u001b[0m\n\u001b[0m\u001b[1;32m   1035\u001b[0m \u001b[0;34m\u001b[0m\u001b[0m\n",
            "\u001b[0;32m~/anaconda3/lib/python3.9/http/client.py\u001b[0m in \u001b[0;36msend\u001b[0;34m(self, data)\u001b[0m\n\u001b[1;32m    973\u001b[0m             \u001b[0;32mif\u001b[0m \u001b[0mself\u001b[0m\u001b[0;34m.\u001b[0m\u001b[0mauto_open\u001b[0m\u001b[0;34m:\u001b[0m\u001b[0;34m\u001b[0m\u001b[0;34m\u001b[0m\u001b[0m\n\u001b[0;32m--> 974\u001b[0;31m                 \u001b[0mself\u001b[0m\u001b[0;34m.\u001b[0m\u001b[0mconnect\u001b[0m\u001b[0;34m(\u001b[0m\u001b[0;34m)\u001b[0m\u001b[0;34m\u001b[0m\u001b[0;34m\u001b[0m\u001b[0m\n\u001b[0m\u001b[1;32m    975\u001b[0m             \u001b[0;32melse\u001b[0m\u001b[0;34m:\u001b[0m\u001b[0;34m\u001b[0m\u001b[0;34m\u001b[0m\u001b[0m\n",
            "\u001b[0;32m~/anaconda3/lib/python3.9/http/client.py\u001b[0m in \u001b[0;36mconnect\u001b[0;34m(self)\u001b[0m\n\u001b[1;32m   1447\u001b[0m \u001b[0;34m\u001b[0m\u001b[0m\n\u001b[0;32m-> 1448\u001b[0;31m             self.sock = self._context.wrap_socket(self.sock,\n\u001b[0m\u001b[1;32m   1449\u001b[0m                                                   server_hostname=server_hostname)\n",
            "\u001b[0;32m~/anaconda3/lib/python3.9/ssl.py\u001b[0m in \u001b[0;36mwrap_socket\u001b[0;34m(self, sock, server_side, do_handshake_on_connect, suppress_ragged_eofs, server_hostname, session)\u001b[0m\n\u001b[1;32m    499\u001b[0m         \u001b[0;31m# ctx._wrap_socket()\u001b[0m\u001b[0;34m\u001b[0m\u001b[0;34m\u001b[0m\u001b[0m\n\u001b[0;32m--> 500\u001b[0;31m         return self.sslsocket_class._create(\n\u001b[0m\u001b[1;32m    501\u001b[0m             \u001b[0msock\u001b[0m\u001b[0;34m=\u001b[0m\u001b[0msock\u001b[0m\u001b[0;34m,\u001b[0m\u001b[0;34m\u001b[0m\u001b[0;34m\u001b[0m\u001b[0m\n",
            "\u001b[0;32m~/anaconda3/lib/python3.9/ssl.py\u001b[0m in \u001b[0;36m_create\u001b[0;34m(cls, sock, server_side, do_handshake_on_connect, suppress_ragged_eofs, server_hostname, context, session)\u001b[0m\n\u001b[1;32m   1039\u001b[0m                         \u001b[0;32mraise\u001b[0m \u001b[0mValueError\u001b[0m\u001b[0;34m(\u001b[0m\u001b[0;34m\"do_handshake_on_connect should not be specified for non-blocking sockets\"\u001b[0m\u001b[0;34m)\u001b[0m\u001b[0;34m\u001b[0m\u001b[0;34m\u001b[0m\u001b[0m\n\u001b[0;32m-> 1040\u001b[0;31m                     \u001b[0mself\u001b[0m\u001b[0;34m.\u001b[0m\u001b[0mdo_handshake\u001b[0m\u001b[0;34m(\u001b[0m\u001b[0;34m)\u001b[0m\u001b[0;34m\u001b[0m\u001b[0;34m\u001b[0m\u001b[0m\n\u001b[0m\u001b[1;32m   1041\u001b[0m             \u001b[0;32mexcept\u001b[0m \u001b[0;34m(\u001b[0m\u001b[0mOSError\u001b[0m\u001b[0;34m,\u001b[0m \u001b[0mValueError\u001b[0m\u001b[0;34m)\u001b[0m\u001b[0;34m:\u001b[0m\u001b[0;34m\u001b[0m\u001b[0;34m\u001b[0m\u001b[0m\n",
            "\u001b[0;32m~/anaconda3/lib/python3.9/ssl.py\u001b[0m in \u001b[0;36mdo_handshake\u001b[0;34m(self, block)\u001b[0m\n\u001b[1;32m   1308\u001b[0m                 \u001b[0mself\u001b[0m\u001b[0;34m.\u001b[0m\u001b[0msettimeout\u001b[0m\u001b[0;34m(\u001b[0m\u001b[0;32mNone\u001b[0m\u001b[0;34m)\u001b[0m\u001b[0;34m\u001b[0m\u001b[0;34m\u001b[0m\u001b[0m\n\u001b[0;32m-> 1309\u001b[0;31m             \u001b[0mself\u001b[0m\u001b[0;34m.\u001b[0m\u001b[0m_sslobj\u001b[0m\u001b[0;34m.\u001b[0m\u001b[0mdo_handshake\u001b[0m\u001b[0;34m(\u001b[0m\u001b[0;34m)\u001b[0m\u001b[0;34m\u001b[0m\u001b[0;34m\u001b[0m\u001b[0m\n\u001b[0m\u001b[1;32m   1310\u001b[0m         \u001b[0;32mfinally\u001b[0m\u001b[0;34m:\u001b[0m\u001b[0;34m\u001b[0m\u001b[0;34m\u001b[0m\u001b[0m\n",
            "\u001b[0;31mSSLCertVerificationError\u001b[0m: [SSL: CERTIFICATE_VERIFY_FAILED] certificate verify failed: certificate has expired (_ssl.c:1129)",
            "\nDuring handling of the above exception, another exception occurred:\n",
            "\u001b[0;31mURLError\u001b[0m                                  Traceback (most recent call last)",
            "\u001b[0;32m/tmp/ipykernel_38861/428641900.py\u001b[0m in \u001b[0;36m<module>\u001b[0;34m\u001b[0m\n\u001b[0;32m----> 1\u001b[0;31m \u001b[0mwalmart\u001b[0m \u001b[0;34m=\u001b[0m \u001b[0mpd\u001b[0m\u001b[0;34m.\u001b[0m\u001b[0mread_csv\u001b[0m\u001b[0;34m(\u001b[0m\u001b[0;34m'https://raw.githubusercontent.com/valdirdpg/curso-dnc/master/MODULO-4/mini-projeto2/Walmart.csv'\u001b[0m\u001b[0;34m)\u001b[0m\u001b[0;34m\u001b[0m\u001b[0;34m\u001b[0m\u001b[0m\n\u001b[0m",
            "\u001b[0;32m~/anaconda3/lib/python3.9/site-packages/pandas/util/_decorators.py\u001b[0m in \u001b[0;36mwrapper\u001b[0;34m(*args, **kwargs)\u001b[0m\n\u001b[1;32m    209\u001b[0m                 \u001b[0;32melse\u001b[0m\u001b[0;34m:\u001b[0m\u001b[0;34m\u001b[0m\u001b[0;34m\u001b[0m\u001b[0m\n\u001b[1;32m    210\u001b[0m                     \u001b[0mkwargs\u001b[0m\u001b[0;34m[\u001b[0m\u001b[0mnew_arg_name\u001b[0m\u001b[0;34m]\u001b[0m \u001b[0;34m=\u001b[0m \u001b[0mnew_arg_value\u001b[0m\u001b[0;34m\u001b[0m\u001b[0;34m\u001b[0m\u001b[0m\n\u001b[0;32m--> 211\u001b[0;31m             \u001b[0;32mreturn\u001b[0m \u001b[0mfunc\u001b[0m\u001b[0;34m(\u001b[0m\u001b[0;34m*\u001b[0m\u001b[0margs\u001b[0m\u001b[0;34m,\u001b[0m \u001b[0;34m**\u001b[0m\u001b[0mkwargs\u001b[0m\u001b[0;34m)\u001b[0m\u001b[0;34m\u001b[0m\u001b[0;34m\u001b[0m\u001b[0m\n\u001b[0m\u001b[1;32m    212\u001b[0m \u001b[0;34m\u001b[0m\u001b[0m\n\u001b[1;32m    213\u001b[0m         \u001b[0;32mreturn\u001b[0m \u001b[0mcast\u001b[0m\u001b[0;34m(\u001b[0m\u001b[0mF\u001b[0m\u001b[0;34m,\u001b[0m \u001b[0mwrapper\u001b[0m\u001b[0;34m)\u001b[0m\u001b[0;34m\u001b[0m\u001b[0;34m\u001b[0m\u001b[0m\n",
            "\u001b[0;32m~/anaconda3/lib/python3.9/site-packages/pandas/util/_decorators.py\u001b[0m in \u001b[0;36mwrapper\u001b[0;34m(*args, **kwargs)\u001b[0m\n\u001b[1;32m    329\u001b[0m                     \u001b[0mstacklevel\u001b[0m\u001b[0;34m=\u001b[0m\u001b[0mfind_stack_level\u001b[0m\u001b[0;34m(\u001b[0m\u001b[0;34m)\u001b[0m\u001b[0;34m,\u001b[0m\u001b[0;34m\u001b[0m\u001b[0;34m\u001b[0m\u001b[0m\n\u001b[1;32m    330\u001b[0m                 )\n\u001b[0;32m--> 331\u001b[0;31m             \u001b[0;32mreturn\u001b[0m \u001b[0mfunc\u001b[0m\u001b[0;34m(\u001b[0m\u001b[0;34m*\u001b[0m\u001b[0margs\u001b[0m\u001b[0;34m,\u001b[0m \u001b[0;34m**\u001b[0m\u001b[0mkwargs\u001b[0m\u001b[0;34m)\u001b[0m\u001b[0;34m\u001b[0m\u001b[0;34m\u001b[0m\u001b[0m\n\u001b[0m\u001b[1;32m    332\u001b[0m \u001b[0;34m\u001b[0m\u001b[0m\n\u001b[1;32m    333\u001b[0m         \u001b[0;31m# error: \"Callable[[VarArg(Any), KwArg(Any)], Any]\" has no\u001b[0m\u001b[0;34m\u001b[0m\u001b[0;34m\u001b[0m\u001b[0m\n",
            "\u001b[0;32m~/anaconda3/lib/python3.9/site-packages/pandas/io/parsers/readers.py\u001b[0m in \u001b[0;36mread_csv\u001b[0;34m(filepath_or_buffer, sep, delimiter, header, names, index_col, usecols, squeeze, prefix, mangle_dupe_cols, dtype, engine, converters, true_values, false_values, skipinitialspace, skiprows, skipfooter, nrows, na_values, keep_default_na, na_filter, verbose, skip_blank_lines, parse_dates, infer_datetime_format, keep_date_col, date_parser, dayfirst, cache_dates, iterator, chunksize, compression, thousands, decimal, lineterminator, quotechar, quoting, doublequote, escapechar, comment, encoding, encoding_errors, dialect, error_bad_lines, warn_bad_lines, on_bad_lines, delim_whitespace, low_memory, memory_map, float_precision, storage_options)\u001b[0m\n\u001b[1;32m    948\u001b[0m     \u001b[0mkwds\u001b[0m\u001b[0;34m.\u001b[0m\u001b[0mupdate\u001b[0m\u001b[0;34m(\u001b[0m\u001b[0mkwds_defaults\u001b[0m\u001b[0;34m)\u001b[0m\u001b[0;34m\u001b[0m\u001b[0;34m\u001b[0m\u001b[0m\n\u001b[1;32m    949\u001b[0m \u001b[0;34m\u001b[0m\u001b[0m\n\u001b[0;32m--> 950\u001b[0;31m     \u001b[0;32mreturn\u001b[0m \u001b[0m_read\u001b[0m\u001b[0;34m(\u001b[0m\u001b[0mfilepath_or_buffer\u001b[0m\u001b[0;34m,\u001b[0m \u001b[0mkwds\u001b[0m\u001b[0;34m)\u001b[0m\u001b[0;34m\u001b[0m\u001b[0;34m\u001b[0m\u001b[0m\n\u001b[0m\u001b[1;32m    951\u001b[0m \u001b[0;34m\u001b[0m\u001b[0m\n\u001b[1;32m    952\u001b[0m \u001b[0;34m\u001b[0m\u001b[0m\n",
            "\u001b[0;32m~/anaconda3/lib/python3.9/site-packages/pandas/io/parsers/readers.py\u001b[0m in \u001b[0;36m_read\u001b[0;34m(filepath_or_buffer, kwds)\u001b[0m\n\u001b[1;32m    603\u001b[0m \u001b[0;34m\u001b[0m\u001b[0m\n\u001b[1;32m    604\u001b[0m     \u001b[0;31m# Create the parser.\u001b[0m\u001b[0;34m\u001b[0m\u001b[0;34m\u001b[0m\u001b[0m\n\u001b[0;32m--> 605\u001b[0;31m     \u001b[0mparser\u001b[0m \u001b[0;34m=\u001b[0m \u001b[0mTextFileReader\u001b[0m\u001b[0;34m(\u001b[0m\u001b[0mfilepath_or_buffer\u001b[0m\u001b[0;34m,\u001b[0m \u001b[0;34m**\u001b[0m\u001b[0mkwds\u001b[0m\u001b[0;34m)\u001b[0m\u001b[0;34m\u001b[0m\u001b[0;34m\u001b[0m\u001b[0m\n\u001b[0m\u001b[1;32m    606\u001b[0m \u001b[0;34m\u001b[0m\u001b[0m\n\u001b[1;32m    607\u001b[0m     \u001b[0;32mif\u001b[0m \u001b[0mchunksize\u001b[0m \u001b[0;32mor\u001b[0m \u001b[0miterator\u001b[0m\u001b[0;34m:\u001b[0m\u001b[0;34m\u001b[0m\u001b[0;34m\u001b[0m\u001b[0m\n",
            "\u001b[0;32m~/anaconda3/lib/python3.9/site-packages/pandas/io/parsers/readers.py\u001b[0m in \u001b[0;36m__init__\u001b[0;34m(self, f, engine, **kwds)\u001b[0m\n\u001b[1;32m   1440\u001b[0m \u001b[0;34m\u001b[0m\u001b[0m\n\u001b[1;32m   1441\u001b[0m         \u001b[0mself\u001b[0m\u001b[0;34m.\u001b[0m\u001b[0mhandles\u001b[0m\u001b[0;34m:\u001b[0m \u001b[0mIOHandles\u001b[0m \u001b[0;34m|\u001b[0m \u001b[0;32mNone\u001b[0m \u001b[0;34m=\u001b[0m \u001b[0;32mNone\u001b[0m\u001b[0;34m\u001b[0m\u001b[0;34m\u001b[0m\u001b[0m\n\u001b[0;32m-> 1442\u001b[0;31m         \u001b[0mself\u001b[0m\u001b[0;34m.\u001b[0m\u001b[0m_engine\u001b[0m \u001b[0;34m=\u001b[0m \u001b[0mself\u001b[0m\u001b[0;34m.\u001b[0m\u001b[0m_make_engine\u001b[0m\u001b[0;34m(\u001b[0m\u001b[0mf\u001b[0m\u001b[0;34m,\u001b[0m \u001b[0mself\u001b[0m\u001b[0;34m.\u001b[0m\u001b[0mengine\u001b[0m\u001b[0;34m)\u001b[0m\u001b[0;34m\u001b[0m\u001b[0;34m\u001b[0m\u001b[0m\n\u001b[0m\u001b[1;32m   1443\u001b[0m \u001b[0;34m\u001b[0m\u001b[0m\n\u001b[1;32m   1444\u001b[0m     \u001b[0;32mdef\u001b[0m \u001b[0mclose\u001b[0m\u001b[0;34m(\u001b[0m\u001b[0mself\u001b[0m\u001b[0;34m)\u001b[0m \u001b[0;34m->\u001b[0m \u001b[0;32mNone\u001b[0m\u001b[0;34m:\u001b[0m\u001b[0;34m\u001b[0m\u001b[0;34m\u001b[0m\u001b[0m\n",
            "\u001b[0;32m~/anaconda3/lib/python3.9/site-packages/pandas/io/parsers/readers.py\u001b[0m in \u001b[0;36m_make_engine\u001b[0;34m(self, f, engine)\u001b[0m\n\u001b[1;32m   1733\u001b[0m                 \u001b[0;32mif\u001b[0m \u001b[0;34m\"b\"\u001b[0m \u001b[0;32mnot\u001b[0m \u001b[0;32min\u001b[0m \u001b[0mmode\u001b[0m\u001b[0;34m:\u001b[0m\u001b[0;34m\u001b[0m\u001b[0;34m\u001b[0m\u001b[0m\n\u001b[1;32m   1734\u001b[0m                     \u001b[0mmode\u001b[0m \u001b[0;34m+=\u001b[0m \u001b[0;34m\"b\"\u001b[0m\u001b[0;34m\u001b[0m\u001b[0;34m\u001b[0m\u001b[0m\n\u001b[0;32m-> 1735\u001b[0;31m             self.handles = get_handle(\n\u001b[0m\u001b[1;32m   1736\u001b[0m                 \u001b[0mf\u001b[0m\u001b[0;34m,\u001b[0m\u001b[0;34m\u001b[0m\u001b[0;34m\u001b[0m\u001b[0m\n\u001b[1;32m   1737\u001b[0m                 \u001b[0mmode\u001b[0m\u001b[0;34m,\u001b[0m\u001b[0;34m\u001b[0m\u001b[0;34m\u001b[0m\u001b[0m\n",
            "\u001b[0;32m~/anaconda3/lib/python3.9/site-packages/pandas/io/common.py\u001b[0m in \u001b[0;36mget_handle\u001b[0;34m(path_or_buf, mode, encoding, compression, memory_map, is_text, errors, storage_options)\u001b[0m\n\u001b[1;32m    711\u001b[0m \u001b[0;34m\u001b[0m\u001b[0m\n\u001b[1;32m    712\u001b[0m     \u001b[0;31m# open URLs\u001b[0m\u001b[0;34m\u001b[0m\u001b[0;34m\u001b[0m\u001b[0m\n\u001b[0;32m--> 713\u001b[0;31m     ioargs = _get_filepath_or_buffer(\n\u001b[0m\u001b[1;32m    714\u001b[0m         \u001b[0mpath_or_buf\u001b[0m\u001b[0;34m,\u001b[0m\u001b[0;34m\u001b[0m\u001b[0;34m\u001b[0m\u001b[0m\n\u001b[1;32m    715\u001b[0m         \u001b[0mencoding\u001b[0m\u001b[0;34m=\u001b[0m\u001b[0mencoding\u001b[0m\u001b[0;34m,\u001b[0m\u001b[0;34m\u001b[0m\u001b[0;34m\u001b[0m\u001b[0m\n",
            "\u001b[0;32m~/anaconda3/lib/python3.9/site-packages/pandas/io/common.py\u001b[0m in \u001b[0;36m_get_filepath_or_buffer\u001b[0;34m(filepath_or_buffer, encoding, compression, mode, storage_options)\u001b[0m\n\u001b[1;32m    361\u001b[0m         \u001b[0;31m# assuming storage_options is to be interpreted as headers\u001b[0m\u001b[0;34m\u001b[0m\u001b[0;34m\u001b[0m\u001b[0m\n\u001b[1;32m    362\u001b[0m         \u001b[0mreq_info\u001b[0m \u001b[0;34m=\u001b[0m \u001b[0murllib\u001b[0m\u001b[0;34m.\u001b[0m\u001b[0mrequest\u001b[0m\u001b[0;34m.\u001b[0m\u001b[0mRequest\u001b[0m\u001b[0;34m(\u001b[0m\u001b[0mfilepath_or_buffer\u001b[0m\u001b[0;34m,\u001b[0m \u001b[0mheaders\u001b[0m\u001b[0;34m=\u001b[0m\u001b[0mstorage_options\u001b[0m\u001b[0;34m)\u001b[0m\u001b[0;34m\u001b[0m\u001b[0;34m\u001b[0m\u001b[0m\n\u001b[0;32m--> 363\u001b[0;31m         \u001b[0;32mwith\u001b[0m \u001b[0murlopen\u001b[0m\u001b[0;34m(\u001b[0m\u001b[0mreq_info\u001b[0m\u001b[0;34m)\u001b[0m \u001b[0;32mas\u001b[0m \u001b[0mreq\u001b[0m\u001b[0;34m:\u001b[0m\u001b[0;34m\u001b[0m\u001b[0;34m\u001b[0m\u001b[0m\n\u001b[0m\u001b[1;32m    364\u001b[0m             \u001b[0mcontent_encoding\u001b[0m \u001b[0;34m=\u001b[0m \u001b[0mreq\u001b[0m\u001b[0;34m.\u001b[0m\u001b[0mheaders\u001b[0m\u001b[0;34m.\u001b[0m\u001b[0mget\u001b[0m\u001b[0;34m(\u001b[0m\u001b[0;34m\"Content-Encoding\"\u001b[0m\u001b[0;34m,\u001b[0m \u001b[0;32mNone\u001b[0m\u001b[0;34m)\u001b[0m\u001b[0;34m\u001b[0m\u001b[0;34m\u001b[0m\u001b[0m\n\u001b[1;32m    365\u001b[0m             \u001b[0;32mif\u001b[0m \u001b[0mcontent_encoding\u001b[0m \u001b[0;34m==\u001b[0m \u001b[0;34m\"gzip\"\u001b[0m\u001b[0;34m:\u001b[0m\u001b[0;34m\u001b[0m\u001b[0;34m\u001b[0m\u001b[0m\n",
            "\u001b[0;32m~/anaconda3/lib/python3.9/site-packages/pandas/io/common.py\u001b[0m in \u001b[0;36murlopen\u001b[0;34m(*args, **kwargs)\u001b[0m\n\u001b[1;32m    263\u001b[0m     \u001b[0;32mimport\u001b[0m \u001b[0murllib\u001b[0m\u001b[0;34m.\u001b[0m\u001b[0mrequest\u001b[0m\u001b[0;34m\u001b[0m\u001b[0;34m\u001b[0m\u001b[0m\n\u001b[1;32m    264\u001b[0m \u001b[0;34m\u001b[0m\u001b[0m\n\u001b[0;32m--> 265\u001b[0;31m     \u001b[0;32mreturn\u001b[0m \u001b[0murllib\u001b[0m\u001b[0;34m.\u001b[0m\u001b[0mrequest\u001b[0m\u001b[0;34m.\u001b[0m\u001b[0murlopen\u001b[0m\u001b[0;34m(\u001b[0m\u001b[0;34m*\u001b[0m\u001b[0margs\u001b[0m\u001b[0;34m,\u001b[0m \u001b[0;34m**\u001b[0m\u001b[0mkwargs\u001b[0m\u001b[0;34m)\u001b[0m\u001b[0;34m\u001b[0m\u001b[0;34m\u001b[0m\u001b[0m\n\u001b[0m\u001b[1;32m    266\u001b[0m \u001b[0;34m\u001b[0m\u001b[0m\n\u001b[1;32m    267\u001b[0m \u001b[0;34m\u001b[0m\u001b[0m\n",
            "\u001b[0;32m~/anaconda3/lib/python3.9/urllib/request.py\u001b[0m in \u001b[0;36murlopen\u001b[0;34m(url, data, timeout, cafile, capath, cadefault, context)\u001b[0m\n\u001b[1;32m    212\u001b[0m     \u001b[0;32melse\u001b[0m\u001b[0;34m:\u001b[0m\u001b[0;34m\u001b[0m\u001b[0;34m\u001b[0m\u001b[0m\n\u001b[1;32m    213\u001b[0m         \u001b[0mopener\u001b[0m \u001b[0;34m=\u001b[0m \u001b[0m_opener\u001b[0m\u001b[0;34m\u001b[0m\u001b[0;34m\u001b[0m\u001b[0m\n\u001b[0;32m--> 214\u001b[0;31m     \u001b[0;32mreturn\u001b[0m \u001b[0mopener\u001b[0m\u001b[0;34m.\u001b[0m\u001b[0mopen\u001b[0m\u001b[0;34m(\u001b[0m\u001b[0murl\u001b[0m\u001b[0;34m,\u001b[0m \u001b[0mdata\u001b[0m\u001b[0;34m,\u001b[0m \u001b[0mtimeout\u001b[0m\u001b[0;34m)\u001b[0m\u001b[0;34m\u001b[0m\u001b[0;34m\u001b[0m\u001b[0m\n\u001b[0m\u001b[1;32m    215\u001b[0m \u001b[0;34m\u001b[0m\u001b[0m\n\u001b[1;32m    216\u001b[0m \u001b[0;32mdef\u001b[0m \u001b[0minstall_opener\u001b[0m\u001b[0;34m(\u001b[0m\u001b[0mopener\u001b[0m\u001b[0;34m)\u001b[0m\u001b[0;34m:\u001b[0m\u001b[0;34m\u001b[0m\u001b[0;34m\u001b[0m\u001b[0m\n",
            "\u001b[0;32m~/anaconda3/lib/python3.9/urllib/request.py\u001b[0m in \u001b[0;36mopen\u001b[0;34m(self, fullurl, data, timeout)\u001b[0m\n\u001b[1;32m    515\u001b[0m \u001b[0;34m\u001b[0m\u001b[0m\n\u001b[1;32m    516\u001b[0m         \u001b[0msys\u001b[0m\u001b[0;34m.\u001b[0m\u001b[0maudit\u001b[0m\u001b[0;34m(\u001b[0m\u001b[0;34m'urllib.Request'\u001b[0m\u001b[0;34m,\u001b[0m \u001b[0mreq\u001b[0m\u001b[0;34m.\u001b[0m\u001b[0mfull_url\u001b[0m\u001b[0;34m,\u001b[0m \u001b[0mreq\u001b[0m\u001b[0;34m.\u001b[0m\u001b[0mdata\u001b[0m\u001b[0;34m,\u001b[0m \u001b[0mreq\u001b[0m\u001b[0;34m.\u001b[0m\u001b[0mheaders\u001b[0m\u001b[0;34m,\u001b[0m \u001b[0mreq\u001b[0m\u001b[0;34m.\u001b[0m\u001b[0mget_method\u001b[0m\u001b[0;34m(\u001b[0m\u001b[0;34m)\u001b[0m\u001b[0;34m)\u001b[0m\u001b[0;34m\u001b[0m\u001b[0;34m\u001b[0m\u001b[0m\n\u001b[0;32m--> 517\u001b[0;31m         \u001b[0mresponse\u001b[0m \u001b[0;34m=\u001b[0m \u001b[0mself\u001b[0m\u001b[0;34m.\u001b[0m\u001b[0m_open\u001b[0m\u001b[0;34m(\u001b[0m\u001b[0mreq\u001b[0m\u001b[0;34m,\u001b[0m \u001b[0mdata\u001b[0m\u001b[0;34m)\u001b[0m\u001b[0;34m\u001b[0m\u001b[0;34m\u001b[0m\u001b[0m\n\u001b[0m\u001b[1;32m    518\u001b[0m \u001b[0;34m\u001b[0m\u001b[0m\n\u001b[1;32m    519\u001b[0m         \u001b[0;31m# post-process response\u001b[0m\u001b[0;34m\u001b[0m\u001b[0;34m\u001b[0m\u001b[0m\n",
            "\u001b[0;32m~/anaconda3/lib/python3.9/urllib/request.py\u001b[0m in \u001b[0;36m_open\u001b[0;34m(self, req, data)\u001b[0m\n\u001b[1;32m    532\u001b[0m \u001b[0;34m\u001b[0m\u001b[0m\n\u001b[1;32m    533\u001b[0m         \u001b[0mprotocol\u001b[0m \u001b[0;34m=\u001b[0m \u001b[0mreq\u001b[0m\u001b[0;34m.\u001b[0m\u001b[0mtype\u001b[0m\u001b[0;34m\u001b[0m\u001b[0;34m\u001b[0m\u001b[0m\n\u001b[0;32m--> 534\u001b[0;31m         result = self._call_chain(self.handle_open, protocol, protocol +\n\u001b[0m\u001b[1;32m    535\u001b[0m                                   '_open', req)\n\u001b[1;32m    536\u001b[0m         \u001b[0;32mif\u001b[0m \u001b[0mresult\u001b[0m\u001b[0;34m:\u001b[0m\u001b[0;34m\u001b[0m\u001b[0;34m\u001b[0m\u001b[0m\n",
            "\u001b[0;32m~/anaconda3/lib/python3.9/urllib/request.py\u001b[0m in \u001b[0;36m_call_chain\u001b[0;34m(self, chain, kind, meth_name, *args)\u001b[0m\n\u001b[1;32m    492\u001b[0m         \u001b[0;32mfor\u001b[0m \u001b[0mhandler\u001b[0m \u001b[0;32min\u001b[0m \u001b[0mhandlers\u001b[0m\u001b[0;34m:\u001b[0m\u001b[0;34m\u001b[0m\u001b[0;34m\u001b[0m\u001b[0m\n\u001b[1;32m    493\u001b[0m             \u001b[0mfunc\u001b[0m \u001b[0;34m=\u001b[0m \u001b[0mgetattr\u001b[0m\u001b[0;34m(\u001b[0m\u001b[0mhandler\u001b[0m\u001b[0;34m,\u001b[0m \u001b[0mmeth_name\u001b[0m\u001b[0;34m)\u001b[0m\u001b[0;34m\u001b[0m\u001b[0;34m\u001b[0m\u001b[0m\n\u001b[0;32m--> 494\u001b[0;31m             \u001b[0mresult\u001b[0m \u001b[0;34m=\u001b[0m \u001b[0mfunc\u001b[0m\u001b[0;34m(\u001b[0m\u001b[0;34m*\u001b[0m\u001b[0margs\u001b[0m\u001b[0;34m)\u001b[0m\u001b[0;34m\u001b[0m\u001b[0;34m\u001b[0m\u001b[0m\n\u001b[0m\u001b[1;32m    495\u001b[0m             \u001b[0;32mif\u001b[0m \u001b[0mresult\u001b[0m \u001b[0;32mis\u001b[0m \u001b[0;32mnot\u001b[0m \u001b[0;32mNone\u001b[0m\u001b[0;34m:\u001b[0m\u001b[0;34m\u001b[0m\u001b[0;34m\u001b[0m\u001b[0m\n\u001b[1;32m    496\u001b[0m                 \u001b[0;32mreturn\u001b[0m \u001b[0mresult\u001b[0m\u001b[0;34m\u001b[0m\u001b[0;34m\u001b[0m\u001b[0m\n",
            "\u001b[0;32m~/anaconda3/lib/python3.9/urllib/request.py\u001b[0m in \u001b[0;36mhttps_open\u001b[0;34m(self, req)\u001b[0m\n\u001b[1;32m   1387\u001b[0m \u001b[0;34m\u001b[0m\u001b[0m\n\u001b[1;32m   1388\u001b[0m         \u001b[0;32mdef\u001b[0m \u001b[0mhttps_open\u001b[0m\u001b[0;34m(\u001b[0m\u001b[0mself\u001b[0m\u001b[0;34m,\u001b[0m \u001b[0mreq\u001b[0m\u001b[0;34m)\u001b[0m\u001b[0;34m:\u001b[0m\u001b[0;34m\u001b[0m\u001b[0;34m\u001b[0m\u001b[0m\n\u001b[0;32m-> 1389\u001b[0;31m             return self.do_open(http.client.HTTPSConnection, req,\n\u001b[0m\u001b[1;32m   1390\u001b[0m                 context=self._context, check_hostname=self._check_hostname)\n\u001b[1;32m   1391\u001b[0m \u001b[0;34m\u001b[0m\u001b[0m\n",
            "\u001b[0;32m~/anaconda3/lib/python3.9/urllib/request.py\u001b[0m in \u001b[0;36mdo_open\u001b[0;34m(self, http_class, req, **http_conn_args)\u001b[0m\n\u001b[1;32m   1347\u001b[0m                           encode_chunked=req.has_header('Transfer-encoding'))\n\u001b[1;32m   1348\u001b[0m             \u001b[0;32mexcept\u001b[0m \u001b[0mOSError\u001b[0m \u001b[0;32mas\u001b[0m \u001b[0merr\u001b[0m\u001b[0;34m:\u001b[0m \u001b[0;31m# timeout error\u001b[0m\u001b[0;34m\u001b[0m\u001b[0;34m\u001b[0m\u001b[0m\n\u001b[0;32m-> 1349\u001b[0;31m                 \u001b[0;32mraise\u001b[0m \u001b[0mURLError\u001b[0m\u001b[0;34m(\u001b[0m\u001b[0merr\u001b[0m\u001b[0;34m)\u001b[0m\u001b[0;34m\u001b[0m\u001b[0;34m\u001b[0m\u001b[0m\n\u001b[0m\u001b[1;32m   1350\u001b[0m             \u001b[0mr\u001b[0m \u001b[0;34m=\u001b[0m \u001b[0mh\u001b[0m\u001b[0;34m.\u001b[0m\u001b[0mgetresponse\u001b[0m\u001b[0;34m(\u001b[0m\u001b[0;34m)\u001b[0m\u001b[0;34m\u001b[0m\u001b[0;34m\u001b[0m\u001b[0m\n\u001b[1;32m   1351\u001b[0m         \u001b[0;32mexcept\u001b[0m\u001b[0;34m:\u001b[0m\u001b[0;34m\u001b[0m\u001b[0;34m\u001b[0m\u001b[0m\n",
            "\u001b[0;31mURLError\u001b[0m: <urlopen error [SSL: CERTIFICATE_VERIFY_FAILED] certificate verify failed: certificate has expired (_ssl.c:1129)>"
          ]
        }
      ],
      "source": [
        "walmart = pd.read_csv('https://raw.githubusercontent.com/valdirdpg/curso-dnc/master/MODULO-4/mini-projeto2/Walmart.csv')"
      ]
    },
    {
      "cell_type": "markdown",
      "metadata": {
        "id": "xw9PwrP0f5eB"
      },
      "source": [
        "\n",
        "\n",
        "```\n",
        "Super Bowl     12-Feb-10, 11-Feb-11, 10-Feb-12\n",
        "Labour Day     10-Sep-10, 09-Sep-11, 07-Sep-12\n",
        "Thanksgiving   26-Nov-10, 25-Nov-11, 23-Nov-12\n",
        "Christmas      31-Dec-10, 30-Dec-11, 28-Dec-12\n",
        "\n",
        "**Variável**        **Descrição**\n",
        "Store              Número da Loja\n",
        "Date               Semana de Venda\n",
        "Weekly_Sales       Venda Naquela Semana\n",
        "Holiday_Flag       Flag se é ou não semana com feriado (1 -\n",
        "                   Holiday Week 0 - Non-Holiday Week)\n",
        "Temperature        Temperatura do dia em °F\n",
        "Fuel_Price         Preço do combustível na região da loja\n",
        "CPI                Índice de preços ao consumidor\n",
        "Unemployment       Taxa de desemprego\n",
        "```\n",
        "\n",
        "\n"
      ]
    },
    {
      "attachments": {},
      "cell_type": "markdown",
      "metadata": {
        "id": "x5MRLkTCiwnS"
      },
      "source": [
        "Qual o preço médio de venda semanal por loja?\n",
        "Qual o atributo que tem maior correlação (positiva ou negativa) com o número de\n",
        "vendas? (E que faça sentido)\n",
        "Da loja com maior venda acumulada (soma de vendas de todo o período), quantas\n",
        "semanas do ano ele ultrapassou a média do período?\n",
        "Faça um gráfico com as vendas máximas, mínimas e médias de todas as lojas ao\n",
        "longo do tempo. Ressalte de alguma forma, o período de feriados mencionados\n",
        "acima.\n",
        "    Pensando na expansão de uma das lojas, que loja você escolheria e o por que?"
      ]
    },
    {
      "cell_type": "code",
      "execution_count": null,
      "metadata": {},
      "outputs": [],
      "source": [
        "# formatar Weekly_Sales com duas casas decimais\n",
        "walmart['Weekly_Sales'] = walmart['Weekly_Sales'].apply(lambda x: round(x, 2))"
      ]
    },
    {
      "cell_type": "code",
      "execution_count": null,
      "metadata": {},
      "outputs": [],
      "source": [
        "# formatar Date para datetime\n",
        "walmart['Date'] = pd.to_datetime(walmart['Date'])\n"
      ]
    },
    {
      "cell_type": "code",
      "execution_count": null,
      "metadata": {},
      "outputs": [
        {
          "data": {
            "text/html": [
              "<div>\n",
              "<style scoped>\n",
              "    .dataframe tbody tr th:only-of-type {\n",
              "        vertical-align: middle;\n",
              "    }\n",
              "\n",
              "    .dataframe tbody tr th {\n",
              "        vertical-align: top;\n",
              "    }\n",
              "\n",
              "    .dataframe thead th {\n",
              "        text-align: right;\n",
              "    }\n",
              "</style>\n",
              "<table border=\"1\" class=\"dataframe\">\n",
              "  <thead>\n",
              "    <tr style=\"text-align: right;\">\n",
              "      <th></th>\n",
              "      <th>Store</th>\n",
              "      <th>Weekly_Sales</th>\n",
              "      <th>Holiday_Flag</th>\n",
              "      <th>Temperature</th>\n",
              "      <th>Fuel_Price</th>\n",
              "      <th>CPI</th>\n",
              "      <th>Unemployment</th>\n",
              "    </tr>\n",
              "  </thead>\n",
              "  <tbody>\n",
              "    <tr>\n",
              "      <th>count</th>\n",
              "      <td>6435.000000</td>\n",
              "      <td>6.435000e+03</td>\n",
              "      <td>6435.000000</td>\n",
              "      <td>6435.000000</td>\n",
              "      <td>6435.000000</td>\n",
              "      <td>6435.000000</td>\n",
              "      <td>6435.000000</td>\n",
              "    </tr>\n",
              "    <tr>\n",
              "      <th>mean</th>\n",
              "      <td>23.000000</td>\n",
              "      <td>1.046965e+06</td>\n",
              "      <td>0.069930</td>\n",
              "      <td>60.663782</td>\n",
              "      <td>3.358607</td>\n",
              "      <td>171.578394</td>\n",
              "      <td>7.999151</td>\n",
              "    </tr>\n",
              "    <tr>\n",
              "      <th>std</th>\n",
              "      <td>12.988182</td>\n",
              "      <td>5.643666e+05</td>\n",
              "      <td>0.255049</td>\n",
              "      <td>18.444933</td>\n",
              "      <td>0.459020</td>\n",
              "      <td>39.356712</td>\n",
              "      <td>1.875885</td>\n",
              "    </tr>\n",
              "    <tr>\n",
              "      <th>min</th>\n",
              "      <td>1.000000</td>\n",
              "      <td>2.099862e+05</td>\n",
              "      <td>0.000000</td>\n",
              "      <td>-2.060000</td>\n",
              "      <td>2.472000</td>\n",
              "      <td>126.064000</td>\n",
              "      <td>3.879000</td>\n",
              "    </tr>\n",
              "    <tr>\n",
              "      <th>25%</th>\n",
              "      <td>12.000000</td>\n",
              "      <td>5.533501e+05</td>\n",
              "      <td>0.000000</td>\n",
              "      <td>47.460000</td>\n",
              "      <td>2.933000</td>\n",
              "      <td>131.735000</td>\n",
              "      <td>6.891000</td>\n",
              "    </tr>\n",
              "    <tr>\n",
              "      <th>50%</th>\n",
              "      <td>23.000000</td>\n",
              "      <td>9.607460e+05</td>\n",
              "      <td>0.000000</td>\n",
              "      <td>62.670000</td>\n",
              "      <td>3.445000</td>\n",
              "      <td>182.616521</td>\n",
              "      <td>7.874000</td>\n",
              "    </tr>\n",
              "    <tr>\n",
              "      <th>75%</th>\n",
              "      <td>34.000000</td>\n",
              "      <td>1.420159e+06</td>\n",
              "      <td>0.000000</td>\n",
              "      <td>74.940000</td>\n",
              "      <td>3.735000</td>\n",
              "      <td>212.743293</td>\n",
              "      <td>8.622000</td>\n",
              "    </tr>\n",
              "    <tr>\n",
              "      <th>max</th>\n",
              "      <td>45.000000</td>\n",
              "      <td>3.818686e+06</td>\n",
              "      <td>1.000000</td>\n",
              "      <td>100.140000</td>\n",
              "      <td>4.468000</td>\n",
              "      <td>227.232807</td>\n",
              "      <td>14.313000</td>\n",
              "    </tr>\n",
              "  </tbody>\n",
              "</table>\n",
              "</div>"
            ],
            "text/plain": [
              "             Store  Weekly_Sales  Holiday_Flag  Temperature   Fuel_Price  \\\n",
              "count  6435.000000  6.435000e+03   6435.000000  6435.000000  6435.000000   \n",
              "mean     23.000000  1.046965e+06      0.069930    60.663782     3.358607   \n",
              "std      12.988182  5.643666e+05      0.255049    18.444933     0.459020   \n",
              "min       1.000000  2.099862e+05      0.000000    -2.060000     2.472000   \n",
              "25%      12.000000  5.533501e+05      0.000000    47.460000     2.933000   \n",
              "50%      23.000000  9.607460e+05      0.000000    62.670000     3.445000   \n",
              "75%      34.000000  1.420159e+06      0.000000    74.940000     3.735000   \n",
              "max      45.000000  3.818686e+06      1.000000   100.140000     4.468000   \n",
              "\n",
              "               CPI  Unemployment  \n",
              "count  6435.000000   6435.000000  \n",
              "mean    171.578394      7.999151  \n",
              "std      39.356712      1.875885  \n",
              "min     126.064000      3.879000  \n",
              "25%     131.735000      6.891000  \n",
              "50%     182.616521      7.874000  \n",
              "75%     212.743293      8.622000  \n",
              "max     227.232807     14.313000  "
            ]
          },
          "execution_count": 4,
          "metadata": {},
          "output_type": "execute_result"
        }
      ],
      "source": [
        "# verificar se tem valores não preenchidos e as sua médias\n",
        "# percebo que todos estão preenchidos devido todos os atributos do dataframe terem \n",
        "# a mesma quantidade de informação 6435 linhas preenchidas, assim não carece de outros testes\n",
        "walmart.describe()"
      ]
    },
    {
      "cell_type": "code",
      "execution_count": null,
      "metadata": {},
      "outputs": [
        {
          "data": {
            "text/plain": [
              "0"
            ]
          },
          "execution_count": 26,
          "metadata": {},
          "output_type": "execute_result"
        }
      ],
      "source": [
        "# verificar se tem valores duplicados\n",
        "# percebo que não tem valores duplicados\n",
        "walmart.duplicated().sum()\n"
      ]
    },
    {
      "cell_type": "code",
      "execution_count": null,
      "metadata": {},
      "outputs": [
        {
          "data": {
            "text/plain": [
              "Store           0\n",
              "Date            0\n",
              "Weekly_Sales    0\n",
              "Holiday_Flag    0\n",
              "Temperature     0\n",
              "Fuel_Price      0\n",
              "CPI             0\n",
              "Unemployment    0\n",
              "dtype: int64"
            ]
          },
          "execution_count": 27,
          "metadata": {},
          "output_type": "execute_result"
        }
      ],
      "source": [
        "# verificar se tem valores nulos\n",
        "# percebo que não tem valores nulos\n",
        "walmart.isnull().sum()"
      ]
    },
    {
      "cell_type": "code",
      "execution_count": null,
      "metadata": {},
      "outputs": [
        {
          "data": {
            "text/plain": [
              "<AxesSubplot: >"
            ]
          },
          "execution_count": 31,
          "metadata": {},
          "output_type": "execute_result"
        },
        {
          "data": {
            "image/png": "[encoded data removed]",
            "text/plain": [
              "<Figure size 2000x1000 with 1 Axes>"
            ]
          },
          "metadata": {},
          "output_type": "display_data"
        }
      ],
      "source": [
        "# verificar se há outliers\n",
        "# percebo que não tem outliers\n",
        "plt.figure(figsize=(20, 10))\n",
        "walmart.boxplot()"
      ]
    },
    {
      "cell_type": "code",
      "execution_count": null,
      "metadata": {},
      "outputs": [],
      "source": [
        "# qual é a média de vendas semanais para cada de loja?\n",
        "preco_medio = walmart.groupby('Store').agg({'Weekly_Sales':np.mean}).reset_index()\n",
        "# ordenando as médias de venda do maior para o menor\n",
        "preco_medio.sort_values(by='Weekly_Sales', ascending=False)\n",
        "\n",
        "\n"
      ]
    },
    {
      "cell_type": "code",
      "execution_count": null,
      "metadata": {},
      "outputs": [
        {
          "name": "stderr",
          "output_type": "stream",
          "text": [
            "/tmp/ipykernel_38861/1377206008.py:4: FutureWarning:\n",
            "\n",
            "The default value of numeric_only in DataFrame.corr is deprecated. In a future version, it will default to False. Select only valid columns or specify the value of numeric_only to silence this warning.\n",
            "\n"
          ]
        },
        {
          "data": {
            "image/png": "[encoded data removed]",
            "text/plain": [
              "<Figure size 1000x1000 with 2 Axes>"
            ]
          },
          "metadata": {},
          "output_type": "display_data"
        }
      ],
      "source": [
        "# plotar um grafico de correlação entre as variáveis\n",
        "\n",
        "plt.figure(figsize=(10,10))\n",
        "sns.heatmap(walmart.corr(), annot=True, cmap='Blues')\n",
        "plt.show()"
      ]
    },
    {
      "cell_type": "code",
      "execution_count": null,
      "metadata": {},
      "outputs": [
        {
          "data": {
            "text/html": [
              "<div>\n",
              "<style scoped>\n",
              "    .dataframe tbody tr th:only-of-type {\n",
              "        vertical-align: middle;\n",
              "    }\n",
              "\n",
              "    .dataframe tbody tr th {\n",
              "        vertical-align: top;\n",
              "    }\n",
              "\n",
              "    .dataframe thead th {\n",
              "        text-align: right;\n",
              "    }\n",
              "</style>\n",
              "<table border=\"1\" class=\"dataframe\">\n",
              "  <thead>\n",
              "    <tr style=\"text-align: right;\">\n",
              "      <th></th>\n",
              "      <th>Store</th>\n",
              "      <th>Weekly_Sales</th>\n",
              "      <th>percentual</th>\n",
              "    </tr>\n",
              "  </thead>\n",
              "  <tbody>\n",
              "    <tr>\n",
              "      <th>19</th>\n",
              "      <td>20</td>\n",
              "      <td>2.107677e+06</td>\n",
              "      <td>4.473623</td>\n",
              "    </tr>\n",
              "    <tr>\n",
              "      <th>3</th>\n",
              "      <td>4</td>\n",
              "      <td>2.094713e+06</td>\n",
              "      <td>4.446107</td>\n",
              "    </tr>\n",
              "    <tr>\n",
              "      <th>13</th>\n",
              "      <td>14</td>\n",
              "      <td>2.020978e+06</td>\n",
              "      <td>4.289602</td>\n",
              "    </tr>\n",
              "    <tr>\n",
              "      <th>12</th>\n",
              "      <td>13</td>\n",
              "      <td>2.003620e+06</td>\n",
              "      <td>4.252759</td>\n",
              "    </tr>\n",
              "    <tr>\n",
              "      <th>1</th>\n",
              "      <td>2</td>\n",
              "      <td>1.925751e+06</td>\n",
              "      <td>4.087479</td>\n",
              "    </tr>\n",
              "    <tr>\n",
              "      <th>9</th>\n",
              "      <td>10</td>\n",
              "      <td>1.899425e+06</td>\n",
              "      <td>4.031600</td>\n",
              "    </tr>\n",
              "    <tr>\n",
              "      <th>26</th>\n",
              "      <td>27</td>\n",
              "      <td>1.775216e+06</td>\n",
              "      <td>3.767963</td>\n",
              "    </tr>\n",
              "    <tr>\n",
              "      <th>5</th>\n",
              "      <td>6</td>\n",
              "      <td>1.564728e+06</td>\n",
              "      <td>3.321194</td>\n",
              "    </tr>\n",
              "    <tr>\n",
              "      <th>0</th>\n",
              "      <td>1</td>\n",
              "      <td>1.555264e+06</td>\n",
              "      <td>3.301107</td>\n",
              "    </tr>\n",
              "    <tr>\n",
              "      <th>38</th>\n",
              "      <td>39</td>\n",
              "      <td>1.450668e+06</td>\n",
              "      <td>3.079098</td>\n",
              "    </tr>\n",
              "    <tr>\n",
              "      <th>18</th>\n",
              "      <td>19</td>\n",
              "      <td>1.444999e+06</td>\n",
              "      <td>3.067065</td>\n",
              "    </tr>\n",
              "    <tr>\n",
              "      <th>30</th>\n",
              "      <td>31</td>\n",
              "      <td>1.395901e+06</td>\n",
              "      <td>2.962853</td>\n",
              "    </tr>\n",
              "    <tr>\n",
              "      <th>22</th>\n",
              "      <td>23</td>\n",
              "      <td>1.389864e+06</td>\n",
              "      <td>2.950039</td>\n",
              "    </tr>\n",
              "    <tr>\n",
              "      <th>23</th>\n",
              "      <td>24</td>\n",
              "      <td>1.356755e+06</td>\n",
              "      <td>2.879764</td>\n",
              "    </tr>\n",
              "    <tr>\n",
              "      <th>10</th>\n",
              "      <td>11</td>\n",
              "      <td>1.356383e+06</td>\n",
              "      <td>2.878974</td>\n",
              "    </tr>\n",
              "    <tr>\n",
              "      <th>27</th>\n",
              "      <td>28</td>\n",
              "      <td>1.323522e+06</td>\n",
              "      <td>2.809226</td>\n",
              "    </tr>\n",
              "    <tr>\n",
              "      <th>40</th>\n",
              "      <td>41</td>\n",
              "      <td>1.268125e+06</td>\n",
              "      <td>2.691644</td>\n",
              "    </tr>\n",
              "    <tr>\n",
              "      <th>31</th>\n",
              "      <td>32</td>\n",
              "      <td>1.166568e+06</td>\n",
              "      <td>2.476085</td>\n",
              "    </tr>\n",
              "    <tr>\n",
              "      <th>17</th>\n",
              "      <td>18</td>\n",
              "      <td>1.084718e+06</td>\n",
              "      <td>2.302356</td>\n",
              "    </tr>\n",
              "    <tr>\n",
              "      <th>21</th>\n",
              "      <td>22</td>\n",
              "      <td>1.028501e+06</td>\n",
              "      <td>2.183032</td>\n",
              "    </tr>\n",
              "    <tr>\n",
              "      <th>11</th>\n",
              "      <td>12</td>\n",
              "      <td>1.009002e+06</td>\n",
              "      <td>2.141644</td>\n",
              "    </tr>\n",
              "    <tr>\n",
              "      <th>25</th>\n",
              "      <td>26</td>\n",
              "      <td>1.002912e+06</td>\n",
              "      <td>2.128718</td>\n",
              "    </tr>\n",
              "    <tr>\n",
              "      <th>33</th>\n",
              "      <td>34</td>\n",
              "      <td>9.667816e+05</td>\n",
              "      <td>2.052030</td>\n",
              "    </tr>\n",
              "    <tr>\n",
              "      <th>39</th>\n",
              "      <td>40</td>\n",
              "      <td>9.641280e+05</td>\n",
              "      <td>2.046398</td>\n",
              "    </tr>\n",
              "    <tr>\n",
              "      <th>34</th>\n",
              "      <td>35</td>\n",
              "      <td>9.197250e+05</td>\n",
              "      <td>1.952151</td>\n",
              "    </tr>\n",
              "    <tr>\n",
              "      <th>7</th>\n",
              "      <td>8</td>\n",
              "      <td>9.087495e+05</td>\n",
              "      <td>1.928855</td>\n",
              "    </tr>\n",
              "    <tr>\n",
              "      <th>16</th>\n",
              "      <td>17</td>\n",
              "      <td>8.935814e+05</td>\n",
              "      <td>1.896660</td>\n",
              "    </tr>\n",
              "    <tr>\n",
              "      <th>44</th>\n",
              "      <td>45</td>\n",
              "      <td>7.859814e+05</td>\n",
              "      <td>1.668275</td>\n",
              "    </tr>\n",
              "    <tr>\n",
              "      <th>20</th>\n",
              "      <td>21</td>\n",
              "      <td>7.560691e+05</td>\n",
              "      <td>1.604785</td>\n",
              "    </tr>\n",
              "    <tr>\n",
              "      <th>24</th>\n",
              "      <td>25</td>\n",
              "      <td>7.067215e+05</td>\n",
              "      <td>1.500043</td>\n",
              "    </tr>\n",
              "    <tr>\n",
              "      <th>42</th>\n",
              "      <td>43</td>\n",
              "      <td>6.333247e+05</td>\n",
              "      <td>1.344255</td>\n",
              "    </tr>\n",
              "    <tr>\n",
              "      <th>14</th>\n",
              "      <td>15</td>\n",
              "      <td>6.233125e+05</td>\n",
              "      <td>1.323004</td>\n",
              "    </tr>\n",
              "    <tr>\n",
              "      <th>6</th>\n",
              "      <td>7</td>\n",
              "      <td>5.706173e+05</td>\n",
              "      <td>1.211157</td>\n",
              "    </tr>\n",
              "    <tr>\n",
              "      <th>41</th>\n",
              "      <td>42</td>\n",
              "      <td>5.564039e+05</td>\n",
              "      <td>1.180988</td>\n",
              "    </tr>\n",
              "    <tr>\n",
              "      <th>8</th>\n",
              "      <td>9</td>\n",
              "      <td>5.439806e+05</td>\n",
              "      <td>1.154619</td>\n",
              "    </tr>\n",
              "    <tr>\n",
              "      <th>28</th>\n",
              "      <td>29</td>\n",
              "      <td>5.394514e+05</td>\n",
              "      <td>1.145006</td>\n",
              "    </tr>\n",
              "    <tr>\n",
              "      <th>15</th>\n",
              "      <td>16</td>\n",
              "      <td>5.192477e+05</td>\n",
              "      <td>1.102123</td>\n",
              "    </tr>\n",
              "    <tr>\n",
              "      <th>36</th>\n",
              "      <td>37</td>\n",
              "      <td>5.189003e+05</td>\n",
              "      <td>1.101385</td>\n",
              "    </tr>\n",
              "    <tr>\n",
              "      <th>29</th>\n",
              "      <td>30</td>\n",
              "      <td>4.385796e+05</td>\n",
              "      <td>0.930902</td>\n",
              "    </tr>\n",
              "    <tr>\n",
              "      <th>2</th>\n",
              "      <td>3</td>\n",
              "      <td>4.027044e+05</td>\n",
              "      <td>0.854755</td>\n",
              "    </tr>\n",
              "    <tr>\n",
              "      <th>37</th>\n",
              "      <td>38</td>\n",
              "      <td>3.857317e+05</td>\n",
              "      <td>0.818730</td>\n",
              "    </tr>\n",
              "    <tr>\n",
              "      <th>35</th>\n",
              "      <td>36</td>\n",
              "      <td>3.735120e+05</td>\n",
              "      <td>0.792793</td>\n",
              "    </tr>\n",
              "    <tr>\n",
              "      <th>4</th>\n",
              "      <td>5</td>\n",
              "      <td>3.180118e+05</td>\n",
              "      <td>0.674992</td>\n",
              "    </tr>\n",
              "    <tr>\n",
              "      <th>43</th>\n",
              "      <td>44</td>\n",
              "      <td>3.027489e+05</td>\n",
              "      <td>0.642596</td>\n",
              "    </tr>\n",
              "    <tr>\n",
              "      <th>32</th>\n",
              "      <td>33</td>\n",
              "      <td>2.598617e+05</td>\n",
              "      <td>0.551566</td>\n",
              "    </tr>\n",
              "  </tbody>\n",
              "</table>\n",
              "</div>"
            ],
            "text/plain": [
              "    Store  Weekly_Sales  percentual\n",
              "19     20  2.107677e+06    4.473623\n",
              "3       4  2.094713e+06    4.446107\n",
              "13     14  2.020978e+06    4.289602\n",
              "12     13  2.003620e+06    4.252759\n",
              "1       2  1.925751e+06    4.087479\n",
              "9      10  1.899425e+06    4.031600\n",
              "26     27  1.775216e+06    3.767963\n",
              "5       6  1.564728e+06    3.321194\n",
              "0       1  1.555264e+06    3.301107\n",
              "38     39  1.450668e+06    3.079098\n",
              "18     19  1.444999e+06    3.067065\n",
              "30     31  1.395901e+06    2.962853\n",
              "22     23  1.389864e+06    2.950039\n",
              "23     24  1.356755e+06    2.879764\n",
              "10     11  1.356383e+06    2.878974\n",
              "27     28  1.323522e+06    2.809226\n",
              "40     41  1.268125e+06    2.691644\n",
              "31     32  1.166568e+06    2.476085\n",
              "17     18  1.084718e+06    2.302356\n",
              "21     22  1.028501e+06    2.183032\n",
              "11     12  1.009002e+06    2.141644\n",
              "25     26  1.002912e+06    2.128718\n",
              "33     34  9.667816e+05    2.052030\n",
              "39     40  9.641280e+05    2.046398\n",
              "34     35  9.197250e+05    1.952151\n",
              "7       8  9.087495e+05    1.928855\n",
              "16     17  8.935814e+05    1.896660\n",
              "44     45  7.859814e+05    1.668275\n",
              "20     21  7.560691e+05    1.604785\n",
              "24     25  7.067215e+05    1.500043\n",
              "42     43  6.333247e+05    1.344255\n",
              "14     15  6.233125e+05    1.323004\n",
              "6       7  5.706173e+05    1.211157\n",
              "41     42  5.564039e+05    1.180988\n",
              "8       9  5.439806e+05    1.154619\n",
              "28     29  5.394514e+05    1.145006\n",
              "15     16  5.192477e+05    1.102123\n",
              "36     37  5.189003e+05    1.101385\n",
              "29     30  4.385796e+05    0.930902\n",
              "2       3  4.027044e+05    0.854755\n",
              "37     38  3.857317e+05    0.818730\n",
              "35     36  3.735120e+05    0.792793\n",
              "4       5  3.180118e+05    0.674992\n",
              "43     44  3.027489e+05    0.642596\n",
              "32     33  2.598617e+05    0.551566"
            ]
          },
          "execution_count": 35,
          "metadata": {},
          "output_type": "execute_result"
        }
      ],
      "source": [
        "# tirar o percentual de vendas de cada loja\n",
        "# what is the percentage of sales for each store type?\n",
        "# qual é a porcentagem da medi de vendas para cada tipo de loja?\n",
        "preco_medio['percentual'] = preco_medio['Weekly_Sales'] / preco_medio['Weekly_Sales'].sum() * 100\n",
        "preco_medio.sort_values(by='percentual', ascending=False)"
      ]
    },
    {
      "cell_type": "code",
      "execution_count": 56,
      "metadata": {},
      "outputs": [
        {
          "data": {
            "text/html": [
              "<div>\n",
              "<style scoped>\n",
              "    .dataframe tbody tr th:only-of-type {\n",
              "        vertical-align: middle;\n",
              "    }\n",
              "\n",
              "    .dataframe tbody tr th {\n",
              "        vertical-align: top;\n",
              "    }\n",
              "\n",
              "    .dataframe thead th {\n",
              "        text-align: right;\n",
              "    }\n",
              "</style>\n",
              "<table border=\"1\" class=\"dataframe\">\n",
              "  <thead>\n",
              "    <tr style=\"text-align: right;\">\n",
              "      <th></th>\n",
              "      <th>Store</th>\n",
              "      <th>Weekly_Sales</th>\n",
              "      <th>percentual</th>\n",
              "      <th>variação</th>\n",
              "    </tr>\n",
              "  </thead>\n",
              "  <tbody>\n",
              "    <tr>\n",
              "      <th>3</th>\n",
              "      <td>4</td>\n",
              "      <td>2.094713e+06</td>\n",
              "      <td>4.446107</td>\n",
              "      <td>4.201614</td>\n",
              "    </tr>\n",
              "    <tr>\n",
              "      <th>5</th>\n",
              "      <td>6</td>\n",
              "      <td>1.564728e+06</td>\n",
              "      <td>3.321194</td>\n",
              "      <td>3.920346</td>\n",
              "    </tr>\n",
              "    <tr>\n",
              "      <th>38</th>\n",
              "      <td>39</td>\n",
              "      <td>1.450668e+06</td>\n",
              "      <td>3.079098</td>\n",
              "      <td>2.760822</td>\n",
              "    </tr>\n",
              "    <tr>\n",
              "      <th>33</th>\n",
              "      <td>34</td>\n",
              "      <td>9.667816e+05</td>\n",
              "      <td>2.052030</td>\n",
              "      <td>2.720370</td>\n",
              "    </tr>\n",
              "    <tr>\n",
              "      <th>9</th>\n",
              "      <td>10</td>\n",
              "      <td>1.899425e+06</td>\n",
              "      <td>4.031600</td>\n",
              "      <td>2.491714</td>\n",
              "    </tr>\n",
              "    <tr>\n",
              "      <th>30</th>\n",
              "      <td>31</td>\n",
              "      <td>1.395901e+06</td>\n",
              "      <td>2.962853</td>\n",
              "      <td>2.182778</td>\n",
              "    </tr>\n",
              "    <tr>\n",
              "      <th>44</th>\n",
              "      <td>45</td>\n",
              "      <td>7.859814e+05</td>\n",
              "      <td>1.668275</td>\n",
              "      <td>1.596150</td>\n",
              "    </tr>\n",
              "    <tr>\n",
              "      <th>12</th>\n",
              "      <td>13</td>\n",
              "      <td>2.003620e+06</td>\n",
              "      <td>4.252759</td>\n",
              "      <td>0.985745</td>\n",
              "    </tr>\n",
              "    <tr>\n",
              "      <th>26</th>\n",
              "      <td>27</td>\n",
              "      <td>1.775216e+06</td>\n",
              "      <td>3.767963</td>\n",
              "      <td>0.770062</td>\n",
              "    </tr>\n",
              "    <tr>\n",
              "      <th>16</th>\n",
              "      <td>17</td>\n",
              "      <td>8.935814e+05</td>\n",
              "      <td>1.896660</td>\n",
              "      <td>0.720915</td>\n",
              "    </tr>\n",
              "    <tr>\n",
              "      <th>7</th>\n",
              "      <td>8</td>\n",
              "      <td>9.087495e+05</td>\n",
              "      <td>1.928855</td>\n",
              "      <td>0.592573</td>\n",
              "    </tr>\n",
              "    <tr>\n",
              "      <th>19</th>\n",
              "      <td>20</td>\n",
              "      <td>2.107677e+06</td>\n",
              "      <td>4.473623</td>\n",
              "      <td>0.458601</td>\n",
              "    </tr>\n",
              "    <tr>\n",
              "      <th>25</th>\n",
              "      <td>26</td>\n",
              "      <td>1.002912e+06</td>\n",
              "      <td>2.128718</td>\n",
              "      <td>0.419105</td>\n",
              "    </tr>\n",
              "    <tr>\n",
              "      <th>36</th>\n",
              "      <td>37</td>\n",
              "      <td>5.189003e+05</td>\n",
              "      <td>1.101385</td>\n",
              "      <td>0.389247</td>\n",
              "    </tr>\n",
              "    <tr>\n",
              "      <th>21</th>\n",
              "      <td>22</td>\n",
              "      <td>1.028501e+06</td>\n",
              "      <td>2.183032</td>\n",
              "      <td>0.360327</td>\n",
              "    </tr>\n",
              "    <tr>\n",
              "      <th>22</th>\n",
              "      <td>23</td>\n",
              "      <td>1.389864e+06</td>\n",
              "      <td>2.950039</td>\n",
              "      <td>0.351350</td>\n",
              "    </tr>\n",
              "    <tr>\n",
              "      <th>18</th>\n",
              "      <td>19</td>\n",
              "      <td>1.444999e+06</td>\n",
              "      <td>3.067065</td>\n",
              "      <td>0.332142</td>\n",
              "    </tr>\n",
              "    <tr>\n",
              "      <th>40</th>\n",
              "      <td>41</td>\n",
              "      <td>1.268125e+06</td>\n",
              "      <td>2.691644</td>\n",
              "      <td>0.315308</td>\n",
              "    </tr>\n",
              "    <tr>\n",
              "      <th>1</th>\n",
              "      <td>2</td>\n",
              "      <td>1.925751e+06</td>\n",
              "      <td>4.087479</td>\n",
              "      <td>0.238215</td>\n",
              "    </tr>\n",
              "    <tr>\n",
              "      <th>17</th>\n",
              "      <td>18</td>\n",
              "      <td>1.084718e+06</td>\n",
              "      <td>2.302356</td>\n",
              "      <td>0.213900</td>\n",
              "    </tr>\n",
              "    <tr>\n",
              "      <th>42</th>\n",
              "      <td>43</td>\n",
              "      <td>6.333247e+05</td>\n",
              "      <td>1.344255</td>\n",
              "      <td>0.138246</td>\n",
              "    </tr>\n",
              "    <tr>\n",
              "      <th>13</th>\n",
              "      <td>14</td>\n",
              "      <td>2.020978e+06</td>\n",
              "      <td>4.289602</td>\n",
              "      <td>0.008663</td>\n",
              "    </tr>\n",
              "    <tr>\n",
              "      <th>23</th>\n",
              "      <td>24</td>\n",
              "      <td>1.356755e+06</td>\n",
              "      <td>2.879764</td>\n",
              "      <td>-0.023822</td>\n",
              "    </tr>\n",
              "    <tr>\n",
              "      <th>34</th>\n",
              "      <td>35</td>\n",
              "      <td>9.197250e+05</td>\n",
              "      <td>1.952151</td>\n",
              "      <td>-0.048673</td>\n",
              "    </tr>\n",
              "    <tr>\n",
              "      <th>31</th>\n",
              "      <td>32</td>\n",
              "      <td>1.166568e+06</td>\n",
              "      <td>2.476085</td>\n",
              "      <td>-0.164290</td>\n",
              "    </tr>\n",
              "    <tr>\n",
              "      <th>15</th>\n",
              "      <td>16</td>\n",
              "      <td>5.192477e+05</td>\n",
              "      <td>1.102123</td>\n",
              "      <td>-0.166954</td>\n",
              "    </tr>\n",
              "    <tr>\n",
              "      <th>29</th>\n",
              "      <td>30</td>\n",
              "      <td>4.385796e+05</td>\n",
              "      <td>0.930902</td>\n",
              "      <td>-0.186990</td>\n",
              "    </tr>\n",
              "    <tr>\n",
              "      <th>27</th>\n",
              "      <td>28</td>\n",
              "      <td>1.323522e+06</td>\n",
              "      <td>2.809226</td>\n",
              "      <td>-0.254444</td>\n",
              "    </tr>\n",
              "    <tr>\n",
              "      <th>11</th>\n",
              "      <td>12</td>\n",
              "      <td>1.009002e+06</td>\n",
              "      <td>2.141644</td>\n",
              "      <td>-0.256109</td>\n",
              "    </tr>\n",
              "    <tr>\n",
              "      <th>37</th>\n",
              "      <td>38</td>\n",
              "      <td>3.857317e+05</td>\n",
              "      <td>0.818730</td>\n",
              "      <td>-0.256636</td>\n",
              "    </tr>\n",
              "    <tr>\n",
              "      <th>10</th>\n",
              "      <td>11</td>\n",
              "      <td>1.356383e+06</td>\n",
              "      <td>2.878974</td>\n",
              "      <td>-0.285898</td>\n",
              "    </tr>\n",
              "    <tr>\n",
              "      <th>39</th>\n",
              "      <td>40</td>\n",
              "      <td>9.641280e+05</td>\n",
              "      <td>2.046398</td>\n",
              "      <td>-0.335390</td>\n",
              "    </tr>\n",
              "    <tr>\n",
              "      <th>8</th>\n",
              "      <td>9</td>\n",
              "      <td>5.439806e+05</td>\n",
              "      <td>1.154619</td>\n",
              "      <td>-0.401397</td>\n",
              "    </tr>\n",
              "    <tr>\n",
              "      <th>24</th>\n",
              "      <td>25</td>\n",
              "      <td>7.067215e+05</td>\n",
              "      <td>1.500043</td>\n",
              "      <td>-0.479109</td>\n",
              "    </tr>\n",
              "    <tr>\n",
              "      <th>43</th>\n",
              "      <td>44</td>\n",
              "      <td>3.027489e+05</td>\n",
              "      <td>0.642596</td>\n",
              "      <td>-0.521969</td>\n",
              "    </tr>\n",
              "    <tr>\n",
              "      <th>41</th>\n",
              "      <td>42</td>\n",
              "      <td>5.564039e+05</td>\n",
              "      <td>1.180988</td>\n",
              "      <td>-0.561239</td>\n",
              "    </tr>\n",
              "    <tr>\n",
              "      <th>28</th>\n",
              "      <td>29</td>\n",
              "      <td>5.394514e+05</td>\n",
              "      <td>1.145006</td>\n",
              "      <td>-0.592412</td>\n",
              "    </tr>\n",
              "    <tr>\n",
              "      <th>35</th>\n",
              "      <td>36</td>\n",
              "      <td>3.735120e+05</td>\n",
              "      <td>0.792793</td>\n",
              "      <td>-0.593887</td>\n",
              "    </tr>\n",
              "    <tr>\n",
              "      <th>6</th>\n",
              "      <td>7</td>\n",
              "      <td>5.706173e+05</td>\n",
              "      <td>1.211157</td>\n",
              "      <td>-0.635325</td>\n",
              "    </tr>\n",
              "    <tr>\n",
              "      <th>20</th>\n",
              "      <td>21</td>\n",
              "      <td>7.560691e+05</td>\n",
              "      <td>1.604785</td>\n",
              "      <td>-0.641278</td>\n",
              "    </tr>\n",
              "    <tr>\n",
              "      <th>14</th>\n",
              "      <td>15</td>\n",
              "      <td>6.233125e+05</td>\n",
              "      <td>1.323004</td>\n",
              "      <td>-0.691579</td>\n",
              "    </tr>\n",
              "    <tr>\n",
              "      <th>32</th>\n",
              "      <td>33</td>\n",
              "      <td>2.598617e+05</td>\n",
              "      <td>0.551566</td>\n",
              "      <td>-0.777243</td>\n",
              "    </tr>\n",
              "    <tr>\n",
              "      <th>2</th>\n",
              "      <td>3</td>\n",
              "      <td>4.027044e+05</td>\n",
              "      <td>0.854755</td>\n",
              "      <td>-0.790885</td>\n",
              "    </tr>\n",
              "    <tr>\n",
              "      <th>4</th>\n",
              "      <td>5</td>\n",
              "      <td>3.180118e+05</td>\n",
              "      <td>0.674992</td>\n",
              "      <td>-0.848184</td>\n",
              "    </tr>\n",
              "    <tr>\n",
              "      <th>0</th>\n",
              "      <td>1</td>\n",
              "      <td>1.555264e+06</td>\n",
              "      <td>3.301107</td>\n",
              "      <td>NaN</td>\n",
              "    </tr>\n",
              "  </tbody>\n",
              "</table>\n",
              "</div>"
            ],
            "text/plain": [
              "    Store  Weekly_Sales  percentual  variação\n",
              "3       4  2.094713e+06    4.446107  4.201614\n",
              "5       6  1.564728e+06    3.321194  3.920346\n",
              "38     39  1.450668e+06    3.079098  2.760822\n",
              "33     34  9.667816e+05    2.052030  2.720370\n",
              "9      10  1.899425e+06    4.031600  2.491714\n",
              "30     31  1.395901e+06    2.962853  2.182778\n",
              "44     45  7.859814e+05    1.668275  1.596150\n",
              "12     13  2.003620e+06    4.252759  0.985745\n",
              "26     27  1.775216e+06    3.767963  0.770062\n",
              "16     17  8.935814e+05    1.896660  0.720915\n",
              "7       8  9.087495e+05    1.928855  0.592573\n",
              "19     20  2.107677e+06    4.473623  0.458601\n",
              "25     26  1.002912e+06    2.128718  0.419105\n",
              "36     37  5.189003e+05    1.101385  0.389247\n",
              "21     22  1.028501e+06    2.183032  0.360327\n",
              "22     23  1.389864e+06    2.950039  0.351350\n",
              "18     19  1.444999e+06    3.067065  0.332142\n",
              "40     41  1.268125e+06    2.691644  0.315308\n",
              "1       2  1.925751e+06    4.087479  0.238215\n",
              "17     18  1.084718e+06    2.302356  0.213900\n",
              "42     43  6.333247e+05    1.344255  0.138246\n",
              "13     14  2.020978e+06    4.289602  0.008663\n",
              "23     24  1.356755e+06    2.879764 -0.023822\n",
              "34     35  9.197250e+05    1.952151 -0.048673\n",
              "31     32  1.166568e+06    2.476085 -0.164290\n",
              "15     16  5.192477e+05    1.102123 -0.166954\n",
              "29     30  4.385796e+05    0.930902 -0.186990\n",
              "27     28  1.323522e+06    2.809226 -0.254444\n",
              "11     12  1.009002e+06    2.141644 -0.256109\n",
              "37     38  3.857317e+05    0.818730 -0.256636\n",
              "10     11  1.356383e+06    2.878974 -0.285898\n",
              "39     40  9.641280e+05    2.046398 -0.335390\n",
              "8       9  5.439806e+05    1.154619 -0.401397\n",
              "24     25  7.067215e+05    1.500043 -0.479109\n",
              "43     44  3.027489e+05    0.642596 -0.521969\n",
              "41     42  5.564039e+05    1.180988 -0.561239\n",
              "28     29  5.394514e+05    1.145006 -0.592412\n",
              "35     36  3.735120e+05    0.792793 -0.593887\n",
              "6       7  5.706173e+05    1.211157 -0.635325\n",
              "20     21  7.560691e+05    1.604785 -0.641278\n",
              "14     15  6.233125e+05    1.323004 -0.691579\n",
              "32     33  2.598617e+05    0.551566 -0.777243\n",
              "2       3  4.027044e+05    0.854755 -0.790885\n",
              "4       5  3.180118e+05    0.674992 -0.848184\n",
              "0       1  1.555264e+06    3.301107       NaN"
            ]
          },
          "execution_count": 56,
          "metadata": {},
          "output_type": "execute_result"
        }
      ],
      "source": [
        "# variação percentual nas vendas em relação ao ano anterior para cada loja\n",
        "# what is the percentage change in sales for each store type?\n",
        "# qual é a variação percentual nas vendas em relação ao ano anterior para cada loja?\n",
        "preco_medio['variação'] = preco_medio['Weekly_Sales'].pct_change() \n",
        "preco_medio.sort_values(by='variação', ascending=False)\n"
      ]
    },
    {
      "cell_type": "code",
      "execution_count": 57,
      "metadata": {},
      "outputs": [
        {
          "data": {
            "application/vnd.plotly.v1+json": {
              "config": {
                "plotlyServerURL": "https://plot.ly"
              },
              "data": [
                {
                  "mode": "lines+markers",
                  "name": "variação",
                  "type": "scatter",
                  "x": [
                    1,
                    2,
                    3,
                    4,
                    5,
                    6,
                    7,
                    8,
                    9,
                    10,
                    11,
                    12,
                    13,
                    14,
                    15,
                    16,
                    17,
                    18,
                    19,
                    20,
                    21,
                    22,
                    23,
                    24,
                    25,
                    26,
                    27,
                    28,
                    29,
                    30,
                    31,
                    32,
                    33,
                    34,
                    35,
                    36,
                    37,
                    38,
                    39,
                    40,
                    41,
                    42,
                    43,
                    44,
                    45
                  ],
                  "y": [
                    null,
                    0.23821476178267265,
                    -0.7908845064156349,
                    4.201613757332952,
                    -0.8481835857914656,
                    3.9203461465319336,
                    -0.6353249633580631,
                    0.592572648221299,
                    -0.4013965989875725,
                    2.4917141143288397,
                    -0.2858978745452837,
                    -0.25610869728955654,
                    0.9857454017388663,
                    0.008663365324652395,
                    -0.6915788537556442,
                    -0.16695437533308233,
                    0.7209153524835565,
                    0.21389996779098364,
                    0.33214206343705643,
                    0.45860088368892904,
                    -0.6412784644587307,
                    0.36032680292244845,
                    0.3513495931000812,
                    -0.02382179548027008,
                    -0.4791091039633756,
                    0.4191046944816683,
                    0.7700620561671148,
                    -0.25444447816646054,
                    -0.5924122680400217,
                    -0.18698961045085027,
                    2.182777733907969,
                    -0.164290454905207,
                    -0.7772425975096493,
                    2.7203696777918815,
                    -0.04867343548357472,
                    -0.5938873020850215,
                    0.38924664258311314,
                    -0.2566362619207375,
                    2.760822107286491,
                    -0.3353903479997008,
                    0.31530809763331025,
                    -0.5612390896884183,
                    0.13824645207342523,
                    -0.5219689758680308,
                    1.5961498019125817
                  ]
                }
              ],
              "layout": {
                "template": {
                  "data": {
                    "bar": [
                      {
                        "error_x": {
                          "color": "#2a3f5f"
                        },
                        "error_y": {
                          "color": "#2a3f5f"
                        },
                        "marker": {
                          "line": {
                            "color": "#E5ECF6",
                            "width": 0.5
                          },
                          "pattern": {
                            "fillmode": "overlay",
                            "size": 10,
                            "solidity": 0.2
                          }
                        },
                        "type": "bar"
                      }
                    ],
                    "barpolar": [
                      {
                        "marker": {
                          "line": {
                            "color": "#E5ECF6",
                            "width": 0.5
                          },
                          "pattern": {
                            "fillmode": "overlay",
                            "size": 10,
                            "solidity": 0.2
                          }
                        },
                        "type": "barpolar"
                      }
                    ],
                    "carpet": [
                      {
                        "aaxis": {
                          "endlinecolor": "#2a3f5f",
                          "gridcolor": "white",
                          "linecolor": "white",
                          "minorgridcolor": "white",
                          "startlinecolor": "#2a3f5f"
                        },
                        "baxis": {
                          "endlinecolor": "#2a3f5f",
                          "gridcolor": "white",
                          "linecolor": "white",
                          "minorgridcolor": "white",
                          "startlinecolor": "#2a3f5f"
                        },
                        "type": "carpet"
                      }
                    ],
                    "choropleth": [
                      {
                        "colorbar": {
                          "outlinewidth": 0,
                          "ticks": ""
                        },
                        "type": "choropleth"
                      }
                    ],
                    "contour": [
                      {
                        "colorbar": {
                          "outlinewidth": 0,
                          "ticks": ""
                        },
                        "colorscale": [
                          [
                            0,
                            "#0d0887"
                          ],
                          [
                            0.1111111111111111,
                            "#46039f"
                          ],
                          [
                            0.2222222222222222,
                            "#7201a8"
                          ],
                          [
                            0.3333333333333333,
                            "#9c179e"
                          ],
                          [
                            0.4444444444444444,
                            "#bd3786"
                          ],
                          [
                            0.5555555555555556,
                            "#d8576b"
                          ],
                          [
                            0.6666666666666666,
                            "#ed7953"
                          ],
                          [
                            0.7777777777777778,
                            "#fb9f3a"
                          ],
                          [
                            0.8888888888888888,
                            "#fdca26"
                          ],
                          [
                            1,
                            "#f0f921"
                          ]
                        ],
                        "type": "contour"
                      }
                    ],
                    "contourcarpet": [
                      {
                        "colorbar": {
                          "outlinewidth": 0,
                          "ticks": ""
                        },
                        "type": "contourcarpet"
                      }
                    ],
                    "heatmap": [
                      {
                        "colorbar": {
                          "outlinewidth": 0,
                          "ticks": ""
                        },
                        "colorscale": [
                          [
                            0,
                            "#0d0887"
                          ],
                          [
                            0.1111111111111111,
                            "#46039f"
                          ],
                          [
                            0.2222222222222222,
                            "#7201a8"
                          ],
                          [
                            0.3333333333333333,
                            "#9c179e"
                          ],
                          [
                            0.4444444444444444,
                            "#bd3786"
                          ],
                          [
                            0.5555555555555556,
                            "#d8576b"
                          ],
                          [
                            0.6666666666666666,
                            "#ed7953"
                          ],
                          [
                            0.7777777777777778,
                            "#fb9f3a"
                          ],
                          [
                            0.8888888888888888,
                            "#fdca26"
                          ],
                          [
                            1,
                            "#f0f921"
                          ]
                        ],
                        "type": "heatmap"
                      }
                    ],
                    "heatmapgl": [
                      {
                        "colorbar": {
                          "outlinewidth": 0,
                          "ticks": ""
                        },
                        "colorscale": [
                          [
                            0,
                            "#0d0887"
                          ],
                          [
                            0.1111111111111111,
                            "#46039f"
                          ],
                          [
                            0.2222222222222222,
                            "#7201a8"
                          ],
                          [
                            0.3333333333333333,
                            "#9c179e"
                          ],
                          [
                            0.4444444444444444,
                            "#bd3786"
                          ],
                          [
                            0.5555555555555556,
                            "#d8576b"
                          ],
                          [
                            0.6666666666666666,
                            "#ed7953"
                          ],
                          [
                            0.7777777777777778,
                            "#fb9f3a"
                          ],
                          [
                            0.8888888888888888,
                            "#fdca26"
                          ],
                          [
                            1,
                            "#f0f921"
                          ]
                        ],
                        "type": "heatmapgl"
                      }
                    ],
                    "histogram": [
                      {
                        "marker": {
                          "pattern": {
                            "fillmode": "overlay",
                            "size": 10,
                            "solidity": 0.2
                          }
                        },
                        "type": "histogram"
                      }
                    ],
                    "histogram2d": [
                      {
                        "colorbar": {
                          "outlinewidth": 0,
                          "ticks": ""
                        },
                        "colorscale": [
                          [
                            0,
                            "#0d0887"
                          ],
                          [
                            0.1111111111111111,
                            "#46039f"
                          ],
                          [
                            0.2222222222222222,
                            "#7201a8"
                          ],
                          [
                            0.3333333333333333,
                            "#9c179e"
                          ],
                          [
                            0.4444444444444444,
                            "#bd3786"
                          ],
                          [
                            0.5555555555555556,
                            "#d8576b"
                          ],
                          [
                            0.6666666666666666,
                            "#ed7953"
                          ],
                          [
                            0.7777777777777778,
                            "#fb9f3a"
                          ],
                          [
                            0.8888888888888888,
                            "#fdca26"
                          ],
                          [
                            1,
                            "#f0f921"
                          ]
                        ],
                        "type": "histogram2d"
                      }
                    ],
                    "histogram2dcontour": [
                      {
                        "colorbar": {
                          "outlinewidth": 0,
                          "ticks": ""
                        },
                        "colorscale": [
                          [
                            0,
                            "#0d0887"
                          ],
                          [
                            0.1111111111111111,
                            "#46039f"
                          ],
                          [
                            0.2222222222222222,
                            "#7201a8"
                          ],
                          [
                            0.3333333333333333,
                            "#9c179e"
                          ],
                          [
                            0.4444444444444444,
                            "#bd3786"
                          ],
                          [
                            0.5555555555555556,
                            "#d8576b"
                          ],
                          [
                            0.6666666666666666,
                            "#ed7953"
                          ],
                          [
                            0.7777777777777778,
                            "#fb9f3a"
                          ],
                          [
                            0.8888888888888888,
                            "#fdca26"
                          ],
                          [
                            1,
                            "#f0f921"
                          ]
                        ],
                        "type": "histogram2dcontour"
                      }
                    ],
                    "mesh3d": [
                      {
                        "colorbar": {
                          "outlinewidth": 0,
                          "ticks": ""
                        },
                        "type": "mesh3d"
                      }
                    ],
                    "parcoords": [
                      {
                        "line": {
                          "colorbar": {
                            "outlinewidth": 0,
                            "ticks": ""
                          }
                        },
                        "type": "parcoords"
                      }
                    ],
                    "pie": [
                      {
                        "automargin": true,
                        "type": "pie"
                      }
                    ],
                    "scatter": [
                      {
                        "fillpattern": {
                          "fillmode": "overlay",
                          "size": 10,
                          "solidity": 0.2
                        },
                        "type": "scatter"
                      }
                    ],
                    "scatter3d": [
                      {
                        "line": {
                          "colorbar": {
                            "outlinewidth": 0,
                            "ticks": ""
                          }
                        },
                        "marker": {
                          "colorbar": {
                            "outlinewidth": 0,
                            "ticks": ""
                          }
                        },
                        "type": "scatter3d"
                      }
                    ],
                    "scattercarpet": [
                      {
                        "marker": {
                          "colorbar": {
                            "outlinewidth": 0,
                            "ticks": ""
                          }
                        },
                        "type": "scattercarpet"
                      }
                    ],
                    "scattergeo": [
                      {
                        "marker": {
                          "colorbar": {
                            "outlinewidth": 0,
                            "ticks": ""
                          }
                        },
                        "type": "scattergeo"
                      }
                    ],
                    "scattergl": [
                      {
                        "marker": {
                          "colorbar": {
                            "outlinewidth": 0,
                            "ticks": ""
                          }
                        },
                        "type": "scattergl"
                      }
                    ],
                    "scattermapbox": [
                      {
                        "marker": {
                          "colorbar": {
                            "outlinewidth": 0,
                            "ticks": ""
                          }
                        },
                        "type": "scattermapbox"
                      }
                    ],
                    "scatterpolar": [
                      {
                        "marker": {
                          "colorbar": {
                            "outlinewidth": 0,
                            "ticks": ""
                          }
                        },
                        "type": "scatterpolar"
                      }
                    ],
                    "scatterpolargl": [
                      {
                        "marker": {
                          "colorbar": {
                            "outlinewidth": 0,
                            "ticks": ""
                          }
                        },
                        "type": "scatterpolargl"
                      }
                    ],
                    "scatterternary": [
                      {
                        "marker": {
                          "colorbar": {
                            "outlinewidth": 0,
                            "ticks": ""
                          }
                        },
                        "type": "scatterternary"
                      }
                    ],
                    "surface": [
                      {
                        "colorbar": {
                          "outlinewidth": 0,
                          "ticks": ""
                        },
                        "colorscale": [
                          [
                            0,
                            "#0d0887"
                          ],
                          [
                            0.1111111111111111,
                            "#46039f"
                          ],
                          [
                            0.2222222222222222,
                            "#7201a8"
                          ],
                          [
                            0.3333333333333333,
                            "#9c179e"
                          ],
                          [
                            0.4444444444444444,
                            "#bd3786"
                          ],
                          [
                            0.5555555555555556,
                            "#d8576b"
                          ],
                          [
                            0.6666666666666666,
                            "#ed7953"
                          ],
                          [
                            0.7777777777777778,
                            "#fb9f3a"
                          ],
                          [
                            0.8888888888888888,
                            "#fdca26"
                          ],
                          [
                            1,
                            "#f0f921"
                          ]
                        ],
                        "type": "surface"
                      }
                    ],
                    "table": [
                      {
                        "cells": {
                          "fill": {
                            "color": "#EBF0F8"
                          },
                          "line": {
                            "color": "white"
                          }
                        },
                        "header": {
                          "fill": {
                            "color": "#C8D4E3"
                          },
                          "line": {
                            "color": "white"
                          }
                        },
                        "type": "table"
                      }
                    ]
                  },
                  "layout": {
                    "annotationdefaults": {
                      "arrowcolor": "#2a3f5f",
                      "arrowhead": 0,
                      "arrowwidth": 1
                    },
                    "autotypenumbers": "strict",
                    "coloraxis": {
                      "colorbar": {
                        "outlinewidth": 0,
                        "ticks": ""
                      }
                    },
                    "colorscale": {
                      "diverging": [
                        [
                          0,
                          "#8e0152"
                        ],
                        [
                          0.1,
                          "#c51b7d"
                        ],
                        [
                          0.2,
                          "#de77ae"
                        ],
                        [
                          0.3,
                          "#f1b6da"
                        ],
                        [
                          0.4,
                          "#fde0ef"
                        ],
                        [
                          0.5,
                          "#f7f7f7"
                        ],
                        [
                          0.6,
                          "#e6f5d0"
                        ],
                        [
                          0.7,
                          "#b8e186"
                        ],
                        [
                          0.8,
                          "#7fbc41"
                        ],
                        [
                          0.9,
                          "#4d9221"
                        ],
                        [
                          1,
                          "#276419"
                        ]
                      ],
                      "sequential": [
                        [
                          0,
                          "#0d0887"
                        ],
                        [
                          0.1111111111111111,
                          "#46039f"
                        ],
                        [
                          0.2222222222222222,
                          "#7201a8"
                        ],
                        [
                          0.3333333333333333,
                          "#9c179e"
                        ],
                        [
                          0.4444444444444444,
                          "#bd3786"
                        ],
                        [
                          0.5555555555555556,
                          "#d8576b"
                        ],
                        [
                          0.6666666666666666,
                          "#ed7953"
                        ],
                        [
                          0.7777777777777778,
                          "#fb9f3a"
                        ],
                        [
                          0.8888888888888888,
                          "#fdca26"
                        ],
                        [
                          1,
                          "#f0f921"
                        ]
                      ],
                      "sequentialminus": [
                        [
                          0,
                          "#0d0887"
                        ],
                        [
                          0.1111111111111111,
                          "#46039f"
                        ],
                        [
                          0.2222222222222222,
                          "#7201a8"
                        ],
                        [
                          0.3333333333333333,
                          "#9c179e"
                        ],
                        [
                          0.4444444444444444,
                          "#bd3786"
                        ],
                        [
                          0.5555555555555556,
                          "#d8576b"
                        ],
                        [
                          0.6666666666666666,
                          "#ed7953"
                        ],
                        [
                          0.7777777777777778,
                          "#fb9f3a"
                        ],
                        [
                          0.8888888888888888,
                          "#fdca26"
                        ],
                        [
                          1,
                          "#f0f921"
                        ]
                      ]
                    },
                    "colorway": [
                      "#636efa",
                      "#EF553B",
                      "#00cc96",
                      "#ab63fa",
                      "#FFA15A",
                      "#19d3f3",
                      "#FF6692",
                      "#B6E880",
                      "#FF97FF",
                      "#FECB52"
                    ],
                    "font": {
                      "color": "#2a3f5f"
                    },
                    "geo": {
                      "bgcolor": "white",
                      "lakecolor": "white",
                      "landcolor": "#E5ECF6",
                      "showlakes": true,
                      "showland": true,
                      "subunitcolor": "white"
                    },
                    "hoverlabel": {
                      "align": "left"
                    },
                    "hovermode": "closest",
                    "mapbox": {
                      "style": "light"
                    },
                    "paper_bgcolor": "white",
                    "plot_bgcolor": "#E5ECF6",
                    "polar": {
                      "angularaxis": {
                        "gridcolor": "white",
                        "linecolor": "white",
                        "ticks": ""
                      },
                      "bgcolor": "#E5ECF6",
                      "radialaxis": {
                        "gridcolor": "white",
                        "linecolor": "white",
                        "ticks": ""
                      }
                    },
                    "scene": {
                      "xaxis": {
                        "backgroundcolor": "#E5ECF6",
                        "gridcolor": "white",
                        "gridwidth": 2,
                        "linecolor": "white",
                        "showbackground": true,
                        "ticks": "",
                        "zerolinecolor": "white"
                      },
                      "yaxis": {
                        "backgroundcolor": "#E5ECF6",
                        "gridcolor": "white",
                        "gridwidth": 2,
                        "linecolor": "white",
                        "showbackground": true,
                        "ticks": "",
                        "zerolinecolor": "white"
                      },
                      "zaxis": {
                        "backgroundcolor": "#E5ECF6",
                        "gridcolor": "white",
                        "gridwidth": 2,
                        "linecolor": "white",
                        "showbackground": true,
                        "ticks": "",
                        "zerolinecolor": "white"
                      }
                    },
                    "shapedefaults": {
                      "line": {
                        "color": "#2a3f5f"
                      }
                    },
                    "ternary": {
                      "aaxis": {
                        "gridcolor": "white",
                        "linecolor": "white",
                        "ticks": ""
                      },
                      "baxis": {
                        "gridcolor": "white",
                        "linecolor": "white",
                        "ticks": ""
                      },
                      "bgcolor": "#E5ECF6",
                      "caxis": {
                        "gridcolor": "white",
                        "linecolor": "white",
                        "ticks": ""
                      }
                    },
                    "title": {
                      "x": 0.05
                    },
                    "xaxis": {
                      "automargin": true,
                      "gridcolor": "white",
                      "linecolor": "white",
                      "ticks": "",
                      "title": {
                        "standoff": 15
                      },
                      "zerolinecolor": "white",
                      "zerolinewidth": 2
                    },
                    "yaxis": {
                      "automargin": true,
                      "gridcolor": "white",
                      "linecolor": "white",
                      "ticks": "",
                      "title": {
                        "standoff": 15
                      },
                      "zerolinecolor": "white",
                      "zerolinewidth": 2
                    }
                  }
                },
                "title": {
                  "text": "Variação percentual nas vendas em relação ao ano anterior para cada loja"
                },
                "xaxis": {
                  "title": {
                    "text": "Store"
                  }
                },
                "yaxis": {
                  "title": {
                    "text": "variação"
                  }
                }
              }
            }
          },
          "metadata": {},
          "output_type": "display_data"
        }
      ],
      "source": [
        "# grafico de linha para mostrar a variação percentual nas vendas em relação ao ano anterior para cada loja\n",
        "# what is the percentage change in sales for each store type?\n",
        "# qual é a variação percentual nas vendas em relação ao ano anterior para cada loja?\n",
        "fig = go.Figure()\n",
        "fig.add_trace(go.Scatter(x=preco_medio['Store'], y=preco_medio['variação'], mode='lines+markers', name='variação'))\n",
        "fig.update_layout(title='Variação percentual nas vendas em relação ao ano anterior para cada loja', xaxis_title='Store', yaxis_title='variação')\n",
        "fig.show()"
      ]
    },
    {
      "cell_type": "code",
      "execution_count": null,
      "metadata": {},
      "outputs": [
        {
          "name": "stderr",
          "output_type": "stream",
          "text": [
            "/tmp/ipykernel_38861/1650718013.py:4: FutureWarning: The default value of numeric_only in DataFrame.corr is deprecated. In a future version, it will default to False. Select only valid columns or specify the value of numeric_only to silence this warning.\n",
            "  walmart.corr()\n"
          ]
        },
        {
          "data": {
            "text/html": [
              "<div>\n",
              "<style scoped>\n",
              "    .dataframe tbody tr th:only-of-type {\n",
              "        vertical-align: middle;\n",
              "    }\n",
              "\n",
              "    .dataframe tbody tr th {\n",
              "        vertical-align: top;\n",
              "    }\n",
              "\n",
              "    .dataframe thead th {\n",
              "        text-align: right;\n",
              "    }\n",
              "</style>\n",
              "<table border=\"1\" class=\"dataframe\">\n",
              "  <thead>\n",
              "    <tr style=\"text-align: right;\">\n",
              "      <th></th>\n",
              "      <th>Store</th>\n",
              "      <th>Weekly_Sales</th>\n",
              "      <th>Holiday_Flag</th>\n",
              "      <th>Temperature</th>\n",
              "      <th>Fuel_Price</th>\n",
              "      <th>CPI</th>\n",
              "      <th>Unemployment</th>\n",
              "    </tr>\n",
              "  </thead>\n",
              "  <tbody>\n",
              "    <tr>\n",
              "      <th>Store</th>\n",
              "      <td>1.000000e+00</td>\n",
              "      <td>-0.335332</td>\n",
              "      <td>-4.386841e-16</td>\n",
              "      <td>-0.022659</td>\n",
              "      <td>0.060023</td>\n",
              "      <td>-0.209492</td>\n",
              "      <td>0.223531</td>\n",
              "    </tr>\n",
              "    <tr>\n",
              "      <th>Weekly_Sales</th>\n",
              "      <td>-3.353320e-01</td>\n",
              "      <td>1.000000</td>\n",
              "      <td>3.689097e-02</td>\n",
              "      <td>-0.063810</td>\n",
              "      <td>0.009464</td>\n",
              "      <td>-0.072634</td>\n",
              "      <td>-0.106176</td>\n",
              "    </tr>\n",
              "    <tr>\n",
              "      <th>Holiday_Flag</th>\n",
              "      <td>-4.386841e-16</td>\n",
              "      <td>0.036891</td>\n",
              "      <td>1.000000e+00</td>\n",
              "      <td>-0.155091</td>\n",
              "      <td>-0.078347</td>\n",
              "      <td>-0.002162</td>\n",
              "      <td>0.010960</td>\n",
              "    </tr>\n",
              "    <tr>\n",
              "      <th>Temperature</th>\n",
              "      <td>-2.265908e-02</td>\n",
              "      <td>-0.063810</td>\n",
              "      <td>-1.550913e-01</td>\n",
              "      <td>1.000000</td>\n",
              "      <td>0.144982</td>\n",
              "      <td>0.176888</td>\n",
              "      <td>0.101158</td>\n",
              "    </tr>\n",
              "    <tr>\n",
              "      <th>Fuel_Price</th>\n",
              "      <td>6.002295e-02</td>\n",
              "      <td>0.009464</td>\n",
              "      <td>-7.834652e-02</td>\n",
              "      <td>0.144982</td>\n",
              "      <td>1.000000</td>\n",
              "      <td>-0.170642</td>\n",
              "      <td>-0.034684</td>\n",
              "    </tr>\n",
              "    <tr>\n",
              "      <th>CPI</th>\n",
              "      <td>-2.094919e-01</td>\n",
              "      <td>-0.072634</td>\n",
              "      <td>-2.162091e-03</td>\n",
              "      <td>0.176888</td>\n",
              "      <td>-0.170642</td>\n",
              "      <td>1.000000</td>\n",
              "      <td>-0.302020</td>\n",
              "    </tr>\n",
              "    <tr>\n",
              "      <th>Unemployment</th>\n",
              "      <td>2.235313e-01</td>\n",
              "      <td>-0.106176</td>\n",
              "      <td>1.096028e-02</td>\n",
              "      <td>0.101158</td>\n",
              "      <td>-0.034684</td>\n",
              "      <td>-0.302020</td>\n",
              "      <td>1.000000</td>\n",
              "    </tr>\n",
              "  </tbody>\n",
              "</table>\n",
              "</div>"
            ],
            "text/plain": [
              "                     Store  Weekly_Sales  Holiday_Flag  Temperature  \\\n",
              "Store         1.000000e+00     -0.335332 -4.386841e-16    -0.022659   \n",
              "Weekly_Sales -3.353320e-01      1.000000  3.689097e-02    -0.063810   \n",
              "Holiday_Flag -4.386841e-16      0.036891  1.000000e+00    -0.155091   \n",
              "Temperature  -2.265908e-02     -0.063810 -1.550913e-01     1.000000   \n",
              "Fuel_Price    6.002295e-02      0.009464 -7.834652e-02     0.144982   \n",
              "CPI          -2.094919e-01     -0.072634 -2.162091e-03     0.176888   \n",
              "Unemployment  2.235313e-01     -0.106176  1.096028e-02     0.101158   \n",
              "\n",
              "              Fuel_Price       CPI  Unemployment  \n",
              "Store           0.060023 -0.209492      0.223531  \n",
              "Weekly_Sales    0.009464 -0.072634     -0.106176  \n",
              "Holiday_Flag   -0.078347 -0.002162      0.010960  \n",
              "Temperature     0.144982  0.176888      0.101158  \n",
              "Fuel_Price      1.000000 -0.170642     -0.034684  \n",
              "CPI            -0.170642  1.000000     -0.302020  \n",
              "Unemployment   -0.034684 -0.302020      1.000000  "
            ]
          },
          "execution_count": 6,
          "metadata": {},
          "output_type": "execute_result"
        }
      ],
      "source": [
        "# Which attribute has the highest correlation (positive or negative) with the number of sales? (And that makes sense) sales?\n",
        "# Qual atributo tem a maior correlação (positiva ou negativa) com o número de vendas? (E que faz sentido) vendas?\n",
        "# correlação entre as variáveis\n",
        "walmart.corr()\n",
        "\n"
      ]
    },
    {
      "cell_type": "code",
      "execution_count": null,
      "metadata": {},
      "outputs": [],
      "source": [
        "# From the store with the highest cumulative sales (sum of sales for the entire period), how many weeks of the year did it exceed the average for the period?\n",
        "# Da loja com as vendas acumuladas mais altas (soma das vendas para todo o período), quantas semanas do ano ela excedeu a média para o período?\n",
        "# agrupando por loja e somando as vendas\n",
        "soma_venda_periodo = walmart.groupby('Store').agg({'Weekly_Sales':np.sum}).reset_index()\n",
        "soma = soma_venda_periodo.sort_values(by='Weekly_Sales', ascending=False)\n",
        "# pegando a loja com as 10 maior venda\n",
        "top10_venda_acumulada = soma.head(10)"
      ]
    },
    {
      "cell_type": "code",
      "execution_count": null,
      "metadata": {},
      "outputs": [
        {
          "data": {
            "application/vnd.plotly.v1+json": {
              "config": {
                "plotlyServerURL": "https://plot.ly"
              },
              "data": [
                {
                  "alignmentgroup": "True",
                  "bingroup": "x",
                  "hovertemplate": "Store=20<br>Weekly_Sales=%{x}<br>count=%{y}<extra></extra>",
                  "legendgroup": "20",
                  "marker": {
                    "color": "#636efa",
                    "pattern": {
                      "shape": ""
                    }
                  },
                  "name": "20",
                  "offsetgroup": "20",
                  "orientation": "v",
                  "showlegend": true,
                  "type": "histogram",
                  "x": [
                    301397792.46
                  ],
                  "xaxis": "x",
                  "yaxis": "y"
                },
                {
                  "alignmentgroup": "True",
                  "bingroup": "x",
                  "hovertemplate": "Store=4<br>Weekly_Sales=%{x}<br>count=%{y}<extra></extra>",
                  "legendgroup": "4",
                  "marker": {
                    "color": "#EF553B",
                    "pattern": {
                      "shape": ""
                    }
                  },
                  "name": "4",
                  "offsetgroup": "4",
                  "orientation": "v",
                  "showlegend": true,
                  "type": "histogram",
                  "x": [
                    299543953.38
                  ],
                  "xaxis": "x",
                  "yaxis": "y"
                },
                {
                  "alignmentgroup": "True",
                  "bingroup": "x",
                  "hovertemplate": "Store=14<br>Weekly_Sales=%{x}<br>count=%{y}<extra></extra>",
                  "legendgroup": "14",
                  "marker": {
                    "color": "#00cc96",
                    "pattern": {
                      "shape": ""
                    }
                  },
                  "name": "14",
                  "offsetgroup": "14",
                  "orientation": "v",
                  "showlegend": true,
                  "type": "histogram",
                  "x": [
                    288999911.34
                  ],
                  "xaxis": "x",
                  "yaxis": "y"
                },
                {
                  "alignmentgroup": "True",
                  "bingroup": "x",
                  "hovertemplate": "Store=13<br>Weekly_Sales=%{x}<br>count=%{y}<extra></extra>",
                  "legendgroup": "13",
                  "marker": {
                    "color": "#ab63fa",
                    "pattern": {
                      "shape": ""
                    }
                  },
                  "name": "13",
                  "offsetgroup": "13",
                  "orientation": "v",
                  "showlegend": true,
                  "type": "histogram",
                  "x": [
                    286517703.8
                  ],
                  "xaxis": "x",
                  "yaxis": "y"
                },
                {
                  "alignmentgroup": "True",
                  "bingroup": "x",
                  "hovertemplate": "Store=2<br>Weekly_Sales=%{x}<br>count=%{y}<extra></extra>",
                  "legendgroup": "2",
                  "marker": {
                    "color": "#FFA15A",
                    "pattern": {
                      "shape": ""
                    }
                  },
                  "name": "2",
                  "offsetgroup": "2",
                  "orientation": "v",
                  "showlegend": true,
                  "type": "histogram",
                  "x": [
                    275382440.98
                  ],
                  "xaxis": "x",
                  "yaxis": "y"
                },
                {
                  "alignmentgroup": "True",
                  "bingroup": "x",
                  "hovertemplate": "Store=10<br>Weekly_Sales=%{x}<br>count=%{y}<extra></extra>",
                  "legendgroup": "10",
                  "marker": {
                    "color": "#19d3f3",
                    "pattern": {
                      "shape": ""
                    }
                  },
                  "name": "10",
                  "offsetgroup": "10",
                  "orientation": "v",
                  "showlegend": true,
                  "type": "histogram",
                  "x": [
                    271617713.89
                  ],
                  "xaxis": "x",
                  "yaxis": "y"
                },
                {
                  "alignmentgroup": "True",
                  "bingroup": "x",
                  "hovertemplate": "Store=27<br>Weekly_Sales=%{x}<br>count=%{y}<extra></extra>",
                  "legendgroup": "27",
                  "marker": {
                    "color": "#FF6692",
                    "pattern": {
                      "shape": ""
                    }
                  },
                  "name": "27",
                  "offsetgroup": "27",
                  "orientation": "v",
                  "showlegend": true,
                  "type": "histogram",
                  "x": [
                    253855916.88
                  ],
                  "xaxis": "x",
                  "yaxis": "y"
                },
                {
                  "alignmentgroup": "True",
                  "bingroup": "x",
                  "hovertemplate": "Store=6<br>Weekly_Sales=%{x}<br>count=%{y}<extra></extra>",
                  "legendgroup": "6",
                  "marker": {
                    "color": "#B6E880",
                    "pattern": {
                      "shape": ""
                    }
                  },
                  "name": "6",
                  "offsetgroup": "6",
                  "orientation": "v",
                  "showlegend": true,
                  "type": "histogram",
                  "x": [
                    223756130.64
                  ],
                  "xaxis": "x",
                  "yaxis": "y"
                },
                {
                  "alignmentgroup": "True",
                  "bingroup": "x",
                  "hovertemplate": "Store=1<br>Weekly_Sales=%{x}<br>count=%{y}<extra></extra>",
                  "legendgroup": "1",
                  "marker": {
                    "color": "#FF97FF",
                    "pattern": {
                      "shape": ""
                    }
                  },
                  "name": "1",
                  "offsetgroup": "1",
                  "orientation": "v",
                  "showlegend": true,
                  "type": "histogram",
                  "x": [
                    222402808.85
                  ],
                  "xaxis": "x",
                  "yaxis": "y"
                },
                {
                  "alignmentgroup": "True",
                  "bingroup": "x",
                  "hovertemplate": "Store=39<br>Weekly_Sales=%{x}<br>count=%{y}<extra></extra>",
                  "legendgroup": "39",
                  "marker": {
                    "color": "#FECB52",
                    "pattern": {
                      "shape": ""
                    }
                  },
                  "name": "39",
                  "offsetgroup": "39",
                  "orientation": "v",
                  "showlegend": true,
                  "type": "histogram",
                  "x": [
                    207445542.47
                  ],
                  "xaxis": "x",
                  "yaxis": "y"
                }
              ],
              "layout": {
                "barmode": "relative",
                "legend": {
                  "title": {
                    "text": "Store"
                  },
                  "tracegroupgap": 0
                },
                "template": {
                  "data": {
                    "bar": [
                      {
                        "error_x": {
                          "color": "#2a3f5f"
                        },
                        "error_y": {
                          "color": "#2a3f5f"
                        },
                        "marker": {
                          "line": {
                            "color": "#E5ECF6",
                            "width": 0.5
                          },
                          "pattern": {
                            "fillmode": "overlay",
                            "size": 10,
                            "solidity": 0.2
                          }
                        },
                        "type": "bar"
                      }
                    ],
                    "barpolar": [
                      {
                        "marker": {
                          "line": {
                            "color": "#E5ECF6",
                            "width": 0.5
                          },
                          "pattern": {
                            "fillmode": "overlay",
                            "size": 10,
                            "solidity": 0.2
                          }
                        },
                        "type": "barpolar"
                      }
                    ],
                    "carpet": [
                      {
                        "aaxis": {
                          "endlinecolor": "#2a3f5f",
                          "gridcolor": "white",
                          "linecolor": "white",
                          "minorgridcolor": "white",
                          "startlinecolor": "#2a3f5f"
                        },
                        "baxis": {
                          "endlinecolor": "#2a3f5f",
                          "gridcolor": "white",
                          "linecolor": "white",
                          "minorgridcolor": "white",
                          "startlinecolor": "#2a3f5f"
                        },
                        "type": "carpet"
                      }
                    ],
                    "choropleth": [
                      {
                        "colorbar": {
                          "outlinewidth": 0,
                          "ticks": ""
                        },
                        "type": "choropleth"
                      }
                    ],
                    "contour": [
                      {
                        "colorbar": {
                          "outlinewidth": 0,
                          "ticks": ""
                        },
                        "colorscale": [
                          [
                            0,
                            "#0d0887"
                          ],
                          [
                            0.1111111111111111,
                            "#46039f"
                          ],
                          [
                            0.2222222222222222,
                            "#7201a8"
                          ],
                          [
                            0.3333333333333333,
                            "#9c179e"
                          ],
                          [
                            0.4444444444444444,
                            "#bd3786"
                          ],
                          [
                            0.5555555555555556,
                            "#d8576b"
                          ],
                          [
                            0.6666666666666666,
                            "#ed7953"
                          ],
                          [
                            0.7777777777777778,
                            "#fb9f3a"
                          ],
                          [
                            0.8888888888888888,
                            "#fdca26"
                          ],
                          [
                            1,
                            "#f0f921"
                          ]
                        ],
                        "type": "contour"
                      }
                    ],
                    "contourcarpet": [
                      {
                        "colorbar": {
                          "outlinewidth": 0,
                          "ticks": ""
                        },
                        "type": "contourcarpet"
                      }
                    ],
                    "heatmap": [
                      {
                        "colorbar": {
                          "outlinewidth": 0,
                          "ticks": ""
                        },
                        "colorscale": [
                          [
                            0,
                            "#0d0887"
                          ],
                          [
                            0.1111111111111111,
                            "#46039f"
                          ],
                          [
                            0.2222222222222222,
                            "#7201a8"
                          ],
                          [
                            0.3333333333333333,
                            "#9c179e"
                          ],
                          [
                            0.4444444444444444,
                            "#bd3786"
                          ],
                          [
                            0.5555555555555556,
                            "#d8576b"
                          ],
                          [
                            0.6666666666666666,
                            "#ed7953"
                          ],
                          [
                            0.7777777777777778,
                            "#fb9f3a"
                          ],
                          [
                            0.8888888888888888,
                            "#fdca26"
                          ],
                          [
                            1,
                            "#f0f921"
                          ]
                        ],
                        "type": "heatmap"
                      }
                    ],
                    "heatmapgl": [
                      {
                        "colorbar": {
                          "outlinewidth": 0,
                          "ticks": ""
                        },
                        "colorscale": [
                          [
                            0,
                            "#0d0887"
                          ],
                          [
                            0.1111111111111111,
                            "#46039f"
                          ],
                          [
                            0.2222222222222222,
                            "#7201a8"
                          ],
                          [
                            0.3333333333333333,
                            "#9c179e"
                          ],
                          [
                            0.4444444444444444,
                            "#bd3786"
                          ],
                          [
                            0.5555555555555556,
                            "#d8576b"
                          ],
                          [
                            0.6666666666666666,
                            "#ed7953"
                          ],
                          [
                            0.7777777777777778,
                            "#fb9f3a"
                          ],
                          [
                            0.8888888888888888,
                            "#fdca26"
                          ],
                          [
                            1,
                            "#f0f921"
                          ]
                        ],
                        "type": "heatmapgl"
                      }
                    ],
                    "histogram": [
                      {
                        "marker": {
                          "pattern": {
                            "fillmode": "overlay",
                            "size": 10,
                            "solidity": 0.2
                          }
                        },
                        "type": "histogram"
                      }
                    ],
                    "histogram2d": [
                      {
                        "colorbar": {
                          "outlinewidth": 0,
                          "ticks": ""
                        },
                        "colorscale": [
                          [
                            0,
                            "#0d0887"
                          ],
                          [
                            0.1111111111111111,
                            "#46039f"
                          ],
                          [
                            0.2222222222222222,
                            "#7201a8"
                          ],
                          [
                            0.3333333333333333,
                            "#9c179e"
                          ],
                          [
                            0.4444444444444444,
                            "#bd3786"
                          ],
                          [
                            0.5555555555555556,
                            "#d8576b"
                          ],
                          [
                            0.6666666666666666,
                            "#ed7953"
                          ],
                          [
                            0.7777777777777778,
                            "#fb9f3a"
                          ],
                          [
                            0.8888888888888888,
                            "#fdca26"
                          ],
                          [
                            1,
                            "#f0f921"
                          ]
                        ],
                        "type": "histogram2d"
                      }
                    ],
                    "histogram2dcontour": [
                      {
                        "colorbar": {
                          "outlinewidth": 0,
                          "ticks": ""
                        },
                        "colorscale": [
                          [
                            0,
                            "#0d0887"
                          ],
                          [
                            0.1111111111111111,
                            "#46039f"
                          ],
                          [
                            0.2222222222222222,
                            "#7201a8"
                          ],
                          [
                            0.3333333333333333,
                            "#9c179e"
                          ],
                          [
                            0.4444444444444444,
                            "#bd3786"
                          ],
                          [
                            0.5555555555555556,
                            "#d8576b"
                          ],
                          [
                            0.6666666666666666,
                            "#ed7953"
                          ],
                          [
                            0.7777777777777778,
                            "#fb9f3a"
                          ],
                          [
                            0.8888888888888888,
                            "#fdca26"
                          ],
                          [
                            1,
                            "#f0f921"
                          ]
                        ],
                        "type": "histogram2dcontour"
                      }
                    ],
                    "mesh3d": [
                      {
                        "colorbar": {
                          "outlinewidth": 0,
                          "ticks": ""
                        },
                        "type": "mesh3d"
                      }
                    ],
                    "parcoords": [
                      {
                        "line": {
                          "colorbar": {
                            "outlinewidth": 0,
                            "ticks": ""
                          }
                        },
                        "type": "parcoords"
                      }
                    ],
                    "pie": [
                      {
                        "automargin": true,
                        "type": "pie"
                      }
                    ],
                    "scatter": [
                      {
                        "fillpattern": {
                          "fillmode": "overlay",
                          "size": 10,
                          "solidity": 0.2
                        },
                        "type": "scatter"
                      }
                    ],
                    "scatter3d": [
                      {
                        "line": {
                          "colorbar": {
                            "outlinewidth": 0,
                            "ticks": ""
                          }
                        },
                        "marker": {
                          "colorbar": {
                            "outlinewidth": 0,
                            "ticks": ""
                          }
                        },
                        "type": "scatter3d"
                      }
                    ],
                    "scattercarpet": [
                      {
                        "marker": {
                          "colorbar": {
                            "outlinewidth": 0,
                            "ticks": ""
                          }
                        },
                        "type": "scattercarpet"
                      }
                    ],
                    "scattergeo": [
                      {
                        "marker": {
                          "colorbar": {
                            "outlinewidth": 0,
                            "ticks": ""
                          }
                        },
                        "type": "scattergeo"
                      }
                    ],
                    "scattergl": [
                      {
                        "marker": {
                          "colorbar": {
                            "outlinewidth": 0,
                            "ticks": ""
                          }
                        },
                        "type": "scattergl"
                      }
                    ],
                    "scattermapbox": [
                      {
                        "marker": {
                          "colorbar": {
                            "outlinewidth": 0,
                            "ticks": ""
                          }
                        },
                        "type": "scattermapbox"
                      }
                    ],
                    "scatterpolar": [
                      {
                        "marker": {
                          "colorbar": {
                            "outlinewidth": 0,
                            "ticks": ""
                          }
                        },
                        "type": "scatterpolar"
                      }
                    ],
                    "scatterpolargl": [
                      {
                        "marker": {
                          "colorbar": {
                            "outlinewidth": 0,
                            "ticks": ""
                          }
                        },
                        "type": "scatterpolargl"
                      }
                    ],
                    "scatterternary": [
                      {
                        "marker": {
                          "colorbar": {
                            "outlinewidth": 0,
                            "ticks": ""
                          }
                        },
                        "type": "scatterternary"
                      }
                    ],
                    "surface": [
                      {
                        "colorbar": {
                          "outlinewidth": 0,
                          "ticks": ""
                        },
                        "colorscale": [
                          [
                            0,
                            "#0d0887"
                          ],
                          [
                            0.1111111111111111,
                            "#46039f"
                          ],
                          [
                            0.2222222222222222,
                            "#7201a8"
                          ],
                          [
                            0.3333333333333333,
                            "#9c179e"
                          ],
                          [
                            0.4444444444444444,
                            "#bd3786"
                          ],
                          [
                            0.5555555555555556,
                            "#d8576b"
                          ],
                          [
                            0.6666666666666666,
                            "#ed7953"
                          ],
                          [
                            0.7777777777777778,
                            "#fb9f3a"
                          ],
                          [
                            0.8888888888888888,
                            "#fdca26"
                          ],
                          [
                            1,
                            "#f0f921"
                          ]
                        ],
                        "type": "surface"
                      }
                    ],
                    "table": [
                      {
                        "cells": {
                          "fill": {
                            "color": "#EBF0F8"
                          },
                          "line": {
                            "color": "white"
                          }
                        },
                        "header": {
                          "fill": {
                            "color": "#C8D4E3"
                          },
                          "line": {
                            "color": "white"
                          }
                        },
                        "type": "table"
                      }
                    ]
                  },
                  "layout": {
                    "annotationdefaults": {
                      "arrowcolor": "#2a3f5f",
                      "arrowhead": 0,
                      "arrowwidth": 1
                    },
                    "autotypenumbers": "strict",
                    "coloraxis": {
                      "colorbar": {
                        "outlinewidth": 0,
                        "ticks": ""
                      }
                    },
                    "colorscale": {
                      "diverging": [
                        [
                          0,
                          "#8e0152"
                        ],
                        [
                          0.1,
                          "#c51b7d"
                        ],
                        [
                          0.2,
                          "#de77ae"
                        ],
                        [
                          0.3,
                          "#f1b6da"
                        ],
                        [
                          0.4,
                          "#fde0ef"
                        ],
                        [
                          0.5,
                          "#f7f7f7"
                        ],
                        [
                          0.6,
                          "#e6f5d0"
                        ],
                        [
                          0.7,
                          "#b8e186"
                        ],
                        [
                          0.8,
                          "#7fbc41"
                        ],
                        [
                          0.9,
                          "#4d9221"
                        ],
                        [
                          1,
                          "#276419"
                        ]
                      ],
                      "sequential": [
                        [
                          0,
                          "#0d0887"
                        ],
                        [
                          0.1111111111111111,
                          "#46039f"
                        ],
                        [
                          0.2222222222222222,
                          "#7201a8"
                        ],
                        [
                          0.3333333333333333,
                          "#9c179e"
                        ],
                        [
                          0.4444444444444444,
                          "#bd3786"
                        ],
                        [
                          0.5555555555555556,
                          "#d8576b"
                        ],
                        [
                          0.6666666666666666,
                          "#ed7953"
                        ],
                        [
                          0.7777777777777778,
                          "#fb9f3a"
                        ],
                        [
                          0.8888888888888888,
                          "#fdca26"
                        ],
                        [
                          1,
                          "#f0f921"
                        ]
                      ],
                      "sequentialminus": [
                        [
                          0,
                          "#0d0887"
                        ],
                        [
                          0.1111111111111111,
                          "#46039f"
                        ],
                        [
                          0.2222222222222222,
                          "#7201a8"
                        ],
                        [
                          0.3333333333333333,
                          "#9c179e"
                        ],
                        [
                          0.4444444444444444,
                          "#bd3786"
                        ],
                        [
                          0.5555555555555556,
                          "#d8576b"
                        ],
                        [
                          0.6666666666666666,
                          "#ed7953"
                        ],
                        [
                          0.7777777777777778,
                          "#fb9f3a"
                        ],
                        [
                          0.8888888888888888,
                          "#fdca26"
                        ],
                        [
                          1,
                          "#f0f921"
                        ]
                      ]
                    },
                    "colorway": [
                      "#636efa",
                      "#EF553B",
                      "#00cc96",
                      "#ab63fa",
                      "#FFA15A",
                      "#19d3f3",
                      "#FF6692",
                      "#B6E880",
                      "#FF97FF",
                      "#FECB52"
                    ],
                    "font": {
                      "color": "#2a3f5f"
                    },
                    "geo": {
                      "bgcolor": "white",
                      "lakecolor": "white",
                      "landcolor": "#E5ECF6",
                      "showlakes": true,
                      "showland": true,
                      "subunitcolor": "white"
                    },
                    "hoverlabel": {
                      "align": "left"
                    },
                    "hovermode": "closest",
                    "mapbox": {
                      "style": "light"
                    },
                    "paper_bgcolor": "white",
                    "plot_bgcolor": "#E5ECF6",
                    "polar": {
                      "angularaxis": {
                        "gridcolor": "white",
                        "linecolor": "white",
                        "ticks": ""
                      },
                      "bgcolor": "#E5ECF6",
                      "radialaxis": {
                        "gridcolor": "white",
                        "linecolor": "white",
                        "ticks": ""
                      }
                    },
                    "scene": {
                      "xaxis": {
                        "backgroundcolor": "#E5ECF6",
                        "gridcolor": "white",
                        "gridwidth": 2,
                        "linecolor": "white",
                        "showbackground": true,
                        "ticks": "",
                        "zerolinecolor": "white"
                      },
                      "yaxis": {
                        "backgroundcolor": "#E5ECF6",
                        "gridcolor": "white",
                        "gridwidth": 2,
                        "linecolor": "white",
                        "showbackground": true,
                        "ticks": "",
                        "zerolinecolor": "white"
                      },
                      "zaxis": {
                        "backgroundcolor": "#E5ECF6",
                        "gridcolor": "white",
                        "gridwidth": 2,
                        "linecolor": "white",
                        "showbackground": true,
                        "ticks": "",
                        "zerolinecolor": "white"
                      }
                    },
                    "shapedefaults": {
                      "line": {
                        "color": "#2a3f5f"
                      }
                    },
                    "ternary": {
                      "aaxis": {
                        "gridcolor": "white",
                        "linecolor": "white",
                        "ticks": ""
                      },
                      "baxis": {
                        "gridcolor": "white",
                        "linecolor": "white",
                        "ticks": ""
                      },
                      "bgcolor": "#E5ECF6",
                      "caxis": {
                        "gridcolor": "white",
                        "linecolor": "white",
                        "ticks": ""
                      }
                    },
                    "title": {
                      "x": 0.05
                    },
                    "xaxis": {
                      "automargin": true,
                      "gridcolor": "white",
                      "linecolor": "white",
                      "ticks": "",
                      "title": {
                        "standoff": 15
                      },
                      "zerolinecolor": "white",
                      "zerolinewidth": 2
                    },
                    "yaxis": {
                      "automargin": true,
                      "gridcolor": "white",
                      "linecolor": "white",
                      "ticks": "",
                      "title": {
                        "standoff": 15
                      },
                      "zerolinecolor": "white",
                      "zerolinewidth": 2
                    }
                  }
                },
                "title": {
                  "text": "Vendas acumuladas por loja"
                },
                "xaxis": {
                  "anchor": "y",
                  "domain": [
                    0,
                    1
                  ],
                  "title": {
                    "text": "Weekly_Sales"
                  }
                },
                "yaxis": {
                  "anchor": "x",
                  "domain": [
                    0,
                    1
                  ],
                  "title": {
                    "text": "count"
                  }
                }
              }
            }
          },
          "metadata": {},
          "output_type": "display_data"
        }
      ],
      "source": [
        "# plotar grafico de histograma com as vendas acumulçadas por loja\n",
        "# plt.figure(figsize=(20, 20))\n",
        "fig = ex.histogram(top10_venda_acumulada , x='Weekly_Sales', color='Store', title='Vendas acumuladas por loja')\n",
        "fig.show()\n",
        "\n"
      ]
    },
    {
      "cell_type": "code",
      "execution_count": null,
      "metadata": {},
      "outputs": [],
      "source": []
    },
    {
      "cell_type": "code",
      "execution_count": null,
      "metadata": {},
      "outputs": [
        {
          "data": {
            "application/vnd.plotly.v1+json": {
              "config": {
                "plotlyServerURL": "https://plot.ly"
              },
              "data": [
                {
                  "hovertemplate": "Date=%{x}<br>Weekly_Sales=%{y}<extra></extra>",
                  "legendgroup": "",
                  "line": {
                    "color": "#636efa",
                    "dash": "solid"
                  },
                  "marker": {
                    "symbol": "circle"
                  },
                  "mode": "lines",
                  "name": "",
                  "orientation": "v",
                  "showlegend": false,
                  "type": "scatter",
                  "x": [
                    "01-04-2011",
                    "01-06-2012",
                    "01-07-2011",
                    "01-10-2010",
                    "02-03-2012",
                    "02-04-2010",
                    "02-07-2010",
                    "02-09-2011",
                    "02-12-2011",
                    "03-02-2012",
                    "03-06-2011",
                    "03-08-2012",
                    "03-09-2010",
                    "03-12-2010",
                    "04-02-2011",
                    "04-03-2011",
                    "04-05-2012",
                    "04-06-2010",
                    "04-11-2011",
                    "05-02-2010",
                    "05-03-2010",
                    "05-08-2011",
                    "05-10-2012",
                    "05-11-2010",
                    "06-01-2012",
                    "06-04-2012",
                    "06-05-2011",
                    "06-07-2012",
                    "06-08-2010",
                    "07-01-2011",
                    "07-05-2010",
                    "07-09-2012",
                    "07-10-2011",
                    "08-04-2011",
                    "08-06-2012",
                    "08-07-2011",
                    "08-10-2010",
                    "09-03-2012",
                    "09-04-2010",
                    "09-07-2010",
                    "09-09-2011",
                    "09-12-2011",
                    "10-02-2012",
                    "10-06-2011",
                    "10-08-2012",
                    "10-09-2010",
                    "10-12-2010",
                    "11-02-2011",
                    "11-03-2011",
                    "11-05-2012",
                    "11-06-2010",
                    "11-11-2011",
                    "12-02-2010",
                    "12-03-2010",
                    "12-08-2011",
                    "12-10-2012",
                    "12-11-2010",
                    "13-01-2012",
                    "13-04-2012",
                    "13-05-2011",
                    "13-07-2012",
                    "13-08-2010",
                    "14-01-2011",
                    "14-05-2010",
                    "14-09-2012",
                    "14-10-2011",
                    "15-04-2011",
                    "15-06-2012",
                    "15-07-2011",
                    "15-10-2010",
                    "16-03-2012",
                    "16-04-2010",
                    "16-07-2010",
                    "16-09-2011",
                    "16-12-2011",
                    "17-02-2012",
                    "17-06-2011",
                    "17-08-2012",
                    "17-09-2010",
                    "17-12-2010",
                    "18-02-2011",
                    "18-03-2011",
                    "18-05-2012",
                    "18-06-2010",
                    "18-11-2011",
                    "19-02-2010",
                    "19-03-2010",
                    "19-08-2011",
                    "19-10-2012",
                    "19-11-2010",
                    "20-01-2012",
                    "20-04-2012",
                    "20-05-2011",
                    "20-07-2012",
                    "20-08-2010",
                    "21-01-2011",
                    "21-05-2010",
                    "21-09-2012",
                    "21-10-2011",
                    "22-04-2011",
                    "22-06-2012",
                    "22-07-2011",
                    "22-10-2010",
                    "23-03-2012",
                    "23-04-2010",
                    "23-07-2010",
                    "23-09-2011",
                    "23-12-2011",
                    "24-02-2012",
                    "24-06-2011",
                    "24-08-2012",
                    "24-09-2010",
                    "24-12-2010",
                    "25-02-2011",
                    "25-03-2011",
                    "25-05-2012",
                    "25-06-2010",
                    "25-11-2011",
                    "26-02-2010",
                    "26-03-2010",
                    "26-08-2011",
                    "26-10-2012",
                    "26-11-2010",
                    "27-01-2012",
                    "27-04-2012",
                    "27-05-2011",
                    "27-07-2012",
                    "27-08-2010",
                    "28-01-2011",
                    "28-05-2010",
                    "28-09-2012",
                    "28-10-2011",
                    "29-04-2011",
                    "29-06-2012",
                    "29-07-2011",
                    "29-10-2010",
                    "30-03-2012",
                    "30-04-2010",
                    "30-07-2010",
                    "30-09-2011",
                    "30-12-2011",
                    "31-08-2012",
                    "31-12-2010"
                  ],
                  "xaxis": "x",
                  "y": [
                    1927993.09,
                    2143126.59,
                    2053165.41,
                    1933719.21,
                    2148822.76,
                    2405395.22,
                    2143676.77,
                    2141765.98,
                    2298776.83,
                    2203523.2,
                    2182246.69,
                    2094515.71,
                    2121561.41,
                    2416051.17,
                    2351143.07,
                    2143424.61,
                    2163510.89,
                    2203619.35,
                    2284106.6,
                    2401395.47,
                    2119213.72,
                    2189353.63,
                    2246411.89,
                    2184316.64,
                    1964701.94,
                    2565259.92,
                    2090838.44,
                    2358055.3,
                    1910177.38,
                    1843030.95,
                    2137202.38,
                    2080529.06,
                    2135982.79,
                    2027056.39,
                    2231962.13,
                    2123787.79,
                    2060389.27,
                    2139265.4,
                    2007796.26,
                    2107285.85,
                    2050542.56,
                    2546123.78,
                    2462978.28,
                    2135062.04,
                    2144245.39,
                    2014954.79,
                    2752122.08,
                    2211388.14,
                    1990932.77,
                    2168097.11,
                    2100489.79,
                    2269975.85,
                    2109107.9,
                    2010974.84,
                    2052246.4,
                    2162951.36,
                    2187765.28,
                    1911510.64,
                    2045396.06,
                    2036748.53,
                    2134680.12,
                    2071022.45,
                    1884345.01,
                    2033211.62,
                    2047949.98,
                    2010107.68,
                    2057406.33,
                    2165160.29,
                    2039875.75,
                    1950676.39,
                    2064991.71,
                    1985784.59,
                    2031852.16,
                    1979009.46,
                    2762816.65,
                    2309025.16,
                    2065191.27,
                    2045061.22,
                    1948359.78,
                    2819193.17,
                    2258616.24,
                    1931668.64,
                    2039222.26,
                    2091903.63,
                    2169933.82,
                    2161549.76,
                    1951848.43,
                    1990017.93,
                    1999363.49,
                    2105058.91,
                    1892775.94,
                    1884427.84,
                    1953416.06,
                    1970170.29,
                    1975374.56,
                    1781805.66,
                    1893736.9,
                    2028587.24,
                    2104241.9,
                    2313861.81,
                    2060588.69,
                    1950904.84,
                    1893955.27,
                    1992436.96,
                    1878862.42,
                    1900535.9,
                    1888119.7,
                    3555371.03,
                    2045837.55,
                    1950826.32,
                    2005341.43,
                    1789687.65,
                    3766687.43,
                    1938608.52,
                    1824711.21,
                    2114989,
                    1973135.87,
                    2906233.25,
                    1898193.95,
                    1894742.95,
                    1933577.2,
                    2031650.55,
                    2811634.04,
                    1761016.51,
                    1886503.93,
                    1944433.17,
                    1911559.1,
                    1946369.57,
                    1761506.68,
                    2065984.95,
                    2008350.58,
                    2065421.52,
                    1881788.19,
                    2055952.61,
                    1858440.92,
                    1891816,
                    2074721.74,
                    1919053.21,
                    1955896.59,
                    1945808.26,
                    2043245,
                    2062481.56,
                    1799737.79
                  ],
                  "yaxis": "y"
                }
              ],
              "layout": {
                "legend": {
                  "tracegroupgap": 0
                },
                "template": {
                  "data": {
                    "bar": [
                      {
                        "error_x": {
                          "color": "#2a3f5f"
                        },
                        "error_y": {
                          "color": "#2a3f5f"
                        },
                        "marker": {
                          "line": {
                            "color": "#E5ECF6",
                            "width": 0.5
                          },
                          "pattern": {
                            "fillmode": "overlay",
                            "size": 10,
                            "solidity": 0.2
                          }
                        },
                        "type": "bar"
                      }
                    ],
                    "barpolar": [
                      {
                        "marker": {
                          "line": {
                            "color": "#E5ECF6",
                            "width": 0.5
                          },
                          "pattern": {
                            "fillmode": "overlay",
                            "size": 10,
                            "solidity": 0.2
                          }
                        },
                        "type": "barpolar"
                      }
                    ],
                    "carpet": [
                      {
                        "aaxis": {
                          "endlinecolor": "#2a3f5f",
                          "gridcolor": "white",
                          "linecolor": "white",
                          "minorgridcolor": "white",
                          "startlinecolor": "#2a3f5f"
                        },
                        "baxis": {
                          "endlinecolor": "#2a3f5f",
                          "gridcolor": "white",
                          "linecolor": "white",
                          "minorgridcolor": "white",
                          "startlinecolor": "#2a3f5f"
                        },
                        "type": "carpet"
                      }
                    ],
                    "choropleth": [
                      {
                        "colorbar": {
                          "outlinewidth": 0,
                          "ticks": ""
                        },
                        "type": "choropleth"
                      }
                    ],
                    "contour": [
                      {
                        "colorbar": {
                          "outlinewidth": 0,
                          "ticks": ""
                        },
                        "colorscale": [
                          [
                            0,
                            "#0d0887"
                          ],
                          [
                            0.1111111111111111,
                            "#46039f"
                          ],
                          [
                            0.2222222222222222,
                            "#7201a8"
                          ],
                          [
                            0.3333333333333333,
                            "#9c179e"
                          ],
                          [
                            0.4444444444444444,
                            "#bd3786"
                          ],
                          [
                            0.5555555555555556,
                            "#d8576b"
                          ],
                          [
                            0.6666666666666666,
                            "#ed7953"
                          ],
                          [
                            0.7777777777777778,
                            "#fb9f3a"
                          ],
                          [
                            0.8888888888888888,
                            "#fdca26"
                          ],
                          [
                            1,
                            "#f0f921"
                          ]
                        ],
                        "type": "contour"
                      }
                    ],
                    "contourcarpet": [
                      {
                        "colorbar": {
                          "outlinewidth": 0,
                          "ticks": ""
                        },
                        "type": "contourcarpet"
                      }
                    ],
                    "heatmap": [
                      {
                        "colorbar": {
                          "outlinewidth": 0,
                          "ticks": ""
                        },
                        "colorscale": [
                          [
                            0,
                            "#0d0887"
                          ],
                          [
                            0.1111111111111111,
                            "#46039f"
                          ],
                          [
                            0.2222222222222222,
                            "#7201a8"
                          ],
                          [
                            0.3333333333333333,
                            "#9c179e"
                          ],
                          [
                            0.4444444444444444,
                            "#bd3786"
                          ],
                          [
                            0.5555555555555556,
                            "#d8576b"
                          ],
                          [
                            0.6666666666666666,
                            "#ed7953"
                          ],
                          [
                            0.7777777777777778,
                            "#fb9f3a"
                          ],
                          [
                            0.8888888888888888,
                            "#fdca26"
                          ],
                          [
                            1,
                            "#f0f921"
                          ]
                        ],
                        "type": "heatmap"
                      }
                    ],
                    "heatmapgl": [
                      {
                        "colorbar": {
                          "outlinewidth": 0,
                          "ticks": ""
                        },
                        "colorscale": [
                          [
                            0,
                            "#0d0887"
                          ],
                          [
                            0.1111111111111111,
                            "#46039f"
                          ],
                          [
                            0.2222222222222222,
                            "#7201a8"
                          ],
                          [
                            0.3333333333333333,
                            "#9c179e"
                          ],
                          [
                            0.4444444444444444,
                            "#bd3786"
                          ],
                          [
                            0.5555555555555556,
                            "#d8576b"
                          ],
                          [
                            0.6666666666666666,
                            "#ed7953"
                          ],
                          [
                            0.7777777777777778,
                            "#fb9f3a"
                          ],
                          [
                            0.8888888888888888,
                            "#fdca26"
                          ],
                          [
                            1,
                            "#f0f921"
                          ]
                        ],
                        "type": "heatmapgl"
                      }
                    ],
                    "histogram": [
                      {
                        "marker": {
                          "pattern": {
                            "fillmode": "overlay",
                            "size": 10,
                            "solidity": 0.2
                          }
                        },
                        "type": "histogram"
                      }
                    ],
                    "histogram2d": [
                      {
                        "colorbar": {
                          "outlinewidth": 0,
                          "ticks": ""
                        },
                        "colorscale": [
                          [
                            0,
                            "#0d0887"
                          ],
                          [
                            0.1111111111111111,
                            "#46039f"
                          ],
                          [
                            0.2222222222222222,
                            "#7201a8"
                          ],
                          [
                            0.3333333333333333,
                            "#9c179e"
                          ],
                          [
                            0.4444444444444444,
                            "#bd3786"
                          ],
                          [
                            0.5555555555555556,
                            "#d8576b"
                          ],
                          [
                            0.6666666666666666,
                            "#ed7953"
                          ],
                          [
                            0.7777777777777778,
                            "#fb9f3a"
                          ],
                          [
                            0.8888888888888888,
                            "#fdca26"
                          ],
                          [
                            1,
                            "#f0f921"
                          ]
                        ],
                        "type": "histogram2d"
                      }
                    ],
                    "histogram2dcontour": [
                      {
                        "colorbar": {
                          "outlinewidth": 0,
                          "ticks": ""
                        },
                        "colorscale": [
                          [
                            0,
                            "#0d0887"
                          ],
                          [
                            0.1111111111111111,
                            "#46039f"
                          ],
                          [
                            0.2222222222222222,
                            "#7201a8"
                          ],
                          [
                            0.3333333333333333,
                            "#9c179e"
                          ],
                          [
                            0.4444444444444444,
                            "#bd3786"
                          ],
                          [
                            0.5555555555555556,
                            "#d8576b"
                          ],
                          [
                            0.6666666666666666,
                            "#ed7953"
                          ],
                          [
                            0.7777777777777778,
                            "#fb9f3a"
                          ],
                          [
                            0.8888888888888888,
                            "#fdca26"
                          ],
                          [
                            1,
                            "#f0f921"
                          ]
                        ],
                        "type": "histogram2dcontour"
                      }
                    ],
                    "mesh3d": [
                      {
                        "colorbar": {
                          "outlinewidth": 0,
                          "ticks": ""
                        },
                        "type": "mesh3d"
                      }
                    ],
                    "parcoords": [
                      {
                        "line": {
                          "colorbar": {
                            "outlinewidth": 0,
                            "ticks": ""
                          }
                        },
                        "type": "parcoords"
                      }
                    ],
                    "pie": [
                      {
                        "automargin": true,
                        "type": "pie"
                      }
                    ],
                    "scatter": [
                      {
                        "fillpattern": {
                          "fillmode": "overlay",
                          "size": 10,
                          "solidity": 0.2
                        },
                        "type": "scatter"
                      }
                    ],
                    "scatter3d": [
                      {
                        "line": {
                          "colorbar": {
                            "outlinewidth": 0,
                            "ticks": ""
                          }
                        },
                        "marker": {
                          "colorbar": {
                            "outlinewidth": 0,
                            "ticks": ""
                          }
                        },
                        "type": "scatter3d"
                      }
                    ],
                    "scattercarpet": [
                      {
                        "marker": {
                          "colorbar": {
                            "outlinewidth": 0,
                            "ticks": ""
                          }
                        },
                        "type": "scattercarpet"
                      }
                    ],
                    "scattergeo": [
                      {
                        "marker": {
                          "colorbar": {
                            "outlinewidth": 0,
                            "ticks": ""
                          }
                        },
                        "type": "scattergeo"
                      }
                    ],
                    "scattergl": [
                      {
                        "marker": {
                          "colorbar": {
                            "outlinewidth": 0,
                            "ticks": ""
                          }
                        },
                        "type": "scattergl"
                      }
                    ],
                    "scattermapbox": [
                      {
                        "marker": {
                          "colorbar": {
                            "outlinewidth": 0,
                            "ticks": ""
                          }
                        },
                        "type": "scattermapbox"
                      }
                    ],
                    "scatterpolar": [
                      {
                        "marker": {
                          "colorbar": {
                            "outlinewidth": 0,
                            "ticks": ""
                          }
                        },
                        "type": "scatterpolar"
                      }
                    ],
                    "scatterpolargl": [
                      {
                        "marker": {
                          "colorbar": {
                            "outlinewidth": 0,
                            "ticks": ""
                          }
                        },
                        "type": "scatterpolargl"
                      }
                    ],
                    "scatterternary": [
                      {
                        "marker": {
                          "colorbar": {
                            "outlinewidth": 0,
                            "ticks": ""
                          }
                        },
                        "type": "scatterternary"
                      }
                    ],
                    "surface": [
                      {
                        "colorbar": {
                          "outlinewidth": 0,
                          "ticks": ""
                        },
                        "colorscale": [
                          [
                            0,
                            "#0d0887"
                          ],
                          [
                            0.1111111111111111,
                            "#46039f"
                          ],
                          [
                            0.2222222222222222,
                            "#7201a8"
                          ],
                          [
                            0.3333333333333333,
                            "#9c179e"
                          ],
                          [
                            0.4444444444444444,
                            "#bd3786"
                          ],
                          [
                            0.5555555555555556,
                            "#d8576b"
                          ],
                          [
                            0.6666666666666666,
                            "#ed7953"
                          ],
                          [
                            0.7777777777777778,
                            "#fb9f3a"
                          ],
                          [
                            0.8888888888888888,
                            "#fdca26"
                          ],
                          [
                            1,
                            "#f0f921"
                          ]
                        ],
                        "type": "surface"
                      }
                    ],
                    "table": [
                      {
                        "cells": {
                          "fill": {
                            "color": "#EBF0F8"
                          },
                          "line": {
                            "color": "white"
                          }
                        },
                        "header": {
                          "fill": {
                            "color": "#C8D4E3"
                          },
                          "line": {
                            "color": "white"
                          }
                        },
                        "type": "table"
                      }
                    ]
                  },
                  "layout": {
                    "annotationdefaults": {
                      "arrowcolor": "#2a3f5f",
                      "arrowhead": 0,
                      "arrowwidth": 1
                    },
                    "autotypenumbers": "strict",
                    "coloraxis": {
                      "colorbar": {
                        "outlinewidth": 0,
                        "ticks": ""
                      }
                    },
                    "colorscale": {
                      "diverging": [
                        [
                          0,
                          "#8e0152"
                        ],
                        [
                          0.1,
                          "#c51b7d"
                        ],
                        [
                          0.2,
                          "#de77ae"
                        ],
                        [
                          0.3,
                          "#f1b6da"
                        ],
                        [
                          0.4,
                          "#fde0ef"
                        ],
                        [
                          0.5,
                          "#f7f7f7"
                        ],
                        [
                          0.6,
                          "#e6f5d0"
                        ],
                        [
                          0.7,
                          "#b8e186"
                        ],
                        [
                          0.8,
                          "#7fbc41"
                        ],
                        [
                          0.9,
                          "#4d9221"
                        ],
                        [
                          1,
                          "#276419"
                        ]
                      ],
                      "sequential": [
                        [
                          0,
                          "#0d0887"
                        ],
                        [
                          0.1111111111111111,
                          "#46039f"
                        ],
                        [
                          0.2222222222222222,
                          "#7201a8"
                        ],
                        [
                          0.3333333333333333,
                          "#9c179e"
                        ],
                        [
                          0.4444444444444444,
                          "#bd3786"
                        ],
                        [
                          0.5555555555555556,
                          "#d8576b"
                        ],
                        [
                          0.6666666666666666,
                          "#ed7953"
                        ],
                        [
                          0.7777777777777778,
                          "#fb9f3a"
                        ],
                        [
                          0.8888888888888888,
                          "#fdca26"
                        ],
                        [
                          1,
                          "#f0f921"
                        ]
                      ],
                      "sequentialminus": [
                        [
                          0,
                          "#0d0887"
                        ],
                        [
                          0.1111111111111111,
                          "#46039f"
                        ],
                        [
                          0.2222222222222222,
                          "#7201a8"
                        ],
                        [
                          0.3333333333333333,
                          "#9c179e"
                        ],
                        [
                          0.4444444444444444,
                          "#bd3786"
                        ],
                        [
                          0.5555555555555556,
                          "#d8576b"
                        ],
                        [
                          0.6666666666666666,
                          "#ed7953"
                        ],
                        [
                          0.7777777777777778,
                          "#fb9f3a"
                        ],
                        [
                          0.8888888888888888,
                          "#fdca26"
                        ],
                        [
                          1,
                          "#f0f921"
                        ]
                      ]
                    },
                    "colorway": [
                      "#636efa",
                      "#EF553B",
                      "#00cc96",
                      "#ab63fa",
                      "#FFA15A",
                      "#19d3f3",
                      "#FF6692",
                      "#B6E880",
                      "#FF97FF",
                      "#FECB52"
                    ],
                    "font": {
                      "color": "#2a3f5f"
                    },
                    "geo": {
                      "bgcolor": "white",
                      "lakecolor": "white",
                      "landcolor": "#E5ECF6",
                      "showlakes": true,
                      "showland": true,
                      "subunitcolor": "white"
                    },
                    "hoverlabel": {
                      "align": "left"
                    },
                    "hovermode": "closest",
                    "mapbox": {
                      "style": "light"
                    },
                    "paper_bgcolor": "white",
                    "plot_bgcolor": "#E5ECF6",
                    "polar": {
                      "angularaxis": {
                        "gridcolor": "white",
                        "linecolor": "white",
                        "ticks": ""
                      },
                      "bgcolor": "#E5ECF6",
                      "radialaxis": {
                        "gridcolor": "white",
                        "linecolor": "white",
                        "ticks": ""
                      }
                    },
                    "scene": {
                      "xaxis": {
                        "backgroundcolor": "#E5ECF6",
                        "gridcolor": "white",
                        "gridwidth": 2,
                        "linecolor": "white",
                        "showbackground": true,
                        "ticks": "",
                        "zerolinecolor": "white"
                      },
                      "yaxis": {
                        "backgroundcolor": "#E5ECF6",
                        "gridcolor": "white",
                        "gridwidth": 2,
                        "linecolor": "white",
                        "showbackground": true,
                        "ticks": "",
                        "zerolinecolor": "white"
                      },
                      "zaxis": {
                        "backgroundcolor": "#E5ECF6",
                        "gridcolor": "white",
                        "gridwidth": 2,
                        "linecolor": "white",
                        "showbackground": true,
                        "ticks": "",
                        "zerolinecolor": "white"
                      }
                    },
                    "shapedefaults": {
                      "line": {
                        "color": "#2a3f5f"
                      }
                    },
                    "ternary": {
                      "aaxis": {
                        "gridcolor": "white",
                        "linecolor": "white",
                        "ticks": ""
                      },
                      "baxis": {
                        "gridcolor": "white",
                        "linecolor": "white",
                        "ticks": ""
                      },
                      "bgcolor": "#E5ECF6",
                      "caxis": {
                        "gridcolor": "white",
                        "linecolor": "white",
                        "ticks": ""
                      }
                    },
                    "title": {
                      "x": 0.05
                    },
                    "xaxis": {
                      "automargin": true,
                      "gridcolor": "white",
                      "linecolor": "white",
                      "ticks": "",
                      "title": {
                        "standoff": 15
                      },
                      "zerolinecolor": "white",
                      "zerolinewidth": 2
                    },
                    "yaxis": {
                      "automargin": true,
                      "gridcolor": "white",
                      "linecolor": "white",
                      "ticks": "",
                      "title": {
                        "standoff": 15
                      },
                      "zerolinecolor": "white",
                      "zerolinewidth": 2
                    }
                  }
                },
                "title": {
                  "text": "Vendas por semana da loja 20 no período de 2010 a 2012"
                },
                "xaxis": {
                  "anchor": "y",
                  "domain": [
                    0,
                    1
                  ],
                  "title": {
                    "text": "Date"
                  }
                },
                "yaxis": {
                  "anchor": "x",
                  "domain": [
                    0,
                    1
                  ],
                  "title": {
                    "text": "Weekly_Sales"
                  }
                }
              }
            }
          },
          "metadata": {},
          "output_type": "display_data"
        }
      ],
      "source": [
        "\n",
        "# a loja com maior venda acumulada é a 20\n",
        "# filtrando a loja 20\n",
        "loja20 = walmart[walmart['Store'] == 20]\n",
        "# calculando a média de vendas semanais\n",
        "media_venda_semanal = loja20['Weekly_Sales'].mean()\n",
        "# calculando a quantidade de semanas que a loja 20 teve vendas acima da média\n",
        "loja20[loja20['Weekly_Sales'] > media_venda_semanal].count()\n",
        "# a loja 20 teve 52 semanas com vendas acima da média\n",
        "# exibir Weeks com vendas acima da média\n",
        "loja20[loja20['Weekly_Sales'] > media_venda_semanal]\n",
        "# exibir Weeks com vendas abaixo da média\n",
        "loja20[loja20['Weekly_Sales'] < media_venda_semanal]\n",
        "# exibir Weeks com vendas iguais a média\n",
        "loja20[loja20['Weekly_Sales'] == media_venda_semanal]\n",
        "# arreranjar os dados para plotar o gráfico\n",
        "loja20 = loja20.sort_values(by='Date')\n",
        "# plotar o gráfico\n",
        "fig = ex.line(loja20, x='Date', y='Weekly_Sales', title='Vendas por semana da loja 20 no período de 2010 a 2012')\n",
        "fig.show()\n"
      ]
    },
    {
      "cell_type": "code",
      "execution_count": null,
      "metadata": {},
      "outputs": [],
      "source": [
        "# Faça um gráfico com as vendas máximas, mínimas e médias de todas as lojas ao longo do tempo. Ressalte de alguma forma, o período de feriados mencionados\n",
        "# Make a graph with the maximum, minimum and average sales of all stores over time. Highlight in some way, the holiday period mentioned\n",
        "# agrupando por data e calculando a média, máximo e mínimo de vendas\n",
        "vendas_por_data = walmart.groupby(['Date', 'Store']).agg({'Weekly_Sales': [np.mean, np.max, np.min]}).reset_index()\n",
        "# renomeando as colunas\n",
        "vendas_por_data.columns = ['Date','Store', 'Weekly_Sales_mean', 'Weekly_Sales_max', 'Weekly_Sales_min']"
      ]
    },
    {
      "cell_type": "code",
      "execution_count": null,
      "metadata": {},
      "outputs": [],
      "source": [
        "vendas_mm_150 = vendas_por_data.sort_values(by=['Weekly_Sales_mean', 'Weekly_Sales_max'], ascending=True).head(150)"
      ]
    },
    {
      "cell_type": "code",
      "execution_count": null,
      "metadata": {},
      "outputs": [
        {
          "data": {
            "text/html": [
              "<div>\n",
              "<style scoped>\n",
              "    .dataframe tbody tr th:only-of-type {\n",
              "        vertical-align: middle;\n",
              "    }\n",
              "\n",
              "    .dataframe tbody tr th {\n",
              "        vertical-align: top;\n",
              "    }\n",
              "\n",
              "    .dataframe thead th {\n",
              "        text-align: right;\n",
              "    }\n",
              "</style>\n",
              "<table border=\"1\" class=\"dataframe\">\n",
              "  <thead>\n",
              "    <tr style=\"text-align: right;\">\n",
              "      <th></th>\n",
              "      <th>Date</th>\n",
              "      <th>Store</th>\n",
              "      <th>Weekly_Sales_mean</th>\n",
              "      <th>Weekly_Sales_max</th>\n",
              "      <th>Weekly_Sales_min</th>\n",
              "    </tr>\n",
              "  </thead>\n",
              "  <tbody>\n",
              "    <tr>\n",
              "      <th>617</th>\n",
              "      <td>03-12-2010</td>\n",
              "      <td>33</td>\n",
              "      <td>209986.25</td>\n",
              "      <td>209986.25</td>\n",
              "      <td>209986.25</td>\n",
              "    </tr>\n",
              "    <tr>\n",
              "      <th>6107</th>\n",
              "      <td>29-10-2010</td>\n",
              "      <td>33</td>\n",
              "      <td>213538.32</td>\n",
              "      <td>213538.32</td>\n",
              "      <td>213538.32</td>\n",
              "    </tr>\n",
              "    <tr>\n",
              "      <th>6332</th>\n",
              "      <td>30-12-2011</td>\n",
              "      <td>33</td>\n",
              "      <td>215359.21</td>\n",
              "      <td>215359.21</td>\n",
              "      <td>215359.21</td>\n",
              "    </tr>\n",
              "    <tr>\n",
              "      <th>6422</th>\n",
              "      <td>31-12-2010</td>\n",
              "      <td>33</td>\n",
              "      <td>219804.85</td>\n",
              "      <td>219804.85</td>\n",
              "      <td>219804.85</td>\n",
              "    </tr>\n",
              "    <tr>\n",
              "      <th>392</th>\n",
              "      <td>02-12-2011</td>\n",
              "      <td>33</td>\n",
              "      <td>220060.35</td>\n",
              "      <td>220060.35</td>\n",
              "      <td>220060.35</td>\n",
              "    </tr>\n",
              "    <tr>\n",
              "      <th>...</th>\n",
              "      <td>...</td>\n",
              "      <td>...</td>\n",
              "      <td>...</td>\n",
              "      <td>...</td>\n",
              "      <td>...</td>\n",
              "    </tr>\n",
              "    <tr>\n",
              "      <th>3598</th>\n",
              "      <td>17-12-2010</td>\n",
              "      <td>44</td>\n",
              "      <td>278646.35</td>\n",
              "      <td>278646.35</td>\n",
              "      <td>278646.35</td>\n",
              "    </tr>\n",
              "    <tr>\n",
              "      <th>5764</th>\n",
              "      <td>28-01-2011</td>\n",
              "      <td>5</td>\n",
              "      <td>279088.39</td>\n",
              "      <td>279088.39</td>\n",
              "      <td>279088.39</td>\n",
              "    </tr>\n",
              "    <tr>\n",
              "      <th>5837</th>\n",
              "      <td>28-05-2010</td>\n",
              "      <td>33</td>\n",
              "      <td>279246.33</td>\n",
              "      <td>279246.33</td>\n",
              "      <td>279246.33</td>\n",
              "    </tr>\n",
              "    <tr>\n",
              "      <th>3553</th>\n",
              "      <td>17-09-2010</td>\n",
              "      <td>44</td>\n",
              "      <td>279364.13</td>\n",
              "      <td>279364.13</td>\n",
              "      <td>279364.13</td>\n",
              "    </tr>\n",
              "    <tr>\n",
              "      <th>5128</th>\n",
              "      <td>25-02-2011</td>\n",
              "      <td>44</td>\n",
              "      <td>279427.93</td>\n",
              "      <td>279427.93</td>\n",
              "      <td>279427.93</td>\n",
              "    </tr>\n",
              "  </tbody>\n",
              "</table>\n",
              "<p>150 rows × 5 columns</p>\n",
              "</div>"
            ],
            "text/plain": [
              "            Date  Store  Weekly_Sales_mean  Weekly_Sales_max  Weekly_Sales_min\n",
              "617   03-12-2010     33          209986.25         209986.25         209986.25\n",
              "6107  29-10-2010     33          213538.32         213538.32         213538.32\n",
              "6332  30-12-2011     33          215359.21         215359.21         215359.21\n",
              "6422  31-12-2010     33          219804.85         219804.85         219804.85\n",
              "392   02-12-2011     33          220060.35         220060.35         220060.35\n",
              "...          ...    ...                ...               ...               ...\n",
              "3598  17-12-2010     44          278646.35         278646.35         278646.35\n",
              "5764  28-01-2011      5          279088.39         279088.39         279088.39\n",
              "5837  28-05-2010     33          279246.33         279246.33         279246.33\n",
              "3553  17-09-2010     44          279364.13         279364.13         279364.13\n",
              "5128  25-02-2011     44          279427.93         279427.93         279427.93\n",
              "\n",
              "[150 rows x 5 columns]"
            ]
          },
          "execution_count": 13,
          "metadata": {},
          "output_type": "execute_result"
        }
      ],
      "source": [
        "vendas_mm_150"
      ]
    },
    {
      "cell_type": "code",
      "execution_count": null,
      "metadata": {},
      "outputs": [
        {
          "name": "stdout",
          "output_type": "stream",
          "text": [
            "       Store  Weekly_Sales  Holiday_Flag  Temperature  Fuel_Price         CPI  \\\n",
            "count  143.0  1.430000e+02    143.000000   143.000000  143.000000  143.000000   \n",
            "mean    20.0  2.107677e+06      0.069930    55.451399    3.417608  209.038131   \n",
            "std      0.0  2.759006e+05      0.255926    16.543846    0.443029    4.176736   \n",
            "min     20.0  1.761017e+06      0.000000    20.390000    2.699000  203.610178   \n",
            "25%     20.0  1.950866e+06      0.000000    42.865000    2.921000  204.774194   \n",
            "50%     20.0  2.053165e+06      0.000000    58.650000    3.541000  208.556714   \n",
            "75%     20.0  2.155186e+06      0.000000    70.330000    3.809000  213.372861   \n",
            "max     20.0  3.766687e+06      1.000000    79.200000    4.066000  216.151590   \n",
            "\n",
            "       Unemployment  \n",
            "count    143.000000  \n",
            "mean       7.371413  \n",
            "std        0.305069  \n",
            "min        6.961000  \n",
            "25%        7.139000  \n",
            "50%        7.287000  \n",
            "75%        7.484000  \n",
            "max        8.187000  \n",
            "       Store   Weekly_Sales  Holiday_Flag  Temperature  Fuel_Price  \\\n",
            "count  143.0     143.000000    143.000000   143.000000  143.000000   \n",
            "mean    33.0  259861.692028      0.069930    76.728182    3.575923   \n",
            "std      0.0   24132.927322      0.255926    15.377213    0.446957   \n",
            "min     33.0  209986.250000      0.000000    46.250000    2.825000   \n",
            "25%     33.0  242491.545000      0.000000    61.990000    3.107000   \n",
            "50%     33.0  258427.390000      0.000000    77.440000    3.675000   \n",
            "75%     33.0  275235.705000      0.000000    91.470000    3.905000   \n",
            "max     33.0  331173.510000      1.000000   100.140000    4.468000   \n",
            "\n",
            "              CPI  Unemployment  \n",
            "count  143.000000    143.000000  \n",
            "mean   128.679669      8.533154  \n",
            "std      1.858300      0.963780  \n",
            "min    126.064000      6.895000  \n",
            "25%    126.590094      7.603000  \n",
            "50%    129.075677      8.687000  \n",
            "75%    130.502414      9.265000  \n",
            "max    131.193097     10.115000  \n"
          ]
        }
      ],
      "source": [
        "w20 = walmart[walmart['Store'] == 20]\n",
        "w33 = walmart[walmart['Store'] == 33]\n",
        "print(w20.describe())\n",
        "print(w33.describe())"
      ]
    },
    {
      "cell_type": "code",
      "execution_count": null,
      "metadata": {},
      "outputs": [],
      "source": [
        "loja20 = walmart[walmart['Store'] == 20]\n",
        "# calculando a média de vendas semanais\n",
        "media_venda_semanal = loja20['Weekly_Sales'].mean()\n",
        "# calculando a quantidade de semanas que a loja 20 teve vendas acima da média\n",
        "loja20[loja20['Weekly_Sales'] > media_venda_semanal].count()\n",
        "# a loja 20 teve 52 semanas com vendas acima da média\n",
        "# exibir Weeks com vendas acima da média\n",
        "loja20[loja20['Weekly_Sales'] > media_venda_semanal]\n",
        "# exibir Weeks com vendas abaixo da média\n",
        "loja20[loja20['Weekly_Sales'] < media_venda_semanal]\n",
        "# exibir Weeks com vendas iguais a média\n",
        "loja20[loja20['Weekly_Sales'] == media_venda_semanal]\n",
        "# arreranjar os dados para plotar o gráfico\n",
        "loja20 = loja20.sort_values(by='Date')"
      ]
    },
    {
      "cell_type": "code",
      "execution_count": null,
      "metadata": {},
      "outputs": [
        {
          "data": {
            "text/plain": [
              "2107676.8703496507"
            ]
          },
          "execution_count": 16,
          "metadata": {},
          "output_type": "execute_result"
        }
      ],
      "source": [
        "media_venda_semanal"
      ]
    },
    {
      "cell_type": "code",
      "execution_count": null,
      "metadata": {},
      "outputs": [
        {
          "data": {
            "text/plain": [
              "259861.692027972"
            ]
          },
          "execution_count": 17,
          "metadata": {},
          "output_type": "execute_result"
        }
      ],
      "source": [
        "loja33 = walmart[walmart['Store'] == 33]\n",
        "# calculando a média de vendas semanais\n",
        "media_venda_semanal = loja33['Weekly_Sales'].mean()\n",
        "# calculando a quantidade de semanas que a loja 20 teve vendas acima da média\n",
        "loja33[loja33['Weekly_Sales'] > media_venda_semanal].count()\n",
        "# a loja 20 teve 67 semanas com vendas acima da média\n",
        "# exibir Weeks com vendas acima da média\n",
        "loja33[loja33['Weekly_Sales'] > media_venda_semanal]\n",
        "# exibir Weeks com vendas abaixo da média\n",
        "loja33[loja33['Weekly_Sales'] < media_venda_semanal]\n",
        "# exibir Weeks com vendas iguais a média\n",
        "loja33[loja33['Weekly_Sales'] == media_venda_semanal]\n",
        "# arreranjar os dados para plotar o gráfico\n",
        "loja33 = loja33.sort_values(by='Date')\n",
        "media_venda_semanal"
      ]
    },
    {
      "cell_type": "code",
      "execution_count": null,
      "metadata": {},
      "outputs": [
        {
          "data": {
            "application/vnd.plotly.v1+json": {
              "config": {
                "plotlyServerURL": "https://plot.ly"
              },
              "data": [
                {
                  "hovertemplate": "variable=Weekly_Sales_mean<br>Date=%{x}<br>value=%{y}<extra></extra>",
                  "legendgroup": "Weekly_Sales_mean",
                  "line": {
                    "color": "#636efa",
                    "dash": "solid"
                  },
                  "marker": {
                    "symbol": "circle"
                  },
                  "mode": "lines",
                  "name": "Weekly_Sales_mean",
                  "orientation": "v",
                  "showlegend": true,
                  "type": "scatter",
                  "x": [
                    "01-04-2011",
                    "01-06-2012",
                    "01-07-2011",
                    "01-10-2010",
                    "02-03-2012",
                    "02-04-2010",
                    "02-07-2010",
                    "02-09-2011",
                    "02-12-2011",
                    "03-02-2012",
                    "03-06-2011",
                    "03-08-2012",
                    "03-09-2010",
                    "03-12-2010",
                    "04-02-2011",
                    "04-03-2011",
                    "04-05-2012",
                    "04-06-2010",
                    "04-11-2011",
                    "05-02-2010",
                    "05-03-2010",
                    "05-08-2011",
                    "05-10-2012",
                    "05-11-2010",
                    "06-01-2012",
                    "06-04-2012",
                    "06-05-2011",
                    "06-07-2012",
                    "06-08-2010",
                    "07-01-2011",
                    "07-05-2010",
                    "07-09-2012",
                    "07-10-2011",
                    "08-04-2011",
                    "08-06-2012",
                    "08-07-2011",
                    "08-10-2010",
                    "09-03-2012",
                    "09-04-2010",
                    "09-07-2010",
                    "09-09-2011",
                    "09-12-2011",
                    "10-02-2012",
                    "10-06-2011",
                    "10-08-2012",
                    "10-09-2010",
                    "10-12-2010",
                    "11-02-2011",
                    "11-03-2011",
                    "11-05-2012",
                    "11-06-2010",
                    "11-11-2011",
                    "12-02-2010",
                    "12-03-2010",
                    "12-08-2011",
                    "12-10-2012",
                    "12-11-2010",
                    "13-01-2012",
                    "13-04-2012",
                    "13-05-2011",
                    "13-07-2012",
                    "13-08-2010",
                    "14-01-2011",
                    "14-05-2010",
                    "14-09-2012",
                    "14-10-2011",
                    "15-04-2011",
                    "15-06-2012",
                    "15-07-2011",
                    "15-10-2010",
                    "16-03-2012",
                    "16-04-2010",
                    "16-07-2010",
                    "16-09-2011",
                    "16-12-2011",
                    "17-02-2012",
                    "17-06-2011",
                    "17-08-2012",
                    "17-09-2010",
                    "17-12-2010",
                    "18-02-2011",
                    "18-03-2011",
                    "18-05-2012",
                    "18-06-2010",
                    "18-11-2011",
                    "19-02-2010",
                    "19-03-2010",
                    "19-08-2011",
                    "19-10-2012",
                    "19-11-2010",
                    "20-01-2012",
                    "20-04-2012",
                    "20-05-2011",
                    "20-07-2012",
                    "20-08-2010",
                    "21-01-2011",
                    "21-05-2010",
                    "21-09-2012",
                    "21-10-2011",
                    "22-04-2011",
                    "22-06-2012",
                    "22-07-2011",
                    "22-10-2010",
                    "23-03-2012",
                    "23-04-2010",
                    "23-07-2010",
                    "23-09-2011",
                    "23-12-2011",
                    "24-02-2012",
                    "24-06-2011",
                    "24-08-2012",
                    "24-09-2010",
                    "24-12-2010",
                    "25-02-2011",
                    "25-03-2011",
                    "25-05-2012",
                    "25-06-2010",
                    "25-11-2011",
                    "26-02-2010",
                    "26-03-2010",
                    "26-08-2011",
                    "26-10-2012",
                    "26-11-2010",
                    "27-01-2012",
                    "27-04-2012",
                    "27-05-2011",
                    "27-07-2012",
                    "27-08-2010",
                    "28-01-2011",
                    "28-05-2010",
                    "28-09-2012",
                    "28-10-2011",
                    "29-04-2011",
                    "29-06-2012",
                    "29-07-2011",
                    "29-10-2010",
                    "30-03-2012",
                    "30-04-2010",
                    "30-07-2010",
                    "30-09-2011",
                    "30-12-2011",
                    "31-08-2012",
                    "31-12-2010"
                  ],
                  "xaxis": "x",
                  "y": [
                    965755.3597777777,
                    1072925.5493333333,
                    1057300.4333333333,
                    938663.9082222221,
                    1041356.3326666666,
                    1120529.5835555554,
                    1087055.211111111,
                    1008369.4060000001,
                    1097567.922,
                    1024124.6242222222,
                    1083822.092888889,
                    1055242.2124444444,
                    1048761.2802222222,
                    1109089.5084444445,
                    1025624.6915555554,
                    1044013.4164444444,
                    1047204.3984444444,
                    1115300.958222222,
                    1081234.3177777778,
                    1105572.0111111111,
                    1041588.2288888888,
                    1067010.377111111,
                    1057036.4291111112,
                    1017377.3753333334,
                    999009.3766666667,
                    1188940.3526666665,
                    1041376.8508888888,
                    1138956.041777778,
                    1071222.2026666666,
                    950573.0615555554,
                    1077849.8560000001,
                    1074001.318,
                    1049148.6302222223,
                    1019721.4844444444,
                    1103359.372888889,
                    1063539.195111111,
                    1002288.3162222222,
                    1055121.2024444444,
                    1052562.0097777778,
                    1064433.986,
                    1039182.834,
                    1234692.171111111,
                    1111320.176,
                    1059327.4368888887,
                    1053410.023111111,
                    1014097.7297777777,
                    1237039.342,
                    1051915.3953333334,
                    991718.2088888888,
                    1042797.3108888889,
                    1062812.1493333334,
                    1077204.9944444445,
                    1074148.3917777778,
                    1020564.3668888889,
                    1027768.2046666667,
                    1025078.0944444444,
                    1024995.5739999999,
                    933846.1884444443,
                    1036205.809111111,
                    1009914.3293333333,
                    1024438.4911111111,
                    1032542.6313333334,
                    903859.512,
                    1007335.1155555557,
                    982800.8588888888,
                    986107.1177777777,
                    999407.292,
                    1075824.6822222222,
                    1011465.1093333333,
                    958877.1877777779,
                    1042255.6653333333,
                    1004081.4906666667,
                    1027642.2128888889,
                    973199.1128888888,
                    1335237.6875555555,
                    1115490.1546666666,
                    1054390.2615555557,
                    1052321.1566666665,
                    957349.478,
                    1373795.5522222223,
                    1082581.4248888888,
                    997162.7993333333,
                    1040531.9826666666,
                    1058267.694,
                    1031977.3457777778,
                    1072822.084,
                    999754.992,
                    1042607.7248888889,
                    1002720.2348888889,
                    1002790.7595555555,
                    935133.2568888889,
                    1001611.772888889,
                    978813.2891111111,
                    1023545.41,
                    1045798.9537777778,
                    903436.6228888889,
                    1002669.0680000001,
                    985656.6024444444,
                    1018198.9653333332,
                    1081704.2680000002,
                    1059295.2215555555,
                    1006098.0308888889,
                    957037.1004444443,
                    999862.098888889,
                    994098.9457777778,
                    997529.9802222222,
                    949291.0384444444,
                    1711072.029111111,
                    1017144.5904444444,
                    1019646.5462222222,
                    1054384.9688888888,
                    919078.0979999999,
                    1798475.9022222222,
                    980574.663111111,
                    952804.4262222222,
                    1064276.9624444444,
                    1035756.362,
                    1479857.8946666666,
                    977079.3584444445,
                    980754.69,
                    1053709.9655555557,
                    1012091.4731111111,
                    1462688.960888889,
                    885221.6593333334,
                    971484.4197777777,
                    1006521.2675555556,
                    979936.7771111111,
                    1020216.4542222222,
                    879996.7331111112,
                    1061277.8346666668,
                    971886.6533333333,
                    1019018.2455555554,
                    967334.0617777779,
                    1035491.3804444444,
                    970739.4284444444,
                    968951.7988888889,
                    1006063.6004444446,
                    971225.0380000001,
                    991785.8537777779,
                    937685.1291111112,
                    1023165.8008888889,
                    1047991.9873333334,
                    898500.4222222222
                  ],
                  "yaxis": "y"
                },
                {
                  "hovertemplate": "variable=Weekly_Sales_max<br>Date=%{x}<br>value=%{y}<extra></extra>",
                  "legendgroup": "Weekly_Sales_max",
                  "line": {
                    "color": "#EF553B",
                    "dash": "solid"
                  },
                  "marker": {
                    "symbol": "circle"
                  },
                  "mode": "lines",
                  "name": "Weekly_Sales_max",
                  "orientation": "v",
                  "showlegend": true,
                  "type": "scatter",
                  "x": [
                    "01-04-2011",
                    "01-06-2012",
                    "01-07-2011",
                    "01-10-2010",
                    "02-03-2012",
                    "02-04-2010",
                    "02-07-2010",
                    "02-09-2011",
                    "02-12-2011",
                    "03-02-2012",
                    "03-06-2011",
                    "03-08-2012",
                    "03-09-2010",
                    "03-12-2010",
                    "04-02-2011",
                    "04-03-2011",
                    "04-05-2012",
                    "04-06-2010",
                    "04-11-2011",
                    "05-02-2010",
                    "05-03-2010",
                    "05-08-2011",
                    "05-10-2012",
                    "05-11-2010",
                    "06-01-2012",
                    "06-04-2012",
                    "06-05-2011",
                    "06-07-2012",
                    "06-08-2010",
                    "07-01-2011",
                    "07-05-2010",
                    "07-09-2012",
                    "07-10-2011",
                    "08-04-2011",
                    "08-06-2012",
                    "08-07-2011",
                    "08-10-2010",
                    "09-03-2012",
                    "09-04-2010",
                    "09-07-2010",
                    "09-09-2011",
                    "09-12-2011",
                    "10-02-2012",
                    "10-06-2011",
                    "10-08-2012",
                    "10-09-2010",
                    "10-12-2010",
                    "11-02-2011",
                    "11-03-2011",
                    "11-05-2012",
                    "11-06-2010",
                    "11-11-2011",
                    "12-02-2010",
                    "12-03-2010",
                    "12-08-2011",
                    "12-10-2012",
                    "12-11-2010",
                    "13-01-2012",
                    "13-04-2012",
                    "13-05-2011",
                    "13-07-2012",
                    "13-08-2010",
                    "14-01-2011",
                    "14-05-2010",
                    "14-09-2012",
                    "14-10-2011",
                    "15-04-2011",
                    "15-06-2012",
                    "15-07-2011",
                    "15-10-2010",
                    "16-03-2012",
                    "16-04-2010",
                    "16-07-2010",
                    "16-09-2011",
                    "16-12-2011",
                    "17-02-2012",
                    "17-06-2011",
                    "17-08-2012",
                    "17-09-2010",
                    "17-12-2010",
                    "18-02-2011",
                    "18-03-2011",
                    "18-05-2012",
                    "18-06-2010",
                    "18-11-2011",
                    "19-02-2010",
                    "19-03-2010",
                    "19-08-2011",
                    "19-10-2012",
                    "19-11-2010",
                    "20-01-2012",
                    "20-04-2012",
                    "20-05-2011",
                    "20-07-2012",
                    "20-08-2010",
                    "21-01-2011",
                    "21-05-2010",
                    "21-09-2012",
                    "21-10-2011",
                    "22-04-2011",
                    "22-06-2012",
                    "22-07-2011",
                    "22-10-2010",
                    "23-03-2012",
                    "23-04-2010",
                    "23-07-2010",
                    "23-09-2011",
                    "23-12-2011",
                    "24-02-2012",
                    "24-06-2011",
                    "24-08-2012",
                    "24-09-2010",
                    "24-12-2010",
                    "25-02-2011",
                    "25-03-2011",
                    "25-05-2012",
                    "25-06-2010",
                    "25-11-2011",
                    "26-02-2010",
                    "26-03-2010",
                    "26-08-2011",
                    "26-10-2012",
                    "26-11-2010",
                    "27-01-2012",
                    "27-04-2012",
                    "27-05-2011",
                    "27-07-2012",
                    "27-08-2010",
                    "28-01-2011",
                    "28-05-2010",
                    "28-09-2012",
                    "28-10-2011",
                    "29-04-2011",
                    "29-06-2012",
                    "29-07-2011",
                    "29-10-2010",
                    "30-03-2012",
                    "30-04-2010",
                    "30-07-2010",
                    "30-09-2011",
                    "30-12-2011",
                    "31-08-2012",
                    "31-12-2010"
                  ],
                  "xaxis": "x",
                  "y": [
                    1927993.09,
                    2179360.94,
                    2074668.19,
                    1933719.21,
                    2206319.9,
                    2495630.51,
                    2334788.42,
                    2141765.98,
                    2298776.83,
                    2203523.2,
                    2182246.69,
                    2174514.13,
                    2182563.66,
                    2416051.17,
                    2351143.07,
                    2143424.61,
                    2196968.33,
                    2363601.47,
                    2284106.6,
                    2623469.95,
                    2237544.75,
                    2189353.63,
                    2246411.89,
                    2184316.64,
                    2047766.07,
                    2565259.92,
                    2095599.93,
                    2358055.3,
                    2219813.5,
                    1864746.1,
                    2370116.52,
                    2165796.31,
                    2166737.65,
                    2074953.46,
                    2245257.18,
                    2123787.79,
                    2091663.2,
                    2202450.81,
                    2258781.28,
                    2236209.13,
                    2202742.9,
                    2546123.78,
                    2462978.28,
                    2135062.04,
                    2193367.69,
                    2191767.76,
                    2752122.08,
                    2211388.14,
                    2039818.41,
                    2168097.11,
                    2249570.04,
                    2269975.85,
                    2188307.39,
                    2156035.06,
                    2105668.74,
                    2162951.36,
                    2187765.28,
                    1941676.61,
                    2105301.39,
                    2036748.53,
                    2134680.12,
                    2071022.45,
                    1884345.01,
                    2129771.13,
                    2117854.6,
                    2074548.85,
                    2057406.33,
                    2234190.93,
                    2049046.95,
                    1950676.39,
                    2214967.44,
                    2121788.61,
                    2130287.27,
                    2075577.33,
                    2771397.17,
                    2427640.17,
                    2141210.62,
                    2283540.3,
                    1953539.85,
                    2819193.17,
                    2316495.56,
                    2116475.38,
                    2207214.81,
                    2248645.59,
                    2243946.59,
                    2204556.7,
                    2066219.3,
                    2232892.1,
                    2097266.85,
                    2105058.91,
                    2005097.76,
                    2144336.89,
                    2015563.48,
                    2175563.69,
                    2057138.31,
                    1886393.94,
                    2108187.1,
                    2119438.53,
                    2207742.13,
                    2313861.81,
                    2197299.65,
                    2036231.39,
                    1936621.09,
                    2091592.54,
                    2138144.91,
                    2044155.39,
                    2031406.41,
                    3676388.98,
                    2226662.17,
                    2069523.52,
                    2125241.68,
                    1879891.13,
                    3818686.45,
                    2078094.69,
                    1944164.32,
                    2154137.67,
                    2246179.91,
                    3004702.33,
                    2095591.63,
                    2050396.27,
                    2273470.62,
                    2149594.46,
                    2939946.38,
                    1928720.51,
                    2064065.66,
                    2080694.24,
                    2048613.65,
                    2020332.07,
                    1814240.85,
                    2227152.16,
                    2027620.23,
                    2151659.59,
                    1930617.64,
                    2128362.92,
                    1989674.07,
                    1984768.34,
                    2089381.77,
                    2082355.12,
                    2054843.28,
                    1945808.26,
                    2043245,
                    2081181.35,
                    1799737.79
                  ],
                  "yaxis": "y"
                },
                {
                  "hovertemplate": "variable=Weekly_Sales_min<br>Date=%{x}<br>value=%{y}<extra></extra>",
                  "legendgroup": "Weekly_Sales_min",
                  "line": {
                    "color": "#00cc96",
                    "dash": "solid"
                  },
                  "marker": {
                    "symbol": "circle"
                  },
                  "mode": "lines",
                  "name": "Weekly_Sales_min",
                  "orientation": "v",
                  "showlegend": true,
                  "type": "scatter",
                  "x": [
                    "01-04-2011",
                    "01-06-2012",
                    "01-07-2011",
                    "01-10-2010",
                    "02-03-2012",
                    "02-04-2010",
                    "02-07-2010",
                    "02-09-2011",
                    "02-12-2011",
                    "03-02-2012",
                    "03-06-2011",
                    "03-08-2012",
                    "03-09-2010",
                    "03-12-2010",
                    "04-02-2011",
                    "04-03-2011",
                    "04-05-2012",
                    "04-06-2010",
                    "04-11-2011",
                    "05-02-2010",
                    "05-03-2010",
                    "05-08-2011",
                    "05-10-2012",
                    "05-11-2010",
                    "06-01-2012",
                    "06-04-2012",
                    "06-05-2011",
                    "06-07-2012",
                    "06-08-2010",
                    "07-01-2011",
                    "07-05-2010",
                    "07-09-2012",
                    "07-10-2011",
                    "08-04-2011",
                    "08-06-2012",
                    "08-07-2011",
                    "08-10-2010",
                    "09-03-2012",
                    "09-04-2010",
                    "09-07-2010",
                    "09-09-2011",
                    "09-12-2011",
                    "10-02-2012",
                    "10-06-2011",
                    "10-08-2012",
                    "10-09-2010",
                    "10-12-2010",
                    "11-02-2011",
                    "11-03-2011",
                    "11-05-2012",
                    "11-06-2010",
                    "11-11-2011",
                    "12-02-2010",
                    "12-03-2010",
                    "12-08-2011",
                    "12-10-2012",
                    "12-11-2010",
                    "13-01-2012",
                    "13-04-2012",
                    "13-05-2011",
                    "13-07-2012",
                    "13-08-2010",
                    "14-01-2011",
                    "14-05-2010",
                    "14-09-2012",
                    "14-10-2011",
                    "15-04-2011",
                    "15-06-2012",
                    "15-07-2011",
                    "15-10-2010",
                    "16-03-2012",
                    "16-04-2010",
                    "16-07-2010",
                    "16-09-2011",
                    "16-12-2011",
                    "17-02-2012",
                    "17-06-2011",
                    "17-08-2012",
                    "17-09-2010",
                    "17-12-2010",
                    "18-02-2011",
                    "18-03-2011",
                    "18-05-2012",
                    "18-06-2010",
                    "18-11-2011",
                    "19-02-2010",
                    "19-03-2010",
                    "19-08-2011",
                    "19-10-2012",
                    "19-11-2010",
                    "20-01-2012",
                    "20-04-2012",
                    "20-05-2011",
                    "20-07-2012",
                    "20-08-2010",
                    "21-01-2011",
                    "21-05-2010",
                    "21-09-2012",
                    "21-10-2011",
                    "22-04-2011",
                    "22-06-2012",
                    "22-07-2011",
                    "22-10-2010",
                    "23-03-2012",
                    "23-04-2010",
                    "23-07-2010",
                    "23-09-2011",
                    "23-12-2011",
                    "24-02-2012",
                    "24-06-2011",
                    "24-08-2012",
                    "24-09-2010",
                    "24-12-2010",
                    "25-02-2011",
                    "25-03-2011",
                    "25-05-2012",
                    "25-06-2010",
                    "25-11-2011",
                    "26-02-2010",
                    "26-03-2010",
                    "26-08-2011",
                    "26-10-2012",
                    "26-11-2010",
                    "27-01-2012",
                    "27-04-2012",
                    "27-05-2011",
                    "27-07-2012",
                    "27-08-2010",
                    "28-01-2011",
                    "28-05-2010",
                    "28-09-2012",
                    "28-10-2011",
                    "29-04-2011",
                    "29-06-2012",
                    "29-07-2011",
                    "29-10-2010",
                    "30-03-2012",
                    "30-04-2010",
                    "30-07-2010",
                    "30-09-2011",
                    "30-12-2011",
                    "31-08-2012",
                    "31-12-2010"
                  ],
                  "xaxis": "x",
                  "y": [
                    232769.09,
                    261131.09,
                    226702.36,
                    224294.39,
                    248051.53,
                    274634.52,
                    267495.76,
                    239198.36,
                    220060.35,
                    256091.32,
                    243477.03,
                    258533.12,
                    237405.82,
                    209986.25,
                    234218.03,
                    245435.8,
                    270497.51,
                    282351.82,
                    236157.12,
                    274593.43,
                    284617.27,
                    242456.39,
                    265444.9,
                    246124.61,
                    267058.08,
                    275911.97,
                    257031.19,
                    273690.37,
                    262789.95,
                    243948.82,
                    285379.86,
                    286428.78,
                    262159.13,
                    271924.73,
                    286082.76,
                    262717.71,
                    266484.19,
                    287346.29,
                    257361.3,
                    280472.78,
                    281842.28,
                    270373.05,
                    282552.58,
                    258427.39,
                    297753.49,
                    272834.88,
                    253050.1,
                    276198.74,
                    270921.44,
                    295841.84,
                    296641.91,
                    271961.04,
                    286857.13,
                    272190.83,
                    274721.85,
                    291781.15,
                    272803.94,
                    279447.22,
                    311390.22,
                    279466.87,
                    287033.64,
                    265367.51,
                    259527.75,
                    286515.92,
                    277417.53,
                    272487.33,
                    275749.56,
                    290444.31,
                    265003.47,
                    251732.92,
                    278067.73,
                    280048.74,
                    280701.7,
                    262407.57,
                    259638.35,
                    266300.98,
                    238172.66,
                    270097.76,
                    246277.18,
                    238875.26,
                    252349.6,
                    247234.47,
                    276899.95,
                    272399.08,
                    251294.5,
                    267956.3,
                    269624.2,
                    242771.37,
                    254412.34,
                    224639.76,
                    244899.2,
                    261837.2,
                    239206.26,
                    253205.89,
                    230519.49,
                    244856.44,
                    267065.35,
                    252709.58,
                    233543.08,
                    248603.3,
                    261666.29,
                    238915.05,
                    234175.92,
                    246970.97,
                    263263.02,
                    252734.31,
                    234793.12,
                    256235.19,
                    242526.7,
                    238433.53,
                    247672.56,
                    231976.84,
                    249246.8,
                    242901.21,
                    238084.08,
                    261851.74,
                    259419.91,
                    255996.47,
                    270281.63,
                    262893.76,
                    237095.82,
                    253731.13,
                    240044.57,
                    236920.49,
                    249798.75,
                    239431.85,
                    249134.32,
                    224031.19,
                    231155.9,
                    279246.33,
                    242813.51,
                    231319.96,
                    248561.86,
                    244338.31,
                    224806.96,
                    213538.32,
                    251327.67,
                    272997.65,
                    242047.03,
                    229731.98,
                    215359.21,
                    237129.81,
                    219804.85
                  ],
                  "yaxis": "y"
                }
              ],
              "layout": {
                "legend": {
                  "title": {
                    "text": "variable"
                  },
                  "tracegroupgap": 0
                },
                "template": {
                  "data": {
                    "bar": [
                      {
                        "error_x": {
                          "color": "#2a3f5f"
                        },
                        "error_y": {
                          "color": "#2a3f5f"
                        },
                        "marker": {
                          "line": {
                            "color": "#E5ECF6",
                            "width": 0.5
                          },
                          "pattern": {
                            "fillmode": "overlay",
                            "size": 10,
                            "solidity": 0.2
                          }
                        },
                        "type": "bar"
                      }
                    ],
                    "barpolar": [
                      {
                        "marker": {
                          "line": {
                            "color": "#E5ECF6",
                            "width": 0.5
                          },
                          "pattern": {
                            "fillmode": "overlay",
                            "size": 10,
                            "solidity": 0.2
                          }
                        },
                        "type": "barpolar"
                      }
                    ],
                    "carpet": [
                      {
                        "aaxis": {
                          "endlinecolor": "#2a3f5f",
                          "gridcolor": "white",
                          "linecolor": "white",
                          "minorgridcolor": "white",
                          "startlinecolor": "#2a3f5f"
                        },
                        "baxis": {
                          "endlinecolor": "#2a3f5f",
                          "gridcolor": "white",
                          "linecolor": "white",
                          "minorgridcolor": "white",
                          "startlinecolor": "#2a3f5f"
                        },
                        "type": "carpet"
                      }
                    ],
                    "choropleth": [
                      {
                        "colorbar": {
                          "outlinewidth": 0,
                          "ticks": ""
                        },
                        "type": "choropleth"
                      }
                    ],
                    "contour": [
                      {
                        "colorbar": {
                          "outlinewidth": 0,
                          "ticks": ""
                        },
                        "colorscale": [
                          [
                            0,
                            "#0d0887"
                          ],
                          [
                            0.1111111111111111,
                            "#46039f"
                          ],
                          [
                            0.2222222222222222,
                            "#7201a8"
                          ],
                          [
                            0.3333333333333333,
                            "#9c179e"
                          ],
                          [
                            0.4444444444444444,
                            "#bd3786"
                          ],
                          [
                            0.5555555555555556,
                            "#d8576b"
                          ],
                          [
                            0.6666666666666666,
                            "#ed7953"
                          ],
                          [
                            0.7777777777777778,
                            "#fb9f3a"
                          ],
                          [
                            0.8888888888888888,
                            "#fdca26"
                          ],
                          [
                            1,
                            "#f0f921"
                          ]
                        ],
                        "type": "contour"
                      }
                    ],
                    "contourcarpet": [
                      {
                        "colorbar": {
                          "outlinewidth": 0,
                          "ticks": ""
                        },
                        "type": "contourcarpet"
                      }
                    ],
                    "heatmap": [
                      {
                        "colorbar": {
                          "outlinewidth": 0,
                          "ticks": ""
                        },
                        "colorscale": [
                          [
                            0,
                            "#0d0887"
                          ],
                          [
                            0.1111111111111111,
                            "#46039f"
                          ],
                          [
                            0.2222222222222222,
                            "#7201a8"
                          ],
                          [
                            0.3333333333333333,
                            "#9c179e"
                          ],
                          [
                            0.4444444444444444,
                            "#bd3786"
                          ],
                          [
                            0.5555555555555556,
                            "#d8576b"
                          ],
                          [
                            0.6666666666666666,
                            "#ed7953"
                          ],
                          [
                            0.7777777777777778,
                            "#fb9f3a"
                          ],
                          [
                            0.8888888888888888,
                            "#fdca26"
                          ],
                          [
                            1,
                            "#f0f921"
                          ]
                        ],
                        "type": "heatmap"
                      }
                    ],
                    "heatmapgl": [
                      {
                        "colorbar": {
                          "outlinewidth": 0,
                          "ticks": ""
                        },
                        "colorscale": [
                          [
                            0,
                            "#0d0887"
                          ],
                          [
                            0.1111111111111111,
                            "#46039f"
                          ],
                          [
                            0.2222222222222222,
                            "#7201a8"
                          ],
                          [
                            0.3333333333333333,
                            "#9c179e"
                          ],
                          [
                            0.4444444444444444,
                            "#bd3786"
                          ],
                          [
                            0.5555555555555556,
                            "#d8576b"
                          ],
                          [
                            0.6666666666666666,
                            "#ed7953"
                          ],
                          [
                            0.7777777777777778,
                            "#fb9f3a"
                          ],
                          [
                            0.8888888888888888,
                            "#fdca26"
                          ],
                          [
                            1,
                            "#f0f921"
                          ]
                        ],
                        "type": "heatmapgl"
                      }
                    ],
                    "histogram": [
                      {
                        "marker": {
                          "pattern": {
                            "fillmode": "overlay",
                            "size": 10,
                            "solidity": 0.2
                          }
                        },
                        "type": "histogram"
                      }
                    ],
                    "histogram2d": [
                      {
                        "colorbar": {
                          "outlinewidth": 0,
                          "ticks": ""
                        },
                        "colorscale": [
                          [
                            0,
                            "#0d0887"
                          ],
                          [
                            0.1111111111111111,
                            "#46039f"
                          ],
                          [
                            0.2222222222222222,
                            "#7201a8"
                          ],
                          [
                            0.3333333333333333,
                            "#9c179e"
                          ],
                          [
                            0.4444444444444444,
                            "#bd3786"
                          ],
                          [
                            0.5555555555555556,
                            "#d8576b"
                          ],
                          [
                            0.6666666666666666,
                            "#ed7953"
                          ],
                          [
                            0.7777777777777778,
                            "#fb9f3a"
                          ],
                          [
                            0.8888888888888888,
                            "#fdca26"
                          ],
                          [
                            1,
                            "#f0f921"
                          ]
                        ],
                        "type": "histogram2d"
                      }
                    ],
                    "histogram2dcontour": [
                      {
                        "colorbar": {
                          "outlinewidth": 0,
                          "ticks": ""
                        },
                        "colorscale": [
                          [
                            0,
                            "#0d0887"
                          ],
                          [
                            0.1111111111111111,
                            "#46039f"
                          ],
                          [
                            0.2222222222222222,
                            "#7201a8"
                          ],
                          [
                            0.3333333333333333,
                            "#9c179e"
                          ],
                          [
                            0.4444444444444444,
                            "#bd3786"
                          ],
                          [
                            0.5555555555555556,
                            "#d8576b"
                          ],
                          [
                            0.6666666666666666,
                            "#ed7953"
                          ],
                          [
                            0.7777777777777778,
                            "#fb9f3a"
                          ],
                          [
                            0.8888888888888888,
                            "#fdca26"
                          ],
                          [
                            1,
                            "#f0f921"
                          ]
                        ],
                        "type": "histogram2dcontour"
                      }
                    ],
                    "mesh3d": [
                      {
                        "colorbar": {
                          "outlinewidth": 0,
                          "ticks": ""
                        },
                        "type": "mesh3d"
                      }
                    ],
                    "parcoords": [
                      {
                        "line": {
                          "colorbar": {
                            "outlinewidth": 0,
                            "ticks": ""
                          }
                        },
                        "type": "parcoords"
                      }
                    ],
                    "pie": [
                      {
                        "automargin": true,
                        "type": "pie"
                      }
                    ],
                    "scatter": [
                      {
                        "fillpattern": {
                          "fillmode": "overlay",
                          "size": 10,
                          "solidity": 0.2
                        },
                        "type": "scatter"
                      }
                    ],
                    "scatter3d": [
                      {
                        "line": {
                          "colorbar": {
                            "outlinewidth": 0,
                            "ticks": ""
                          }
                        },
                        "marker": {
                          "colorbar": {
                            "outlinewidth": 0,
                            "ticks": ""
                          }
                        },
                        "type": "scatter3d"
                      }
                    ],
                    "scattercarpet": [
                      {
                        "marker": {
                          "colorbar": {
                            "outlinewidth": 0,
                            "ticks": ""
                          }
                        },
                        "type": "scattercarpet"
                      }
                    ],
                    "scattergeo": [
                      {
                        "marker": {
                          "colorbar": {
                            "outlinewidth": 0,
                            "ticks": ""
                          }
                        },
                        "type": "scattergeo"
                      }
                    ],
                    "scattergl": [
                      {
                        "marker": {
                          "colorbar": {
                            "outlinewidth": 0,
                            "ticks": ""
                          }
                        },
                        "type": "scattergl"
                      }
                    ],
                    "scattermapbox": [
                      {
                        "marker": {
                          "colorbar": {
                            "outlinewidth": 0,
                            "ticks": ""
                          }
                        },
                        "type": "scattermapbox"
                      }
                    ],
                    "scatterpolar": [
                      {
                        "marker": {
                          "colorbar": {
                            "outlinewidth": 0,
                            "ticks": ""
                          }
                        },
                        "type": "scatterpolar"
                      }
                    ],
                    "scatterpolargl": [
                      {
                        "marker": {
                          "colorbar": {
                            "outlinewidth": 0,
                            "ticks": ""
                          }
                        },
                        "type": "scatterpolargl"
                      }
                    ],
                    "scatterternary": [
                      {
                        "marker": {
                          "colorbar": {
                            "outlinewidth": 0,
                            "ticks": ""
                          }
                        },
                        "type": "scatterternary"
                      }
                    ],
                    "surface": [
                      {
                        "colorbar": {
                          "outlinewidth": 0,
                          "ticks": ""
                        },
                        "colorscale": [
                          [
                            0,
                            "#0d0887"
                          ],
                          [
                            0.1111111111111111,
                            "#46039f"
                          ],
                          [
                            0.2222222222222222,
                            "#7201a8"
                          ],
                          [
                            0.3333333333333333,
                            "#9c179e"
                          ],
                          [
                            0.4444444444444444,
                            "#bd3786"
                          ],
                          [
                            0.5555555555555556,
                            "#d8576b"
                          ],
                          [
                            0.6666666666666666,
                            "#ed7953"
                          ],
                          [
                            0.7777777777777778,
                            "#fb9f3a"
                          ],
                          [
                            0.8888888888888888,
                            "#fdca26"
                          ],
                          [
                            1,
                            "#f0f921"
                          ]
                        ],
                        "type": "surface"
                      }
                    ],
                    "table": [
                      {
                        "cells": {
                          "fill": {
                            "color": "#EBF0F8"
                          },
                          "line": {
                            "color": "white"
                          }
                        },
                        "header": {
                          "fill": {
                            "color": "#C8D4E3"
                          },
                          "line": {
                            "color": "white"
                          }
                        },
                        "type": "table"
                      }
                    ]
                  },
                  "layout": {
                    "annotationdefaults": {
                      "arrowcolor": "#2a3f5f",
                      "arrowhead": 0,
                      "arrowwidth": 1
                    },
                    "autotypenumbers": "strict",
                    "coloraxis": {
                      "colorbar": {
                        "outlinewidth": 0,
                        "ticks": ""
                      }
                    },
                    "colorscale": {
                      "diverging": [
                        [
                          0,
                          "#8e0152"
                        ],
                        [
                          0.1,
                          "#c51b7d"
                        ],
                        [
                          0.2,
                          "#de77ae"
                        ],
                        [
                          0.3,
                          "#f1b6da"
                        ],
                        [
                          0.4,
                          "#fde0ef"
                        ],
                        [
                          0.5,
                          "#f7f7f7"
                        ],
                        [
                          0.6,
                          "#e6f5d0"
                        ],
                        [
                          0.7,
                          "#b8e186"
                        ],
                        [
                          0.8,
                          "#7fbc41"
                        ],
                        [
                          0.9,
                          "#4d9221"
                        ],
                        [
                          1,
                          "#276419"
                        ]
                      ],
                      "sequential": [
                        [
                          0,
                          "#0d0887"
                        ],
                        [
                          0.1111111111111111,
                          "#46039f"
                        ],
                        [
                          0.2222222222222222,
                          "#7201a8"
                        ],
                        [
                          0.3333333333333333,
                          "#9c179e"
                        ],
                        [
                          0.4444444444444444,
                          "#bd3786"
                        ],
                        [
                          0.5555555555555556,
                          "#d8576b"
                        ],
                        [
                          0.6666666666666666,
                          "#ed7953"
                        ],
                        [
                          0.7777777777777778,
                          "#fb9f3a"
                        ],
                        [
                          0.8888888888888888,
                          "#fdca26"
                        ],
                        [
                          1,
                          "#f0f921"
                        ]
                      ],
                      "sequentialminus": [
                        [
                          0,
                          "#0d0887"
                        ],
                        [
                          0.1111111111111111,
                          "#46039f"
                        ],
                        [
                          0.2222222222222222,
                          "#7201a8"
                        ],
                        [
                          0.3333333333333333,
                          "#9c179e"
                        ],
                        [
                          0.4444444444444444,
                          "#bd3786"
                        ],
                        [
                          0.5555555555555556,
                          "#d8576b"
                        ],
                        [
                          0.6666666666666666,
                          "#ed7953"
                        ],
                        [
                          0.7777777777777778,
                          "#fb9f3a"
                        ],
                        [
                          0.8888888888888888,
                          "#fdca26"
                        ],
                        [
                          1,
                          "#f0f921"
                        ]
                      ]
                    },
                    "colorway": [
                      "#636efa",
                      "#EF553B",
                      "#00cc96",
                      "#ab63fa",
                      "#FFA15A",
                      "#19d3f3",
                      "#FF6692",
                      "#B6E880",
                      "#FF97FF",
                      "#FECB52"
                    ],
                    "font": {
                      "color": "#2a3f5f"
                    },
                    "geo": {
                      "bgcolor": "white",
                      "lakecolor": "white",
                      "landcolor": "#E5ECF6",
                      "showlakes": true,
                      "showland": true,
                      "subunitcolor": "white"
                    },
                    "hoverlabel": {
                      "align": "left"
                    },
                    "hovermode": "closest",
                    "mapbox": {
                      "style": "light"
                    },
                    "paper_bgcolor": "white",
                    "plot_bgcolor": "#E5ECF6",
                    "polar": {
                      "angularaxis": {
                        "gridcolor": "white",
                        "linecolor": "white",
                        "ticks": ""
                      },
                      "bgcolor": "#E5ECF6",
                      "radialaxis": {
                        "gridcolor": "white",
                        "linecolor": "white",
                        "ticks": ""
                      }
                    },
                    "scene": {
                      "xaxis": {
                        "backgroundcolor": "#E5ECF6",
                        "gridcolor": "white",
                        "gridwidth": 2,
                        "linecolor": "white",
                        "showbackground": true,
                        "ticks": "",
                        "zerolinecolor": "white"
                      },
                      "yaxis": {
                        "backgroundcolor": "#E5ECF6",
                        "gridcolor": "white",
                        "gridwidth": 2,
                        "linecolor": "white",
                        "showbackground": true,
                        "ticks": "",
                        "zerolinecolor": "white"
                      },
                      "zaxis": {
                        "backgroundcolor": "#E5ECF6",
                        "gridcolor": "white",
                        "gridwidth": 2,
                        "linecolor": "white",
                        "showbackground": true,
                        "ticks": "",
                        "zerolinecolor": "white"
                      }
                    },
                    "shapedefaults": {
                      "line": {
                        "color": "#2a3f5f"
                      }
                    },
                    "ternary": {
                      "aaxis": {
                        "gridcolor": "white",
                        "linecolor": "white",
                        "ticks": ""
                      },
                      "baxis": {
                        "gridcolor": "white",
                        "linecolor": "white",
                        "ticks": ""
                      },
                      "bgcolor": "#E5ECF6",
                      "caxis": {
                        "gridcolor": "white",
                        "linecolor": "white",
                        "ticks": ""
                      }
                    },
                    "title": {
                      "x": 0.05
                    },
                    "xaxis": {
                      "automargin": true,
                      "gridcolor": "white",
                      "linecolor": "white",
                      "ticks": "",
                      "title": {
                        "standoff": 15
                      },
                      "zerolinecolor": "white",
                      "zerolinewidth": 2
                    },
                    "yaxis": {
                      "automargin": true,
                      "gridcolor": "white",
                      "linecolor": "white",
                      "ticks": "",
                      "title": {
                        "standoff": 15
                      },
                      "zerolinecolor": "white",
                      "zerolinewidth": 2
                    }
                  }
                },
                "title": {
                  "text": "Vendas máximas, mínimas e médias de todas as lojas ao longo do tempo"
                },
                "xaxis": {
                  "anchor": "y",
                  "domain": [
                    0,
                    1
                  ],
                  "title": {
                    "text": "Data"
                  }
                },
                "yaxis": {
                  "anchor": "x",
                  "domain": [
                    0,
                    1
                  ],
                  "title": {
                    "text": "Valor em $"
                  }
                }
              }
            }
          },
          "metadata": {},
          "output_type": "display_data"
        }
      ],
      "source": [
        "vendas_por_data = walmart.groupby(['Date']).agg({'Weekly_Sales': [np.mean, np.max, np.min]}).reset_index()\n",
        "# renomeando as colunas\n",
        "vendas_por_data.columns = ['Date', 'Weekly_Sales_mean', 'Weekly_Sales_max', 'Weekly_Sales_min']\n",
        "vendas_por_data = vendas_por_data.sort_values(by='Date')\n",
        "# plotar o gráfico\n",
        "fig = ex.line(vendas_por_data, x='Date', y=['Weekly_Sales_mean', 'Weekly_Sales_max', 'Weekly_Sales_min'], title='Vendas máximas, mínimas e médias de todas as lojas ao longo do tempo')\n",
        "fig.update_layout(xaxis_title='Data', yaxis_title='Valor em $')\n",
        "fig.show()"
      ]
    },
    {
      "cell_type": "code",
      "execution_count": null,
      "metadata": {},
      "outputs": [],
      "source": [
        "# Pensando na expansão de uma das lojas, que loja você escolheria e o por que?\n",
        "# Thinking about the expansion of one of the stores, which store would you choose and why?\n",
        "# agrupando por loja e calculando a média, máximo e mínimo de vendas\n",
        "vendas_por_loja = walmart.groupby(['Store']).agg({'Weekly_Sales': [np.mean, np.max, np.min]}).reset_index()\n",
        "# renomeando as colunas\n",
        "vendas_por_loja.columns = ['Store', 'Weekly_Sales_mean', 'Weekly_Sales_max', 'Weekly_Sales_min']\n",
        "# ordenando as médias de venda do maior para o menor\n",
        "vendas_por_loja.sort_values(by='Weekly_Sales_mean', ascending=False)\n"
      ]
    },
    {
      "cell_type": "code",
      "execution_count": null,
      "metadata": {},
      "outputs": [
        {
          "data": {
            "application/vnd.plotly.v1+json": {
              "config": {
                "plotlyServerURL": "https://plot.ly"
              },
              "data": [
                {
                  "alignmentgroup": "True",
                  "hovertemplate": "Store=%{x}<br>Weekly_Sales_mean=%{y}<extra></extra>",
                  "legendgroup": "",
                  "marker": {
                    "color": "#636efa",
                    "pattern": {
                      "shape": ""
                    }
                  },
                  "name": "",
                  "offsetgroup": "",
                  "orientation": "v",
                  "showlegend": false,
                  "textposition": "auto",
                  "type": "bar",
                  "x": [
                    1,
                    2,
                    3,
                    4,
                    5,
                    6,
                    7,
                    8,
                    9,
                    10,
                    11,
                    12,
                    13,
                    14,
                    15,
                    16,
                    17,
                    18,
                    19,
                    20,
                    21,
                    22,
                    23,
                    24,
                    25,
                    26,
                    27,
                    28,
                    29,
                    30,
                    31,
                    32,
                    33,
                    34,
                    35,
                    36,
                    37,
                    38,
                    39,
                    40,
                    41,
                    42,
                    43,
                    44,
                    45
                  ],
                  "xaxis": "x",
                  "y": [
                    1555264.3975524476,
                    1925751.3355244757,
                    402704.44104895106,
                    2094712.9606993007,
                    318011.8104895105,
                    1564728.1862937063,
                    570617.3086713287,
                    908749.5183916084,
                    543980.5523776223,
                    1899424.5726573425,
                    1356383.1244755245,
                    1009001.6094405595,
                    2003620.3062937064,
                    2020978.4009790209,
                    623312.474965035,
                    519247.7300699301,
                    893581.3904195804,
                    1084718.421048951,
                    1444999.0356643356,
                    2107676.8703496503,
                    756069.0833566433,
                    1028501.0389510489,
                    1389864.4604895106,
                    1356755.3935664336,
                    706721.5326573426,
                    1002911.8446853146,
                    1775216.2019580419,
                    1323522.241818182,
                    539451.4287412588,
                    438579.6162237762,
                    1395901.437062937,
                    1166568.154965035,
                    259861.69202797202,
                    966781.5594405595,
                    919724.9795804196,
                    373511.9927972028,
                    518900.2819580419,
                    385731.6532867133,
                    1450668.1291608391,
                    964128.0404895104,
                    1268125.418811189,
                    556403.863146853,
                    633324.7231468532,
                    302748.86601398606,
                    785981.4085314686
                  ],
                  "yaxis": "y"
                }
              ],
              "layout": {
                "barmode": "relative",
                "legend": {
                  "tracegroupgap": 0
                },
                "template": {
                  "data": {
                    "bar": [
                      {
                        "error_x": {
                          "color": "#2a3f5f"
                        },
                        "error_y": {
                          "color": "#2a3f5f"
                        },
                        "marker": {
                          "line": {
                            "color": "#E5ECF6",
                            "width": 0.5
                          },
                          "pattern": {
                            "fillmode": "overlay",
                            "size": 10,
                            "solidity": 0.2
                          }
                        },
                        "type": "bar"
                      }
                    ],
                    "barpolar": [
                      {
                        "marker": {
                          "line": {
                            "color": "#E5ECF6",
                            "width": 0.5
                          },
                          "pattern": {
                            "fillmode": "overlay",
                            "size": 10,
                            "solidity": 0.2
                          }
                        },
                        "type": "barpolar"
                      }
                    ],
                    "carpet": [
                      {
                        "aaxis": {
                          "endlinecolor": "#2a3f5f",
                          "gridcolor": "white",
                          "linecolor": "white",
                          "minorgridcolor": "white",
                          "startlinecolor": "#2a3f5f"
                        },
                        "baxis": {
                          "endlinecolor": "#2a3f5f",
                          "gridcolor": "white",
                          "linecolor": "white",
                          "minorgridcolor": "white",
                          "startlinecolor": "#2a3f5f"
                        },
                        "type": "carpet"
                      }
                    ],
                    "choropleth": [
                      {
                        "colorbar": {
                          "outlinewidth": 0,
                          "ticks": ""
                        },
                        "type": "choropleth"
                      }
                    ],
                    "contour": [
                      {
                        "colorbar": {
                          "outlinewidth": 0,
                          "ticks": ""
                        },
                        "colorscale": [
                          [
                            0,
                            "#0d0887"
                          ],
                          [
                            0.1111111111111111,
                            "#46039f"
                          ],
                          [
                            0.2222222222222222,
                            "#7201a8"
                          ],
                          [
                            0.3333333333333333,
                            "#9c179e"
                          ],
                          [
                            0.4444444444444444,
                            "#bd3786"
                          ],
                          [
                            0.5555555555555556,
                            "#d8576b"
                          ],
                          [
                            0.6666666666666666,
                            "#ed7953"
                          ],
                          [
                            0.7777777777777778,
                            "#fb9f3a"
                          ],
                          [
                            0.8888888888888888,
                            "#fdca26"
                          ],
                          [
                            1,
                            "#f0f921"
                          ]
                        ],
                        "type": "contour"
                      }
                    ],
                    "contourcarpet": [
                      {
                        "colorbar": {
                          "outlinewidth": 0,
                          "ticks": ""
                        },
                        "type": "contourcarpet"
                      }
                    ],
                    "heatmap": [
                      {
                        "colorbar": {
                          "outlinewidth": 0,
                          "ticks": ""
                        },
                        "colorscale": [
                          [
                            0,
                            "#0d0887"
                          ],
                          [
                            0.1111111111111111,
                            "#46039f"
                          ],
                          [
                            0.2222222222222222,
                            "#7201a8"
                          ],
                          [
                            0.3333333333333333,
                            "#9c179e"
                          ],
                          [
                            0.4444444444444444,
                            "#bd3786"
                          ],
                          [
                            0.5555555555555556,
                            "#d8576b"
                          ],
                          [
                            0.6666666666666666,
                            "#ed7953"
                          ],
                          [
                            0.7777777777777778,
                            "#fb9f3a"
                          ],
                          [
                            0.8888888888888888,
                            "#fdca26"
                          ],
                          [
                            1,
                            "#f0f921"
                          ]
                        ],
                        "type": "heatmap"
                      }
                    ],
                    "heatmapgl": [
                      {
                        "colorbar": {
                          "outlinewidth": 0,
                          "ticks": ""
                        },
                        "colorscale": [
                          [
                            0,
                            "#0d0887"
                          ],
                          [
                            0.1111111111111111,
                            "#46039f"
                          ],
                          [
                            0.2222222222222222,
                            "#7201a8"
                          ],
                          [
                            0.3333333333333333,
                            "#9c179e"
                          ],
                          [
                            0.4444444444444444,
                            "#bd3786"
                          ],
                          [
                            0.5555555555555556,
                            "#d8576b"
                          ],
                          [
                            0.6666666666666666,
                            "#ed7953"
                          ],
                          [
                            0.7777777777777778,
                            "#fb9f3a"
                          ],
                          [
                            0.8888888888888888,
                            "#fdca26"
                          ],
                          [
                            1,
                            "#f0f921"
                          ]
                        ],
                        "type": "heatmapgl"
                      }
                    ],
                    "histogram": [
                      {
                        "marker": {
                          "pattern": {
                            "fillmode": "overlay",
                            "size": 10,
                            "solidity": 0.2
                          }
                        },
                        "type": "histogram"
                      }
                    ],
                    "histogram2d": [
                      {
                        "colorbar": {
                          "outlinewidth": 0,
                          "ticks": ""
                        },
                        "colorscale": [
                          [
                            0,
                            "#0d0887"
                          ],
                          [
                            0.1111111111111111,
                            "#46039f"
                          ],
                          [
                            0.2222222222222222,
                            "#7201a8"
                          ],
                          [
                            0.3333333333333333,
                            "#9c179e"
                          ],
                          [
                            0.4444444444444444,
                            "#bd3786"
                          ],
                          [
                            0.5555555555555556,
                            "#d8576b"
                          ],
                          [
                            0.6666666666666666,
                            "#ed7953"
                          ],
                          [
                            0.7777777777777778,
                            "#fb9f3a"
                          ],
                          [
                            0.8888888888888888,
                            "#fdca26"
                          ],
                          [
                            1,
                            "#f0f921"
                          ]
                        ],
                        "type": "histogram2d"
                      }
                    ],
                    "histogram2dcontour": [
                      {
                        "colorbar": {
                          "outlinewidth": 0,
                          "ticks": ""
                        },
                        "colorscale": [
                          [
                            0,
                            "#0d0887"
                          ],
                          [
                            0.1111111111111111,
                            "#46039f"
                          ],
                          [
                            0.2222222222222222,
                            "#7201a8"
                          ],
                          [
                            0.3333333333333333,
                            "#9c179e"
                          ],
                          [
                            0.4444444444444444,
                            "#bd3786"
                          ],
                          [
                            0.5555555555555556,
                            "#d8576b"
                          ],
                          [
                            0.6666666666666666,
                            "#ed7953"
                          ],
                          [
                            0.7777777777777778,
                            "#fb9f3a"
                          ],
                          [
                            0.8888888888888888,
                            "#fdca26"
                          ],
                          [
                            1,
                            "#f0f921"
                          ]
                        ],
                        "type": "histogram2dcontour"
                      }
                    ],
                    "mesh3d": [
                      {
                        "colorbar": {
                          "outlinewidth": 0,
                          "ticks": ""
                        },
                        "type": "mesh3d"
                      }
                    ],
                    "parcoords": [
                      {
                        "line": {
                          "colorbar": {
                            "outlinewidth": 0,
                            "ticks": ""
                          }
                        },
                        "type": "parcoords"
                      }
                    ],
                    "pie": [
                      {
                        "automargin": true,
                        "type": "pie"
                      }
                    ],
                    "scatter": [
                      {
                        "fillpattern": {
                          "fillmode": "overlay",
                          "size": 10,
                          "solidity": 0.2
                        },
                        "type": "scatter"
                      }
                    ],
                    "scatter3d": [
                      {
                        "line": {
                          "colorbar": {
                            "outlinewidth": 0,
                            "ticks": ""
                          }
                        },
                        "marker": {
                          "colorbar": {
                            "outlinewidth": 0,
                            "ticks": ""
                          }
                        },
                        "type": "scatter3d"
                      }
                    ],
                    "scattercarpet": [
                      {
                        "marker": {
                          "colorbar": {
                            "outlinewidth": 0,
                            "ticks": ""
                          }
                        },
                        "type": "scattercarpet"
                      }
                    ],
                    "scattergeo": [
                      {
                        "marker": {
                          "colorbar": {
                            "outlinewidth": 0,
                            "ticks": ""
                          }
                        },
                        "type": "scattergeo"
                      }
                    ],
                    "scattergl": [
                      {
                        "marker": {
                          "colorbar": {
                            "outlinewidth": 0,
                            "ticks": ""
                          }
                        },
                        "type": "scattergl"
                      }
                    ],
                    "scattermapbox": [
                      {
                        "marker": {
                          "colorbar": {
                            "outlinewidth": 0,
                            "ticks": ""
                          }
                        },
                        "type": "scattermapbox"
                      }
                    ],
                    "scatterpolar": [
                      {
                        "marker": {
                          "colorbar": {
                            "outlinewidth": 0,
                            "ticks": ""
                          }
                        },
                        "type": "scatterpolar"
                      }
                    ],
                    "scatterpolargl": [
                      {
                        "marker": {
                          "colorbar": {
                            "outlinewidth": 0,
                            "ticks": ""
                          }
                        },
                        "type": "scatterpolargl"
                      }
                    ],
                    "scatterternary": [
                      {
                        "marker": {
                          "colorbar": {
                            "outlinewidth": 0,
                            "ticks": ""
                          }
                        },
                        "type": "scatterternary"
                      }
                    ],
                    "surface": [
                      {
                        "colorbar": {
                          "outlinewidth": 0,
                          "ticks": ""
                        },
                        "colorscale": [
                          [
                            0,
                            "#0d0887"
                          ],
                          [
                            0.1111111111111111,
                            "#46039f"
                          ],
                          [
                            0.2222222222222222,
                            "#7201a8"
                          ],
                          [
                            0.3333333333333333,
                            "#9c179e"
                          ],
                          [
                            0.4444444444444444,
                            "#bd3786"
                          ],
                          [
                            0.5555555555555556,
                            "#d8576b"
                          ],
                          [
                            0.6666666666666666,
                            "#ed7953"
                          ],
                          [
                            0.7777777777777778,
                            "#fb9f3a"
                          ],
                          [
                            0.8888888888888888,
                            "#fdca26"
                          ],
                          [
                            1,
                            "#f0f921"
                          ]
                        ],
                        "type": "surface"
                      }
                    ],
                    "table": [
                      {
                        "cells": {
                          "fill": {
                            "color": "#EBF0F8"
                          },
                          "line": {
                            "color": "white"
                          }
                        },
                        "header": {
                          "fill": {
                            "color": "#C8D4E3"
                          },
                          "line": {
                            "color": "white"
                          }
                        },
                        "type": "table"
                      }
                    ]
                  },
                  "layout": {
                    "annotationdefaults": {
                      "arrowcolor": "#2a3f5f",
                      "arrowhead": 0,
                      "arrowwidth": 1
                    },
                    "autotypenumbers": "strict",
                    "coloraxis": {
                      "colorbar": {
                        "outlinewidth": 0,
                        "ticks": ""
                      }
                    },
                    "colorscale": {
                      "diverging": [
                        [
                          0,
                          "#8e0152"
                        ],
                        [
                          0.1,
                          "#c51b7d"
                        ],
                        [
                          0.2,
                          "#de77ae"
                        ],
                        [
                          0.3,
                          "#f1b6da"
                        ],
                        [
                          0.4,
                          "#fde0ef"
                        ],
                        [
                          0.5,
                          "#f7f7f7"
                        ],
                        [
                          0.6,
                          "#e6f5d0"
                        ],
                        [
                          0.7,
                          "#b8e186"
                        ],
                        [
                          0.8,
                          "#7fbc41"
                        ],
                        [
                          0.9,
                          "#4d9221"
                        ],
                        [
                          1,
                          "#276419"
                        ]
                      ],
                      "sequential": [
                        [
                          0,
                          "#0d0887"
                        ],
                        [
                          0.1111111111111111,
                          "#46039f"
                        ],
                        [
                          0.2222222222222222,
                          "#7201a8"
                        ],
                        [
                          0.3333333333333333,
                          "#9c179e"
                        ],
                        [
                          0.4444444444444444,
                          "#bd3786"
                        ],
                        [
                          0.5555555555555556,
                          "#d8576b"
                        ],
                        [
                          0.6666666666666666,
                          "#ed7953"
                        ],
                        [
                          0.7777777777777778,
                          "#fb9f3a"
                        ],
                        [
                          0.8888888888888888,
                          "#fdca26"
                        ],
                        [
                          1,
                          "#f0f921"
                        ]
                      ],
                      "sequentialminus": [
                        [
                          0,
                          "#0d0887"
                        ],
                        [
                          0.1111111111111111,
                          "#46039f"
                        ],
                        [
                          0.2222222222222222,
                          "#7201a8"
                        ],
                        [
                          0.3333333333333333,
                          "#9c179e"
                        ],
                        [
                          0.4444444444444444,
                          "#bd3786"
                        ],
                        [
                          0.5555555555555556,
                          "#d8576b"
                        ],
                        [
                          0.6666666666666666,
                          "#ed7953"
                        ],
                        [
                          0.7777777777777778,
                          "#fb9f3a"
                        ],
                        [
                          0.8888888888888888,
                          "#fdca26"
                        ],
                        [
                          1,
                          "#f0f921"
                        ]
                      ]
                    },
                    "colorway": [
                      "#636efa",
                      "#EF553B",
                      "#00cc96",
                      "#ab63fa",
                      "#FFA15A",
                      "#19d3f3",
                      "#FF6692",
                      "#B6E880",
                      "#FF97FF",
                      "#FECB52"
                    ],
                    "font": {
                      "color": "#2a3f5f"
                    },
                    "geo": {
                      "bgcolor": "white",
                      "lakecolor": "white",
                      "landcolor": "#E5ECF6",
                      "showlakes": true,
                      "showland": true,
                      "subunitcolor": "white"
                    },
                    "hoverlabel": {
                      "align": "left"
                    },
                    "hovermode": "closest",
                    "mapbox": {
                      "style": "light"
                    },
                    "paper_bgcolor": "white",
                    "plot_bgcolor": "#E5ECF6",
                    "polar": {
                      "angularaxis": {
                        "gridcolor": "white",
                        "linecolor": "white",
                        "ticks": ""
                      },
                      "bgcolor": "#E5ECF6",
                      "radialaxis": {
                        "gridcolor": "white",
                        "linecolor": "white",
                        "ticks": ""
                      }
                    },
                    "scene": {
                      "xaxis": {
                        "backgroundcolor": "#E5ECF6",
                        "gridcolor": "white",
                        "gridwidth": 2,
                        "linecolor": "white",
                        "showbackground": true,
                        "ticks": "",
                        "zerolinecolor": "white"
                      },
                      "yaxis": {
                        "backgroundcolor": "#E5ECF6",
                        "gridcolor": "white",
                        "gridwidth": 2,
                        "linecolor": "white",
                        "showbackground": true,
                        "ticks": "",
                        "zerolinecolor": "white"
                      },
                      "zaxis": {
                        "backgroundcolor": "#E5ECF6",
                        "gridcolor": "white",
                        "gridwidth": 2,
                        "linecolor": "white",
                        "showbackground": true,
                        "ticks": "",
                        "zerolinecolor": "white"
                      }
                    },
                    "shapedefaults": {
                      "line": {
                        "color": "#2a3f5f"
                      }
                    },
                    "ternary": {
                      "aaxis": {
                        "gridcolor": "white",
                        "linecolor": "white",
                        "ticks": ""
                      },
                      "baxis": {
                        "gridcolor": "white",
                        "linecolor": "white",
                        "ticks": ""
                      },
                      "bgcolor": "#E5ECF6",
                      "caxis": {
                        "gridcolor": "white",
                        "linecolor": "white",
                        "ticks": ""
                      }
                    },
                    "title": {
                      "x": 0.05
                    },
                    "xaxis": {
                      "automargin": true,
                      "gridcolor": "white",
                      "linecolor": "white",
                      "ticks": "",
                      "title": {
                        "standoff": 15
                      },
                      "zerolinecolor": "white",
                      "zerolinewidth": 2
                    },
                    "yaxis": {
                      "automargin": true,
                      "gridcolor": "white",
                      "linecolor": "white",
                      "ticks": "",
                      "title": {
                        "standoff": 15
                      },
                      "zerolinecolor": "white",
                      "zerolinewidth": 2
                    }
                  }
                },
                "title": {
                  "text": "Média de vendas por loja"
                },
                "xaxis": {
                  "anchor": "y",
                  "domain": [
                    0,
                    1
                  ],
                  "title": {
                    "text": "Loja"
                  }
                },
                "yaxis": {
                  "anchor": "x",
                  "domain": [
                    0,
                    1
                  ],
                  "title": {
                    "text": "Valor em $"
                  }
                }
              }
            }
          },
          "metadata": {},
          "output_type": "display_data"
        }
      ],
      "source": [
        "# plotar um gráfico de barras com a média de vendas por loja\n",
        "fig = ex.bar(vendas_por_loja, x='Store', y='Weekly_Sales_mean', title='Média de vendas por loja')\n",
        "fig.update_layout(xaxis_title='Loja', yaxis_title='Valor em $') \n",
        "fig.show()"
      ]
    },
    {
      "cell_type": "code",
      "execution_count": 55,
      "metadata": {},
      "outputs": [
        {
          "data": {
            "application/vnd.plotly.v1+json": {
              "config": {
                "plotlyServerURL": "https://plot.ly"
              },
              "data": [
                {
                  "alignmentgroup": "True",
                  "hovertemplate": "Store=%{x}<br>Weekly_Sales_mean=%{y}<extra></extra>",
                  "legendgroup": "",
                  "marker": {
                    "color": "#636efa",
                    "pattern": {
                      "shape": ""
                    }
                  },
                  "name": "",
                  "offsetgroup": "",
                  "orientation": "v",
                  "showlegend": false,
                  "textposition": "auto",
                  "type": "bar",
                  "x": [
                    1,
                    2,
                    3,
                    4,
                    5,
                    6,
                    7,
                    8,
                    9,
                    10,
                    11,
                    12,
                    13,
                    14,
                    15,
                    16,
                    17,
                    18,
                    19,
                    20,
                    21,
                    22,
                    23,
                    24,
                    25,
                    26,
                    27,
                    28,
                    29,
                    30,
                    31,
                    32,
                    33,
                    34,
                    35,
                    36,
                    37,
                    38,
                    39,
                    40,
                    41,
                    42,
                    43,
                    44,
                    45
                  ],
                  "xaxis": "x",
                  "y": [
                    1586094.3725581395,
                    1895271.9853488372,
                    419173.011627907,
                    2157469.517209302,
                    329507.86348837207,
                    1542210.3953488371,
                    589943.1737209302,
                    912416.7472093024,
                    557535.571627907,
                    1819270.1613953488,
                    1353117.806511628,
                    1007787.1097674419,
                    2016452.4423255813,
                    1800962.7502325582,
                    577384.435116279,
                    514009.8911627907,
                    936869.2704651164,
                    1044618.065116279,
                    1377033.3320930232,
                    2089016.4972093021,
                    703532.2490697674,
                    991992.0053488371,
                    1366697.1802325582,
                    1329916.19,
                    685825.7141860465,
                    999452.1927906977,
                    1672559.444651163,
                    1286718.7690697676,
                    517311.2004651163,
                    437108.1413953488,
                    1392660.6330232557,
                    1169328.2790697673,
                    265943.0472093023,
                    970678.2360465116,
                    819481.9190697675,
                    308987.68674418604,
                    525878.4811627907,
                    433280.7779069767,
                    1532224.7174418606,
                    957497.8451162792,
                    1322973.021627907,
                    580240.9267441861,
                    627331.0225581395,
                    329938.92372093024,
                    761014.6551162791
                  ],
                  "yaxis": "y"
                }
              ],
              "layout": {
                "barmode": "relative",
                "legend": {
                  "tracegroupgap": 0
                },
                "template": {
                  "data": {
                    "bar": [
                      {
                        "error_x": {
                          "color": "#2a3f5f"
                        },
                        "error_y": {
                          "color": "#2a3f5f"
                        },
                        "marker": {
                          "line": {
                            "color": "#E5ECF6",
                            "width": 0.5
                          },
                          "pattern": {
                            "fillmode": "overlay",
                            "size": 10,
                            "solidity": 0.2
                          }
                        },
                        "type": "bar"
                      }
                    ],
                    "barpolar": [
                      {
                        "marker": {
                          "line": {
                            "color": "#E5ECF6",
                            "width": 0.5
                          },
                          "pattern": {
                            "fillmode": "overlay",
                            "size": 10,
                            "solidity": 0.2
                          }
                        },
                        "type": "barpolar"
                      }
                    ],
                    "carpet": [
                      {
                        "aaxis": {
                          "endlinecolor": "#2a3f5f",
                          "gridcolor": "white",
                          "linecolor": "white",
                          "minorgridcolor": "white",
                          "startlinecolor": "#2a3f5f"
                        },
                        "baxis": {
                          "endlinecolor": "#2a3f5f",
                          "gridcolor": "white",
                          "linecolor": "white",
                          "minorgridcolor": "white",
                          "startlinecolor": "#2a3f5f"
                        },
                        "type": "carpet"
                      }
                    ],
                    "choropleth": [
                      {
                        "colorbar": {
                          "outlinewidth": 0,
                          "ticks": ""
                        },
                        "type": "choropleth"
                      }
                    ],
                    "contour": [
                      {
                        "colorbar": {
                          "outlinewidth": 0,
                          "ticks": ""
                        },
                        "colorscale": [
                          [
                            0,
                            "#0d0887"
                          ],
                          [
                            0.1111111111111111,
                            "#46039f"
                          ],
                          [
                            0.2222222222222222,
                            "#7201a8"
                          ],
                          [
                            0.3333333333333333,
                            "#9c179e"
                          ],
                          [
                            0.4444444444444444,
                            "#bd3786"
                          ],
                          [
                            0.5555555555555556,
                            "#d8576b"
                          ],
                          [
                            0.6666666666666666,
                            "#ed7953"
                          ],
                          [
                            0.7777777777777778,
                            "#fb9f3a"
                          ],
                          [
                            0.8888888888888888,
                            "#fdca26"
                          ],
                          [
                            1,
                            "#f0f921"
                          ]
                        ],
                        "type": "contour"
                      }
                    ],
                    "contourcarpet": [
                      {
                        "colorbar": {
                          "outlinewidth": 0,
                          "ticks": ""
                        },
                        "type": "contourcarpet"
                      }
                    ],
                    "heatmap": [
                      {
                        "colorbar": {
                          "outlinewidth": 0,
                          "ticks": ""
                        },
                        "colorscale": [
                          [
                            0,
                            "#0d0887"
                          ],
                          [
                            0.1111111111111111,
                            "#46039f"
                          ],
                          [
                            0.2222222222222222,
                            "#7201a8"
                          ],
                          [
                            0.3333333333333333,
                            "#9c179e"
                          ],
                          [
                            0.4444444444444444,
                            "#bd3786"
                          ],
                          [
                            0.5555555555555556,
                            "#d8576b"
                          ],
                          [
                            0.6666666666666666,
                            "#ed7953"
                          ],
                          [
                            0.7777777777777778,
                            "#fb9f3a"
                          ],
                          [
                            0.8888888888888888,
                            "#fdca26"
                          ],
                          [
                            1,
                            "#f0f921"
                          ]
                        ],
                        "type": "heatmap"
                      }
                    ],
                    "heatmapgl": [
                      {
                        "colorbar": {
                          "outlinewidth": 0,
                          "ticks": ""
                        },
                        "colorscale": [
                          [
                            0,
                            "#0d0887"
                          ],
                          [
                            0.1111111111111111,
                            "#46039f"
                          ],
                          [
                            0.2222222222222222,
                            "#7201a8"
                          ],
                          [
                            0.3333333333333333,
                            "#9c179e"
                          ],
                          [
                            0.4444444444444444,
                            "#bd3786"
                          ],
                          [
                            0.5555555555555556,
                            "#d8576b"
                          ],
                          [
                            0.6666666666666666,
                            "#ed7953"
                          ],
                          [
                            0.7777777777777778,
                            "#fb9f3a"
                          ],
                          [
                            0.8888888888888888,
                            "#fdca26"
                          ],
                          [
                            1,
                            "#f0f921"
                          ]
                        ],
                        "type": "heatmapgl"
                      }
                    ],
                    "histogram": [
                      {
                        "marker": {
                          "pattern": {
                            "fillmode": "overlay",
                            "size": 10,
                            "solidity": 0.2
                          }
                        },
                        "type": "histogram"
                      }
                    ],
                    "histogram2d": [
                      {
                        "colorbar": {
                          "outlinewidth": 0,
                          "ticks": ""
                        },
                        "colorscale": [
                          [
                            0,
                            "#0d0887"
                          ],
                          [
                            0.1111111111111111,
                            "#46039f"
                          ],
                          [
                            0.2222222222222222,
                            "#7201a8"
                          ],
                          [
                            0.3333333333333333,
                            "#9c179e"
                          ],
                          [
                            0.4444444444444444,
                            "#bd3786"
                          ],
                          [
                            0.5555555555555556,
                            "#d8576b"
                          ],
                          [
                            0.6666666666666666,
                            "#ed7953"
                          ],
                          [
                            0.7777777777777778,
                            "#fb9f3a"
                          ],
                          [
                            0.8888888888888888,
                            "#fdca26"
                          ],
                          [
                            1,
                            "#f0f921"
                          ]
                        ],
                        "type": "histogram2d"
                      }
                    ],
                    "histogram2dcontour": [
                      {
                        "colorbar": {
                          "outlinewidth": 0,
                          "ticks": ""
                        },
                        "colorscale": [
                          [
                            0,
                            "#0d0887"
                          ],
                          [
                            0.1111111111111111,
                            "#46039f"
                          ],
                          [
                            0.2222222222222222,
                            "#7201a8"
                          ],
                          [
                            0.3333333333333333,
                            "#9c179e"
                          ],
                          [
                            0.4444444444444444,
                            "#bd3786"
                          ],
                          [
                            0.5555555555555556,
                            "#d8576b"
                          ],
                          [
                            0.6666666666666666,
                            "#ed7953"
                          ],
                          [
                            0.7777777777777778,
                            "#fb9f3a"
                          ],
                          [
                            0.8888888888888888,
                            "#fdca26"
                          ],
                          [
                            1,
                            "#f0f921"
                          ]
                        ],
                        "type": "histogram2dcontour"
                      }
                    ],
                    "mesh3d": [
                      {
                        "colorbar": {
                          "outlinewidth": 0,
                          "ticks": ""
                        },
                        "type": "mesh3d"
                      }
                    ],
                    "parcoords": [
                      {
                        "line": {
                          "colorbar": {
                            "outlinewidth": 0,
                            "ticks": ""
                          }
                        },
                        "type": "parcoords"
                      }
                    ],
                    "pie": [
                      {
                        "automargin": true,
                        "type": "pie"
                      }
                    ],
                    "scatter": [
                      {
                        "fillpattern": {
                          "fillmode": "overlay",
                          "size": 10,
                          "solidity": 0.2
                        },
                        "type": "scatter"
                      }
                    ],
                    "scatter3d": [
                      {
                        "line": {
                          "colorbar": {
                            "outlinewidth": 0,
                            "ticks": ""
                          }
                        },
                        "marker": {
                          "colorbar": {
                            "outlinewidth": 0,
                            "ticks": ""
                          }
                        },
                        "type": "scatter3d"
                      }
                    ],
                    "scattercarpet": [
                      {
                        "marker": {
                          "colorbar": {
                            "outlinewidth": 0,
                            "ticks": ""
                          }
                        },
                        "type": "scattercarpet"
                      }
                    ],
                    "scattergeo": [
                      {
                        "marker": {
                          "colorbar": {
                            "outlinewidth": 0,
                            "ticks": ""
                          }
                        },
                        "type": "scattergeo"
                      }
                    ],
                    "scattergl": [
                      {
                        "marker": {
                          "colorbar": {
                            "outlinewidth": 0,
                            "ticks": ""
                          }
                        },
                        "type": "scattergl"
                      }
                    ],
                    "scattermapbox": [
                      {
                        "marker": {
                          "colorbar": {
                            "outlinewidth": 0,
                            "ticks": ""
                          }
                        },
                        "type": "scattermapbox"
                      }
                    ],
                    "scatterpolar": [
                      {
                        "marker": {
                          "colorbar": {
                            "outlinewidth": 0,
                            "ticks": ""
                          }
                        },
                        "type": "scatterpolar"
                      }
                    ],
                    "scatterpolargl": [
                      {
                        "marker": {
                          "colorbar": {
                            "outlinewidth": 0,
                            "ticks": ""
                          }
                        },
                        "type": "scatterpolargl"
                      }
                    ],
                    "scatterternary": [
                      {
                        "marker": {
                          "colorbar": {
                            "outlinewidth": 0,
                            "ticks": ""
                          }
                        },
                        "type": "scatterternary"
                      }
                    ],
                    "surface": [
                      {
                        "colorbar": {
                          "outlinewidth": 0,
                          "ticks": ""
                        },
                        "colorscale": [
                          [
                            0,
                            "#0d0887"
                          ],
                          [
                            0.1111111111111111,
                            "#46039f"
                          ],
                          [
                            0.2222222222222222,
                            "#7201a8"
                          ],
                          [
                            0.3333333333333333,
                            "#9c179e"
                          ],
                          [
                            0.4444444444444444,
                            "#bd3786"
                          ],
                          [
                            0.5555555555555556,
                            "#d8576b"
                          ],
                          [
                            0.6666666666666666,
                            "#ed7953"
                          ],
                          [
                            0.7777777777777778,
                            "#fb9f3a"
                          ],
                          [
                            0.8888888888888888,
                            "#fdca26"
                          ],
                          [
                            1,
                            "#f0f921"
                          ]
                        ],
                        "type": "surface"
                      }
                    ],
                    "table": [
                      {
                        "cells": {
                          "fill": {
                            "color": "#EBF0F8"
                          },
                          "line": {
                            "color": "white"
                          }
                        },
                        "header": {
                          "fill": {
                            "color": "#C8D4E3"
                          },
                          "line": {
                            "color": "white"
                          }
                        },
                        "type": "table"
                      }
                    ]
                  },
                  "layout": {
                    "annotationdefaults": {
                      "arrowcolor": "#2a3f5f",
                      "arrowhead": 0,
                      "arrowwidth": 1
                    },
                    "autotypenumbers": "strict",
                    "coloraxis": {
                      "colorbar": {
                        "outlinewidth": 0,
                        "ticks": ""
                      }
                    },
                    "colorscale": {
                      "diverging": [
                        [
                          0,
                          "#8e0152"
                        ],
                        [
                          0.1,
                          "#c51b7d"
                        ],
                        [
                          0.2,
                          "#de77ae"
                        ],
                        [
                          0.3,
                          "#f1b6da"
                        ],
                        [
                          0.4,
                          "#fde0ef"
                        ],
                        [
                          0.5,
                          "#f7f7f7"
                        ],
                        [
                          0.6,
                          "#e6f5d0"
                        ],
                        [
                          0.7,
                          "#b8e186"
                        ],
                        [
                          0.8,
                          "#7fbc41"
                        ],
                        [
                          0.9,
                          "#4d9221"
                        ],
                        [
                          1,
                          "#276419"
                        ]
                      ],
                      "sequential": [
                        [
                          0,
                          "#0d0887"
                        ],
                        [
                          0.1111111111111111,
                          "#46039f"
                        ],
                        [
                          0.2222222222222222,
                          "#7201a8"
                        ],
                        [
                          0.3333333333333333,
                          "#9c179e"
                        ],
                        [
                          0.4444444444444444,
                          "#bd3786"
                        ],
                        [
                          0.5555555555555556,
                          "#d8576b"
                        ],
                        [
                          0.6666666666666666,
                          "#ed7953"
                        ],
                        [
                          0.7777777777777778,
                          "#fb9f3a"
                        ],
                        [
                          0.8888888888888888,
                          "#fdca26"
                        ],
                        [
                          1,
                          "#f0f921"
                        ]
                      ],
                      "sequentialminus": [
                        [
                          0,
                          "#0d0887"
                        ],
                        [
                          0.1111111111111111,
                          "#46039f"
                        ],
                        [
                          0.2222222222222222,
                          "#7201a8"
                        ],
                        [
                          0.3333333333333333,
                          "#9c179e"
                        ],
                        [
                          0.4444444444444444,
                          "#bd3786"
                        ],
                        [
                          0.5555555555555556,
                          "#d8576b"
                        ],
                        [
                          0.6666666666666666,
                          "#ed7953"
                        ],
                        [
                          0.7777777777777778,
                          "#fb9f3a"
                        ],
                        [
                          0.8888888888888888,
                          "#fdca26"
                        ],
                        [
                          1,
                          "#f0f921"
                        ]
                      ]
                    },
                    "colorway": [
                      "#636efa",
                      "#EF553B",
                      "#00cc96",
                      "#ab63fa",
                      "#FFA15A",
                      "#19d3f3",
                      "#FF6692",
                      "#B6E880",
                      "#FF97FF",
                      "#FECB52"
                    ],
                    "font": {
                      "color": "#2a3f5f"
                    },
                    "geo": {
                      "bgcolor": "white",
                      "lakecolor": "white",
                      "landcolor": "#E5ECF6",
                      "showlakes": true,
                      "showland": true,
                      "subunitcolor": "white"
                    },
                    "hoverlabel": {
                      "align": "left"
                    },
                    "hovermode": "closest",
                    "mapbox": {
                      "style": "light"
                    },
                    "paper_bgcolor": "white",
                    "plot_bgcolor": "#E5ECF6",
                    "polar": {
                      "angularaxis": {
                        "gridcolor": "white",
                        "linecolor": "white",
                        "ticks": ""
                      },
                      "bgcolor": "#E5ECF6",
                      "radialaxis": {
                        "gridcolor": "white",
                        "linecolor": "white",
                        "ticks": ""
                      }
                    },
                    "scene": {
                      "xaxis": {
                        "backgroundcolor": "#E5ECF6",
                        "gridcolor": "white",
                        "gridwidth": 2,
                        "linecolor": "white",
                        "showbackground": true,
                        "ticks": "",
                        "zerolinecolor": "white"
                      },
                      "yaxis": {
                        "backgroundcolor": "#E5ECF6",
                        "gridcolor": "white",
                        "gridwidth": 2,
                        "linecolor": "white",
                        "showbackground": true,
                        "ticks": "",
                        "zerolinecolor": "white"
                      },
                      "zaxis": {
                        "backgroundcolor": "#E5ECF6",
                        "gridcolor": "white",
                        "gridwidth": 2,
                        "linecolor": "white",
                        "showbackground": true,
                        "ticks": "",
                        "zerolinecolor": "white"
                      }
                    },
                    "shapedefaults": {
                      "line": {
                        "color": "#2a3f5f"
                      }
                    },
                    "ternary": {
                      "aaxis": {
                        "gridcolor": "white",
                        "linecolor": "white",
                        "ticks": ""
                      },
                      "baxis": {
                        "gridcolor": "white",
                        "linecolor": "white",
                        "ticks": ""
                      },
                      "bgcolor": "#E5ECF6",
                      "caxis": {
                        "gridcolor": "white",
                        "linecolor": "white",
                        "ticks": ""
                      }
                    },
                    "title": {
                      "x": 0.05
                    },
                    "xaxis": {
                      "automargin": true,
                      "gridcolor": "white",
                      "linecolor": "white",
                      "ticks": "",
                      "title": {
                        "standoff": 15
                      },
                      "zerolinecolor": "white",
                      "zerolinewidth": 2
                    },
                    "yaxis": {
                      "automargin": true,
                      "gridcolor": "white",
                      "linecolor": "white",
                      "ticks": "",
                      "title": {
                        "standoff": 15
                      },
                      "zerolinecolor": "white",
                      "zerolinewidth": 2
                    }
                  }
                },
                "title": {
                  "text": "Média de vendas por loja em 2010"
                },
                "xaxis": {
                  "anchor": "y",
                  "domain": [
                    0,
                    1
                  ],
                  "title": {
                    "text": "Loja"
                  }
                },
                "yaxis": {
                  "anchor": "x",
                  "domain": [
                    0,
                    1
                  ],
                  "title": {
                    "text": "Valor em $"
                  }
                }
              }
            }
          },
          "metadata": {},
          "output_type": "display_data"
        },
        {
          "data": {
            "text/plain": [
              "0       2010\n",
              "1       2010\n",
              "2       2010\n",
              "3       2010\n",
              "4       2010\n",
              "        ... \n",
              "6430    2012\n",
              "6431    2012\n",
              "6432    2012\n",
              "6433    2012\n",
              "6434    2012\n",
              "Name: Year, Length: 6435, dtype: int64"
            ]
          },
          "execution_count": 55,
          "metadata": {},
          "output_type": "execute_result"
        }
      ],
      "source": [
        "# plotar um gráfico de barras com a média de vendas por loja somente de 2010\n",
        "# filtrar os dados de 2010 e agrupar por loja e calcular a média de vendas\n",
        "\n",
        "\n",
        "walmart['Year'] = pd.DatetimeIndex(walmart['Date']).year\n",
        "vendas_por_loja_2010 = walmart[walmart['Year'] == 2012].groupby(['Store']).agg({'Weekly_Sales': [np.mean]}).reset_index()\n",
        "# renomeando as colunas\n",
        "vendas_por_loja_2010.columns = ['Store', 'Weekly_Sales_mean']\n",
        "fig = ex.bar(vendas_por_loja_2010, x='Store', y='Weekly_Sales_mean', title='Média de vendas por loja em 2010')\n",
        "fig.update_layout(xaxis_title='Loja', yaxis_title='Valor em $')\n",
        "fig.show()\n",
        "walmart['Year'] \n"
      ]
    },
    {
      "cell_type": "code",
      "execution_count": null,
      "metadata": {},
      "outputs": [
        {
          "data": {
            "application/vnd.plotly.v1+json": {
              "config": {
                "plotlyServerURL": "https://plot.ly"
              },
              "data": [
                {
                  "alignmentgroup": "True",
                  "hovertemplate": "variable=Weekly_Sales_max<br>Store=%{x}<br>value=%{y}<extra></extra>",
                  "legendgroup": "Weekly_Sales_max",
                  "marker": {
                    "color": "#636efa",
                    "pattern": {
                      "shape": ""
                    }
                  },
                  "name": "Weekly_Sales_max",
                  "offsetgroup": "Weekly_Sales_max",
                  "orientation": "v",
                  "showlegend": true,
                  "textposition": "auto",
                  "type": "bar",
                  "x": [
                    1,
                    2,
                    3,
                    4,
                    5,
                    6,
                    7,
                    8,
                    9,
                    10,
                    11,
                    12,
                    13,
                    14,
                    15,
                    16,
                    17,
                    18,
                    19,
                    20,
                    21,
                    22,
                    23,
                    24,
                    25,
                    26,
                    27,
                    28,
                    29,
                    30,
                    31,
                    32,
                    33,
                    34,
                    35,
                    36,
                    37,
                    38,
                    39,
                    40,
                    41,
                    42,
                    43,
                    44,
                    45
                  ],
                  "xaxis": "x",
                  "y": [
                    2387950.2,
                    3436007.68,
                    605990.41,
                    3676388.98,
                    507900.07,
                    2727575.18,
                    1059715.27,
                    1511641.09,
                    905324.68,
                    3749057.69,
                    2306265.36,
                    1768249.89,
                    3595903.2,
                    3818686.45,
                    1368318.17,
                    1004730.69,
                    1309226.79,
                    2027507.15,
                    2678206.42,
                    3766687.43,
                    1587257.78,
                    1962445.04,
                    2734277.1,
                    2386015.75,
                    1295391.19,
                    1573982.47,
                    3078162.08,
                    2026026.39,
                    1130926.79,
                    519354.88,
                    2068942.97,
                    1959526.96,
                    331173.51,
                    1620748.25,
                    1781866.98,
                    489372.02,
                    605791.46,
                    499267.66,
                    2554482.84,
                    1648829.18,
                    2263722.68,
                    674919.45,
                    725043.04,
                    376233.89,
                    1682862.03
                  ],
                  "yaxis": "y"
                },
                {
                  "alignmentgroup": "True",
                  "hovertemplate": "variable=Weekly_Sales_min<br>Store=%{x}<br>value=%{y}<extra></extra>",
                  "legendgroup": "Weekly_Sales_min",
                  "marker": {
                    "color": "#EF553B",
                    "pattern": {
                      "shape": ""
                    }
                  },
                  "name": "Weekly_Sales_min",
                  "offsetgroup": "Weekly_Sales_min",
                  "orientation": "v",
                  "showlegend": true,
                  "textposition": "auto",
                  "type": "bar",
                  "x": [
                    1,
                    2,
                    3,
                    4,
                    5,
                    6,
                    7,
                    8,
                    9,
                    10,
                    11,
                    12,
                    13,
                    14,
                    15,
                    16,
                    17,
                    18,
                    19,
                    20,
                    21,
                    22,
                    23,
                    24,
                    25,
                    26,
                    27,
                    28,
                    29,
                    30,
                    31,
                    32,
                    33,
                    34,
                    35,
                    36,
                    37,
                    38,
                    39,
                    40,
                    41,
                    42,
                    43,
                    44,
                    45
                  ],
                  "xaxis": "x",
                  "y": [
                    1316899.31,
                    1650394.44,
                    339597.38,
                    1762539.3,
                    260636.71,
                    1261253.18,
                    372673.61,
                    772539.12,
                    452905.22,
                    1627707.31,
                    1100418.69,
                    802105.5,
                    1633663.12,
                    1479514.66,
                    454183.42,
                    368600,
                    635862.55,
                    540922.94,
                    1181204.53,
                    1761016.51,
                    596218.24,
                    774262.28,
                    1016756.1,
                    1057290.41,
                    558794.63,
                    809833.21,
                    1263534.86,
                    1079669.11,
                    395987.24,
                    369722.32,
                    1198071.6,
                    955463.84,
                    209986.25,
                    836717.75,
                    576332.05,
                    270677.98,
                    451327.61,
                    303908.81,
                    1158698.44,
                    764014.75,
                    991941.73,
                    428953.6,
                    505405.85,
                    241937.11,
                    617207.58
                  ],
                  "yaxis": "y"
                }
              ],
              "layout": {
                "barmode": "relative",
                "legend": {
                  "title": {
                    "text": "variable"
                  },
                  "tracegroupgap": 0
                },
                "template": {
                  "data": {
                    "bar": [
                      {
                        "error_x": {
                          "color": "#2a3f5f"
                        },
                        "error_y": {
                          "color": "#2a3f5f"
                        },
                        "marker": {
                          "line": {
                            "color": "#E5ECF6",
                            "width": 0.5
                          },
                          "pattern": {
                            "fillmode": "overlay",
                            "size": 10,
                            "solidity": 0.2
                          }
                        },
                        "type": "bar"
                      }
                    ],
                    "barpolar": [
                      {
                        "marker": {
                          "line": {
                            "color": "#E5ECF6",
                            "width": 0.5
                          },
                          "pattern": {
                            "fillmode": "overlay",
                            "size": 10,
                            "solidity": 0.2
                          }
                        },
                        "type": "barpolar"
                      }
                    ],
                    "carpet": [
                      {
                        "aaxis": {
                          "endlinecolor": "#2a3f5f",
                          "gridcolor": "white",
                          "linecolor": "white",
                          "minorgridcolor": "white",
                          "startlinecolor": "#2a3f5f"
                        },
                        "baxis": {
                          "endlinecolor": "#2a3f5f",
                          "gridcolor": "white",
                          "linecolor": "white",
                          "minorgridcolor": "white",
                          "startlinecolor": "#2a3f5f"
                        },
                        "type": "carpet"
                      }
                    ],
                    "choropleth": [
                      {
                        "colorbar": {
                          "outlinewidth": 0,
                          "ticks": ""
                        },
                        "type": "choropleth"
                      }
                    ],
                    "contour": [
                      {
                        "colorbar": {
                          "outlinewidth": 0,
                          "ticks": ""
                        },
                        "colorscale": [
                          [
                            0,
                            "#0d0887"
                          ],
                          [
                            0.1111111111111111,
                            "#46039f"
                          ],
                          [
                            0.2222222222222222,
                            "#7201a8"
                          ],
                          [
                            0.3333333333333333,
                            "#9c179e"
                          ],
                          [
                            0.4444444444444444,
                            "#bd3786"
                          ],
                          [
                            0.5555555555555556,
                            "#d8576b"
                          ],
                          [
                            0.6666666666666666,
                            "#ed7953"
                          ],
                          [
                            0.7777777777777778,
                            "#fb9f3a"
                          ],
                          [
                            0.8888888888888888,
                            "#fdca26"
                          ],
                          [
                            1,
                            "#f0f921"
                          ]
                        ],
                        "type": "contour"
                      }
                    ],
                    "contourcarpet": [
                      {
                        "colorbar": {
                          "outlinewidth": 0,
                          "ticks": ""
                        },
                        "type": "contourcarpet"
                      }
                    ],
                    "heatmap": [
                      {
                        "colorbar": {
                          "outlinewidth": 0,
                          "ticks": ""
                        },
                        "colorscale": [
                          [
                            0,
                            "#0d0887"
                          ],
                          [
                            0.1111111111111111,
                            "#46039f"
                          ],
                          [
                            0.2222222222222222,
                            "#7201a8"
                          ],
                          [
                            0.3333333333333333,
                            "#9c179e"
                          ],
                          [
                            0.4444444444444444,
                            "#bd3786"
                          ],
                          [
                            0.5555555555555556,
                            "#d8576b"
                          ],
                          [
                            0.6666666666666666,
                            "#ed7953"
                          ],
                          [
                            0.7777777777777778,
                            "#fb9f3a"
                          ],
                          [
                            0.8888888888888888,
                            "#fdca26"
                          ],
                          [
                            1,
                            "#f0f921"
                          ]
                        ],
                        "type": "heatmap"
                      }
                    ],
                    "heatmapgl": [
                      {
                        "colorbar": {
                          "outlinewidth": 0,
                          "ticks": ""
                        },
                        "colorscale": [
                          [
                            0,
                            "#0d0887"
                          ],
                          [
                            0.1111111111111111,
                            "#46039f"
                          ],
                          [
                            0.2222222222222222,
                            "#7201a8"
                          ],
                          [
                            0.3333333333333333,
                            "#9c179e"
                          ],
                          [
                            0.4444444444444444,
                            "#bd3786"
                          ],
                          [
                            0.5555555555555556,
                            "#d8576b"
                          ],
                          [
                            0.6666666666666666,
                            "#ed7953"
                          ],
                          [
                            0.7777777777777778,
                            "#fb9f3a"
                          ],
                          [
                            0.8888888888888888,
                            "#fdca26"
                          ],
                          [
                            1,
                            "#f0f921"
                          ]
                        ],
                        "type": "heatmapgl"
                      }
                    ],
                    "histogram": [
                      {
                        "marker": {
                          "pattern": {
                            "fillmode": "overlay",
                            "size": 10,
                            "solidity": 0.2
                          }
                        },
                        "type": "histogram"
                      }
                    ],
                    "histogram2d": [
                      {
                        "colorbar": {
                          "outlinewidth": 0,
                          "ticks": ""
                        },
                        "colorscale": [
                          [
                            0,
                            "#0d0887"
                          ],
                          [
                            0.1111111111111111,
                            "#46039f"
                          ],
                          [
                            0.2222222222222222,
                            "#7201a8"
                          ],
                          [
                            0.3333333333333333,
                            "#9c179e"
                          ],
                          [
                            0.4444444444444444,
                            "#bd3786"
                          ],
                          [
                            0.5555555555555556,
                            "#d8576b"
                          ],
                          [
                            0.6666666666666666,
                            "#ed7953"
                          ],
                          [
                            0.7777777777777778,
                            "#fb9f3a"
                          ],
                          [
                            0.8888888888888888,
                            "#fdca26"
                          ],
                          [
                            1,
                            "#f0f921"
                          ]
                        ],
                        "type": "histogram2d"
                      }
                    ],
                    "histogram2dcontour": [
                      {
                        "colorbar": {
                          "outlinewidth": 0,
                          "ticks": ""
                        },
                        "colorscale": [
                          [
                            0,
                            "#0d0887"
                          ],
                          [
                            0.1111111111111111,
                            "#46039f"
                          ],
                          [
                            0.2222222222222222,
                            "#7201a8"
                          ],
                          [
                            0.3333333333333333,
                            "#9c179e"
                          ],
                          [
                            0.4444444444444444,
                            "#bd3786"
                          ],
                          [
                            0.5555555555555556,
                            "#d8576b"
                          ],
                          [
                            0.6666666666666666,
                            "#ed7953"
                          ],
                          [
                            0.7777777777777778,
                            "#fb9f3a"
                          ],
                          [
                            0.8888888888888888,
                            "#fdca26"
                          ],
                          [
                            1,
                            "#f0f921"
                          ]
                        ],
                        "type": "histogram2dcontour"
                      }
                    ],
                    "mesh3d": [
                      {
                        "colorbar": {
                          "outlinewidth": 0,
                          "ticks": ""
                        },
                        "type": "mesh3d"
                      }
                    ],
                    "parcoords": [
                      {
                        "line": {
                          "colorbar": {
                            "outlinewidth": 0,
                            "ticks": ""
                          }
                        },
                        "type": "parcoords"
                      }
                    ],
                    "pie": [
                      {
                        "automargin": true,
                        "type": "pie"
                      }
                    ],
                    "scatter": [
                      {
                        "fillpattern": {
                          "fillmode": "overlay",
                          "size": 10,
                          "solidity": 0.2
                        },
                        "type": "scatter"
                      }
                    ],
                    "scatter3d": [
                      {
                        "line": {
                          "colorbar": {
                            "outlinewidth": 0,
                            "ticks": ""
                          }
                        },
                        "marker": {
                          "colorbar": {
                            "outlinewidth": 0,
                            "ticks": ""
                          }
                        },
                        "type": "scatter3d"
                      }
                    ],
                    "scattercarpet": [
                      {
                        "marker": {
                          "colorbar": {
                            "outlinewidth": 0,
                            "ticks": ""
                          }
                        },
                        "type": "scattercarpet"
                      }
                    ],
                    "scattergeo": [
                      {
                        "marker": {
                          "colorbar": {
                            "outlinewidth": 0,
                            "ticks": ""
                          }
                        },
                        "type": "scattergeo"
                      }
                    ],
                    "scattergl": [
                      {
                        "marker": {
                          "colorbar": {
                            "outlinewidth": 0,
                            "ticks": ""
                          }
                        },
                        "type": "scattergl"
                      }
                    ],
                    "scattermapbox": [
                      {
                        "marker": {
                          "colorbar": {
                            "outlinewidth": 0,
                            "ticks": ""
                          }
                        },
                        "type": "scattermapbox"
                      }
                    ],
                    "scatterpolar": [
                      {
                        "marker": {
                          "colorbar": {
                            "outlinewidth": 0,
                            "ticks": ""
                          }
                        },
                        "type": "scatterpolar"
                      }
                    ],
                    "scatterpolargl": [
                      {
                        "marker": {
                          "colorbar": {
                            "outlinewidth": 0,
                            "ticks": ""
                          }
                        },
                        "type": "scatterpolargl"
                      }
                    ],
                    "scatterternary": [
                      {
                        "marker": {
                          "colorbar": {
                            "outlinewidth": 0,
                            "ticks": ""
                          }
                        },
                        "type": "scatterternary"
                      }
                    ],
                    "surface": [
                      {
                        "colorbar": {
                          "outlinewidth": 0,
                          "ticks": ""
                        },
                        "colorscale": [
                          [
                            0,
                            "#0d0887"
                          ],
                          [
                            0.1111111111111111,
                            "#46039f"
                          ],
                          [
                            0.2222222222222222,
                            "#7201a8"
                          ],
                          [
                            0.3333333333333333,
                            "#9c179e"
                          ],
                          [
                            0.4444444444444444,
                            "#bd3786"
                          ],
                          [
                            0.5555555555555556,
                            "#d8576b"
                          ],
                          [
                            0.6666666666666666,
                            "#ed7953"
                          ],
                          [
                            0.7777777777777778,
                            "#fb9f3a"
                          ],
                          [
                            0.8888888888888888,
                            "#fdca26"
                          ],
                          [
                            1,
                            "#f0f921"
                          ]
                        ],
                        "type": "surface"
                      }
                    ],
                    "table": [
                      {
                        "cells": {
                          "fill": {
                            "color": "#EBF0F8"
                          },
                          "line": {
                            "color": "white"
                          }
                        },
                        "header": {
                          "fill": {
                            "color": "#C8D4E3"
                          },
                          "line": {
                            "color": "white"
                          }
                        },
                        "type": "table"
                      }
                    ]
                  },
                  "layout": {
                    "annotationdefaults": {
                      "arrowcolor": "#2a3f5f",
                      "arrowhead": 0,
                      "arrowwidth": 1
                    },
                    "autotypenumbers": "strict",
                    "coloraxis": {
                      "colorbar": {
                        "outlinewidth": 0,
                        "ticks": ""
                      }
                    },
                    "colorscale": {
                      "diverging": [
                        [
                          0,
                          "#8e0152"
                        ],
                        [
                          0.1,
                          "#c51b7d"
                        ],
                        [
                          0.2,
                          "#de77ae"
                        ],
                        [
                          0.3,
                          "#f1b6da"
                        ],
                        [
                          0.4,
                          "#fde0ef"
                        ],
                        [
                          0.5,
                          "#f7f7f7"
                        ],
                        [
                          0.6,
                          "#e6f5d0"
                        ],
                        [
                          0.7,
                          "#b8e186"
                        ],
                        [
                          0.8,
                          "#7fbc41"
                        ],
                        [
                          0.9,
                          "#4d9221"
                        ],
                        [
                          1,
                          "#276419"
                        ]
                      ],
                      "sequential": [
                        [
                          0,
                          "#0d0887"
                        ],
                        [
                          0.1111111111111111,
                          "#46039f"
                        ],
                        [
                          0.2222222222222222,
                          "#7201a8"
                        ],
                        [
                          0.3333333333333333,
                          "#9c179e"
                        ],
                        [
                          0.4444444444444444,
                          "#bd3786"
                        ],
                        [
                          0.5555555555555556,
                          "#d8576b"
                        ],
                        [
                          0.6666666666666666,
                          "#ed7953"
                        ],
                        [
                          0.7777777777777778,
                          "#fb9f3a"
                        ],
                        [
                          0.8888888888888888,
                          "#fdca26"
                        ],
                        [
                          1,
                          "#f0f921"
                        ]
                      ],
                      "sequentialminus": [
                        [
                          0,
                          "#0d0887"
                        ],
                        [
                          0.1111111111111111,
                          "#46039f"
                        ],
                        [
                          0.2222222222222222,
                          "#7201a8"
                        ],
                        [
                          0.3333333333333333,
                          "#9c179e"
                        ],
                        [
                          0.4444444444444444,
                          "#bd3786"
                        ],
                        [
                          0.5555555555555556,
                          "#d8576b"
                        ],
                        [
                          0.6666666666666666,
                          "#ed7953"
                        ],
                        [
                          0.7777777777777778,
                          "#fb9f3a"
                        ],
                        [
                          0.8888888888888888,
                          "#fdca26"
                        ],
                        [
                          1,
                          "#f0f921"
                        ]
                      ]
                    },
                    "colorway": [
                      "#636efa",
                      "#EF553B",
                      "#00cc96",
                      "#ab63fa",
                      "#FFA15A",
                      "#19d3f3",
                      "#FF6692",
                      "#B6E880",
                      "#FF97FF",
                      "#FECB52"
                    ],
                    "font": {
                      "color": "#2a3f5f"
                    },
                    "geo": {
                      "bgcolor": "white",
                      "lakecolor": "white",
                      "landcolor": "#E5ECF6",
                      "showlakes": true,
                      "showland": true,
                      "subunitcolor": "white"
                    },
                    "hoverlabel": {
                      "align": "left"
                    },
                    "hovermode": "closest",
                    "mapbox": {
                      "style": "light"
                    },
                    "paper_bgcolor": "white",
                    "plot_bgcolor": "#E5ECF6",
                    "polar": {
                      "angularaxis": {
                        "gridcolor": "white",
                        "linecolor": "white",
                        "ticks": ""
                      },
                      "bgcolor": "#E5ECF6",
                      "radialaxis": {
                        "gridcolor": "white",
                        "linecolor": "white",
                        "ticks": ""
                      }
                    },
                    "scene": {
                      "xaxis": {
                        "backgroundcolor": "#E5ECF6",
                        "gridcolor": "white",
                        "gridwidth": 2,
                        "linecolor": "white",
                        "showbackground": true,
                        "ticks": "",
                        "zerolinecolor": "white"
                      },
                      "yaxis": {
                        "backgroundcolor": "#E5ECF6",
                        "gridcolor": "white",
                        "gridwidth": 2,
                        "linecolor": "white",
                        "showbackground": true,
                        "ticks": "",
                        "zerolinecolor": "white"
                      },
                      "zaxis": {
                        "backgroundcolor": "#E5ECF6",
                        "gridcolor": "white",
                        "gridwidth": 2,
                        "linecolor": "white",
                        "showbackground": true,
                        "ticks": "",
                        "zerolinecolor": "white"
                      }
                    },
                    "shapedefaults": {
                      "line": {
                        "color": "#2a3f5f"
                      }
                    },
                    "ternary": {
                      "aaxis": {
                        "gridcolor": "white",
                        "linecolor": "white",
                        "ticks": ""
                      },
                      "baxis": {
                        "gridcolor": "white",
                        "linecolor": "white",
                        "ticks": ""
                      },
                      "bgcolor": "#E5ECF6",
                      "caxis": {
                        "gridcolor": "white",
                        "linecolor": "white",
                        "ticks": ""
                      }
                    },
                    "title": {
                      "x": 0.05
                    },
                    "xaxis": {
                      "automargin": true,
                      "gridcolor": "white",
                      "linecolor": "white",
                      "ticks": "",
                      "title": {
                        "standoff": 15
                      },
                      "zerolinecolor": "white",
                      "zerolinewidth": 2
                    },
                    "yaxis": {
                      "automargin": true,
                      "gridcolor": "white",
                      "linecolor": "white",
                      "ticks": "",
                      "title": {
                        "standoff": 15
                      },
                      "zerolinecolor": "white",
                      "zerolinewidth": 2
                    }
                  }
                },
                "title": {
                  "text": "Máximo e mínimo de vendas por loja"
                },
                "xaxis": {
                  "anchor": "y",
                  "domain": [
                    0,
                    1
                  ],
                  "title": {
                    "text": "Loja"
                  }
                },
                "yaxis": {
                  "anchor": "x",
                  "domain": [
                    0,
                    1
                  ],
                  "title": {
                    "text": "Valor em $"
                  }
                }
              }
            }
          },
          "metadata": {},
          "output_type": "display_data"
        }
      ],
      "source": [
        "# plotar um gráfico vendas_por_loja  com o max e min de vendas por loja e as barras coloridas lado a lado\n",
        "# barras coloridas lado a lado max e min ao inves de em cima\n",
        "fig = ex.bar(vendas_por_loja, x='Store', y=['Weekly_Sales_max', 'Weekly_Sales_min'], title='Máximo e mínimo de vendas por loja')\n",
        "fig.update_layout(xaxis_title='Loja', yaxis_title='Valor em $')\n",
        "fig.show()"
      ]
    },
    {
      "cell_type": "code",
      "execution_count": null,
      "metadata": {},
      "outputs": [
        {
          "data": {
            "application/vnd.plotly.v1+json": {
              "config": {
                "plotlyServerURL": "https://plot.ly"
              },
              "data": [
                {
                  "hovertemplate": "Date=%{x}<br>Weekly_Sales=%{y}<extra></extra>",
                  "legendgroup": "",
                  "line": {
                    "color": "#636efa",
                    "dash": "solid"
                  },
                  "marker": {
                    "symbol": "circle"
                  },
                  "mode": "lines",
                  "name": "",
                  "orientation": "v",
                  "showlegend": false,
                  "type": "scatter",
                  "x": [
                    "01-04-2011",
                    "01-06-2012",
                    "01-07-2011",
                    "01-10-2010",
                    "02-03-2012",
                    "02-04-2010",
                    "02-07-2010",
                    "02-09-2011",
                    "02-12-2011",
                    "03-02-2012",
                    "03-06-2011",
                    "03-08-2012",
                    "03-09-2010",
                    "03-12-2010",
                    "04-02-2011",
                    "04-03-2011",
                    "04-05-2012",
                    "04-06-2010",
                    "04-11-2011",
                    "05-02-2010",
                    "05-03-2010",
                    "05-08-2011",
                    "05-10-2012",
                    "05-11-2010",
                    "06-01-2012",
                    "06-04-2012",
                    "06-05-2011",
                    "06-07-2012",
                    "06-08-2010",
                    "07-01-2011",
                    "07-05-2010",
                    "07-09-2012",
                    "07-10-2011",
                    "08-04-2011",
                    "08-06-2012",
                    "08-07-2011",
                    "08-10-2010",
                    "09-03-2012",
                    "09-04-2010",
                    "09-07-2010",
                    "09-09-2011",
                    "09-12-2011",
                    "10-02-2012",
                    "10-06-2011",
                    "10-08-2012",
                    "10-09-2010",
                    "10-12-2010",
                    "11-02-2011",
                    "11-03-2011",
                    "11-05-2012",
                    "11-06-2010",
                    "11-11-2011",
                    "12-02-2010",
                    "12-03-2010",
                    "12-08-2011",
                    "12-10-2012",
                    "12-11-2010",
                    "13-01-2012",
                    "13-04-2012",
                    "13-05-2011",
                    "13-07-2012",
                    "13-08-2010",
                    "14-01-2011",
                    "14-05-2010",
                    "14-09-2012",
                    "14-10-2011",
                    "15-04-2011",
                    "15-06-2012",
                    "15-07-2011",
                    "15-10-2010",
                    "16-03-2012",
                    "16-04-2010",
                    "16-07-2010",
                    "16-09-2011",
                    "16-12-2011",
                    "17-02-2012",
                    "17-06-2011",
                    "17-08-2012",
                    "17-09-2010",
                    "17-12-2010",
                    "18-02-2011",
                    "18-03-2011",
                    "18-05-2012",
                    "18-06-2010",
                    "18-11-2011",
                    "19-02-2010",
                    "19-03-2010",
                    "19-08-2011",
                    "19-10-2012",
                    "19-11-2010",
                    "20-01-2012",
                    "20-04-2012",
                    "20-05-2011",
                    "20-07-2012",
                    "20-08-2010",
                    "21-01-2011",
                    "21-05-2010",
                    "21-09-2012",
                    "21-10-2011",
                    "22-04-2011",
                    "22-06-2012",
                    "22-07-2011",
                    "22-10-2010",
                    "23-03-2012",
                    "23-04-2010",
                    "23-07-2010",
                    "23-09-2011",
                    "23-12-2011",
                    "24-02-2012",
                    "24-06-2011",
                    "24-08-2012",
                    "24-09-2010",
                    "24-12-2010",
                    "25-02-2011",
                    "25-03-2011",
                    "25-05-2012",
                    "25-06-2010",
                    "25-11-2011",
                    "26-02-2010",
                    "26-03-2010",
                    "26-08-2011",
                    "26-10-2012",
                    "26-11-2010",
                    "27-01-2012",
                    "27-04-2012",
                    "27-05-2011",
                    "27-07-2012",
                    "27-08-2010",
                    "28-01-2011",
                    "28-05-2010",
                    "28-09-2012",
                    "28-10-2011",
                    "29-04-2011",
                    "29-06-2012",
                    "29-07-2011",
                    "29-10-2010",
                    "30-03-2012",
                    "30-04-2010",
                    "30-07-2010",
                    "30-09-2011",
                    "30-12-2011",
                    "31-08-2012",
                    "31-12-2010"
                  ],
                  "xaxis": "x",
                  "y": [
                    1927993.09,
                    2143126.59,
                    2053165.41,
                    1933719.21,
                    2148822.76,
                    2405395.22,
                    2143676.77,
                    2141765.98,
                    2298776.83,
                    2203523.2,
                    2182246.69,
                    2094515.71,
                    2121561.41,
                    2416051.17,
                    2351143.07,
                    2143424.61,
                    2163510.89,
                    2203619.35,
                    2284106.6,
                    2401395.47,
                    2119213.72,
                    2189353.63,
                    2246411.89,
                    2184316.64,
                    1964701.94,
                    2565259.92,
                    2090838.44,
                    2358055.3,
                    1910177.38,
                    1843030.95,
                    2137202.38,
                    2080529.06,
                    2135982.79,
                    2027056.39,
                    2231962.13,
                    2123787.79,
                    2060389.27,
                    2139265.4,
                    2007796.26,
                    2107285.85,
                    2050542.56,
                    2546123.78,
                    2462978.28,
                    2135062.04,
                    2144245.39,
                    2014954.79,
                    2752122.08,
                    2211388.14,
                    1990932.77,
                    2168097.11,
                    2100489.79,
                    2269975.85,
                    2109107.9,
                    2010974.84,
                    2052246.4,
                    2162951.36,
                    2187765.28,
                    1911510.64,
                    2045396.06,
                    2036748.53,
                    2134680.12,
                    2071022.45,
                    1884345.01,
                    2033211.62,
                    2047949.98,
                    2010107.68,
                    2057406.33,
                    2165160.29,
                    2039875.75,
                    1950676.39,
                    2064991.71,
                    1985784.59,
                    2031852.16,
                    1979009.46,
                    2762816.65,
                    2309025.16,
                    2065191.27,
                    2045061.22,
                    1948359.78,
                    2819193.17,
                    2258616.24,
                    1931668.64,
                    2039222.26,
                    2091903.63,
                    2169933.82,
                    2161549.76,
                    1951848.43,
                    1990017.93,
                    1999363.49,
                    2105058.91,
                    1892775.94,
                    1884427.84,
                    1953416.06,
                    1970170.29,
                    1975374.56,
                    1781805.66,
                    1893736.9,
                    2028587.24,
                    2104241.9,
                    2313861.81,
                    2060588.69,
                    1950904.84,
                    1893955.27,
                    1992436.96,
                    1878862.42,
                    1900535.9,
                    1888119.7,
                    3555371.03,
                    2045837.55,
                    1950826.32,
                    2005341.43,
                    1789687.65,
                    3766687.43,
                    1938608.52,
                    1824711.21,
                    2114989,
                    1973135.87,
                    2906233.25,
                    1898193.95,
                    1894742.95,
                    1933577.2,
                    2031650.55,
                    2811634.04,
                    1761016.51,
                    1886503.93,
                    1944433.17,
                    1911559.1,
                    1946369.57,
                    1761506.68,
                    2065984.95,
                    2008350.58,
                    2065421.52,
                    1881788.19,
                    2055952.61,
                    1858440.92,
                    1891816,
                    2074721.74,
                    1919053.21,
                    1955896.59,
                    1945808.26,
                    2043245,
                    2062481.56,
                    1799737.79
                  ],
                  "yaxis": "y"
                }
              ],
              "layout": {
                "legend": {
                  "tracegroupgap": 0
                },
                "template": {
                  "data": {
                    "bar": [
                      {
                        "error_x": {
                          "color": "#2a3f5f"
                        },
                        "error_y": {
                          "color": "#2a3f5f"
                        },
                        "marker": {
                          "line": {
                            "color": "#E5ECF6",
                            "width": 0.5
                          },
                          "pattern": {
                            "fillmode": "overlay",
                            "size": 10,
                            "solidity": 0.2
                          }
                        },
                        "type": "bar"
                      }
                    ],
                    "barpolar": [
                      {
                        "marker": {
                          "line": {
                            "color": "#E5ECF6",
                            "width": 0.5
                          },
                          "pattern": {
                            "fillmode": "overlay",
                            "size": 10,
                            "solidity": 0.2
                          }
                        },
                        "type": "barpolar"
                      }
                    ],
                    "carpet": [
                      {
                        "aaxis": {
                          "endlinecolor": "#2a3f5f",
                          "gridcolor": "white",
                          "linecolor": "white",
                          "minorgridcolor": "white",
                          "startlinecolor": "#2a3f5f"
                        },
                        "baxis": {
                          "endlinecolor": "#2a3f5f",
                          "gridcolor": "white",
                          "linecolor": "white",
                          "minorgridcolor": "white",
                          "startlinecolor": "#2a3f5f"
                        },
                        "type": "carpet"
                      }
                    ],
                    "choropleth": [
                      {
                        "colorbar": {
                          "outlinewidth": 0,
                          "ticks": ""
                        },
                        "type": "choropleth"
                      }
                    ],
                    "contour": [
                      {
                        "colorbar": {
                          "outlinewidth": 0,
                          "ticks": ""
                        },
                        "colorscale": [
                          [
                            0,
                            "#0d0887"
                          ],
                          [
                            0.1111111111111111,
                            "#46039f"
                          ],
                          [
                            0.2222222222222222,
                            "#7201a8"
                          ],
                          [
                            0.3333333333333333,
                            "#9c179e"
                          ],
                          [
                            0.4444444444444444,
                            "#bd3786"
                          ],
                          [
                            0.5555555555555556,
                            "#d8576b"
                          ],
                          [
                            0.6666666666666666,
                            "#ed7953"
                          ],
                          [
                            0.7777777777777778,
                            "#fb9f3a"
                          ],
                          [
                            0.8888888888888888,
                            "#fdca26"
                          ],
                          [
                            1,
                            "#f0f921"
                          ]
                        ],
                        "type": "contour"
                      }
                    ],
                    "contourcarpet": [
                      {
                        "colorbar": {
                          "outlinewidth": 0,
                          "ticks": ""
                        },
                        "type": "contourcarpet"
                      }
                    ],
                    "heatmap": [
                      {
                        "colorbar": {
                          "outlinewidth": 0,
                          "ticks": ""
                        },
                        "colorscale": [
                          [
                            0,
                            "#0d0887"
                          ],
                          [
                            0.1111111111111111,
                            "#46039f"
                          ],
                          [
                            0.2222222222222222,
                            "#7201a8"
                          ],
                          [
                            0.3333333333333333,
                            "#9c179e"
                          ],
                          [
                            0.4444444444444444,
                            "#bd3786"
                          ],
                          [
                            0.5555555555555556,
                            "#d8576b"
                          ],
                          [
                            0.6666666666666666,
                            "#ed7953"
                          ],
                          [
                            0.7777777777777778,
                            "#fb9f3a"
                          ],
                          [
                            0.8888888888888888,
                            "#fdca26"
                          ],
                          [
                            1,
                            "#f0f921"
                          ]
                        ],
                        "type": "heatmap"
                      }
                    ],
                    "heatmapgl": [
                      {
                        "colorbar": {
                          "outlinewidth": 0,
                          "ticks": ""
                        },
                        "colorscale": [
                          [
                            0,
                            "#0d0887"
                          ],
                          [
                            0.1111111111111111,
                            "#46039f"
                          ],
                          [
                            0.2222222222222222,
                            "#7201a8"
                          ],
                          [
                            0.3333333333333333,
                            "#9c179e"
                          ],
                          [
                            0.4444444444444444,
                            "#bd3786"
                          ],
                          [
                            0.5555555555555556,
                            "#d8576b"
                          ],
                          [
                            0.6666666666666666,
                            "#ed7953"
                          ],
                          [
                            0.7777777777777778,
                            "#fb9f3a"
                          ],
                          [
                            0.8888888888888888,
                            "#fdca26"
                          ],
                          [
                            1,
                            "#f0f921"
                          ]
                        ],
                        "type": "heatmapgl"
                      }
                    ],
                    "histogram": [
                      {
                        "marker": {
                          "pattern": {
                            "fillmode": "overlay",
                            "size": 10,
                            "solidity": 0.2
                          }
                        },
                        "type": "histogram"
                      }
                    ],
                    "histogram2d": [
                      {
                        "colorbar": {
                          "outlinewidth": 0,
                          "ticks": ""
                        },
                        "colorscale": [
                          [
                            0,
                            "#0d0887"
                          ],
                          [
                            0.1111111111111111,
                            "#46039f"
                          ],
                          [
                            0.2222222222222222,
                            "#7201a8"
                          ],
                          [
                            0.3333333333333333,
                            "#9c179e"
                          ],
                          [
                            0.4444444444444444,
                            "#bd3786"
                          ],
                          [
                            0.5555555555555556,
                            "#d8576b"
                          ],
                          [
                            0.6666666666666666,
                            "#ed7953"
                          ],
                          [
                            0.7777777777777778,
                            "#fb9f3a"
                          ],
                          [
                            0.8888888888888888,
                            "#fdca26"
                          ],
                          [
                            1,
                            "#f0f921"
                          ]
                        ],
                        "type": "histogram2d"
                      }
                    ],
                    "histogram2dcontour": [
                      {
                        "colorbar": {
                          "outlinewidth": 0,
                          "ticks": ""
                        },
                        "colorscale": [
                          [
                            0,
                            "#0d0887"
                          ],
                          [
                            0.1111111111111111,
                            "#46039f"
                          ],
                          [
                            0.2222222222222222,
                            "#7201a8"
                          ],
                          [
                            0.3333333333333333,
                            "#9c179e"
                          ],
                          [
                            0.4444444444444444,
                            "#bd3786"
                          ],
                          [
                            0.5555555555555556,
                            "#d8576b"
                          ],
                          [
                            0.6666666666666666,
                            "#ed7953"
                          ],
                          [
                            0.7777777777777778,
                            "#fb9f3a"
                          ],
                          [
                            0.8888888888888888,
                            "#fdca26"
                          ],
                          [
                            1,
                            "#f0f921"
                          ]
                        ],
                        "type": "histogram2dcontour"
                      }
                    ],
                    "mesh3d": [
                      {
                        "colorbar": {
                          "outlinewidth": 0,
                          "ticks": ""
                        },
                        "type": "mesh3d"
                      }
                    ],
                    "parcoords": [
                      {
                        "line": {
                          "colorbar": {
                            "outlinewidth": 0,
                            "ticks": ""
                          }
                        },
                        "type": "parcoords"
                      }
                    ],
                    "pie": [
                      {
                        "automargin": true,
                        "type": "pie"
                      }
                    ],
                    "scatter": [
                      {
                        "fillpattern": {
                          "fillmode": "overlay",
                          "size": 10,
                          "solidity": 0.2
                        },
                        "type": "scatter"
                      }
                    ],
                    "scatter3d": [
                      {
                        "line": {
                          "colorbar": {
                            "outlinewidth": 0,
                            "ticks": ""
                          }
                        },
                        "marker": {
                          "colorbar": {
                            "outlinewidth": 0,
                            "ticks": ""
                          }
                        },
                        "type": "scatter3d"
                      }
                    ],
                    "scattercarpet": [
                      {
                        "marker": {
                          "colorbar": {
                            "outlinewidth": 0,
                            "ticks": ""
                          }
                        },
                        "type": "scattercarpet"
                      }
                    ],
                    "scattergeo": [
                      {
                        "marker": {
                          "colorbar": {
                            "outlinewidth": 0,
                            "ticks": ""
                          }
                        },
                        "type": "scattergeo"
                      }
                    ],
                    "scattergl": [
                      {
                        "marker": {
                          "colorbar": {
                            "outlinewidth": 0,
                            "ticks": ""
                          }
                        },
                        "type": "scattergl"
                      }
                    ],
                    "scattermapbox": [
                      {
                        "marker": {
                          "colorbar": {
                            "outlinewidth": 0,
                            "ticks": ""
                          }
                        },
                        "type": "scattermapbox"
                      }
                    ],
                    "scatterpolar": [
                      {
                        "marker": {
                          "colorbar": {
                            "outlinewidth": 0,
                            "ticks": ""
                          }
                        },
                        "type": "scatterpolar"
                      }
                    ],
                    "scatterpolargl": [
                      {
                        "marker": {
                          "colorbar": {
                            "outlinewidth": 0,
                            "ticks": ""
                          }
                        },
                        "type": "scatterpolargl"
                      }
                    ],
                    "scatterternary": [
                      {
                        "marker": {
                          "colorbar": {
                            "outlinewidth": 0,
                            "ticks": ""
                          }
                        },
                        "type": "scatterternary"
                      }
                    ],
                    "surface": [
                      {
                        "colorbar": {
                          "outlinewidth": 0,
                          "ticks": ""
                        },
                        "colorscale": [
                          [
                            0,
                            "#0d0887"
                          ],
                          [
                            0.1111111111111111,
                            "#46039f"
                          ],
                          [
                            0.2222222222222222,
                            "#7201a8"
                          ],
                          [
                            0.3333333333333333,
                            "#9c179e"
                          ],
                          [
                            0.4444444444444444,
                            "#bd3786"
                          ],
                          [
                            0.5555555555555556,
                            "#d8576b"
                          ],
                          [
                            0.6666666666666666,
                            "#ed7953"
                          ],
                          [
                            0.7777777777777778,
                            "#fb9f3a"
                          ],
                          [
                            0.8888888888888888,
                            "#fdca26"
                          ],
                          [
                            1,
                            "#f0f921"
                          ]
                        ],
                        "type": "surface"
                      }
                    ],
                    "table": [
                      {
                        "cells": {
                          "fill": {
                            "color": "#EBF0F8"
                          },
                          "line": {
                            "color": "white"
                          }
                        },
                        "header": {
                          "fill": {
                            "color": "#C8D4E3"
                          },
                          "line": {
                            "color": "white"
                          }
                        },
                        "type": "table"
                      }
                    ]
                  },
                  "layout": {
                    "annotationdefaults": {
                      "arrowcolor": "#2a3f5f",
                      "arrowhead": 0,
                      "arrowwidth": 1
                    },
                    "autotypenumbers": "strict",
                    "coloraxis": {
                      "colorbar": {
                        "outlinewidth": 0,
                        "ticks": ""
                      }
                    },
                    "colorscale": {
                      "diverging": [
                        [
                          0,
                          "#8e0152"
                        ],
                        [
                          0.1,
                          "#c51b7d"
                        ],
                        [
                          0.2,
                          "#de77ae"
                        ],
                        [
                          0.3,
                          "#f1b6da"
                        ],
                        [
                          0.4,
                          "#fde0ef"
                        ],
                        [
                          0.5,
                          "#f7f7f7"
                        ],
                        [
                          0.6,
                          "#e6f5d0"
                        ],
                        [
                          0.7,
                          "#b8e186"
                        ],
                        [
                          0.8,
                          "#7fbc41"
                        ],
                        [
                          0.9,
                          "#4d9221"
                        ],
                        [
                          1,
                          "#276419"
                        ]
                      ],
                      "sequential": [
                        [
                          0,
                          "#0d0887"
                        ],
                        [
                          0.1111111111111111,
                          "#46039f"
                        ],
                        [
                          0.2222222222222222,
                          "#7201a8"
                        ],
                        [
                          0.3333333333333333,
                          "#9c179e"
                        ],
                        [
                          0.4444444444444444,
                          "#bd3786"
                        ],
                        [
                          0.5555555555555556,
                          "#d8576b"
                        ],
                        [
                          0.6666666666666666,
                          "#ed7953"
                        ],
                        [
                          0.7777777777777778,
                          "#fb9f3a"
                        ],
                        [
                          0.8888888888888888,
                          "#fdca26"
                        ],
                        [
                          1,
                          "#f0f921"
                        ]
                      ],
                      "sequentialminus": [
                        [
                          0,
                          "#0d0887"
                        ],
                        [
                          0.1111111111111111,
                          "#46039f"
                        ],
                        [
                          0.2222222222222222,
                          "#7201a8"
                        ],
                        [
                          0.3333333333333333,
                          "#9c179e"
                        ],
                        [
                          0.4444444444444444,
                          "#bd3786"
                        ],
                        [
                          0.5555555555555556,
                          "#d8576b"
                        ],
                        [
                          0.6666666666666666,
                          "#ed7953"
                        ],
                        [
                          0.7777777777777778,
                          "#fb9f3a"
                        ],
                        [
                          0.8888888888888888,
                          "#fdca26"
                        ],
                        [
                          1,
                          "#f0f921"
                        ]
                      ]
                    },
                    "colorway": [
                      "#636efa",
                      "#EF553B",
                      "#00cc96",
                      "#ab63fa",
                      "#FFA15A",
                      "#19d3f3",
                      "#FF6692",
                      "#B6E880",
                      "#FF97FF",
                      "#FECB52"
                    ],
                    "font": {
                      "color": "#2a3f5f"
                    },
                    "geo": {
                      "bgcolor": "white",
                      "lakecolor": "white",
                      "landcolor": "#E5ECF6",
                      "showlakes": true,
                      "showland": true,
                      "subunitcolor": "white"
                    },
                    "hoverlabel": {
                      "align": "left"
                    },
                    "hovermode": "closest",
                    "mapbox": {
                      "style": "light"
                    },
                    "paper_bgcolor": "white",
                    "plot_bgcolor": "#E5ECF6",
                    "polar": {
                      "angularaxis": {
                        "gridcolor": "white",
                        "linecolor": "white",
                        "ticks": ""
                      },
                      "bgcolor": "#E5ECF6",
                      "radialaxis": {
                        "gridcolor": "white",
                        "linecolor": "white",
                        "ticks": ""
                      }
                    },
                    "scene": {
                      "xaxis": {
                        "backgroundcolor": "#E5ECF6",
                        "gridcolor": "white",
                        "gridwidth": 2,
                        "linecolor": "white",
                        "showbackground": true,
                        "ticks": "",
                        "zerolinecolor": "white"
                      },
                      "yaxis": {
                        "backgroundcolor": "#E5ECF6",
                        "gridcolor": "white",
                        "gridwidth": 2,
                        "linecolor": "white",
                        "showbackground": true,
                        "ticks": "",
                        "zerolinecolor": "white"
                      },
                      "zaxis": {
                        "backgroundcolor": "#E5ECF6",
                        "gridcolor": "white",
                        "gridwidth": 2,
                        "linecolor": "white",
                        "showbackground": true,
                        "ticks": "",
                        "zerolinecolor": "white"
                      }
                    },
                    "shapedefaults": {
                      "line": {
                        "color": "#2a3f5f"
                      }
                    },
                    "ternary": {
                      "aaxis": {
                        "gridcolor": "white",
                        "linecolor": "white",
                        "ticks": ""
                      },
                      "baxis": {
                        "gridcolor": "white",
                        "linecolor": "white",
                        "ticks": ""
                      },
                      "bgcolor": "#E5ECF6",
                      "caxis": {
                        "gridcolor": "white",
                        "linecolor": "white",
                        "ticks": ""
                      }
                    },
                    "title": {
                      "x": 0.05
                    },
                    "xaxis": {
                      "automargin": true,
                      "gridcolor": "white",
                      "linecolor": "white",
                      "ticks": "",
                      "title": {
                        "standoff": 15
                      },
                      "zerolinecolor": "white",
                      "zerolinewidth": 2
                    },
                    "yaxis": {
                      "automargin": true,
                      "gridcolor": "white",
                      "linecolor": "white",
                      "ticks": "",
                      "title": {
                        "standoff": 15
                      },
                      "zerolinecolor": "white",
                      "zerolinewidth": 2
                    }
                  }
                },
                "title": {
                  "text": "Vendas por semana da loja 20 no período de 2010 a 2012"
                },
                "xaxis": {
                  "anchor": "y",
                  "domain": [
                    0,
                    1
                  ],
                  "title": {
                    "text": "Date"
                  }
                },
                "yaxis": {
                  "anchor": "x",
                  "domain": [
                    0,
                    1
                  ],
                  "title": {
                    "text": "Weekly_Sales"
                  }
                }
              }
            }
          },
          "metadata": {},
          "output_type": "display_data"
        }
      ],
      "source": [
        "loja_20 = walmart[walmart['Store'] == 20]\n",
        "loja_20 = loja_20.sort_values(by='Date')\n",
        "# plotar o gráfico\n",
        "fig = ex.line(loja_20, x='Date', y='Weekly_Sales', title='Vendas por semana da loja 20 no período de 2010 a 2012')\n",
        "fig.show()\n"
      ]
    },
    {
      "cell_type": "code",
      "execution_count": null,
      "metadata": {},
      "outputs": [
        {
          "data": {
            "text/html": [
              "<div>\n",
              "<style scoped>\n",
              "    .dataframe tbody tr th:only-of-type {\n",
              "        vertical-align: middle;\n",
              "    }\n",
              "\n",
              "    .dataframe tbody tr th {\n",
              "        vertical-align: top;\n",
              "    }\n",
              "\n",
              "    .dataframe thead th {\n",
              "        text-align: right;\n",
              "    }\n",
              "</style>\n",
              "<table border=\"1\" class=\"dataframe\">\n",
              "  <thead>\n",
              "    <tr style=\"text-align: right;\">\n",
              "      <th></th>\n",
              "      <th>Store</th>\n",
              "      <th>Date</th>\n",
              "      <th>Weekly_Sales</th>\n",
              "      <th>Holiday_Flag</th>\n",
              "      <th>Temperature</th>\n",
              "      <th>Fuel_Price</th>\n",
              "      <th>CPI</th>\n",
              "      <th>Unemployment</th>\n",
              "    </tr>\n",
              "  </thead>\n",
              "  <tbody>\n",
              "    <tr>\n",
              "      <th>2777</th>\n",
              "      <td>20</td>\n",
              "      <td>01-04-2011</td>\n",
              "      <td>1927993.09</td>\n",
              "      <td>0</td>\n",
              "      <td>32.43</td>\n",
              "      <td>3.638</td>\n",
              "      <td>207.882304</td>\n",
              "      <td>7.287</td>\n",
              "    </tr>\n",
              "    <tr>\n",
              "      <th>2838</th>\n",
              "      <td>20</td>\n",
              "      <td>01-06-2012</td>\n",
              "      <td>2143126.59</td>\n",
              "      <td>0</td>\n",
              "      <td>73.67</td>\n",
              "      <td>3.742</td>\n",
              "      <td>214.551328</td>\n",
              "      <td>7.139</td>\n",
              "    </tr>\n",
              "    <tr>\n",
              "      <th>2790</th>\n",
              "      <td>20</td>\n",
              "      <td>01-07-2011</td>\n",
              "      <td>2053165.41</td>\n",
              "      <td>0</td>\n",
              "      <td>69.66</td>\n",
              "      <td>3.748</td>\n",
              "      <td>208.334643</td>\n",
              "      <td>7.274</td>\n",
              "    </tr>\n",
              "    <tr>\n",
              "      <th>2751</th>\n",
              "      <td>20</td>\n",
              "      <td>01-10-2010</td>\n",
              "      <td>1933719.21</td>\n",
              "      <td>0</td>\n",
              "      <td>61.08</td>\n",
              "      <td>2.707</td>\n",
              "      <td>204.885097</td>\n",
              "      <td>7.484</td>\n",
              "    </tr>\n",
              "    <tr>\n",
              "      <th>2825</th>\n",
              "      <td>20</td>\n",
              "      <td>02-03-2012</td>\n",
              "      <td>2148822.76</td>\n",
              "      <td>0</td>\n",
              "      <td>39.98</td>\n",
              "      <td>3.816</td>\n",
              "      <td>213.671813</td>\n",
              "      <td>6.961</td>\n",
              "    </tr>\n",
              "    <tr>\n",
              "      <th>2725</th>\n",
              "      <td>20</td>\n",
              "      <td>02-04-2010</td>\n",
              "      <td>2405395.22</td>\n",
              "      <td>0</td>\n",
              "      <td>51.00</td>\n",
              "      <td>2.850</td>\n",
              "      <td>204.025284</td>\n",
              "      <td>7.856</td>\n",
              "    </tr>\n",
              "    <tr>\n",
              "      <th>2738</th>\n",
              "      <td>20</td>\n",
              "      <td>02-07-2010</td>\n",
              "      <td>2143676.77</td>\n",
              "      <td>0</td>\n",
              "      <td>70.10</td>\n",
              "      <td>2.815</td>\n",
              "      <td>204.465056</td>\n",
              "      <td>7.527</td>\n",
              "    </tr>\n",
              "    <tr>\n",
              "      <th>2799</th>\n",
              "      <td>20</td>\n",
              "      <td>02-09-2011</td>\n",
              "      <td>2141765.98</td>\n",
              "      <td>0</td>\n",
              "      <td>70.82</td>\n",
              "      <td>3.703</td>\n",
              "      <td>208.962516</td>\n",
              "      <td>7.274</td>\n",
              "    </tr>\n",
              "    <tr>\n",
              "      <th>2812</th>\n",
              "      <td>20</td>\n",
              "      <td>02-12-2011</td>\n",
              "      <td>2298776.83</td>\n",
              "      <td>0</td>\n",
              "      <td>46.32</td>\n",
              "      <td>3.452</td>\n",
              "      <td>211.639431</td>\n",
              "      <td>7.082</td>\n",
              "    </tr>\n",
              "    <tr>\n",
              "      <th>2821</th>\n",
              "      <td>20</td>\n",
              "      <td>03-02-2012</td>\n",
              "      <td>2203523.20</td>\n",
              "      <td>0</td>\n",
              "      <td>39.93</td>\n",
              "      <td>3.617</td>\n",
              "      <td>213.023622</td>\n",
              "      <td>6.961</td>\n",
              "    </tr>\n",
              "    <tr>\n",
              "      <th>2786</th>\n",
              "      <td>20</td>\n",
              "      <td>03-06-2011</td>\n",
              "      <td>2182246.69</td>\n",
              "      <td>0</td>\n",
              "      <td>73.51</td>\n",
              "      <td>3.922</td>\n",
              "      <td>208.355112</td>\n",
              "      <td>7.287</td>\n",
              "    </tr>\n",
              "    <tr>\n",
              "      <th>2847</th>\n",
              "      <td>20</td>\n",
              "      <td>03-08-2012</td>\n",
              "      <td>2094515.71</td>\n",
              "      <td>0</td>\n",
              "      <td>74.73</td>\n",
              "      <td>3.654</td>\n",
              "      <td>214.743351</td>\n",
              "      <td>7.280</td>\n",
              "    </tr>\n",
              "    <tr>\n",
              "      <th>2747</th>\n",
              "      <td>20</td>\n",
              "      <td>03-09-2010</td>\n",
              "      <td>2121561.41</td>\n",
              "      <td>0</td>\n",
              "      <td>75.50</td>\n",
              "      <td>2.715</td>\n",
              "      <td>204.758357</td>\n",
              "      <td>7.527</td>\n",
              "    </tr>\n",
              "    <tr>\n",
              "      <th>2760</th>\n",
              "      <td>20</td>\n",
              "      <td>03-12-2010</td>\n",
              "      <td>2416051.17</td>\n",
              "      <td>0</td>\n",
              "      <td>35.47</td>\n",
              "      <td>3.046</td>\n",
              "      <td>204.824919</td>\n",
              "      <td>7.484</td>\n",
              "    </tr>\n",
              "    <tr>\n",
              "      <th>2769</th>\n",
              "      <td>20</td>\n",
              "      <td>04-02-2011</td>\n",
              "      <td>2351143.07</td>\n",
              "      <td>0</td>\n",
              "      <td>28.58</td>\n",
              "      <td>3.231</td>\n",
              "      <td>205.732941</td>\n",
              "      <td>7.343</td>\n",
              "    </tr>\n",
              "    <tr>\n",
              "      <th>2773</th>\n",
              "      <td>20</td>\n",
              "      <td>04-03-2011</td>\n",
              "      <td>2143424.61</td>\n",
              "      <td>0</td>\n",
              "      <td>37.33</td>\n",
              "      <td>3.433</td>\n",
              "      <td>206.915348</td>\n",
              "      <td>7.343</td>\n",
              "    </tr>\n",
              "    <tr>\n",
              "      <th>2834</th>\n",
              "      <td>20</td>\n",
              "      <td>04-05-2012</td>\n",
              "      <td>2163510.89</td>\n",
              "      <td>0</td>\n",
              "      <td>62.74</td>\n",
              "      <td>3.951</td>\n",
              "      <td>214.477108</td>\n",
              "      <td>7.139</td>\n",
              "    </tr>\n",
              "    <tr>\n",
              "      <th>2734</th>\n",
              "      <td>20</td>\n",
              "      <td>04-06-2010</td>\n",
              "      <td>2203619.35</td>\n",
              "      <td>0</td>\n",
              "      <td>72.52</td>\n",
              "      <td>2.847</td>\n",
              "      <td>204.404288</td>\n",
              "      <td>7.856</td>\n",
              "    </tr>\n",
              "    <tr>\n",
              "      <th>2808</th>\n",
              "      <td>20</td>\n",
              "      <td>04-11-2011</td>\n",
              "      <td>2284106.60</td>\n",
              "      <td>0</td>\n",
              "      <td>43.88</td>\n",
              "      <td>3.551</td>\n",
              "      <td>210.836455</td>\n",
              "      <td>7.082</td>\n",
              "    </tr>\n",
              "    <tr>\n",
              "      <th>2717</th>\n",
              "      <td>20</td>\n",
              "      <td>05-02-2010</td>\n",
              "      <td>2401395.47</td>\n",
              "      <td>0</td>\n",
              "      <td>25.92</td>\n",
              "      <td>2.784</td>\n",
              "      <td>204.247194</td>\n",
              "      <td>8.187</td>\n",
              "    </tr>\n",
              "    <tr>\n",
              "      <th>2721</th>\n",
              "      <td>20</td>\n",
              "      <td>05-03-2010</td>\n",
              "      <td>2119213.72</td>\n",
              "      <td>0</td>\n",
              "      <td>31.75</td>\n",
              "      <td>2.777</td>\n",
              "      <td>204.494073</td>\n",
              "      <td>8.187</td>\n",
              "    </tr>\n",
              "    <tr>\n",
              "      <th>2795</th>\n",
              "      <td>20</td>\n",
              "      <td>05-08-2011</td>\n",
              "      <td>2189353.63</td>\n",
              "      <td>0</td>\n",
              "      <td>77.80</td>\n",
              "      <td>3.842</td>\n",
              "      <td>208.719238</td>\n",
              "      <td>7.274</td>\n",
              "    </tr>\n",
              "    <tr>\n",
              "      <th>2856</th>\n",
              "      <td>20</td>\n",
              "      <td>05-10-2012</td>\n",
              "      <td>2246411.89</td>\n",
              "      <td>0</td>\n",
              "      <td>60.77</td>\n",
              "      <td>3.985</td>\n",
              "      <td>215.925886</td>\n",
              "      <td>7.293</td>\n",
              "    </tr>\n",
              "    <tr>\n",
              "      <th>2756</th>\n",
              "      <td>20</td>\n",
              "      <td>05-11-2010</td>\n",
              "      <td>2184316.64</td>\n",
              "      <td>0</td>\n",
              "      <td>42.78</td>\n",
              "      <td>2.917</td>\n",
              "      <td>205.160837</td>\n",
              "      <td>7.484</td>\n",
              "    </tr>\n",
              "    <tr>\n",
              "      <th>2817</th>\n",
              "      <td>20</td>\n",
              "      <td>06-01-2012</td>\n",
              "      <td>1964701.94</td>\n",
              "      <td>0</td>\n",
              "      <td>33.42</td>\n",
              "      <td>3.422</td>\n",
              "      <td>212.571112</td>\n",
              "      <td>6.961</td>\n",
              "    </tr>\n",
              "    <tr>\n",
              "      <th>2830</th>\n",
              "      <td>20</td>\n",
              "      <td>06-04-2012</td>\n",
              "      <td>2565259.92</td>\n",
              "      <td>0</td>\n",
              "      <td>50.06</td>\n",
              "      <td>3.996</td>\n",
              "      <td>214.238705</td>\n",
              "      <td>7.139</td>\n",
              "    </tr>\n",
              "    <tr>\n",
              "      <th>2782</th>\n",
              "      <td>20</td>\n",
              "      <td>06-05-2011</td>\n",
              "      <td>2090838.44</td>\n",
              "      <td>0</td>\n",
              "      <td>53.41</td>\n",
              "      <td>4.046</td>\n",
              "      <td>208.799260</td>\n",
              "      <td>7.287</td>\n",
              "    </tr>\n",
              "    <tr>\n",
              "      <th>2843</th>\n",
              "      <td>20</td>\n",
              "      <td>06-07-2012</td>\n",
              "      <td>2358055.30</td>\n",
              "      <td>0</td>\n",
              "      <td>79.20</td>\n",
              "      <td>3.475</td>\n",
              "      <td>214.687351</td>\n",
              "      <td>7.280</td>\n",
              "    </tr>\n",
              "    <tr>\n",
              "      <th>2743</th>\n",
              "      <td>20</td>\n",
              "      <td>06-08-2010</td>\n",
              "      <td>1910177.38</td>\n",
              "      <td>0</td>\n",
              "      <td>74.57</td>\n",
              "      <td>2.784</td>\n",
              "      <td>204.729325</td>\n",
              "      <td>7.527</td>\n",
              "    </tr>\n",
              "    <tr>\n",
              "      <th>2765</th>\n",
              "      <td>20</td>\n",
              "      <td>07-01-2011</td>\n",
              "      <td>1843030.95</td>\n",
              "      <td>0</td>\n",
              "      <td>31.43</td>\n",
              "      <td>3.193</td>\n",
              "      <td>204.648780</td>\n",
              "      <td>7.343</td>\n",
              "    </tr>\n",
              "    <tr>\n",
              "      <th>2730</th>\n",
              "      <td>20</td>\n",
              "      <td>07-05-2010</td>\n",
              "      <td>2137202.38</td>\n",
              "      <td>0</td>\n",
              "      <td>66.74</td>\n",
              "      <td>2.966</td>\n",
              "      <td>203.610178</td>\n",
              "      <td>7.856</td>\n",
              "    </tr>\n",
              "    <tr>\n",
              "      <th>2852</th>\n",
              "      <td>20</td>\n",
              "      <td>07-09-2012</td>\n",
              "      <td>2080529.06</td>\n",
              "      <td>1</td>\n",
              "      <td>76.36</td>\n",
              "      <td>3.911</td>\n",
              "      <td>215.218957</td>\n",
              "      <td>7.280</td>\n",
              "    </tr>\n",
              "    <tr>\n",
              "      <th>2804</th>\n",
              "      <td>20</td>\n",
              "      <td>07-10-2011</td>\n",
              "      <td>2135982.79</td>\n",
              "      <td>0</td>\n",
              "      <td>52.42</td>\n",
              "      <td>3.583</td>\n",
              "      <td>210.117060</td>\n",
              "      <td>7.082</td>\n",
              "    </tr>\n",
              "    <tr>\n",
              "      <th>2778</th>\n",
              "      <td>20</td>\n",
              "      <td>08-04-2011</td>\n",
              "      <td>2027056.39</td>\n",
              "      <td>0</td>\n",
              "      <td>47.09</td>\n",
              "      <td>3.720</td>\n",
              "      <td>208.109264</td>\n",
              "      <td>7.287</td>\n",
              "    </tr>\n",
              "    <tr>\n",
              "      <th>2839</th>\n",
              "      <td>20</td>\n",
              "      <td>08-06-2012</td>\n",
              "      <td>2231962.13</td>\n",
              "      <td>0</td>\n",
              "      <td>62.01</td>\n",
              "      <td>3.689</td>\n",
              "      <td>214.552713</td>\n",
              "      <td>7.139</td>\n",
              "    </tr>\n",
              "    <tr>\n",
              "      <th>2791</th>\n",
              "      <td>20</td>\n",
              "      <td>08-07-2011</td>\n",
              "      <td>2123787.79</td>\n",
              "      <td>0</td>\n",
              "      <td>74.69</td>\n",
              "      <td>3.711</td>\n",
              "      <td>208.438685</td>\n",
              "      <td>7.274</td>\n",
              "    </tr>\n",
              "    <tr>\n",
              "      <th>2752</th>\n",
              "      <td>20</td>\n",
              "      <td>08-10-2010</td>\n",
              "      <td>2060389.27</td>\n",
              "      <td>0</td>\n",
              "      <td>51.50</td>\n",
              "      <td>2.764</td>\n",
              "      <td>204.951982</td>\n",
              "      <td>7.484</td>\n",
              "    </tr>\n",
              "    <tr>\n",
              "      <th>2826</th>\n",
              "      <td>20</td>\n",
              "      <td>09-03-2012</td>\n",
              "      <td>2139265.40</td>\n",
              "      <td>0</td>\n",
              "      <td>41.14</td>\n",
              "      <td>3.848</td>\n",
              "      <td>213.871114</td>\n",
              "      <td>6.961</td>\n",
              "    </tr>\n",
              "    <tr>\n",
              "      <th>2726</th>\n",
              "      <td>20</td>\n",
              "      <td>09-04-2010</td>\n",
              "      <td>2007796.26</td>\n",
              "      <td>0</td>\n",
              "      <td>65.10</td>\n",
              "      <td>2.869</td>\n",
              "      <td>203.848813</td>\n",
              "      <td>7.856</td>\n",
              "    </tr>\n",
              "    <tr>\n",
              "      <th>2739</th>\n",
              "      <td>20</td>\n",
              "      <td>09-07-2010</td>\n",
              "      <td>2107285.85</td>\n",
              "      <td>0</td>\n",
              "      <td>78.09</td>\n",
              "      <td>2.793</td>\n",
              "      <td>204.362566</td>\n",
              "      <td>7.527</td>\n",
              "    </tr>\n",
              "    <tr>\n",
              "      <th>2800</th>\n",
              "      <td>20</td>\n",
              "      <td>09-09-2011</td>\n",
              "      <td>2050542.56</td>\n",
              "      <td>1</td>\n",
              "      <td>68.74</td>\n",
              "      <td>3.738</td>\n",
              "      <td>209.022556</td>\n",
              "      <td>7.274</td>\n",
              "    </tr>\n",
              "    <tr>\n",
              "      <th>2813</th>\n",
              "      <td>20</td>\n",
              "      <td>09-12-2011</td>\n",
              "      <td>2546123.78</td>\n",
              "      <td>0</td>\n",
              "      <td>41.64</td>\n",
              "      <td>3.415</td>\n",
              "      <td>211.866786</td>\n",
              "      <td>7.082</td>\n",
              "    </tr>\n",
              "    <tr>\n",
              "      <th>2822</th>\n",
              "      <td>20</td>\n",
              "      <td>10-02-2012</td>\n",
              "      <td>2462978.28</td>\n",
              "      <td>1</td>\n",
              "      <td>33.47</td>\n",
              "      <td>3.640</td>\n",
              "      <td>213.118614</td>\n",
              "      <td>6.961</td>\n",
              "    </tr>\n",
              "    <tr>\n",
              "      <th>2787</th>\n",
              "      <td>20</td>\n",
              "      <td>10-06-2011</td>\n",
              "      <td>2135062.04</td>\n",
              "      <td>0</td>\n",
              "      <td>73.64</td>\n",
              "      <td>3.881</td>\n",
              "      <td>208.153509</td>\n",
              "      <td>7.287</td>\n",
              "    </tr>\n",
              "    <tr>\n",
              "      <th>2848</th>\n",
              "      <td>20</td>\n",
              "      <td>10-08-2012</td>\n",
              "      <td>2144245.39</td>\n",
              "      <td>0</td>\n",
              "      <td>75.40</td>\n",
              "      <td>3.722</td>\n",
              "      <td>214.748459</td>\n",
              "      <td>7.280</td>\n",
              "    </tr>\n",
              "    <tr>\n",
              "      <th>2748</th>\n",
              "      <td>20</td>\n",
              "      <td>10-09-2010</td>\n",
              "      <td>2014954.79</td>\n",
              "      <td>1</td>\n",
              "      <td>65.02</td>\n",
              "      <td>2.699</td>\n",
              "      <td>204.726683</td>\n",
              "      <td>7.527</td>\n",
              "    </tr>\n",
              "    <tr>\n",
              "      <th>2761</th>\n",
              "      <td>20</td>\n",
              "      <td>10-12-2010</td>\n",
              "      <td>2752122.08</td>\n",
              "      <td>0</td>\n",
              "      <td>24.27</td>\n",
              "      <td>3.109</td>\n",
              "      <td>204.687738</td>\n",
              "      <td>7.484</td>\n",
              "    </tr>\n",
              "    <tr>\n",
              "      <th>2770</th>\n",
              "      <td>20</td>\n",
              "      <td>11-02-2011</td>\n",
              "      <td>2211388.14</td>\n",
              "      <td>1</td>\n",
              "      <td>25.38</td>\n",
              "      <td>3.239</td>\n",
              "      <td>206.076386</td>\n",
              "      <td>7.343</td>\n",
              "    </tr>\n",
              "    <tr>\n",
              "      <th>2774</th>\n",
              "      <td>20</td>\n",
              "      <td>11-03-2011</td>\n",
              "      <td>1990932.77</td>\n",
              "      <td>0</td>\n",
              "      <td>39.53</td>\n",
              "      <td>3.582</td>\n",
              "      <td>207.188288</td>\n",
              "      <td>7.343</td>\n",
              "    </tr>\n",
              "    <tr>\n",
              "      <th>2835</th>\n",
              "      <td>20</td>\n",
              "      <td>11-05-2012</td>\n",
              "      <td>2168097.11</td>\n",
              "      <td>0</td>\n",
              "      <td>63.19</td>\n",
              "      <td>3.889</td>\n",
              "      <td>214.531910</td>\n",
              "      <td>7.139</td>\n",
              "    </tr>\n",
              "  </tbody>\n",
              "</table>\n",
              "</div>"
            ],
            "text/plain": [
              "      Store        Date  Weekly_Sales  Holiday_Flag  Temperature  Fuel_Price  \\\n",
              "2777     20  01-04-2011    1927993.09             0        32.43       3.638   \n",
              "2838     20  01-06-2012    2143126.59             0        73.67       3.742   \n",
              "2790     20  01-07-2011    2053165.41             0        69.66       3.748   \n",
              "2751     20  01-10-2010    1933719.21             0        61.08       2.707   \n",
              "2825     20  02-03-2012    2148822.76             0        39.98       3.816   \n",
              "2725     20  02-04-2010    2405395.22             0        51.00       2.850   \n",
              "2738     20  02-07-2010    2143676.77             0        70.10       2.815   \n",
              "2799     20  02-09-2011    2141765.98             0        70.82       3.703   \n",
              "2812     20  02-12-2011    2298776.83             0        46.32       3.452   \n",
              "2821     20  03-02-2012    2203523.20             0        39.93       3.617   \n",
              "2786     20  03-06-2011    2182246.69             0        73.51       3.922   \n",
              "2847     20  03-08-2012    2094515.71             0        74.73       3.654   \n",
              "2747     20  03-09-2010    2121561.41             0        75.50       2.715   \n",
              "2760     20  03-12-2010    2416051.17             0        35.47       3.046   \n",
              "2769     20  04-02-2011    2351143.07             0        28.58       3.231   \n",
              "2773     20  04-03-2011    2143424.61             0        37.33       3.433   \n",
              "2834     20  04-05-2012    2163510.89             0        62.74       3.951   \n",
              "2734     20  04-06-2010    2203619.35             0        72.52       2.847   \n",
              "2808     20  04-11-2011    2284106.60             0        43.88       3.551   \n",
              "2717     20  05-02-2010    2401395.47             0        25.92       2.784   \n",
              "2721     20  05-03-2010    2119213.72             0        31.75       2.777   \n",
              "2795     20  05-08-2011    2189353.63             0        77.80       3.842   \n",
              "2856     20  05-10-2012    2246411.89             0        60.77       3.985   \n",
              "2756     20  05-11-2010    2184316.64             0        42.78       2.917   \n",
              "2817     20  06-01-2012    1964701.94             0        33.42       3.422   \n",
              "2830     20  06-04-2012    2565259.92             0        50.06       3.996   \n",
              "2782     20  06-05-2011    2090838.44             0        53.41       4.046   \n",
              "2843     20  06-07-2012    2358055.30             0        79.20       3.475   \n",
              "2743     20  06-08-2010    1910177.38             0        74.57       2.784   \n",
              "2765     20  07-01-2011    1843030.95             0        31.43       3.193   \n",
              "2730     20  07-05-2010    2137202.38             0        66.74       2.966   \n",
              "2852     20  07-09-2012    2080529.06             1        76.36       3.911   \n",
              "2804     20  07-10-2011    2135982.79             0        52.42       3.583   \n",
              "2778     20  08-04-2011    2027056.39             0        47.09       3.720   \n",
              "2839     20  08-06-2012    2231962.13             0        62.01       3.689   \n",
              "2791     20  08-07-2011    2123787.79             0        74.69       3.711   \n",
              "2752     20  08-10-2010    2060389.27             0        51.50       2.764   \n",
              "2826     20  09-03-2012    2139265.40             0        41.14       3.848   \n",
              "2726     20  09-04-2010    2007796.26             0        65.10       2.869   \n",
              "2739     20  09-07-2010    2107285.85             0        78.09       2.793   \n",
              "2800     20  09-09-2011    2050542.56             1        68.74       3.738   \n",
              "2813     20  09-12-2011    2546123.78             0        41.64       3.415   \n",
              "2822     20  10-02-2012    2462978.28             1        33.47       3.640   \n",
              "2787     20  10-06-2011    2135062.04             0        73.64       3.881   \n",
              "2848     20  10-08-2012    2144245.39             0        75.40       3.722   \n",
              "2748     20  10-09-2010    2014954.79             1        65.02       2.699   \n",
              "2761     20  10-12-2010    2752122.08             0        24.27       3.109   \n",
              "2770     20  11-02-2011    2211388.14             1        25.38       3.239   \n",
              "2774     20  11-03-2011    1990932.77             0        39.53       3.582   \n",
              "2835     20  11-05-2012    2168097.11             0        63.19       3.889   \n",
              "\n",
              "             CPI  Unemployment  \n",
              "2777  207.882304         7.287  \n",
              "2838  214.551328         7.139  \n",
              "2790  208.334643         7.274  \n",
              "2751  204.885097         7.484  \n",
              "2825  213.671813         6.961  \n",
              "2725  204.025284         7.856  \n",
              "2738  204.465056         7.527  \n",
              "2799  208.962516         7.274  \n",
              "2812  211.639431         7.082  \n",
              "2821  213.023622         6.961  \n",
              "2786  208.355112         7.287  \n",
              "2847  214.743351         7.280  \n",
              "2747  204.758357         7.527  \n",
              "2760  204.824919         7.484  \n",
              "2769  205.732941         7.343  \n",
              "2773  206.915348         7.343  \n",
              "2834  214.477108         7.139  \n",
              "2734  204.404288         7.856  \n",
              "2808  210.836455         7.082  \n",
              "2717  204.247194         8.187  \n",
              "2721  204.494073         8.187  \n",
              "2795  208.719238         7.274  \n",
              "2856  215.925886         7.293  \n",
              "2756  205.160837         7.484  \n",
              "2817  212.571112         6.961  \n",
              "2830  214.238705         7.139  \n",
              "2782  208.799260         7.287  \n",
              "2843  214.687351         7.280  \n",
              "2743  204.729325         7.527  \n",
              "2765  204.648780         7.343  \n",
              "2730  203.610178         7.856  \n",
              "2852  215.218957         7.280  \n",
              "2804  210.117060         7.082  \n",
              "2778  208.109264         7.287  \n",
              "2839  214.552713         7.139  \n",
              "2791  208.438685         7.274  \n",
              "2752  204.951982         7.484  \n",
              "2826  213.871114         6.961  \n",
              "2726  203.848813         7.856  \n",
              "2739  204.362566         7.527  \n",
              "2800  209.022556         7.274  \n",
              "2813  211.866786         7.082  \n",
              "2822  213.118614         6.961  \n",
              "2787  208.153509         7.287  \n",
              "2848  214.748459         7.280  \n",
              "2748  204.726683         7.527  \n",
              "2761  204.687738         7.484  \n",
              "2770  206.076386         7.343  \n",
              "2774  207.188288         7.343  \n",
              "2835  214.531910         7.139  "
            ]
          },
          "execution_count": 23,
          "metadata": {},
          "output_type": "execute_result"
        }
      ],
      "source": [
        "loja_20.head(50)"
      ]
    },
    {
      "cell_type": "code",
      "execution_count": null,
      "metadata": {},
      "outputs": [
        {
          "data": {
            "application/vnd.plotly.v1+json": {
              "config": {
                "plotlyServerURL": "https://plot.ly"
              },
              "data": [
                {
                  "hovertemplate": "Holiday_Flag=0<br>Date=%{x}<br>Weekly_Sales=%{y}<extra></extra>",
                  "legendgroup": "0",
                  "line": {
                    "color": "#636efa",
                    "dash": "solid"
                  },
                  "marker": {
                    "symbol": "circle"
                  },
                  "mode": "lines",
                  "name": "0",
                  "orientation": "v",
                  "showlegend": true,
                  "type": "scatter",
                  "x": [
                    "01-04-2011",
                    "01-06-2012",
                    "01-07-2011",
                    "01-10-2010",
                    "02-03-2012",
                    "02-04-2010",
                    "02-07-2010",
                    "02-09-2011",
                    "02-12-2011",
                    "03-02-2012",
                    "03-06-2011",
                    "03-08-2012",
                    "03-09-2010",
                    "03-12-2010",
                    "04-02-2011",
                    "04-03-2011",
                    "04-05-2012",
                    "04-06-2010",
                    "04-11-2011",
                    "05-02-2010",
                    "05-03-2010",
                    "05-08-2011",
                    "05-10-2012",
                    "05-11-2010",
                    "06-01-2012",
                    "06-04-2012",
                    "06-05-2011",
                    "06-07-2012",
                    "06-08-2010",
                    "07-01-2011",
                    "07-05-2010",
                    "07-10-2011",
                    "08-04-2011",
                    "08-06-2012",
                    "08-07-2011",
                    "08-10-2010",
                    "09-03-2012",
                    "09-04-2010",
                    "09-07-2010",
                    "09-12-2011",
                    "10-06-2011",
                    "10-08-2012",
                    "10-12-2010",
                    "11-03-2011",
                    "11-05-2012",
                    "11-06-2010",
                    "11-11-2011",
                    "12-03-2010",
                    "12-08-2011",
                    "12-10-2012",
                    "12-11-2010",
                    "13-01-2012",
                    "13-04-2012",
                    "13-05-2011",
                    "13-07-2012",
                    "13-08-2010",
                    "14-01-2011",
                    "14-05-2010",
                    "14-09-2012",
                    "14-10-2011",
                    "15-04-2011",
                    "15-06-2012",
                    "15-07-2011",
                    "15-10-2010",
                    "16-03-2012",
                    "16-04-2010",
                    "16-07-2010",
                    "16-09-2011",
                    "16-12-2011",
                    "17-02-2012",
                    "17-06-2011",
                    "17-08-2012",
                    "17-09-2010",
                    "17-12-2010",
                    "18-02-2011",
                    "18-03-2011",
                    "18-05-2012",
                    "18-06-2010",
                    "18-11-2011",
                    "19-02-2010",
                    "19-03-2010",
                    "19-08-2011",
                    "19-10-2012",
                    "19-11-2010",
                    "20-01-2012",
                    "20-04-2012",
                    "20-05-2011",
                    "20-07-2012",
                    "20-08-2010",
                    "21-01-2011",
                    "21-05-2010",
                    "21-09-2012",
                    "21-10-2011",
                    "22-04-2011",
                    "22-06-2012",
                    "22-07-2011",
                    "22-10-2010",
                    "23-03-2012",
                    "23-04-2010",
                    "23-07-2010",
                    "23-09-2011",
                    "23-12-2011",
                    "24-02-2012",
                    "24-06-2011",
                    "24-08-2012",
                    "24-09-2010",
                    "24-12-2010",
                    "25-02-2011",
                    "25-03-2011",
                    "25-05-2012",
                    "25-06-2010",
                    "26-02-2010",
                    "26-03-2010",
                    "26-08-2011",
                    "26-10-2012",
                    "27-01-2012",
                    "27-04-2012",
                    "27-05-2011",
                    "27-07-2012",
                    "27-08-2010",
                    "28-01-2011",
                    "28-05-2010",
                    "28-09-2012",
                    "28-10-2011",
                    "29-04-2011",
                    "29-06-2012",
                    "29-07-2011",
                    "29-10-2010",
                    "30-03-2012",
                    "30-04-2010",
                    "30-07-2010",
                    "30-09-2011",
                    "31-08-2012"
                  ],
                  "xaxis": "x",
                  "y": [
                    1927993.09,
                    2143126.59,
                    2053165.41,
                    1933719.21,
                    2148822.76,
                    2405395.22,
                    2143676.77,
                    2141765.98,
                    2298776.83,
                    2203523.2,
                    2182246.69,
                    2094515.71,
                    2121561.41,
                    2416051.17,
                    2351143.07,
                    2143424.61,
                    2163510.89,
                    2203619.35,
                    2284106.6,
                    2401395.47,
                    2119213.72,
                    2189353.63,
                    2246411.89,
                    2184316.64,
                    1964701.94,
                    2565259.92,
                    2090838.44,
                    2358055.3,
                    1910177.38,
                    1843030.95,
                    2137202.38,
                    2135982.79,
                    2027056.39,
                    2231962.13,
                    2123787.79,
                    2060389.27,
                    2139265.4,
                    2007796.26,
                    2107285.85,
                    2546123.78,
                    2135062.04,
                    2144245.39,
                    2752122.08,
                    1990932.77,
                    2168097.11,
                    2100489.79,
                    2269975.85,
                    2010974.84,
                    2052246.4,
                    2162951.36,
                    2187765.28,
                    1911510.64,
                    2045396.06,
                    2036748.53,
                    2134680.12,
                    2071022.45,
                    1884345.01,
                    2033211.62,
                    2047949.98,
                    2010107.68,
                    2057406.33,
                    2165160.29,
                    2039875.75,
                    1950676.39,
                    2064991.71,
                    1985784.59,
                    2031852.16,
                    1979009.46,
                    2762816.65,
                    2309025.16,
                    2065191.27,
                    2045061.22,
                    1948359.78,
                    2819193.17,
                    2258616.24,
                    1931668.64,
                    2039222.26,
                    2091903.63,
                    2169933.82,
                    2161549.76,
                    1951848.43,
                    1990017.93,
                    1999363.49,
                    2105058.91,
                    1892775.94,
                    1884427.84,
                    1953416.06,
                    1970170.29,
                    1975374.56,
                    1781805.66,
                    1893736.9,
                    2028587.24,
                    2104241.9,
                    2313861.81,
                    2060588.69,
                    1950904.84,
                    1893955.27,
                    1992436.96,
                    1878862.42,
                    1900535.9,
                    1888119.7,
                    3555371.03,
                    2045837.55,
                    1950826.32,
                    2005341.43,
                    1789687.65,
                    3766687.43,
                    1938608.52,
                    1824711.21,
                    2114989,
                    1973135.87,
                    1898193.95,
                    1894742.95,
                    1933577.2,
                    2031650.55,
                    1761016.51,
                    1886503.93,
                    1944433.17,
                    1911559.1,
                    1946369.57,
                    1761506.68,
                    2065984.95,
                    2008350.58,
                    2065421.52,
                    1881788.19,
                    2055952.61,
                    1858440.92,
                    1891816,
                    2074721.74,
                    1919053.21,
                    1955896.59,
                    1945808.26,
                    2062481.56
                  ],
                  "yaxis": "y"
                },
                {
                  "hovertemplate": "Holiday_Flag=1<br>Date=%{x}<br>Weekly_Sales=%{y}<extra></extra>",
                  "legendgroup": "1",
                  "line": {
                    "color": "#EF553B",
                    "dash": "solid"
                  },
                  "marker": {
                    "symbol": "circle"
                  },
                  "mode": "lines",
                  "name": "1",
                  "orientation": "v",
                  "showlegend": true,
                  "type": "scatter",
                  "x": [
                    "07-09-2012",
                    "09-09-2011",
                    "10-02-2012",
                    "10-09-2010",
                    "11-02-2011",
                    "12-02-2010",
                    "25-11-2011",
                    "26-11-2010",
                    "30-12-2011",
                    "31-12-2010"
                  ],
                  "xaxis": "x",
                  "y": [
                    2080529.06,
                    2050542.56,
                    2462978.28,
                    2014954.79,
                    2211388.14,
                    2109107.9,
                    2906233.25,
                    2811634.04,
                    2043245,
                    1799737.79
                  ],
                  "yaxis": "y"
                }
              ],
              "layout": {
                "legend": {
                  "title": {
                    "text": "Holiday_Flag"
                  },
                  "tracegroupgap": 0
                },
                "template": {
                  "data": {
                    "bar": [
                      {
                        "error_x": {
                          "color": "#2a3f5f"
                        },
                        "error_y": {
                          "color": "#2a3f5f"
                        },
                        "marker": {
                          "line": {
                            "color": "#E5ECF6",
                            "width": 0.5
                          },
                          "pattern": {
                            "fillmode": "overlay",
                            "size": 10,
                            "solidity": 0.2
                          }
                        },
                        "type": "bar"
                      }
                    ],
                    "barpolar": [
                      {
                        "marker": {
                          "line": {
                            "color": "#E5ECF6",
                            "width": 0.5
                          },
                          "pattern": {
                            "fillmode": "overlay",
                            "size": 10,
                            "solidity": 0.2
                          }
                        },
                        "type": "barpolar"
                      }
                    ],
                    "carpet": [
                      {
                        "aaxis": {
                          "endlinecolor": "#2a3f5f",
                          "gridcolor": "white",
                          "linecolor": "white",
                          "minorgridcolor": "white",
                          "startlinecolor": "#2a3f5f"
                        },
                        "baxis": {
                          "endlinecolor": "#2a3f5f",
                          "gridcolor": "white",
                          "linecolor": "white",
                          "minorgridcolor": "white",
                          "startlinecolor": "#2a3f5f"
                        },
                        "type": "carpet"
                      }
                    ],
                    "choropleth": [
                      {
                        "colorbar": {
                          "outlinewidth": 0,
                          "ticks": ""
                        },
                        "type": "choropleth"
                      }
                    ],
                    "contour": [
                      {
                        "colorbar": {
                          "outlinewidth": 0,
                          "ticks": ""
                        },
                        "colorscale": [
                          [
                            0,
                            "#0d0887"
                          ],
                          [
                            0.1111111111111111,
                            "#46039f"
                          ],
                          [
                            0.2222222222222222,
                            "#7201a8"
                          ],
                          [
                            0.3333333333333333,
                            "#9c179e"
                          ],
                          [
                            0.4444444444444444,
                            "#bd3786"
                          ],
                          [
                            0.5555555555555556,
                            "#d8576b"
                          ],
                          [
                            0.6666666666666666,
                            "#ed7953"
                          ],
                          [
                            0.7777777777777778,
                            "#fb9f3a"
                          ],
                          [
                            0.8888888888888888,
                            "#fdca26"
                          ],
                          [
                            1,
                            "#f0f921"
                          ]
                        ],
                        "type": "contour"
                      }
                    ],
                    "contourcarpet": [
                      {
                        "colorbar": {
                          "outlinewidth": 0,
                          "ticks": ""
                        },
                        "type": "contourcarpet"
                      }
                    ],
                    "heatmap": [
                      {
                        "colorbar": {
                          "outlinewidth": 0,
                          "ticks": ""
                        },
                        "colorscale": [
                          [
                            0,
                            "#0d0887"
                          ],
                          [
                            0.1111111111111111,
                            "#46039f"
                          ],
                          [
                            0.2222222222222222,
                            "#7201a8"
                          ],
                          [
                            0.3333333333333333,
                            "#9c179e"
                          ],
                          [
                            0.4444444444444444,
                            "#bd3786"
                          ],
                          [
                            0.5555555555555556,
                            "#d8576b"
                          ],
                          [
                            0.6666666666666666,
                            "#ed7953"
                          ],
                          [
                            0.7777777777777778,
                            "#fb9f3a"
                          ],
                          [
                            0.8888888888888888,
                            "#fdca26"
                          ],
                          [
                            1,
                            "#f0f921"
                          ]
                        ],
                        "type": "heatmap"
                      }
                    ],
                    "heatmapgl": [
                      {
                        "colorbar": {
                          "outlinewidth": 0,
                          "ticks": ""
                        },
                        "colorscale": [
                          [
                            0,
                            "#0d0887"
                          ],
                          [
                            0.1111111111111111,
                            "#46039f"
                          ],
                          [
                            0.2222222222222222,
                            "#7201a8"
                          ],
                          [
                            0.3333333333333333,
                            "#9c179e"
                          ],
                          [
                            0.4444444444444444,
                            "#bd3786"
                          ],
                          [
                            0.5555555555555556,
                            "#d8576b"
                          ],
                          [
                            0.6666666666666666,
                            "#ed7953"
                          ],
                          [
                            0.7777777777777778,
                            "#fb9f3a"
                          ],
                          [
                            0.8888888888888888,
                            "#fdca26"
                          ],
                          [
                            1,
                            "#f0f921"
                          ]
                        ],
                        "type": "heatmapgl"
                      }
                    ],
                    "histogram": [
                      {
                        "marker": {
                          "pattern": {
                            "fillmode": "overlay",
                            "size": 10,
                            "solidity": 0.2
                          }
                        },
                        "type": "histogram"
                      }
                    ],
                    "histogram2d": [
                      {
                        "colorbar": {
                          "outlinewidth": 0,
                          "ticks": ""
                        },
                        "colorscale": [
                          [
                            0,
                            "#0d0887"
                          ],
                          [
                            0.1111111111111111,
                            "#46039f"
                          ],
                          [
                            0.2222222222222222,
                            "#7201a8"
                          ],
                          [
                            0.3333333333333333,
                            "#9c179e"
                          ],
                          [
                            0.4444444444444444,
                            "#bd3786"
                          ],
                          [
                            0.5555555555555556,
                            "#d8576b"
                          ],
                          [
                            0.6666666666666666,
                            "#ed7953"
                          ],
                          [
                            0.7777777777777778,
                            "#fb9f3a"
                          ],
                          [
                            0.8888888888888888,
                            "#fdca26"
                          ],
                          [
                            1,
                            "#f0f921"
                          ]
                        ],
                        "type": "histogram2d"
                      }
                    ],
                    "histogram2dcontour": [
                      {
                        "colorbar": {
                          "outlinewidth": 0,
                          "ticks": ""
                        },
                        "colorscale": [
                          [
                            0,
                            "#0d0887"
                          ],
                          [
                            0.1111111111111111,
                            "#46039f"
                          ],
                          [
                            0.2222222222222222,
                            "#7201a8"
                          ],
                          [
                            0.3333333333333333,
                            "#9c179e"
                          ],
                          [
                            0.4444444444444444,
                            "#bd3786"
                          ],
                          [
                            0.5555555555555556,
                            "#d8576b"
                          ],
                          [
                            0.6666666666666666,
                            "#ed7953"
                          ],
                          [
                            0.7777777777777778,
                            "#fb9f3a"
                          ],
                          [
                            0.8888888888888888,
                            "#fdca26"
                          ],
                          [
                            1,
                            "#f0f921"
                          ]
                        ],
                        "type": "histogram2dcontour"
                      }
                    ],
                    "mesh3d": [
                      {
                        "colorbar": {
                          "outlinewidth": 0,
                          "ticks": ""
                        },
                        "type": "mesh3d"
                      }
                    ],
                    "parcoords": [
                      {
                        "line": {
                          "colorbar": {
                            "outlinewidth": 0,
                            "ticks": ""
                          }
                        },
                        "type": "parcoords"
                      }
                    ],
                    "pie": [
                      {
                        "automargin": true,
                        "type": "pie"
                      }
                    ],
                    "scatter": [
                      {
                        "fillpattern": {
                          "fillmode": "overlay",
                          "size": 10,
                          "solidity": 0.2
                        },
                        "type": "scatter"
                      }
                    ],
                    "scatter3d": [
                      {
                        "line": {
                          "colorbar": {
                            "outlinewidth": 0,
                            "ticks": ""
                          }
                        },
                        "marker": {
                          "colorbar": {
                            "outlinewidth": 0,
                            "ticks": ""
                          }
                        },
                        "type": "scatter3d"
                      }
                    ],
                    "scattercarpet": [
                      {
                        "marker": {
                          "colorbar": {
                            "outlinewidth": 0,
                            "ticks": ""
                          }
                        },
                        "type": "scattercarpet"
                      }
                    ],
                    "scattergeo": [
                      {
                        "marker": {
                          "colorbar": {
                            "outlinewidth": 0,
                            "ticks": ""
                          }
                        },
                        "type": "scattergeo"
                      }
                    ],
                    "scattergl": [
                      {
                        "marker": {
                          "colorbar": {
                            "outlinewidth": 0,
                            "ticks": ""
                          }
                        },
                        "type": "scattergl"
                      }
                    ],
                    "scattermapbox": [
                      {
                        "marker": {
                          "colorbar": {
                            "outlinewidth": 0,
                            "ticks": ""
                          }
                        },
                        "type": "scattermapbox"
                      }
                    ],
                    "scatterpolar": [
                      {
                        "marker": {
                          "colorbar": {
                            "outlinewidth": 0,
                            "ticks": ""
                          }
                        },
                        "type": "scatterpolar"
                      }
                    ],
                    "scatterpolargl": [
                      {
                        "marker": {
                          "colorbar": {
                            "outlinewidth": 0,
                            "ticks": ""
                          }
                        },
                        "type": "scatterpolargl"
                      }
                    ],
                    "scatterternary": [
                      {
                        "marker": {
                          "colorbar": {
                            "outlinewidth": 0,
                            "ticks": ""
                          }
                        },
                        "type": "scatterternary"
                      }
                    ],
                    "surface": [
                      {
                        "colorbar": {
                          "outlinewidth": 0,
                          "ticks": ""
                        },
                        "colorscale": [
                          [
                            0,
                            "#0d0887"
                          ],
                          [
                            0.1111111111111111,
                            "#46039f"
                          ],
                          [
                            0.2222222222222222,
                            "#7201a8"
                          ],
                          [
                            0.3333333333333333,
                            "#9c179e"
                          ],
                          [
                            0.4444444444444444,
                            "#bd3786"
                          ],
                          [
                            0.5555555555555556,
                            "#d8576b"
                          ],
                          [
                            0.6666666666666666,
                            "#ed7953"
                          ],
                          [
                            0.7777777777777778,
                            "#fb9f3a"
                          ],
                          [
                            0.8888888888888888,
                            "#fdca26"
                          ],
                          [
                            1,
                            "#f0f921"
                          ]
                        ],
                        "type": "surface"
                      }
                    ],
                    "table": [
                      {
                        "cells": {
                          "fill": {
                            "color": "#EBF0F8"
                          },
                          "line": {
                            "color": "white"
                          }
                        },
                        "header": {
                          "fill": {
                            "color": "#C8D4E3"
                          },
                          "line": {
                            "color": "white"
                          }
                        },
                        "type": "table"
                      }
                    ]
                  },
                  "layout": {
                    "annotationdefaults": {
                      "arrowcolor": "#2a3f5f",
                      "arrowhead": 0,
                      "arrowwidth": 1
                    },
                    "autotypenumbers": "strict",
                    "coloraxis": {
                      "colorbar": {
                        "outlinewidth": 0,
                        "ticks": ""
                      }
                    },
                    "colorscale": {
                      "diverging": [
                        [
                          0,
                          "#8e0152"
                        ],
                        [
                          0.1,
                          "#c51b7d"
                        ],
                        [
                          0.2,
                          "#de77ae"
                        ],
                        [
                          0.3,
                          "#f1b6da"
                        ],
                        [
                          0.4,
                          "#fde0ef"
                        ],
                        [
                          0.5,
                          "#f7f7f7"
                        ],
                        [
                          0.6,
                          "#e6f5d0"
                        ],
                        [
                          0.7,
                          "#b8e186"
                        ],
                        [
                          0.8,
                          "#7fbc41"
                        ],
                        [
                          0.9,
                          "#4d9221"
                        ],
                        [
                          1,
                          "#276419"
                        ]
                      ],
                      "sequential": [
                        [
                          0,
                          "#0d0887"
                        ],
                        [
                          0.1111111111111111,
                          "#46039f"
                        ],
                        [
                          0.2222222222222222,
                          "#7201a8"
                        ],
                        [
                          0.3333333333333333,
                          "#9c179e"
                        ],
                        [
                          0.4444444444444444,
                          "#bd3786"
                        ],
                        [
                          0.5555555555555556,
                          "#d8576b"
                        ],
                        [
                          0.6666666666666666,
                          "#ed7953"
                        ],
                        [
                          0.7777777777777778,
                          "#fb9f3a"
                        ],
                        [
                          0.8888888888888888,
                          "#fdca26"
                        ],
                        [
                          1,
                          "#f0f921"
                        ]
                      ],
                      "sequentialminus": [
                        [
                          0,
                          "#0d0887"
                        ],
                        [
                          0.1111111111111111,
                          "#46039f"
                        ],
                        [
                          0.2222222222222222,
                          "#7201a8"
                        ],
                        [
                          0.3333333333333333,
                          "#9c179e"
                        ],
                        [
                          0.4444444444444444,
                          "#bd3786"
                        ],
                        [
                          0.5555555555555556,
                          "#d8576b"
                        ],
                        [
                          0.6666666666666666,
                          "#ed7953"
                        ],
                        [
                          0.7777777777777778,
                          "#fb9f3a"
                        ],
                        [
                          0.8888888888888888,
                          "#fdca26"
                        ],
                        [
                          1,
                          "#f0f921"
                        ]
                      ]
                    },
                    "colorway": [
                      "#636efa",
                      "#EF553B",
                      "#00cc96",
                      "#ab63fa",
                      "#FFA15A",
                      "#19d3f3",
                      "#FF6692",
                      "#B6E880",
                      "#FF97FF",
                      "#FECB52"
                    ],
                    "font": {
                      "color": "#2a3f5f"
                    },
                    "geo": {
                      "bgcolor": "white",
                      "lakecolor": "white",
                      "landcolor": "#E5ECF6",
                      "showlakes": true,
                      "showland": true,
                      "subunitcolor": "white"
                    },
                    "hoverlabel": {
                      "align": "left"
                    },
                    "hovermode": "closest",
                    "mapbox": {
                      "style": "light"
                    },
                    "paper_bgcolor": "white",
                    "plot_bgcolor": "#E5ECF6",
                    "polar": {
                      "angularaxis": {
                        "gridcolor": "white",
                        "linecolor": "white",
                        "ticks": ""
                      },
                      "bgcolor": "#E5ECF6",
                      "radialaxis": {
                        "gridcolor": "white",
                        "linecolor": "white",
                        "ticks": ""
                      }
                    },
                    "scene": {
                      "xaxis": {
                        "backgroundcolor": "#E5ECF6",
                        "gridcolor": "white",
                        "gridwidth": 2,
                        "linecolor": "white",
                        "showbackground": true,
                        "ticks": "",
                        "zerolinecolor": "white"
                      },
                      "yaxis": {
                        "backgroundcolor": "#E5ECF6",
                        "gridcolor": "white",
                        "gridwidth": 2,
                        "linecolor": "white",
                        "showbackground": true,
                        "ticks": "",
                        "zerolinecolor": "white"
                      },
                      "zaxis": {
                        "backgroundcolor": "#E5ECF6",
                        "gridcolor": "white",
                        "gridwidth": 2,
                        "linecolor": "white",
                        "showbackground": true,
                        "ticks": "",
                        "zerolinecolor": "white"
                      }
                    },
                    "shapedefaults": {
                      "line": {
                        "color": "#2a3f5f"
                      }
                    },
                    "ternary": {
                      "aaxis": {
                        "gridcolor": "white",
                        "linecolor": "white",
                        "ticks": ""
                      },
                      "baxis": {
                        "gridcolor": "white",
                        "linecolor": "white",
                        "ticks": ""
                      },
                      "bgcolor": "#E5ECF6",
                      "caxis": {
                        "gridcolor": "white",
                        "linecolor": "white",
                        "ticks": ""
                      }
                    },
                    "title": {
                      "x": 0.05
                    },
                    "xaxis": {
                      "automargin": true,
                      "gridcolor": "white",
                      "linecolor": "white",
                      "ticks": "",
                      "title": {
                        "standoff": 15
                      },
                      "zerolinecolor": "white",
                      "zerolinewidth": 2
                    },
                    "yaxis": {
                      "automargin": true,
                      "gridcolor": "white",
                      "linecolor": "white",
                      "ticks": "",
                      "title": {
                        "standoff": 15
                      },
                      "zerolinecolor": "white",
                      "zerolinewidth": 2
                    }
                  }
                },
                "title": {
                  "text": "Vendas por semana da loja 20 nas semanas com e sem feriado"
                },
                "xaxis": {
                  "anchor": "y",
                  "domain": [
                    0,
                    1
                  ],
                  "title": {
                    "text": "Date"
                  }
                },
                "yaxis": {
                  "anchor": "x",
                  "domain": [
                    0,
                    1
                  ],
                  "title": {
                    "text": "Weekly_Sales"
                  }
                }
              }
            }
          },
          "metadata": {},
          "output_type": "display_data"
        }
      ],
      "source": [
        "# Flag se é ou não semana com feriado (1 -Holiday Week 0 - Non-Holiday Week)\n",
        "# Flag if it is or is not a holiday week (1 -Holiday Week 0 - Non-Holiday Week)\n",
        "# criar uma coluna com o valor 1 para as semanas com feriado e 0 para as semanas sem feriado\n",
        "loja_20['Holiday_Flag'] = np.where(loja_20['Holiday_Flag'] == True, 1, 0)\n",
        "# plotar o gráfico\n",
        "fig = ex.line(loja_20, x='Date', y='Weekly_Sales', color='Holiday_Flag', title='Vendas por semana da loja 20 nas semanas com e sem feriado')\n",
        "fig.show()"
      ]
    },
    {
      "cell_type": "code",
      "execution_count": null,
      "metadata": {},
      "outputs": [
        {
          "data": {
            "application/vnd.plotly.v1+json": {
              "config": {
                "plotlyServerURL": "https://plot.ly"
              },
              "data": [
                {
                  "hovertemplate": "Holiday_Flag=0<br>Date=%{x}<br>Weekly_Sales_mean=%{y}<extra></extra>",
                  "legendgroup": "0",
                  "line": {
                    "color": "#636efa",
                    "dash": "solid"
                  },
                  "marker": {
                    "symbol": "circle"
                  },
                  "mode": "lines",
                  "name": "0",
                  "orientation": "v",
                  "showlegend": true,
                  "type": "scatter",
                  "x": [
                    "01-04-2011",
                    "01-06-2012",
                    "01-07-2011",
                    "01-10-2010",
                    "02-03-2012",
                    "02-04-2010",
                    "02-07-2010",
                    "02-09-2011",
                    "02-12-2011",
                    "03-02-2012",
                    "03-06-2011",
                    "03-08-2012",
                    "03-09-2010",
                    "03-12-2010",
                    "04-02-2011",
                    "04-03-2011",
                    "04-05-2012",
                    "04-06-2010",
                    "04-11-2011",
                    "05-02-2010",
                    "05-03-2010",
                    "05-08-2011",
                    "05-10-2012",
                    "05-11-2010",
                    "06-01-2012",
                    "06-04-2012",
                    "06-05-2011",
                    "06-07-2012",
                    "06-08-2010",
                    "07-01-2011",
                    "07-05-2010",
                    "07-10-2011",
                    "08-04-2011",
                    "08-06-2012",
                    "08-07-2011",
                    "08-10-2010",
                    "09-03-2012",
                    "09-04-2010",
                    "09-07-2010",
                    "09-12-2011",
                    "10-06-2011",
                    "10-08-2012",
                    "10-12-2010",
                    "11-03-2011",
                    "11-05-2012",
                    "11-06-2010",
                    "11-11-2011",
                    "12-03-2010",
                    "12-08-2011",
                    "12-10-2012",
                    "12-11-2010",
                    "13-01-2012",
                    "13-04-2012",
                    "13-05-2011",
                    "13-07-2012",
                    "13-08-2010",
                    "14-01-2011",
                    "14-05-2010",
                    "14-09-2012",
                    "14-10-2011",
                    "15-04-2011",
                    "15-06-2012",
                    "15-07-2011",
                    "15-10-2010",
                    "16-03-2012",
                    "16-04-2010",
                    "16-07-2010",
                    "16-09-2011",
                    "16-12-2011",
                    "17-02-2012",
                    "17-06-2011",
                    "17-08-2012",
                    "17-09-2010",
                    "17-12-2010",
                    "18-02-2011",
                    "18-03-2011",
                    "18-05-2012",
                    "18-06-2010",
                    "18-11-2011",
                    "19-02-2010",
                    "19-03-2010",
                    "19-08-2011",
                    "19-10-2012",
                    "19-11-2010",
                    "20-01-2012",
                    "20-04-2012",
                    "20-05-2011",
                    "20-07-2012",
                    "20-08-2010",
                    "21-01-2011",
                    "21-05-2010",
                    "21-09-2012",
                    "21-10-2011",
                    "22-04-2011",
                    "22-06-2012",
                    "22-07-2011",
                    "22-10-2010",
                    "23-03-2012",
                    "23-04-2010",
                    "23-07-2010",
                    "23-09-2011",
                    "23-12-2011",
                    "24-02-2012",
                    "24-06-2011",
                    "24-08-2012",
                    "24-09-2010",
                    "24-12-2010",
                    "25-02-2011",
                    "25-03-2011",
                    "25-05-2012",
                    "25-06-2010",
                    "26-02-2010",
                    "26-03-2010",
                    "26-08-2011",
                    "26-10-2012",
                    "27-01-2012",
                    "27-04-2012",
                    "27-05-2011",
                    "27-07-2012",
                    "27-08-2010",
                    "28-01-2011",
                    "28-05-2010",
                    "28-09-2012",
                    "28-10-2011",
                    "29-04-2011",
                    "29-06-2012",
                    "29-07-2011",
                    "29-10-2010",
                    "30-03-2012",
                    "30-04-2010",
                    "30-07-2010",
                    "30-09-2011",
                    "31-08-2012"
                  ],
                  "xaxis": "x",
                  "y": [
                    965755.3597777777,
                    1072925.5493333333,
                    1057300.4333333333,
                    938663.9082222221,
                    1041356.3326666666,
                    1120529.5835555554,
                    1087055.211111111,
                    1008369.4060000001,
                    1097567.922,
                    1024124.6242222222,
                    1083822.092888889,
                    1055242.2124444444,
                    1048761.2802222222,
                    1109089.5084444445,
                    1025624.6915555554,
                    1044013.4164444444,
                    1047204.3984444444,
                    1115300.958222222,
                    1081234.3177777778,
                    1105572.0111111111,
                    1041588.2288888888,
                    1067010.377111111,
                    1057036.4291111112,
                    1017377.3753333334,
                    999009.3766666667,
                    1188940.3526666665,
                    1041376.8508888888,
                    1138956.041777778,
                    1071222.2026666666,
                    950573.0615555554,
                    1077849.8560000001,
                    1049148.6302222223,
                    1019721.4844444444,
                    1103359.372888889,
                    1063539.195111111,
                    1002288.3162222222,
                    1055121.2024444444,
                    1052562.0097777778,
                    1064433.986,
                    1234692.171111111,
                    1059327.4368888887,
                    1053410.023111111,
                    1237039.342,
                    991718.2088888888,
                    1042797.3108888889,
                    1062812.1493333334,
                    1077204.9944444445,
                    1020564.3668888889,
                    1027768.2046666667,
                    1025078.0944444444,
                    1024995.5739999999,
                    933846.1884444443,
                    1036205.809111111,
                    1009914.3293333333,
                    1024438.4911111111,
                    1032542.6313333334,
                    903859.512,
                    1007335.1155555557,
                    982800.8588888888,
                    986107.1177777777,
                    999407.292,
                    1075824.6822222222,
                    1011465.1093333333,
                    958877.1877777779,
                    1042255.6653333333,
                    1004081.4906666667,
                    1027642.2128888889,
                    973199.1128888888,
                    1335237.6875555555,
                    1115490.1546666666,
                    1054390.2615555557,
                    1052321.1566666665,
                    957349.478,
                    1373795.5522222223,
                    1082581.4248888888,
                    997162.7993333333,
                    1040531.9826666666,
                    1058267.694,
                    1031977.3457777778,
                    1072822.084,
                    999754.992,
                    1042607.7248888889,
                    1002720.2348888889,
                    1002790.7595555555,
                    935133.2568888889,
                    1001611.772888889,
                    978813.2891111111,
                    1023545.41,
                    1045798.9537777778,
                    903436.6228888889,
                    1002669.0680000001,
                    985656.6024444444,
                    1018198.9653333332,
                    1081704.2680000002,
                    1059295.2215555555,
                    1006098.0308888889,
                    957037.1004444443,
                    999862.098888889,
                    994098.9457777778,
                    997529.9802222222,
                    949291.0384444444,
                    1711072.029111111,
                    1017144.5904444444,
                    1019646.5462222222,
                    1054384.9688888888,
                    919078.0979999999,
                    1798475.9022222222,
                    980574.663111111,
                    952804.4262222222,
                    1064276.9624444444,
                    1035756.362,
                    977079.3584444445,
                    980754.69,
                    1053709.9655555557,
                    1012091.4731111111,
                    885221.6593333334,
                    971484.4197777777,
                    1006521.2675555556,
                    979936.7771111111,
                    1020216.4542222222,
                    879996.7331111112,
                    1061277.8346666668,
                    971886.6533333333,
                    1019018.2455555554,
                    967334.0617777779,
                    1035491.3804444444,
                    970739.4284444444,
                    968951.7988888889,
                    1006063.6004444446,
                    971225.0380000001,
                    991785.8537777779,
                    937685.1291111112,
                    1047991.9873333334
                  ],
                  "yaxis": "y"
                },
                {
                  "hovertemplate": "Holiday_Flag=1<br>Date=%{x}<br>Weekly_Sales_mean=%{y}<extra></extra>",
                  "legendgroup": "1",
                  "line": {
                    "color": "#EF553B",
                    "dash": "solid"
                  },
                  "marker": {
                    "symbol": "circle"
                  },
                  "mode": "lines",
                  "name": "1",
                  "orientation": "v",
                  "showlegend": true,
                  "type": "scatter",
                  "x": [
                    "07-09-2012",
                    "09-09-2011",
                    "10-02-2012",
                    "10-09-2010",
                    "11-02-2011",
                    "12-02-2010",
                    "25-11-2011",
                    "26-11-2010",
                    "30-12-2011",
                    "31-12-2010"
                  ],
                  "xaxis": "x",
                  "y": [
                    1074001.318,
                    1039182.834,
                    1111320.176,
                    1014097.7297777777,
                    1051915.3953333334,
                    1074148.3917777778,
                    1479857.8946666666,
                    1462688.960888889,
                    1023165.8008888889,
                    898500.4222222222
                  ],
                  "yaxis": "y"
                }
              ],
              "layout": {
                "legend": {
                  "title": {
                    "text": "Holiday_Flag"
                  },
                  "tracegroupgap": 0
                },
                "template": {
                  "data": {
                    "bar": [
                      {
                        "error_x": {
                          "color": "#2a3f5f"
                        },
                        "error_y": {
                          "color": "#2a3f5f"
                        },
                        "marker": {
                          "line": {
                            "color": "#E5ECF6",
                            "width": 0.5
                          },
                          "pattern": {
                            "fillmode": "overlay",
                            "size": 10,
                            "solidity": 0.2
                          }
                        },
                        "type": "bar"
                      }
                    ],
                    "barpolar": [
                      {
                        "marker": {
                          "line": {
                            "color": "#E5ECF6",
                            "width": 0.5
                          },
                          "pattern": {
                            "fillmode": "overlay",
                            "size": 10,
                            "solidity": 0.2
                          }
                        },
                        "type": "barpolar"
                      }
                    ],
                    "carpet": [
                      {
                        "aaxis": {
                          "endlinecolor": "#2a3f5f",
                          "gridcolor": "white",
                          "linecolor": "white",
                          "minorgridcolor": "white",
                          "startlinecolor": "#2a3f5f"
                        },
                        "baxis": {
                          "endlinecolor": "#2a3f5f",
                          "gridcolor": "white",
                          "linecolor": "white",
                          "minorgridcolor": "white",
                          "startlinecolor": "#2a3f5f"
                        },
                        "type": "carpet"
                      }
                    ],
                    "choropleth": [
                      {
                        "colorbar": {
                          "outlinewidth": 0,
                          "ticks": ""
                        },
                        "type": "choropleth"
                      }
                    ],
                    "contour": [
                      {
                        "colorbar": {
                          "outlinewidth": 0,
                          "ticks": ""
                        },
                        "colorscale": [
                          [
                            0,
                            "#0d0887"
                          ],
                          [
                            0.1111111111111111,
                            "#46039f"
                          ],
                          [
                            0.2222222222222222,
                            "#7201a8"
                          ],
                          [
                            0.3333333333333333,
                            "#9c179e"
                          ],
                          [
                            0.4444444444444444,
                            "#bd3786"
                          ],
                          [
                            0.5555555555555556,
                            "#d8576b"
                          ],
                          [
                            0.6666666666666666,
                            "#ed7953"
                          ],
                          [
                            0.7777777777777778,
                            "#fb9f3a"
                          ],
                          [
                            0.8888888888888888,
                            "#fdca26"
                          ],
                          [
                            1,
                            "#f0f921"
                          ]
                        ],
                        "type": "contour"
                      }
                    ],
                    "contourcarpet": [
                      {
                        "colorbar": {
                          "outlinewidth": 0,
                          "ticks": ""
                        },
                        "type": "contourcarpet"
                      }
                    ],
                    "heatmap": [
                      {
                        "colorbar": {
                          "outlinewidth": 0,
                          "ticks": ""
                        },
                        "colorscale": [
                          [
                            0,
                            "#0d0887"
                          ],
                          [
                            0.1111111111111111,
                            "#46039f"
                          ],
                          [
                            0.2222222222222222,
                            "#7201a8"
                          ],
                          [
                            0.3333333333333333,
                            "#9c179e"
                          ],
                          [
                            0.4444444444444444,
                            "#bd3786"
                          ],
                          [
                            0.5555555555555556,
                            "#d8576b"
                          ],
                          [
                            0.6666666666666666,
                            "#ed7953"
                          ],
                          [
                            0.7777777777777778,
                            "#fb9f3a"
                          ],
                          [
                            0.8888888888888888,
                            "#fdca26"
                          ],
                          [
                            1,
                            "#f0f921"
                          ]
                        ],
                        "type": "heatmap"
                      }
                    ],
                    "heatmapgl": [
                      {
                        "colorbar": {
                          "outlinewidth": 0,
                          "ticks": ""
                        },
                        "colorscale": [
                          [
                            0,
                            "#0d0887"
                          ],
                          [
                            0.1111111111111111,
                            "#46039f"
                          ],
                          [
                            0.2222222222222222,
                            "#7201a8"
                          ],
                          [
                            0.3333333333333333,
                            "#9c179e"
                          ],
                          [
                            0.4444444444444444,
                            "#bd3786"
                          ],
                          [
                            0.5555555555555556,
                            "#d8576b"
                          ],
                          [
                            0.6666666666666666,
                            "#ed7953"
                          ],
                          [
                            0.7777777777777778,
                            "#fb9f3a"
                          ],
                          [
                            0.8888888888888888,
                            "#fdca26"
                          ],
                          [
                            1,
                            "#f0f921"
                          ]
                        ],
                        "type": "heatmapgl"
                      }
                    ],
                    "histogram": [
                      {
                        "marker": {
                          "pattern": {
                            "fillmode": "overlay",
                            "size": 10,
                            "solidity": 0.2
                          }
                        },
                        "type": "histogram"
                      }
                    ],
                    "histogram2d": [
                      {
                        "colorbar": {
                          "outlinewidth": 0,
                          "ticks": ""
                        },
                        "colorscale": [
                          [
                            0,
                            "#0d0887"
                          ],
                          [
                            0.1111111111111111,
                            "#46039f"
                          ],
                          [
                            0.2222222222222222,
                            "#7201a8"
                          ],
                          [
                            0.3333333333333333,
                            "#9c179e"
                          ],
                          [
                            0.4444444444444444,
                            "#bd3786"
                          ],
                          [
                            0.5555555555555556,
                            "#d8576b"
                          ],
                          [
                            0.6666666666666666,
                            "#ed7953"
                          ],
                          [
                            0.7777777777777778,
                            "#fb9f3a"
                          ],
                          [
                            0.8888888888888888,
                            "#fdca26"
                          ],
                          [
                            1,
                            "#f0f921"
                          ]
                        ],
                        "type": "histogram2d"
                      }
                    ],
                    "histogram2dcontour": [
                      {
                        "colorbar": {
                          "outlinewidth": 0,
                          "ticks": ""
                        },
                        "colorscale": [
                          [
                            0,
                            "#0d0887"
                          ],
                          [
                            0.1111111111111111,
                            "#46039f"
                          ],
                          [
                            0.2222222222222222,
                            "#7201a8"
                          ],
                          [
                            0.3333333333333333,
                            "#9c179e"
                          ],
                          [
                            0.4444444444444444,
                            "#bd3786"
                          ],
                          [
                            0.5555555555555556,
                            "#d8576b"
                          ],
                          [
                            0.6666666666666666,
                            "#ed7953"
                          ],
                          [
                            0.7777777777777778,
                            "#fb9f3a"
                          ],
                          [
                            0.8888888888888888,
                            "#fdca26"
                          ],
                          [
                            1,
                            "#f0f921"
                          ]
                        ],
                        "type": "histogram2dcontour"
                      }
                    ],
                    "mesh3d": [
                      {
                        "colorbar": {
                          "outlinewidth": 0,
                          "ticks": ""
                        },
                        "type": "mesh3d"
                      }
                    ],
                    "parcoords": [
                      {
                        "line": {
                          "colorbar": {
                            "outlinewidth": 0,
                            "ticks": ""
                          }
                        },
                        "type": "parcoords"
                      }
                    ],
                    "pie": [
                      {
                        "automargin": true,
                        "type": "pie"
                      }
                    ],
                    "scatter": [
                      {
                        "fillpattern": {
                          "fillmode": "overlay",
                          "size": 10,
                          "solidity": 0.2
                        },
                        "type": "scatter"
                      }
                    ],
                    "scatter3d": [
                      {
                        "line": {
                          "colorbar": {
                            "outlinewidth": 0,
                            "ticks": ""
                          }
                        },
                        "marker": {
                          "colorbar": {
                            "outlinewidth": 0,
                            "ticks": ""
                          }
                        },
                        "type": "scatter3d"
                      }
                    ],
                    "scattercarpet": [
                      {
                        "marker": {
                          "colorbar": {
                            "outlinewidth": 0,
                            "ticks": ""
                          }
                        },
                        "type": "scattercarpet"
                      }
                    ],
                    "scattergeo": [
                      {
                        "marker": {
                          "colorbar": {
                            "outlinewidth": 0,
                            "ticks": ""
                          }
                        },
                        "type": "scattergeo"
                      }
                    ],
                    "scattergl": [
                      {
                        "marker": {
                          "colorbar": {
                            "outlinewidth": 0,
                            "ticks": ""
                          }
                        },
                        "type": "scattergl"
                      }
                    ],
                    "scattermapbox": [
                      {
                        "marker": {
                          "colorbar": {
                            "outlinewidth": 0,
                            "ticks": ""
                          }
                        },
                        "type": "scattermapbox"
                      }
                    ],
                    "scatterpolar": [
                      {
                        "marker": {
                          "colorbar": {
                            "outlinewidth": 0,
                            "ticks": ""
                          }
                        },
                        "type": "scatterpolar"
                      }
                    ],
                    "scatterpolargl": [
                      {
                        "marker": {
                          "colorbar": {
                            "outlinewidth": 0,
                            "ticks": ""
                          }
                        },
                        "type": "scatterpolargl"
                      }
                    ],
                    "scatterternary": [
                      {
                        "marker": {
                          "colorbar": {
                            "outlinewidth": 0,
                            "ticks": ""
                          }
                        },
                        "type": "scatterternary"
                      }
                    ],
                    "surface": [
                      {
                        "colorbar": {
                          "outlinewidth": 0,
                          "ticks": ""
                        },
                        "colorscale": [
                          [
                            0,
                            "#0d0887"
                          ],
                          [
                            0.1111111111111111,
                            "#46039f"
                          ],
                          [
                            0.2222222222222222,
                            "#7201a8"
                          ],
                          [
                            0.3333333333333333,
                            "#9c179e"
                          ],
                          [
                            0.4444444444444444,
                            "#bd3786"
                          ],
                          [
                            0.5555555555555556,
                            "#d8576b"
                          ],
                          [
                            0.6666666666666666,
                            "#ed7953"
                          ],
                          [
                            0.7777777777777778,
                            "#fb9f3a"
                          ],
                          [
                            0.8888888888888888,
                            "#fdca26"
                          ],
                          [
                            1,
                            "#f0f921"
                          ]
                        ],
                        "type": "surface"
                      }
                    ],
                    "table": [
                      {
                        "cells": {
                          "fill": {
                            "color": "#EBF0F8"
                          },
                          "line": {
                            "color": "white"
                          }
                        },
                        "header": {
                          "fill": {
                            "color": "#C8D4E3"
                          },
                          "line": {
                            "color": "white"
                          }
                        },
                        "type": "table"
                      }
                    ]
                  },
                  "layout": {
                    "annotationdefaults": {
                      "arrowcolor": "#2a3f5f",
                      "arrowhead": 0,
                      "arrowwidth": 1
                    },
                    "autotypenumbers": "strict",
                    "coloraxis": {
                      "colorbar": {
                        "outlinewidth": 0,
                        "ticks": ""
                      }
                    },
                    "colorscale": {
                      "diverging": [
                        [
                          0,
                          "#8e0152"
                        ],
                        [
                          0.1,
                          "#c51b7d"
                        ],
                        [
                          0.2,
                          "#de77ae"
                        ],
                        [
                          0.3,
                          "#f1b6da"
                        ],
                        [
                          0.4,
                          "#fde0ef"
                        ],
                        [
                          0.5,
                          "#f7f7f7"
                        ],
                        [
                          0.6,
                          "#e6f5d0"
                        ],
                        [
                          0.7,
                          "#b8e186"
                        ],
                        [
                          0.8,
                          "#7fbc41"
                        ],
                        [
                          0.9,
                          "#4d9221"
                        ],
                        [
                          1,
                          "#276419"
                        ]
                      ],
                      "sequential": [
                        [
                          0,
                          "#0d0887"
                        ],
                        [
                          0.1111111111111111,
                          "#46039f"
                        ],
                        [
                          0.2222222222222222,
                          "#7201a8"
                        ],
                        [
                          0.3333333333333333,
                          "#9c179e"
                        ],
                        [
                          0.4444444444444444,
                          "#bd3786"
                        ],
                        [
                          0.5555555555555556,
                          "#d8576b"
                        ],
                        [
                          0.6666666666666666,
                          "#ed7953"
                        ],
                        [
                          0.7777777777777778,
                          "#fb9f3a"
                        ],
                        [
                          0.8888888888888888,
                          "#fdca26"
                        ],
                        [
                          1,
                          "#f0f921"
                        ]
                      ],
                      "sequentialminus": [
                        [
                          0,
                          "#0d0887"
                        ],
                        [
                          0.1111111111111111,
                          "#46039f"
                        ],
                        [
                          0.2222222222222222,
                          "#7201a8"
                        ],
                        [
                          0.3333333333333333,
                          "#9c179e"
                        ],
                        [
                          0.4444444444444444,
                          "#bd3786"
                        ],
                        [
                          0.5555555555555556,
                          "#d8576b"
                        ],
                        [
                          0.6666666666666666,
                          "#ed7953"
                        ],
                        [
                          0.7777777777777778,
                          "#fb9f3a"
                        ],
                        [
                          0.8888888888888888,
                          "#fdca26"
                        ],
                        [
                          1,
                          "#f0f921"
                        ]
                      ]
                    },
                    "colorway": [
                      "#636efa",
                      "#EF553B",
                      "#00cc96",
                      "#ab63fa",
                      "#FFA15A",
                      "#19d3f3",
                      "#FF6692",
                      "#B6E880",
                      "#FF97FF",
                      "#FECB52"
                    ],
                    "font": {
                      "color": "#2a3f5f"
                    },
                    "geo": {
                      "bgcolor": "white",
                      "lakecolor": "white",
                      "landcolor": "#E5ECF6",
                      "showlakes": true,
                      "showland": true,
                      "subunitcolor": "white"
                    },
                    "hoverlabel": {
                      "align": "left"
                    },
                    "hovermode": "closest",
                    "mapbox": {
                      "style": "light"
                    },
                    "paper_bgcolor": "white",
                    "plot_bgcolor": "#E5ECF6",
                    "polar": {
                      "angularaxis": {
                        "gridcolor": "white",
                        "linecolor": "white",
                        "ticks": ""
                      },
                      "bgcolor": "#E5ECF6",
                      "radialaxis": {
                        "gridcolor": "white",
                        "linecolor": "white",
                        "ticks": ""
                      }
                    },
                    "scene": {
                      "xaxis": {
                        "backgroundcolor": "#E5ECF6",
                        "gridcolor": "white",
                        "gridwidth": 2,
                        "linecolor": "white",
                        "showbackground": true,
                        "ticks": "",
                        "zerolinecolor": "white"
                      },
                      "yaxis": {
                        "backgroundcolor": "#E5ECF6",
                        "gridcolor": "white",
                        "gridwidth": 2,
                        "linecolor": "white",
                        "showbackground": true,
                        "ticks": "",
                        "zerolinecolor": "white"
                      },
                      "zaxis": {
                        "backgroundcolor": "#E5ECF6",
                        "gridcolor": "white",
                        "gridwidth": 2,
                        "linecolor": "white",
                        "showbackground": true,
                        "ticks": "",
                        "zerolinecolor": "white"
                      }
                    },
                    "shapedefaults": {
                      "line": {
                        "color": "#2a3f5f"
                      }
                    },
                    "ternary": {
                      "aaxis": {
                        "gridcolor": "white",
                        "linecolor": "white",
                        "ticks": ""
                      },
                      "baxis": {
                        "gridcolor": "white",
                        "linecolor": "white",
                        "ticks": ""
                      },
                      "bgcolor": "#E5ECF6",
                      "caxis": {
                        "gridcolor": "white",
                        "linecolor": "white",
                        "ticks": ""
                      }
                    },
                    "title": {
                      "x": 0.05
                    },
                    "xaxis": {
                      "automargin": true,
                      "gridcolor": "white",
                      "linecolor": "white",
                      "ticks": "",
                      "title": {
                        "standoff": 15
                      },
                      "zerolinecolor": "white",
                      "zerolinewidth": 2
                    },
                    "yaxis": {
                      "automargin": true,
                      "gridcolor": "white",
                      "linecolor": "white",
                      "ticks": "",
                      "title": {
                        "standoff": 15
                      },
                      "zerolinecolor": "white",
                      "zerolinewidth": 2
                    }
                  }
                },
                "title": {
                  "text": "Média de vendas por semana de todas as lojas considerando o Holiday_Flag"
                },
                "xaxis": {
                  "anchor": "y",
                  "domain": [
                    0,
                    1
                  ],
                  "title": {
                    "text": "Date"
                  }
                },
                "yaxis": {
                  "anchor": "x",
                  "domain": [
                    0,
                    1
                  ],
                  "title": {
                    "text": "Weekly_Sales_mean"
                  }
                }
              }
            }
          },
          "metadata": {},
          "output_type": "display_data"
        }
      ],
      "source": [
        "# plotar o gráficode linha com as medias de vendas por semana de todas as lojas considerando o Holiday_Flag\n",
        "# plotar o gráfico de linha com as medias de vendas por semana de todas as lojas considerando o Holiday_Flag\n",
        "vendas_por_data = walmart.groupby(['Date', 'Holiday_Flag']).agg({'Weekly_Sales': [np.mean]}).reset_index()\n",
        "# renomeando as colunas\n",
        "vendas_por_data.columns = ['Date', 'Holiday_Flag', 'Weekly_Sales_mean']\n",
        "# ordenando as médias de venda do maior para o menor\n",
        "vendas_por_data = vendas_por_data.sort_values(by='Date')\n",
        "# plotar o gráfico\n",
        "fig = ex.line(vendas_por_data, x='Date', y='Weekly_Sales_mean', color='Holiday_Flag', title='Média de vendas por semana de todas as lojas considerando o Holiday_Flag')\n",
        "fig.show()\n"
      ]
    }
  ],
  "metadata": {
    "colab": {
      "provenance": []
    },
    "kernelspec": {
      "display_name": "Python 3",
      "name": "python3"
    },
    "language_info": {
      "codemirror_mode": {
        "name": "ipython",
        "version": 3
      },
      "file_extension": ".py",
      "mimetype": "text/x-python",
      "name": "python",
      "nbconvert_exporter": "python",
      "pygments_lexer": "ipython3",
      "version": "3.9.7"
    }
  },
  "nbformat": 4,
  "nbformat_minor": 0
}
