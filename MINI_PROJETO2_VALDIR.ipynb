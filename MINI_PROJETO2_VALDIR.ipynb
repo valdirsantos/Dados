{
  "cells": [
    {
      "cell_type": "code",
      "execution_count": 21,
      "metadata": {
        "id": "_ur7Lgq-H_u3"
      },
      "outputs": [],
      "source": [
        "import pandas as pd\n",
        "import numpy as np\n",
        "import seaborn as sns\n",
        "import matplotlib.pyplot as plt\n",
        "import plotly.express as ex \n"
      ]
    },
    {
      "cell_type": "code",
      "execution_count": 4,
      "metadata": {
        "id": "lWdQbJTqdTtn"
      },
      "outputs": [],
      "source": [
        "walmart = pd.read_csv('https://raw.githubusercontent.com/valdirdpg/curso-dnc/master/MODULO-4/mini-projeto2/Walmart.csv')"
      ]
    },
    {
      "cell_type": "markdown",
      "metadata": {
        "id": "xw9PwrP0f5eB"
      },
      "source": [
        "\n",
        "\n",
        "```\n",
        "Super Bowl     12-Feb-10, 11-Feb-11, 10-Feb-12\n",
        "Labour Day     10-Sep-10, 09-Sep-11, 07-Sep-12\n",
        "Thanksgiving   26-Nov-10, 25-Nov-11, 23-Nov-12\n",
        "Christmas      31-Dec-10, 30-Dec-11, 28-Dec-12\n",
        "\n",
        "**Variável**        **Descrição**\n",
        "Store              Número da Loja\n",
        "Date               Semana de Venda\n",
        "Weekly_Sales       Venda Naquela Semana\n",
        "Holiday_Flag       Flag se é ou não semana com feriado (1 -\n",
        "                   Holiday Week 0 - Non-Holiday Week)\n",
        "Temperature        Temperatura do dia em °F\n",
        "Fuel_Price         Preço do combustível na região da loja\n",
        "CPI                Índice de preços ao consumidor\n",
        "Unemployment       Taxa de desemprego\n",
        "```\n",
        "\n",
        "\n"
      ]
    },
    {
      "attachments": {},
      "cell_type": "markdown",
      "metadata": {
        "id": "x5MRLkTCiwnS"
      },
      "source": [
        "Qual o preço médio de venda semanal por loja?\n",
        "Qual o atributo que tem maior correlação (positiva ou negativa) com o número de\n",
        "vendas? (E que faça sentido)\n",
        "Da loja com maior venda acumulada (soma de vendas de todo o período), quantas\n",
        "semanas do ano ele ultrapassou a média do período?\n",
        "Faça um gráfico com as vendas máximas, mínimas e médias de todas as lojas ao\n",
        "longo do tempo. Ressalte de alguma forma, o período de feriados mencionados\n",
        "acima.\n",
        "    Pensando na expansão de uma das lojas, que loja você escolheria e o por que?"
      ]
    },
    {
      "cell_type": "code",
      "execution_count": 5,
      "metadata": {},
      "outputs": [],
      "source": [
        "# formatar weefly sales com duas casas decimais\n",
        "walmart['Weekly_Sales'] = walmart['Weekly_Sales'].apply(lambda x: round(x, 2))"
      ]
    },
    {
      "cell_type": "code",
      "execution_count": 6,
      "metadata": {},
      "outputs": [
        {
          "data": {
            "text/html": [
              "<div>\n",
              "<style scoped>\n",
              "    .dataframe tbody tr th:only-of-type {\n",
              "        vertical-align: middle;\n",
              "    }\n",
              "\n",
              "    .dataframe tbody tr th {\n",
              "        vertical-align: top;\n",
              "    }\n",
              "\n",
              "    .dataframe thead th {\n",
              "        text-align: right;\n",
              "    }\n",
              "</style>\n",
              "<table border=\"1\" class=\"dataframe\">\n",
              "  <thead>\n",
              "    <tr style=\"text-align: right;\">\n",
              "      <th></th>\n",
              "      <th>Store</th>\n",
              "      <th>Weekly_Sales</th>\n",
              "      <th>Holiday_Flag</th>\n",
              "      <th>Temperature</th>\n",
              "      <th>Fuel_Price</th>\n",
              "      <th>CPI</th>\n",
              "      <th>Unemployment</th>\n",
              "    </tr>\n",
              "  </thead>\n",
              "  <tbody>\n",
              "    <tr>\n",
              "      <th>count</th>\n",
              "      <td>6435.000000</td>\n",
              "      <td>6.435000e+03</td>\n",
              "      <td>6435.000000</td>\n",
              "      <td>6435.000000</td>\n",
              "      <td>6435.000000</td>\n",
              "      <td>6435.000000</td>\n",
              "      <td>6435.000000</td>\n",
              "    </tr>\n",
              "    <tr>\n",
              "      <th>mean</th>\n",
              "      <td>23.000000</td>\n",
              "      <td>1.046965e+06</td>\n",
              "      <td>0.069930</td>\n",
              "      <td>60.663782</td>\n",
              "      <td>3.358607</td>\n",
              "      <td>171.578394</td>\n",
              "      <td>7.999151</td>\n",
              "    </tr>\n",
              "    <tr>\n",
              "      <th>std</th>\n",
              "      <td>12.988182</td>\n",
              "      <td>5.643666e+05</td>\n",
              "      <td>0.255049</td>\n",
              "      <td>18.444933</td>\n",
              "      <td>0.459020</td>\n",
              "      <td>39.356712</td>\n",
              "      <td>1.875885</td>\n",
              "    </tr>\n",
              "    <tr>\n",
              "      <th>min</th>\n",
              "      <td>1.000000</td>\n",
              "      <td>2.099862e+05</td>\n",
              "      <td>0.000000</td>\n",
              "      <td>-2.060000</td>\n",
              "      <td>2.472000</td>\n",
              "      <td>126.064000</td>\n",
              "      <td>3.879000</td>\n",
              "    </tr>\n",
              "    <tr>\n",
              "      <th>25%</th>\n",
              "      <td>12.000000</td>\n",
              "      <td>5.533501e+05</td>\n",
              "      <td>0.000000</td>\n",
              "      <td>47.460000</td>\n",
              "      <td>2.933000</td>\n",
              "      <td>131.735000</td>\n",
              "      <td>6.891000</td>\n",
              "    </tr>\n",
              "    <tr>\n",
              "      <th>50%</th>\n",
              "      <td>23.000000</td>\n",
              "      <td>9.607460e+05</td>\n",
              "      <td>0.000000</td>\n",
              "      <td>62.670000</td>\n",
              "      <td>3.445000</td>\n",
              "      <td>182.616521</td>\n",
              "      <td>7.874000</td>\n",
              "    </tr>\n",
              "    <tr>\n",
              "      <th>75%</th>\n",
              "      <td>34.000000</td>\n",
              "      <td>1.420159e+06</td>\n",
              "      <td>0.000000</td>\n",
              "      <td>74.940000</td>\n",
              "      <td>3.735000</td>\n",
              "      <td>212.743293</td>\n",
              "      <td>8.622000</td>\n",
              "    </tr>\n",
              "    <tr>\n",
              "      <th>max</th>\n",
              "      <td>45.000000</td>\n",
              "      <td>3.818686e+06</td>\n",
              "      <td>1.000000</td>\n",
              "      <td>100.140000</td>\n",
              "      <td>4.468000</td>\n",
              "      <td>227.232807</td>\n",
              "      <td>14.313000</td>\n",
              "    </tr>\n",
              "  </tbody>\n",
              "</table>\n",
              "</div>"
            ],
            "text/plain": [
              "             Store  Weekly_Sales  Holiday_Flag  Temperature   Fuel_Price  \\\n",
              "count  6435.000000  6.435000e+03   6435.000000  6435.000000  6435.000000   \n",
              "mean     23.000000  1.046965e+06      0.069930    60.663782     3.358607   \n",
              "std      12.988182  5.643666e+05      0.255049    18.444933     0.459020   \n",
              "min       1.000000  2.099862e+05      0.000000    -2.060000     2.472000   \n",
              "25%      12.000000  5.533501e+05      0.000000    47.460000     2.933000   \n",
              "50%      23.000000  9.607460e+05      0.000000    62.670000     3.445000   \n",
              "75%      34.000000  1.420159e+06      0.000000    74.940000     3.735000   \n",
              "max      45.000000  3.818686e+06      1.000000   100.140000     4.468000   \n",
              "\n",
              "               CPI  Unemployment  \n",
              "count  6435.000000   6435.000000  \n",
              "mean    171.578394      7.999151  \n",
              "std      39.356712      1.875885  \n",
              "min     126.064000      3.879000  \n",
              "25%     131.735000      6.891000  \n",
              "50%     182.616521      7.874000  \n",
              "75%     212.743293      8.622000  \n",
              "max     227.232807     14.313000  "
            ]
          },
          "execution_count": 6,
          "metadata": {},
          "output_type": "execute_result"
        }
      ],
      "source": [
        "# verificar se tem valores não preenchidos e as sua médias\n",
        "# percebo que todos estão preenchidos devido todos os atributos do dataframe terem \n",
        "# a mesma quantidade de informação 6435 linhas preenchidas, assim não carece de outros testes\n",
        "walmart.describe()"
      ]
    },
    {
      "cell_type": "code",
      "execution_count": 7,
      "metadata": {},
      "outputs": [
        {
          "data": {
            "text/html": [
              "<div>\n",
              "<style scoped>\n",
              "    .dataframe tbody tr th:only-of-type {\n",
              "        vertical-align: middle;\n",
              "    }\n",
              "\n",
              "    .dataframe tbody tr th {\n",
              "        vertical-align: top;\n",
              "    }\n",
              "\n",
              "    .dataframe thead th {\n",
              "        text-align: right;\n",
              "    }\n",
              "</style>\n",
              "<table border=\"1\" class=\"dataframe\">\n",
              "  <thead>\n",
              "    <tr style=\"text-align: right;\">\n",
              "      <th></th>\n",
              "      <th>Store</th>\n",
              "      <th>Weekly_Sales</th>\n",
              "    </tr>\n",
              "  </thead>\n",
              "  <tbody>\n",
              "    <tr>\n",
              "      <th>19</th>\n",
              "      <td>20</td>\n",
              "      <td>2.107677e+06</td>\n",
              "    </tr>\n",
              "    <tr>\n",
              "      <th>3</th>\n",
              "      <td>4</td>\n",
              "      <td>2.094713e+06</td>\n",
              "    </tr>\n",
              "    <tr>\n",
              "      <th>13</th>\n",
              "      <td>14</td>\n",
              "      <td>2.020978e+06</td>\n",
              "    </tr>\n",
              "    <tr>\n",
              "      <th>12</th>\n",
              "      <td>13</td>\n",
              "      <td>2.003620e+06</td>\n",
              "    </tr>\n",
              "    <tr>\n",
              "      <th>1</th>\n",
              "      <td>2</td>\n",
              "      <td>1.925751e+06</td>\n",
              "    </tr>\n",
              "    <tr>\n",
              "      <th>9</th>\n",
              "      <td>10</td>\n",
              "      <td>1.899425e+06</td>\n",
              "    </tr>\n",
              "    <tr>\n",
              "      <th>26</th>\n",
              "      <td>27</td>\n",
              "      <td>1.775216e+06</td>\n",
              "    </tr>\n",
              "    <tr>\n",
              "      <th>5</th>\n",
              "      <td>6</td>\n",
              "      <td>1.564728e+06</td>\n",
              "    </tr>\n",
              "    <tr>\n",
              "      <th>0</th>\n",
              "      <td>1</td>\n",
              "      <td>1.555264e+06</td>\n",
              "    </tr>\n",
              "    <tr>\n",
              "      <th>38</th>\n",
              "      <td>39</td>\n",
              "      <td>1.450668e+06</td>\n",
              "    </tr>\n",
              "    <tr>\n",
              "      <th>18</th>\n",
              "      <td>19</td>\n",
              "      <td>1.444999e+06</td>\n",
              "    </tr>\n",
              "    <tr>\n",
              "      <th>30</th>\n",
              "      <td>31</td>\n",
              "      <td>1.395901e+06</td>\n",
              "    </tr>\n",
              "    <tr>\n",
              "      <th>22</th>\n",
              "      <td>23</td>\n",
              "      <td>1.389864e+06</td>\n",
              "    </tr>\n",
              "    <tr>\n",
              "      <th>23</th>\n",
              "      <td>24</td>\n",
              "      <td>1.356755e+06</td>\n",
              "    </tr>\n",
              "    <tr>\n",
              "      <th>10</th>\n",
              "      <td>11</td>\n",
              "      <td>1.356383e+06</td>\n",
              "    </tr>\n",
              "    <tr>\n",
              "      <th>27</th>\n",
              "      <td>28</td>\n",
              "      <td>1.323522e+06</td>\n",
              "    </tr>\n",
              "    <tr>\n",
              "      <th>40</th>\n",
              "      <td>41</td>\n",
              "      <td>1.268125e+06</td>\n",
              "    </tr>\n",
              "    <tr>\n",
              "      <th>31</th>\n",
              "      <td>32</td>\n",
              "      <td>1.166568e+06</td>\n",
              "    </tr>\n",
              "    <tr>\n",
              "      <th>17</th>\n",
              "      <td>18</td>\n",
              "      <td>1.084718e+06</td>\n",
              "    </tr>\n",
              "    <tr>\n",
              "      <th>21</th>\n",
              "      <td>22</td>\n",
              "      <td>1.028501e+06</td>\n",
              "    </tr>\n",
              "    <tr>\n",
              "      <th>11</th>\n",
              "      <td>12</td>\n",
              "      <td>1.009002e+06</td>\n",
              "    </tr>\n",
              "    <tr>\n",
              "      <th>25</th>\n",
              "      <td>26</td>\n",
              "      <td>1.002912e+06</td>\n",
              "    </tr>\n",
              "    <tr>\n",
              "      <th>33</th>\n",
              "      <td>34</td>\n",
              "      <td>9.667816e+05</td>\n",
              "    </tr>\n",
              "    <tr>\n",
              "      <th>39</th>\n",
              "      <td>40</td>\n",
              "      <td>9.641280e+05</td>\n",
              "    </tr>\n",
              "    <tr>\n",
              "      <th>34</th>\n",
              "      <td>35</td>\n",
              "      <td>9.197250e+05</td>\n",
              "    </tr>\n",
              "    <tr>\n",
              "      <th>7</th>\n",
              "      <td>8</td>\n",
              "      <td>9.087495e+05</td>\n",
              "    </tr>\n",
              "    <tr>\n",
              "      <th>16</th>\n",
              "      <td>17</td>\n",
              "      <td>8.935814e+05</td>\n",
              "    </tr>\n",
              "    <tr>\n",
              "      <th>44</th>\n",
              "      <td>45</td>\n",
              "      <td>7.859814e+05</td>\n",
              "    </tr>\n",
              "    <tr>\n",
              "      <th>20</th>\n",
              "      <td>21</td>\n",
              "      <td>7.560691e+05</td>\n",
              "    </tr>\n",
              "    <tr>\n",
              "      <th>24</th>\n",
              "      <td>25</td>\n",
              "      <td>7.067215e+05</td>\n",
              "    </tr>\n",
              "    <tr>\n",
              "      <th>42</th>\n",
              "      <td>43</td>\n",
              "      <td>6.333247e+05</td>\n",
              "    </tr>\n",
              "    <tr>\n",
              "      <th>14</th>\n",
              "      <td>15</td>\n",
              "      <td>6.233125e+05</td>\n",
              "    </tr>\n",
              "    <tr>\n",
              "      <th>6</th>\n",
              "      <td>7</td>\n",
              "      <td>5.706173e+05</td>\n",
              "    </tr>\n",
              "    <tr>\n",
              "      <th>41</th>\n",
              "      <td>42</td>\n",
              "      <td>5.564039e+05</td>\n",
              "    </tr>\n",
              "    <tr>\n",
              "      <th>8</th>\n",
              "      <td>9</td>\n",
              "      <td>5.439806e+05</td>\n",
              "    </tr>\n",
              "    <tr>\n",
              "      <th>28</th>\n",
              "      <td>29</td>\n",
              "      <td>5.394514e+05</td>\n",
              "    </tr>\n",
              "    <tr>\n",
              "      <th>15</th>\n",
              "      <td>16</td>\n",
              "      <td>5.192477e+05</td>\n",
              "    </tr>\n",
              "    <tr>\n",
              "      <th>36</th>\n",
              "      <td>37</td>\n",
              "      <td>5.189003e+05</td>\n",
              "    </tr>\n",
              "    <tr>\n",
              "      <th>29</th>\n",
              "      <td>30</td>\n",
              "      <td>4.385796e+05</td>\n",
              "    </tr>\n",
              "    <tr>\n",
              "      <th>2</th>\n",
              "      <td>3</td>\n",
              "      <td>4.027044e+05</td>\n",
              "    </tr>\n",
              "    <tr>\n",
              "      <th>37</th>\n",
              "      <td>38</td>\n",
              "      <td>3.857317e+05</td>\n",
              "    </tr>\n",
              "    <tr>\n",
              "      <th>35</th>\n",
              "      <td>36</td>\n",
              "      <td>3.735120e+05</td>\n",
              "    </tr>\n",
              "    <tr>\n",
              "      <th>4</th>\n",
              "      <td>5</td>\n",
              "      <td>3.180118e+05</td>\n",
              "    </tr>\n",
              "    <tr>\n",
              "      <th>43</th>\n",
              "      <td>44</td>\n",
              "      <td>3.027489e+05</td>\n",
              "    </tr>\n",
              "    <tr>\n",
              "      <th>32</th>\n",
              "      <td>33</td>\n",
              "      <td>2.598617e+05</td>\n",
              "    </tr>\n",
              "  </tbody>\n",
              "</table>\n",
              "</div>"
            ],
            "text/plain": [
              "    Store  Weekly_Sales\n",
              "19     20  2.107677e+06\n",
              "3       4  2.094713e+06\n",
              "13     14  2.020978e+06\n",
              "12     13  2.003620e+06\n",
              "1       2  1.925751e+06\n",
              "9      10  1.899425e+06\n",
              "26     27  1.775216e+06\n",
              "5       6  1.564728e+06\n",
              "0       1  1.555264e+06\n",
              "38     39  1.450668e+06\n",
              "18     19  1.444999e+06\n",
              "30     31  1.395901e+06\n",
              "22     23  1.389864e+06\n",
              "23     24  1.356755e+06\n",
              "10     11  1.356383e+06\n",
              "27     28  1.323522e+06\n",
              "40     41  1.268125e+06\n",
              "31     32  1.166568e+06\n",
              "17     18  1.084718e+06\n",
              "21     22  1.028501e+06\n",
              "11     12  1.009002e+06\n",
              "25     26  1.002912e+06\n",
              "33     34  9.667816e+05\n",
              "39     40  9.641280e+05\n",
              "34     35  9.197250e+05\n",
              "7       8  9.087495e+05\n",
              "16     17  8.935814e+05\n",
              "44     45  7.859814e+05\n",
              "20     21  7.560691e+05\n",
              "24     25  7.067215e+05\n",
              "42     43  6.333247e+05\n",
              "14     15  6.233125e+05\n",
              "6       7  5.706173e+05\n",
              "41     42  5.564039e+05\n",
              "8       9  5.439806e+05\n",
              "28     29  5.394514e+05\n",
              "15     16  5.192477e+05\n",
              "36     37  5.189003e+05\n",
              "29     30  4.385796e+05\n",
              "2       3  4.027044e+05\n",
              "37     38  3.857317e+05\n",
              "35     36  3.735120e+05\n",
              "4       5  3.180118e+05\n",
              "43     44  3.027489e+05\n",
              "32     33  2.598617e+05"
            ]
          },
          "execution_count": 7,
          "metadata": {},
          "output_type": "execute_result"
        }
      ],
      "source": [
        "# what is the mean of weekly sales for each store type? \n",
        "# qual é a média de vendas semanais para cada tipo de loja?\n",
        "preco_medio = walmart.groupby('Store').agg({'Weekly_Sales':np.mean}).reset_index()\n",
        "# ordenando as médias de venda do maior para o menor\n",
        "preco_medio.sort_values(by='Weekly_Sales', ascending=False)\n",
        "\n",
        "\n"
      ]
    },
    {
      "cell_type": "code",
      "execution_count": 8,
      "metadata": {},
      "outputs": [
        {
          "name": "stderr",
          "output_type": "stream",
          "text": [
            "/tmp/ipykernel_10045/1650718013.py:4: FutureWarning: The default value of numeric_only in DataFrame.corr is deprecated. In a future version, it will default to False. Select only valid columns or specify the value of numeric_only to silence this warning.\n",
            "  walmart.corr()\n"
          ]
        },
        {
          "data": {
            "text/html": [
              "<div>\n",
              "<style scoped>\n",
              "    .dataframe tbody tr th:only-of-type {\n",
              "        vertical-align: middle;\n",
              "    }\n",
              "\n",
              "    .dataframe tbody tr th {\n",
              "        vertical-align: top;\n",
              "    }\n",
              "\n",
              "    .dataframe thead th {\n",
              "        text-align: right;\n",
              "    }\n",
              "</style>\n",
              "<table border=\"1\" class=\"dataframe\">\n",
              "  <thead>\n",
              "    <tr style=\"text-align: right;\">\n",
              "      <th></th>\n",
              "      <th>Store</th>\n",
              "      <th>Weekly_Sales</th>\n",
              "      <th>Holiday_Flag</th>\n",
              "      <th>Temperature</th>\n",
              "      <th>Fuel_Price</th>\n",
              "      <th>CPI</th>\n",
              "      <th>Unemployment</th>\n",
              "    </tr>\n",
              "  </thead>\n",
              "  <tbody>\n",
              "    <tr>\n",
              "      <th>Store</th>\n",
              "      <td>1.000000e+00</td>\n",
              "      <td>-0.335332</td>\n",
              "      <td>-4.386841e-16</td>\n",
              "      <td>-0.022659</td>\n",
              "      <td>0.060023</td>\n",
              "      <td>-0.209492</td>\n",
              "      <td>0.223531</td>\n",
              "    </tr>\n",
              "    <tr>\n",
              "      <th>Weekly_Sales</th>\n",
              "      <td>-3.353320e-01</td>\n",
              "      <td>1.000000</td>\n",
              "      <td>3.689097e-02</td>\n",
              "      <td>-0.063810</td>\n",
              "      <td>0.009464</td>\n",
              "      <td>-0.072634</td>\n",
              "      <td>-0.106176</td>\n",
              "    </tr>\n",
              "    <tr>\n",
              "      <th>Holiday_Flag</th>\n",
              "      <td>-4.386841e-16</td>\n",
              "      <td>0.036891</td>\n",
              "      <td>1.000000e+00</td>\n",
              "      <td>-0.155091</td>\n",
              "      <td>-0.078347</td>\n",
              "      <td>-0.002162</td>\n",
              "      <td>0.010960</td>\n",
              "    </tr>\n",
              "    <tr>\n",
              "      <th>Temperature</th>\n",
              "      <td>-2.265908e-02</td>\n",
              "      <td>-0.063810</td>\n",
              "      <td>-1.550913e-01</td>\n",
              "      <td>1.000000</td>\n",
              "      <td>0.144982</td>\n",
              "      <td>0.176888</td>\n",
              "      <td>0.101158</td>\n",
              "    </tr>\n",
              "    <tr>\n",
              "      <th>Fuel_Price</th>\n",
              "      <td>6.002295e-02</td>\n",
              "      <td>0.009464</td>\n",
              "      <td>-7.834652e-02</td>\n",
              "      <td>0.144982</td>\n",
              "      <td>1.000000</td>\n",
              "      <td>-0.170642</td>\n",
              "      <td>-0.034684</td>\n",
              "    </tr>\n",
              "    <tr>\n",
              "      <th>CPI</th>\n",
              "      <td>-2.094919e-01</td>\n",
              "      <td>-0.072634</td>\n",
              "      <td>-2.162091e-03</td>\n",
              "      <td>0.176888</td>\n",
              "      <td>-0.170642</td>\n",
              "      <td>1.000000</td>\n",
              "      <td>-0.302020</td>\n",
              "    </tr>\n",
              "    <tr>\n",
              "      <th>Unemployment</th>\n",
              "      <td>2.235313e-01</td>\n",
              "      <td>-0.106176</td>\n",
              "      <td>1.096028e-02</td>\n",
              "      <td>0.101158</td>\n",
              "      <td>-0.034684</td>\n",
              "      <td>-0.302020</td>\n",
              "      <td>1.000000</td>\n",
              "    </tr>\n",
              "  </tbody>\n",
              "</table>\n",
              "</div>"
            ],
            "text/plain": [
              "                     Store  Weekly_Sales  Holiday_Flag  Temperature  \\\n",
              "Store         1.000000e+00     -0.335332 -4.386841e-16    -0.022659   \n",
              "Weekly_Sales -3.353320e-01      1.000000  3.689097e-02    -0.063810   \n",
              "Holiday_Flag -4.386841e-16      0.036891  1.000000e+00    -0.155091   \n",
              "Temperature  -2.265908e-02     -0.063810 -1.550913e-01     1.000000   \n",
              "Fuel_Price    6.002295e-02      0.009464 -7.834652e-02     0.144982   \n",
              "CPI          -2.094919e-01     -0.072634 -2.162091e-03     0.176888   \n",
              "Unemployment  2.235313e-01     -0.106176  1.096028e-02     0.101158   \n",
              "\n",
              "              Fuel_Price       CPI  Unemployment  \n",
              "Store           0.060023 -0.209492      0.223531  \n",
              "Weekly_Sales    0.009464 -0.072634     -0.106176  \n",
              "Holiday_Flag   -0.078347 -0.002162      0.010960  \n",
              "Temperature     0.144982  0.176888      0.101158  \n",
              "Fuel_Price      1.000000 -0.170642     -0.034684  \n",
              "CPI            -0.170642  1.000000     -0.302020  \n",
              "Unemployment   -0.034684 -0.302020      1.000000  "
            ]
          },
          "execution_count": 8,
          "metadata": {},
          "output_type": "execute_result"
        }
      ],
      "source": [
        "# Which attribute has the highest correlation (positive or negative) with the number of sales? (And that makes sense) sales?\n",
        "# Qual atributo tem a maior correlação (positiva ou negativa) com o número de vendas? (E que faz sentido) vendas?\n",
        "# correlação entre as variáveis\n",
        "walmart.corr()\n",
        "\n"
      ]
    },
    {
      "cell_type": "code",
      "execution_count": 29,
      "metadata": {},
      "outputs": [],
      "source": [
        "# From the store with the highest cumulative sales (sum of sales for the entire period), how many weeks of the year did it exceed the average for the period?\n",
        "# Da loja com as vendas acumuladas mais altas (soma das vendas para todo o período), quantas semanas do ano ela excedeu a média para o período?\n",
        "# agrupando por loja e somando as vendas\n",
        "soma_venda_periodo = walmart.groupby('Store').agg({'Weekly_Sales':np.sum}).reset_index()\n",
        "soma = soma_venda_periodo.sort_values(by='Weekly_Sales', ascending=False)\n",
        "# pegando a loja com as 10 maior venda\n",
        "top10_venda_acumulada = soma.head(10)"
      ]
    },
    {
      "cell_type": "code",
      "execution_count": 30,
      "metadata": {},
      "outputs": [
        {
          "data": {
            "application/vnd.plotly.v1+json": {
              "config": {
                "plotlyServerURL": "https://plot.ly"
              },
              "data": [
                {
                  "alignmentgroup": "True",
                  "bingroup": "x",
                  "hovertemplate": "Store=20<br>Weekly_Sales=%{x}<br>count=%{y}<extra></extra>",
                  "legendgroup": "20",
                  "marker": {
                    "color": "#636efa",
                    "pattern": {
                      "shape": ""
                    }
                  },
                  "name": "20",
                  "offsetgroup": "20",
                  "orientation": "v",
                  "showlegend": true,
                  "type": "histogram",
                  "x": [
                    301397792.46
                  ],
                  "xaxis": "x",
                  "yaxis": "y"
                },
                {
                  "alignmentgroup": "True",
                  "bingroup": "x",
                  "hovertemplate": "Store=4<br>Weekly_Sales=%{x}<br>count=%{y}<extra></extra>",
                  "legendgroup": "4",
                  "marker": {
                    "color": "#EF553B",
                    "pattern": {
                      "shape": ""
                    }
                  },
                  "name": "4",
                  "offsetgroup": "4",
                  "orientation": "v",
                  "showlegend": true,
                  "type": "histogram",
                  "x": [
                    299543953.38
                  ],
                  "xaxis": "x",
                  "yaxis": "y"
                },
                {
                  "alignmentgroup": "True",
                  "bingroup": "x",
                  "hovertemplate": "Store=14<br>Weekly_Sales=%{x}<br>count=%{y}<extra></extra>",
                  "legendgroup": "14",
                  "marker": {
                    "color": "#00cc96",
                    "pattern": {
                      "shape": ""
                    }
                  },
                  "name": "14",
                  "offsetgroup": "14",
                  "orientation": "v",
                  "showlegend": true,
                  "type": "histogram",
                  "x": [
                    288999911.34
                  ],
                  "xaxis": "x",
                  "yaxis": "y"
                },
                {
                  "alignmentgroup": "True",
                  "bingroup": "x",
                  "hovertemplate": "Store=13<br>Weekly_Sales=%{x}<br>count=%{y}<extra></extra>",
                  "legendgroup": "13",
                  "marker": {
                    "color": "#ab63fa",
                    "pattern": {
                      "shape": ""
                    }
                  },
                  "name": "13",
                  "offsetgroup": "13",
                  "orientation": "v",
                  "showlegend": true,
                  "type": "histogram",
                  "x": [
                    286517703.8
                  ],
                  "xaxis": "x",
                  "yaxis": "y"
                },
                {
                  "alignmentgroup": "True",
                  "bingroup": "x",
                  "hovertemplate": "Store=2<br>Weekly_Sales=%{x}<br>count=%{y}<extra></extra>",
                  "legendgroup": "2",
                  "marker": {
                    "color": "#FFA15A",
                    "pattern": {
                      "shape": ""
                    }
                  },
                  "name": "2",
                  "offsetgroup": "2",
                  "orientation": "v",
                  "showlegend": true,
                  "type": "histogram",
                  "x": [
                    275382440.98
                  ],
                  "xaxis": "x",
                  "yaxis": "y"
                },
                {
                  "alignmentgroup": "True",
                  "bingroup": "x",
                  "hovertemplate": "Store=10<br>Weekly_Sales=%{x}<br>count=%{y}<extra></extra>",
                  "legendgroup": "10",
                  "marker": {
                    "color": "#19d3f3",
                    "pattern": {
                      "shape": ""
                    }
                  },
                  "name": "10",
                  "offsetgroup": "10",
                  "orientation": "v",
                  "showlegend": true,
                  "type": "histogram",
                  "x": [
                    271617713.89
                  ],
                  "xaxis": "x",
                  "yaxis": "y"
                },
                {
                  "alignmentgroup": "True",
                  "bingroup": "x",
                  "hovertemplate": "Store=27<br>Weekly_Sales=%{x}<br>count=%{y}<extra></extra>",
                  "legendgroup": "27",
                  "marker": {
                    "color": "#FF6692",
                    "pattern": {
                      "shape": ""
                    }
                  },
                  "name": "27",
                  "offsetgroup": "27",
                  "orientation": "v",
                  "showlegend": true,
                  "type": "histogram",
                  "x": [
                    253855916.88
                  ],
                  "xaxis": "x",
                  "yaxis": "y"
                },
                {
                  "alignmentgroup": "True",
                  "bingroup": "x",
                  "hovertemplate": "Store=6<br>Weekly_Sales=%{x}<br>count=%{y}<extra></extra>",
                  "legendgroup": "6",
                  "marker": {
                    "color": "#B6E880",
                    "pattern": {
                      "shape": ""
                    }
                  },
                  "name": "6",
                  "offsetgroup": "6",
                  "orientation": "v",
                  "showlegend": true,
                  "type": "histogram",
                  "x": [
                    223756130.64
                  ],
                  "xaxis": "x",
                  "yaxis": "y"
                },
                {
                  "alignmentgroup": "True",
                  "bingroup": "x",
                  "hovertemplate": "Store=1<br>Weekly_Sales=%{x}<br>count=%{y}<extra></extra>",
                  "legendgroup": "1",
                  "marker": {
                    "color": "#FF97FF",
                    "pattern": {
                      "shape": ""
                    }
                  },
                  "name": "1",
                  "offsetgroup": "1",
                  "orientation": "v",
                  "showlegend": true,
                  "type": "histogram",
                  "x": [
                    222402808.85
                  ],
                  "xaxis": "x",
                  "yaxis": "y"
                },
                {
                  "alignmentgroup": "True",
                  "bingroup": "x",
                  "hovertemplate": "Store=39<br>Weekly_Sales=%{x}<br>count=%{y}<extra></extra>",
                  "legendgroup": "39",
                  "marker": {
                    "color": "#FECB52",
                    "pattern": {
                      "shape": ""
                    }
                  },
                  "name": "39",
                  "offsetgroup": "39",
                  "orientation": "v",
                  "showlegend": true,
                  "type": "histogram",
                  "x": [
                    207445542.47
                  ],
                  "xaxis": "x",
                  "yaxis": "y"
                }
              ],
              "layout": {
                "barmode": "relative",
                "legend": {
                  "title": {
                    "text": "Store"
                  },
                  "tracegroupgap": 0
                },
                "template": {
                  "data": {
                    "bar": [
                      {
                        "error_x": {
                          "color": "#2a3f5f"
                        },
                        "error_y": {
                          "color": "#2a3f5f"
                        },
                        "marker": {
                          "line": {
                            "color": "#E5ECF6",
                            "width": 0.5
                          },
                          "pattern": {
                            "fillmode": "overlay",
                            "size": 10,
                            "solidity": 0.2
                          }
                        },
                        "type": "bar"
                      }
                    ],
                    "barpolar": [
                      {
                        "marker": {
                          "line": {
                            "color": "#E5ECF6",
                            "width": 0.5
                          },
                          "pattern": {
                            "fillmode": "overlay",
                            "size": 10,
                            "solidity": 0.2
                          }
                        },
                        "type": "barpolar"
                      }
                    ],
                    "carpet": [
                      {
                        "aaxis": {
                          "endlinecolor": "#2a3f5f",
                          "gridcolor": "white",
                          "linecolor": "white",
                          "minorgridcolor": "white",
                          "startlinecolor": "#2a3f5f"
                        },
                        "baxis": {
                          "endlinecolor": "#2a3f5f",
                          "gridcolor": "white",
                          "linecolor": "white",
                          "minorgridcolor": "white",
                          "startlinecolor": "#2a3f5f"
                        },
                        "type": "carpet"
                      }
                    ],
                    "choropleth": [
                      {
                        "colorbar": {
                          "outlinewidth": 0,
                          "ticks": ""
                        },
                        "type": "choropleth"
                      }
                    ],
                    "contour": [
                      {
                        "colorbar": {
                          "outlinewidth": 0,
                          "ticks": ""
                        },
                        "colorscale": [
                          [
                            0,
                            "#0d0887"
                          ],
                          [
                            0.1111111111111111,
                            "#46039f"
                          ],
                          [
                            0.2222222222222222,
                            "#7201a8"
                          ],
                          [
                            0.3333333333333333,
                            "#9c179e"
                          ],
                          [
                            0.4444444444444444,
                            "#bd3786"
                          ],
                          [
                            0.5555555555555556,
                            "#d8576b"
                          ],
                          [
                            0.6666666666666666,
                            "#ed7953"
                          ],
                          [
                            0.7777777777777778,
                            "#fb9f3a"
                          ],
                          [
                            0.8888888888888888,
                            "#fdca26"
                          ],
                          [
                            1,
                            "#f0f921"
                          ]
                        ],
                        "type": "contour"
                      }
                    ],
                    "contourcarpet": [
                      {
                        "colorbar": {
                          "outlinewidth": 0,
                          "ticks": ""
                        },
                        "type": "contourcarpet"
                      }
                    ],
                    "heatmap": [
                      {
                        "colorbar": {
                          "outlinewidth": 0,
                          "ticks": ""
                        },
                        "colorscale": [
                          [
                            0,
                            "#0d0887"
                          ],
                          [
                            0.1111111111111111,
                            "#46039f"
                          ],
                          [
                            0.2222222222222222,
                            "#7201a8"
                          ],
                          [
                            0.3333333333333333,
                            "#9c179e"
                          ],
                          [
                            0.4444444444444444,
                            "#bd3786"
                          ],
                          [
                            0.5555555555555556,
                            "#d8576b"
                          ],
                          [
                            0.6666666666666666,
                            "#ed7953"
                          ],
                          [
                            0.7777777777777778,
                            "#fb9f3a"
                          ],
                          [
                            0.8888888888888888,
                            "#fdca26"
                          ],
                          [
                            1,
                            "#f0f921"
                          ]
                        ],
                        "type": "heatmap"
                      }
                    ],
                    "heatmapgl": [
                      {
                        "colorbar": {
                          "outlinewidth": 0,
                          "ticks": ""
                        },
                        "colorscale": [
                          [
                            0,
                            "#0d0887"
                          ],
                          [
                            0.1111111111111111,
                            "#46039f"
                          ],
                          [
                            0.2222222222222222,
                            "#7201a8"
                          ],
                          [
                            0.3333333333333333,
                            "#9c179e"
                          ],
                          [
                            0.4444444444444444,
                            "#bd3786"
                          ],
                          [
                            0.5555555555555556,
                            "#d8576b"
                          ],
                          [
                            0.6666666666666666,
                            "#ed7953"
                          ],
                          [
                            0.7777777777777778,
                            "#fb9f3a"
                          ],
                          [
                            0.8888888888888888,
                            "#fdca26"
                          ],
                          [
                            1,
                            "#f0f921"
                          ]
                        ],
                        "type": "heatmapgl"
                      }
                    ],
                    "histogram": [
                      {
                        "marker": {
                          "pattern": {
                            "fillmode": "overlay",
                            "size": 10,
                            "solidity": 0.2
                          }
                        },
                        "type": "histogram"
                      }
                    ],
                    "histogram2d": [
                      {
                        "colorbar": {
                          "outlinewidth": 0,
                          "ticks": ""
                        },
                        "colorscale": [
                          [
                            0,
                            "#0d0887"
                          ],
                          [
                            0.1111111111111111,
                            "#46039f"
                          ],
                          [
                            0.2222222222222222,
                            "#7201a8"
                          ],
                          [
                            0.3333333333333333,
                            "#9c179e"
                          ],
                          [
                            0.4444444444444444,
                            "#bd3786"
                          ],
                          [
                            0.5555555555555556,
                            "#d8576b"
                          ],
                          [
                            0.6666666666666666,
                            "#ed7953"
                          ],
                          [
                            0.7777777777777778,
                            "#fb9f3a"
                          ],
                          [
                            0.8888888888888888,
                            "#fdca26"
                          ],
                          [
                            1,
                            "#f0f921"
                          ]
                        ],
                        "type": "histogram2d"
                      }
                    ],
                    "histogram2dcontour": [
                      {
                        "colorbar": {
                          "outlinewidth": 0,
                          "ticks": ""
                        },
                        "colorscale": [
                          [
                            0,
                            "#0d0887"
                          ],
                          [
                            0.1111111111111111,
                            "#46039f"
                          ],
                          [
                            0.2222222222222222,
                            "#7201a8"
                          ],
                          [
                            0.3333333333333333,
                            "#9c179e"
                          ],
                          [
                            0.4444444444444444,
                            "#bd3786"
                          ],
                          [
                            0.5555555555555556,
                            "#d8576b"
                          ],
                          [
                            0.6666666666666666,
                            "#ed7953"
                          ],
                          [
                            0.7777777777777778,
                            "#fb9f3a"
                          ],
                          [
                            0.8888888888888888,
                            "#fdca26"
                          ],
                          [
                            1,
                            "#f0f921"
                          ]
                        ],
                        "type": "histogram2dcontour"
                      }
                    ],
                    "mesh3d": [
                      {
                        "colorbar": {
                          "outlinewidth": 0,
                          "ticks": ""
                        },
                        "type": "mesh3d"
                      }
                    ],
                    "parcoords": [
                      {
                        "line": {
                          "colorbar": {
                            "outlinewidth": 0,
                            "ticks": ""
                          }
                        },
                        "type": "parcoords"
                      }
                    ],
                    "pie": [
                      {
                        "automargin": true,
                        "type": "pie"
                      }
                    ],
                    "scatter": [
                      {
                        "fillpattern": {
                          "fillmode": "overlay",
                          "size": 10,
                          "solidity": 0.2
                        },
                        "type": "scatter"
                      }
                    ],
                    "scatter3d": [
                      {
                        "line": {
                          "colorbar": {
                            "outlinewidth": 0,
                            "ticks": ""
                          }
                        },
                        "marker": {
                          "colorbar": {
                            "outlinewidth": 0,
                            "ticks": ""
                          }
                        },
                        "type": "scatter3d"
                      }
                    ],
                    "scattercarpet": [
                      {
                        "marker": {
                          "colorbar": {
                            "outlinewidth": 0,
                            "ticks": ""
                          }
                        },
                        "type": "scattercarpet"
                      }
                    ],
                    "scattergeo": [
                      {
                        "marker": {
                          "colorbar": {
                            "outlinewidth": 0,
                            "ticks": ""
                          }
                        },
                        "type": "scattergeo"
                      }
                    ],
                    "scattergl": [
                      {
                        "marker": {
                          "colorbar": {
                            "outlinewidth": 0,
                            "ticks": ""
                          }
                        },
                        "type": "scattergl"
                      }
                    ],
                    "scattermapbox": [
                      {
                        "marker": {
                          "colorbar": {
                            "outlinewidth": 0,
                            "ticks": ""
                          }
                        },
                        "type": "scattermapbox"
                      }
                    ],
                    "scatterpolar": [
                      {
                        "marker": {
                          "colorbar": {
                            "outlinewidth": 0,
                            "ticks": ""
                          }
                        },
                        "type": "scatterpolar"
                      }
                    ],
                    "scatterpolargl": [
                      {
                        "marker": {
                          "colorbar": {
                            "outlinewidth": 0,
                            "ticks": ""
                          }
                        },
                        "type": "scatterpolargl"
                      }
                    ],
                    "scatterternary": [
                      {
                        "marker": {
                          "colorbar": {
                            "outlinewidth": 0,
                            "ticks": ""
                          }
                        },
                        "type": "scatterternary"
                      }
                    ],
                    "surface": [
                      {
                        "colorbar": {
                          "outlinewidth": 0,
                          "ticks": ""
                        },
                        "colorscale": [
                          [
                            0,
                            "#0d0887"
                          ],
                          [
                            0.1111111111111111,
                            "#46039f"
                          ],
                          [
                            0.2222222222222222,
                            "#7201a8"
                          ],
                          [
                            0.3333333333333333,
                            "#9c179e"
                          ],
                          [
                            0.4444444444444444,
                            "#bd3786"
                          ],
                          [
                            0.5555555555555556,
                            "#d8576b"
                          ],
                          [
                            0.6666666666666666,
                            "#ed7953"
                          ],
                          [
                            0.7777777777777778,
                            "#fb9f3a"
                          ],
                          [
                            0.8888888888888888,
                            "#fdca26"
                          ],
                          [
                            1,
                            "#f0f921"
                          ]
                        ],
                        "type": "surface"
                      }
                    ],
                    "table": [
                      {
                        "cells": {
                          "fill": {
                            "color": "#EBF0F8"
                          },
                          "line": {
                            "color": "white"
                          }
                        },
                        "header": {
                          "fill": {
                            "color": "#C8D4E3"
                          },
                          "line": {
                            "color": "white"
                          }
                        },
                        "type": "table"
                      }
                    ]
                  },
                  "layout": {
                    "annotationdefaults": {
                      "arrowcolor": "#2a3f5f",
                      "arrowhead": 0,
                      "arrowwidth": 1
                    },
                    "autotypenumbers": "strict",
                    "coloraxis": {
                      "colorbar": {
                        "outlinewidth": 0,
                        "ticks": ""
                      }
                    },
                    "colorscale": {
                      "diverging": [
                        [
                          0,
                          "#8e0152"
                        ],
                        [
                          0.1,
                          "#c51b7d"
                        ],
                        [
                          0.2,
                          "#de77ae"
                        ],
                        [
                          0.3,
                          "#f1b6da"
                        ],
                        [
                          0.4,
                          "#fde0ef"
                        ],
                        [
                          0.5,
                          "#f7f7f7"
                        ],
                        [
                          0.6,
                          "#e6f5d0"
                        ],
                        [
                          0.7,
                          "#b8e186"
                        ],
                        [
                          0.8,
                          "#7fbc41"
                        ],
                        [
                          0.9,
                          "#4d9221"
                        ],
                        [
                          1,
                          "#276419"
                        ]
                      ],
                      "sequential": [
                        [
                          0,
                          "#0d0887"
                        ],
                        [
                          0.1111111111111111,
                          "#46039f"
                        ],
                        [
                          0.2222222222222222,
                          "#7201a8"
                        ],
                        [
                          0.3333333333333333,
                          "#9c179e"
                        ],
                        [
                          0.4444444444444444,
                          "#bd3786"
                        ],
                        [
                          0.5555555555555556,
                          "#d8576b"
                        ],
                        [
                          0.6666666666666666,
                          "#ed7953"
                        ],
                        [
                          0.7777777777777778,
                          "#fb9f3a"
                        ],
                        [
                          0.8888888888888888,
                          "#fdca26"
                        ],
                        [
                          1,
                          "#f0f921"
                        ]
                      ],
                      "sequentialminus": [
                        [
                          0,
                          "#0d0887"
                        ],
                        [
                          0.1111111111111111,
                          "#46039f"
                        ],
                        [
                          0.2222222222222222,
                          "#7201a8"
                        ],
                        [
                          0.3333333333333333,
                          "#9c179e"
                        ],
                        [
                          0.4444444444444444,
                          "#bd3786"
                        ],
                        [
                          0.5555555555555556,
                          "#d8576b"
                        ],
                        [
                          0.6666666666666666,
                          "#ed7953"
                        ],
                        [
                          0.7777777777777778,
                          "#fb9f3a"
                        ],
                        [
                          0.8888888888888888,
                          "#fdca26"
                        ],
                        [
                          1,
                          "#f0f921"
                        ]
                      ]
                    },
                    "colorway": [
                      "#636efa",
                      "#EF553B",
                      "#00cc96",
                      "#ab63fa",
                      "#FFA15A",
                      "#19d3f3",
                      "#FF6692",
                      "#B6E880",
                      "#FF97FF",
                      "#FECB52"
                    ],
                    "font": {
                      "color": "#2a3f5f"
                    },
                    "geo": {
                      "bgcolor": "white",
                      "lakecolor": "white",
                      "landcolor": "#E5ECF6",
                      "showlakes": true,
                      "showland": true,
                      "subunitcolor": "white"
                    },
                    "hoverlabel": {
                      "align": "left"
                    },
                    "hovermode": "closest",
                    "mapbox": {
                      "style": "light"
                    },
                    "paper_bgcolor": "white",
                    "plot_bgcolor": "#E5ECF6",
                    "polar": {
                      "angularaxis": {
                        "gridcolor": "white",
                        "linecolor": "white",
                        "ticks": ""
                      },
                      "bgcolor": "#E5ECF6",
                      "radialaxis": {
                        "gridcolor": "white",
                        "linecolor": "white",
                        "ticks": ""
                      }
                    },
                    "scene": {
                      "xaxis": {
                        "backgroundcolor": "#E5ECF6",
                        "gridcolor": "white",
                        "gridwidth": 2,
                        "linecolor": "white",
                        "showbackground": true,
                        "ticks": "",
                        "zerolinecolor": "white"
                      },
                      "yaxis": {
                        "backgroundcolor": "#E5ECF6",
                        "gridcolor": "white",
                        "gridwidth": 2,
                        "linecolor": "white",
                        "showbackground": true,
                        "ticks": "",
                        "zerolinecolor": "white"
                      },
                      "zaxis": {
                        "backgroundcolor": "#E5ECF6",
                        "gridcolor": "white",
                        "gridwidth": 2,
                        "linecolor": "white",
                        "showbackground": true,
                        "ticks": "",
                        "zerolinecolor": "white"
                      }
                    },
                    "shapedefaults": {
                      "line": {
                        "color": "#2a3f5f"
                      }
                    },
                    "ternary": {
                      "aaxis": {
                        "gridcolor": "white",
                        "linecolor": "white",
                        "ticks": ""
                      },
                      "baxis": {
                        "gridcolor": "white",
                        "linecolor": "white",
                        "ticks": ""
                      },
                      "bgcolor": "#E5ECF6",
                      "caxis": {
                        "gridcolor": "white",
                        "linecolor": "white",
                        "ticks": ""
                      }
                    },
                    "title": {
                      "x": 0.05
                    },
                    "xaxis": {
                      "automargin": true,
                      "gridcolor": "white",
                      "linecolor": "white",
                      "ticks": "",
                      "title": {
                        "standoff": 15
                      },
                      "zerolinecolor": "white",
                      "zerolinewidth": 2
                    },
                    "yaxis": {
                      "automargin": true,
                      "gridcolor": "white",
                      "linecolor": "white",
                      "ticks": "",
                      "title": {
                        "standoff": 15
                      },
                      "zerolinecolor": "white",
                      "zerolinewidth": 2
                    }
                  }
                },
                "title": {
                  "text": "Vendas acumuladas por loja"
                },
                "xaxis": {
                  "anchor": "y",
                  "domain": [
                    0,
                    1
                  ],
                  "title": {
                    "text": "Weekly_Sales"
                  }
                },
                "yaxis": {
                  "anchor": "x",
                  "domain": [
                    0,
                    1
                  ],
                  "title": {
                    "text": "count"
                  }
                }
              }
            }
          },
          "metadata": {},
          "output_type": "display_data"
        }
      ],
      "source": [
        "# plotar grafico de histograma com as vendas acumulçadas por loja\n",
        "# plt.figure(figsize=(20, 20))\n",
        "fig = ex.histogram(top10_venda_acumulada , x='Weekly_Sales', color='Store', title='Vendas acumuladas por loja')\n",
        "fig.show()\n",
        "\n"
      ]
    },
    {
      "cell_type": "code",
      "execution_count": null,
      "metadata": {},
      "outputs": [],
      "source": []
    },
    {
      "cell_type": "code",
      "execution_count": 32,
      "metadata": {},
      "outputs": [
        {
          "data": {
            "application/vnd.plotly.v1+json": {
              "config": {
                "plotlyServerURL": "https://plot.ly"
              },
              "data": [
                {
                  "hovertemplate": "Date=%{x}<br>Weekly_Sales=%{y}<extra></extra>",
                  "legendgroup": "",
                  "line": {
                    "color": "#636efa",
                    "dash": "solid"
                  },
                  "marker": {
                    "symbol": "circle"
                  },
                  "mode": "lines",
                  "name": "",
                  "orientation": "v",
                  "showlegend": false,
                  "type": "scatter",
                  "x": [
                    "01-04-2011",
                    "01-06-2012",
                    "01-07-2011",
                    "01-10-2010",
                    "02-03-2012",
                    "02-04-2010",
                    "02-07-2010",
                    "02-09-2011",
                    "02-12-2011",
                    "03-02-2012",
                    "03-06-2011",
                    "03-08-2012",
                    "03-09-2010",
                    "03-12-2010",
                    "04-02-2011",
                    "04-03-2011",
                    "04-05-2012",
                    "04-06-2010",
                    "04-11-2011",
                    "05-02-2010",
                    "05-03-2010",
                    "05-08-2011",
                    "05-10-2012",
                    "05-11-2010",
                    "06-01-2012",
                    "06-04-2012",
                    "06-05-2011",
                    "06-07-2012",
                    "06-08-2010",
                    "07-01-2011",
                    "07-05-2010",
                    "07-09-2012",
                    "07-10-2011",
                    "08-04-2011",
                    "08-06-2012",
                    "08-07-2011",
                    "08-10-2010",
                    "09-03-2012",
                    "09-04-2010",
                    "09-07-2010",
                    "09-09-2011",
                    "09-12-2011",
                    "10-02-2012",
                    "10-06-2011",
                    "10-08-2012",
                    "10-09-2010",
                    "10-12-2010",
                    "11-02-2011",
                    "11-03-2011",
                    "11-05-2012",
                    "11-06-2010",
                    "11-11-2011",
                    "12-02-2010",
                    "12-03-2010",
                    "12-08-2011",
                    "12-10-2012",
                    "12-11-2010",
                    "13-01-2012",
                    "13-04-2012",
                    "13-05-2011",
                    "13-07-2012",
                    "13-08-2010",
                    "14-01-2011",
                    "14-05-2010",
                    "14-09-2012",
                    "14-10-2011",
                    "15-04-2011",
                    "15-06-2012",
                    "15-07-2011",
                    "15-10-2010",
                    "16-03-2012",
                    "16-04-2010",
                    "16-07-2010",
                    "16-09-2011",
                    "16-12-2011",
                    "17-02-2012",
                    "17-06-2011",
                    "17-08-2012",
                    "17-09-2010",
                    "17-12-2010",
                    "18-02-2011",
                    "18-03-2011",
                    "18-05-2012",
                    "18-06-2010",
                    "18-11-2011",
                    "19-02-2010",
                    "19-03-2010",
                    "19-08-2011",
                    "19-10-2012",
                    "19-11-2010",
                    "20-01-2012",
                    "20-04-2012",
                    "20-05-2011",
                    "20-07-2012",
                    "20-08-2010",
                    "21-01-2011",
                    "21-05-2010",
                    "21-09-2012",
                    "21-10-2011",
                    "22-04-2011",
                    "22-06-2012",
                    "22-07-2011",
                    "22-10-2010",
                    "23-03-2012",
                    "23-04-2010",
                    "23-07-2010",
                    "23-09-2011",
                    "23-12-2011",
                    "24-02-2012",
                    "24-06-2011",
                    "24-08-2012",
                    "24-09-2010",
                    "24-12-2010",
                    "25-02-2011",
                    "25-03-2011",
                    "25-05-2012",
                    "25-06-2010",
                    "25-11-2011",
                    "26-02-2010",
                    "26-03-2010",
                    "26-08-2011",
                    "26-10-2012",
                    "26-11-2010",
                    "27-01-2012",
                    "27-04-2012",
                    "27-05-2011",
                    "27-07-2012",
                    "27-08-2010",
                    "28-01-2011",
                    "28-05-2010",
                    "28-09-2012",
                    "28-10-2011",
                    "29-04-2011",
                    "29-06-2012",
                    "29-07-2011",
                    "29-10-2010",
                    "30-03-2012",
                    "30-04-2010",
                    "30-07-2010",
                    "30-09-2011",
                    "30-12-2011",
                    "31-08-2012",
                    "31-12-2010"
                  ],
                  "xaxis": "x",
                  "y": [
                    1927993.09,
                    2143126.59,
                    2053165.41,
                    1933719.21,
                    2148822.76,
                    2405395.22,
                    2143676.77,
                    2141765.98,
                    2298776.83,
                    2203523.2,
                    2182246.69,
                    2094515.71,
                    2121561.41,
                    2416051.17,
                    2351143.07,
                    2143424.61,
                    2163510.89,
                    2203619.35,
                    2284106.6,
                    2401395.47,
                    2119213.72,
                    2189353.63,
                    2246411.89,
                    2184316.64,
                    1964701.94,
                    2565259.92,
                    2090838.44,
                    2358055.3,
                    1910177.38,
                    1843030.95,
                    2137202.38,
                    2080529.06,
                    2135982.79,
                    2027056.39,
                    2231962.13,
                    2123787.79,
                    2060389.27,
                    2139265.4,
                    2007796.26,
                    2107285.85,
                    2050542.56,
                    2546123.78,
                    2462978.28,
                    2135062.04,
                    2144245.39,
                    2014954.79,
                    2752122.08,
                    2211388.14,
                    1990932.77,
                    2168097.11,
                    2100489.79,
                    2269975.85,
                    2109107.9,
                    2010974.84,
                    2052246.4,
                    2162951.36,
                    2187765.28,
                    1911510.64,
                    2045396.06,
                    2036748.53,
                    2134680.12,
                    2071022.45,
                    1884345.01,
                    2033211.62,
                    2047949.98,
                    2010107.68,
                    2057406.33,
                    2165160.29,
                    2039875.75,
                    1950676.39,
                    2064991.71,
                    1985784.59,
                    2031852.16,
                    1979009.46,
                    2762816.65,
                    2309025.16,
                    2065191.27,
                    2045061.22,
                    1948359.78,
                    2819193.17,
                    2258616.24,
                    1931668.64,
                    2039222.26,
                    2091903.63,
                    2169933.82,
                    2161549.76,
                    1951848.43,
                    1990017.93,
                    1999363.49,
                    2105058.91,
                    1892775.94,
                    1884427.84,
                    1953416.06,
                    1970170.29,
                    1975374.56,
                    1781805.66,
                    1893736.9,
                    2028587.24,
                    2104241.9,
                    2313861.81,
                    2060588.69,
                    1950904.84,
                    1893955.27,
                    1992436.96,
                    1878862.42,
                    1900535.9,
                    1888119.7,
                    3555371.03,
                    2045837.55,
                    1950826.32,
                    2005341.43,
                    1789687.65,
                    3766687.43,
                    1938608.52,
                    1824711.21,
                    2114989,
                    1973135.87,
                    2906233.25,
                    1898193.95,
                    1894742.95,
                    1933577.2,
                    2031650.55,
                    2811634.04,
                    1761016.51,
                    1886503.93,
                    1944433.17,
                    1911559.1,
                    1946369.57,
                    1761506.68,
                    2065984.95,
                    2008350.58,
                    2065421.52,
                    1881788.19,
                    2055952.61,
                    1858440.92,
                    1891816,
                    2074721.74,
                    1919053.21,
                    1955896.59,
                    1945808.26,
                    2043245,
                    2062481.56,
                    1799737.79
                  ],
                  "yaxis": "y"
                }
              ],
              "layout": {
                "legend": {
                  "tracegroupgap": 0
                },
                "template": {
                  "data": {
                    "bar": [
                      {
                        "error_x": {
                          "color": "#2a3f5f"
                        },
                        "error_y": {
                          "color": "#2a3f5f"
                        },
                        "marker": {
                          "line": {
                            "color": "#E5ECF6",
                            "width": 0.5
                          },
                          "pattern": {
                            "fillmode": "overlay",
                            "size": 10,
                            "solidity": 0.2
                          }
                        },
                        "type": "bar"
                      }
                    ],
                    "barpolar": [
                      {
                        "marker": {
                          "line": {
                            "color": "#E5ECF6",
                            "width": 0.5
                          },
                          "pattern": {
                            "fillmode": "overlay",
                            "size": 10,
                            "solidity": 0.2
                          }
                        },
                        "type": "barpolar"
                      }
                    ],
                    "carpet": [
                      {
                        "aaxis": {
                          "endlinecolor": "#2a3f5f",
                          "gridcolor": "white",
                          "linecolor": "white",
                          "minorgridcolor": "white",
                          "startlinecolor": "#2a3f5f"
                        },
                        "baxis": {
                          "endlinecolor": "#2a3f5f",
                          "gridcolor": "white",
                          "linecolor": "white",
                          "minorgridcolor": "white",
                          "startlinecolor": "#2a3f5f"
                        },
                        "type": "carpet"
                      }
                    ],
                    "choropleth": [
                      {
                        "colorbar": {
                          "outlinewidth": 0,
                          "ticks": ""
                        },
                        "type": "choropleth"
                      }
                    ],
                    "contour": [
                      {
                        "colorbar": {
                          "outlinewidth": 0,
                          "ticks": ""
                        },
                        "colorscale": [
                          [
                            0,
                            "#0d0887"
                          ],
                          [
                            0.1111111111111111,
                            "#46039f"
                          ],
                          [
                            0.2222222222222222,
                            "#7201a8"
                          ],
                          [
                            0.3333333333333333,
                            "#9c179e"
                          ],
                          [
                            0.4444444444444444,
                            "#bd3786"
                          ],
                          [
                            0.5555555555555556,
                            "#d8576b"
                          ],
                          [
                            0.6666666666666666,
                            "#ed7953"
                          ],
                          [
                            0.7777777777777778,
                            "#fb9f3a"
                          ],
                          [
                            0.8888888888888888,
                            "#fdca26"
                          ],
                          [
                            1,
                            "#f0f921"
                          ]
                        ],
                        "type": "contour"
                      }
                    ],
                    "contourcarpet": [
                      {
                        "colorbar": {
                          "outlinewidth": 0,
                          "ticks": ""
                        },
                        "type": "contourcarpet"
                      }
                    ],
                    "heatmap": [
                      {
                        "colorbar": {
                          "outlinewidth": 0,
                          "ticks": ""
                        },
                        "colorscale": [
                          [
                            0,
                            "#0d0887"
                          ],
                          [
                            0.1111111111111111,
                            "#46039f"
                          ],
                          [
                            0.2222222222222222,
                            "#7201a8"
                          ],
                          [
                            0.3333333333333333,
                            "#9c179e"
                          ],
                          [
                            0.4444444444444444,
                            "#bd3786"
                          ],
                          [
                            0.5555555555555556,
                            "#d8576b"
                          ],
                          [
                            0.6666666666666666,
                            "#ed7953"
                          ],
                          [
                            0.7777777777777778,
                            "#fb9f3a"
                          ],
                          [
                            0.8888888888888888,
                            "#fdca26"
                          ],
                          [
                            1,
                            "#f0f921"
                          ]
                        ],
                        "type": "heatmap"
                      }
                    ],
                    "heatmapgl": [
                      {
                        "colorbar": {
                          "outlinewidth": 0,
                          "ticks": ""
                        },
                        "colorscale": [
                          [
                            0,
                            "#0d0887"
                          ],
                          [
                            0.1111111111111111,
                            "#46039f"
                          ],
                          [
                            0.2222222222222222,
                            "#7201a8"
                          ],
                          [
                            0.3333333333333333,
                            "#9c179e"
                          ],
                          [
                            0.4444444444444444,
                            "#bd3786"
                          ],
                          [
                            0.5555555555555556,
                            "#d8576b"
                          ],
                          [
                            0.6666666666666666,
                            "#ed7953"
                          ],
                          [
                            0.7777777777777778,
                            "#fb9f3a"
                          ],
                          [
                            0.8888888888888888,
                            "#fdca26"
                          ],
                          [
                            1,
                            "#f0f921"
                          ]
                        ],
                        "type": "heatmapgl"
                      }
                    ],
                    "histogram": [
                      {
                        "marker": {
                          "pattern": {
                            "fillmode": "overlay",
                            "size": 10,
                            "solidity": 0.2
                          }
                        },
                        "type": "histogram"
                      }
                    ],
                    "histogram2d": [
                      {
                        "colorbar": {
                          "outlinewidth": 0,
                          "ticks": ""
                        },
                        "colorscale": [
                          [
                            0,
                            "#0d0887"
                          ],
                          [
                            0.1111111111111111,
                            "#46039f"
                          ],
                          [
                            0.2222222222222222,
                            "#7201a8"
                          ],
                          [
                            0.3333333333333333,
                            "#9c179e"
                          ],
                          [
                            0.4444444444444444,
                            "#bd3786"
                          ],
                          [
                            0.5555555555555556,
                            "#d8576b"
                          ],
                          [
                            0.6666666666666666,
                            "#ed7953"
                          ],
                          [
                            0.7777777777777778,
                            "#fb9f3a"
                          ],
                          [
                            0.8888888888888888,
                            "#fdca26"
                          ],
                          [
                            1,
                            "#f0f921"
                          ]
                        ],
                        "type": "histogram2d"
                      }
                    ],
                    "histogram2dcontour": [
                      {
                        "colorbar": {
                          "outlinewidth": 0,
                          "ticks": ""
                        },
                        "colorscale": [
                          [
                            0,
                            "#0d0887"
                          ],
                          [
                            0.1111111111111111,
                            "#46039f"
                          ],
                          [
                            0.2222222222222222,
                            "#7201a8"
                          ],
                          [
                            0.3333333333333333,
                            "#9c179e"
                          ],
                          [
                            0.4444444444444444,
                            "#bd3786"
                          ],
                          [
                            0.5555555555555556,
                            "#d8576b"
                          ],
                          [
                            0.6666666666666666,
                            "#ed7953"
                          ],
                          [
                            0.7777777777777778,
                            "#fb9f3a"
                          ],
                          [
                            0.8888888888888888,
                            "#fdca26"
                          ],
                          [
                            1,
                            "#f0f921"
                          ]
                        ],
                        "type": "histogram2dcontour"
                      }
                    ],
                    "mesh3d": [
                      {
                        "colorbar": {
                          "outlinewidth": 0,
                          "ticks": ""
                        },
                        "type": "mesh3d"
                      }
                    ],
                    "parcoords": [
                      {
                        "line": {
                          "colorbar": {
                            "outlinewidth": 0,
                            "ticks": ""
                          }
                        },
                        "type": "parcoords"
                      }
                    ],
                    "pie": [
                      {
                        "automargin": true,
                        "type": "pie"
                      }
                    ],
                    "scatter": [
                      {
                        "fillpattern": {
                          "fillmode": "overlay",
                          "size": 10,
                          "solidity": 0.2
                        },
                        "type": "scatter"
                      }
                    ],
                    "scatter3d": [
                      {
                        "line": {
                          "colorbar": {
                            "outlinewidth": 0,
                            "ticks": ""
                          }
                        },
                        "marker": {
                          "colorbar": {
                            "outlinewidth": 0,
                            "ticks": ""
                          }
                        },
                        "type": "scatter3d"
                      }
                    ],
                    "scattercarpet": [
                      {
                        "marker": {
                          "colorbar": {
                            "outlinewidth": 0,
                            "ticks": ""
                          }
                        },
                        "type": "scattercarpet"
                      }
                    ],
                    "scattergeo": [
                      {
                        "marker": {
                          "colorbar": {
                            "outlinewidth": 0,
                            "ticks": ""
                          }
                        },
                        "type": "scattergeo"
                      }
                    ],
                    "scattergl": [
                      {
                        "marker": {
                          "colorbar": {
                            "outlinewidth": 0,
                            "ticks": ""
                          }
                        },
                        "type": "scattergl"
                      }
                    ],
                    "scattermapbox": [
                      {
                        "marker": {
                          "colorbar": {
                            "outlinewidth": 0,
                            "ticks": ""
                          }
                        },
                        "type": "scattermapbox"
                      }
                    ],
                    "scatterpolar": [
                      {
                        "marker": {
                          "colorbar": {
                            "outlinewidth": 0,
                            "ticks": ""
                          }
                        },
                        "type": "scatterpolar"
                      }
                    ],
                    "scatterpolargl": [
                      {
                        "marker": {
                          "colorbar": {
                            "outlinewidth": 0,
                            "ticks": ""
                          }
                        },
                        "type": "scatterpolargl"
                      }
                    ],
                    "scatterternary": [
                      {
                        "marker": {
                          "colorbar": {
                            "outlinewidth": 0,
                            "ticks": ""
                          }
                        },
                        "type": "scatterternary"
                      }
                    ],
                    "surface": [
                      {
                        "colorbar": {
                          "outlinewidth": 0,
                          "ticks": ""
                        },
                        "colorscale": [
                          [
                            0,
                            "#0d0887"
                          ],
                          [
                            0.1111111111111111,
                            "#46039f"
                          ],
                          [
                            0.2222222222222222,
                            "#7201a8"
                          ],
                          [
                            0.3333333333333333,
                            "#9c179e"
                          ],
                          [
                            0.4444444444444444,
                            "#bd3786"
                          ],
                          [
                            0.5555555555555556,
                            "#d8576b"
                          ],
                          [
                            0.6666666666666666,
                            "#ed7953"
                          ],
                          [
                            0.7777777777777778,
                            "#fb9f3a"
                          ],
                          [
                            0.8888888888888888,
                            "#fdca26"
                          ],
                          [
                            1,
                            "#f0f921"
                          ]
                        ],
                        "type": "surface"
                      }
                    ],
                    "table": [
                      {
                        "cells": {
                          "fill": {
                            "color": "#EBF0F8"
                          },
                          "line": {
                            "color": "white"
                          }
                        },
                        "header": {
                          "fill": {
                            "color": "#C8D4E3"
                          },
                          "line": {
                            "color": "white"
                          }
                        },
                        "type": "table"
                      }
                    ]
                  },
                  "layout": {
                    "annotationdefaults": {
                      "arrowcolor": "#2a3f5f",
                      "arrowhead": 0,
                      "arrowwidth": 1
                    },
                    "autotypenumbers": "strict",
                    "coloraxis": {
                      "colorbar": {
                        "outlinewidth": 0,
                        "ticks": ""
                      }
                    },
                    "colorscale": {
                      "diverging": [
                        [
                          0,
                          "#8e0152"
                        ],
                        [
                          0.1,
                          "#c51b7d"
                        ],
                        [
                          0.2,
                          "#de77ae"
                        ],
                        [
                          0.3,
                          "#f1b6da"
                        ],
                        [
                          0.4,
                          "#fde0ef"
                        ],
                        [
                          0.5,
                          "#f7f7f7"
                        ],
                        [
                          0.6,
                          "#e6f5d0"
                        ],
                        [
                          0.7,
                          "#b8e186"
                        ],
                        [
                          0.8,
                          "#7fbc41"
                        ],
                        [
                          0.9,
                          "#4d9221"
                        ],
                        [
                          1,
                          "#276419"
                        ]
                      ],
                      "sequential": [
                        [
                          0,
                          "#0d0887"
                        ],
                        [
                          0.1111111111111111,
                          "#46039f"
                        ],
                        [
                          0.2222222222222222,
                          "#7201a8"
                        ],
                        [
                          0.3333333333333333,
                          "#9c179e"
                        ],
                        [
                          0.4444444444444444,
                          "#bd3786"
                        ],
                        [
                          0.5555555555555556,
                          "#d8576b"
                        ],
                        [
                          0.6666666666666666,
                          "#ed7953"
                        ],
                        [
                          0.7777777777777778,
                          "#fb9f3a"
                        ],
                        [
                          0.8888888888888888,
                          "#fdca26"
                        ],
                        [
                          1,
                          "#f0f921"
                        ]
                      ],
                      "sequentialminus": [
                        [
                          0,
                          "#0d0887"
                        ],
                        [
                          0.1111111111111111,
                          "#46039f"
                        ],
                        [
                          0.2222222222222222,
                          "#7201a8"
                        ],
                        [
                          0.3333333333333333,
                          "#9c179e"
                        ],
                        [
                          0.4444444444444444,
                          "#bd3786"
                        ],
                        [
                          0.5555555555555556,
                          "#d8576b"
                        ],
                        [
                          0.6666666666666666,
                          "#ed7953"
                        ],
                        [
                          0.7777777777777778,
                          "#fb9f3a"
                        ],
                        [
                          0.8888888888888888,
                          "#fdca26"
                        ],
                        [
                          1,
                          "#f0f921"
                        ]
                      ]
                    },
                    "colorway": [
                      "#636efa",
                      "#EF553B",
                      "#00cc96",
                      "#ab63fa",
                      "#FFA15A",
                      "#19d3f3",
                      "#FF6692",
                      "#B6E880",
                      "#FF97FF",
                      "#FECB52"
                    ],
                    "font": {
                      "color": "#2a3f5f"
                    },
                    "geo": {
                      "bgcolor": "white",
                      "lakecolor": "white",
                      "landcolor": "#E5ECF6",
                      "showlakes": true,
                      "showland": true,
                      "subunitcolor": "white"
                    },
                    "hoverlabel": {
                      "align": "left"
                    },
                    "hovermode": "closest",
                    "mapbox": {
                      "style": "light"
                    },
                    "paper_bgcolor": "white",
                    "plot_bgcolor": "#E5ECF6",
                    "polar": {
                      "angularaxis": {
                        "gridcolor": "white",
                        "linecolor": "white",
                        "ticks": ""
                      },
                      "bgcolor": "#E5ECF6",
                      "radialaxis": {
                        "gridcolor": "white",
                        "linecolor": "white",
                        "ticks": ""
                      }
                    },
                    "scene": {
                      "xaxis": {
                        "backgroundcolor": "#E5ECF6",
                        "gridcolor": "white",
                        "gridwidth": 2,
                        "linecolor": "white",
                        "showbackground": true,
                        "ticks": "",
                        "zerolinecolor": "white"
                      },
                      "yaxis": {
                        "backgroundcolor": "#E5ECF6",
                        "gridcolor": "white",
                        "gridwidth": 2,
                        "linecolor": "white",
                        "showbackground": true,
                        "ticks": "",
                        "zerolinecolor": "white"
                      },
                      "zaxis": {
                        "backgroundcolor": "#E5ECF6",
                        "gridcolor": "white",
                        "gridwidth": 2,
                        "linecolor": "white",
                        "showbackground": true,
                        "ticks": "",
                        "zerolinecolor": "white"
                      }
                    },
                    "shapedefaults": {
                      "line": {
                        "color": "#2a3f5f"
                      }
                    },
                    "ternary": {
                      "aaxis": {
                        "gridcolor": "white",
                        "linecolor": "white",
                        "ticks": ""
                      },
                      "baxis": {
                        "gridcolor": "white",
                        "linecolor": "white",
                        "ticks": ""
                      },
                      "bgcolor": "#E5ECF6",
                      "caxis": {
                        "gridcolor": "white",
                        "linecolor": "white",
                        "ticks": ""
                      }
                    },
                    "title": {
                      "x": 0.05
                    },
                    "xaxis": {
                      "automargin": true,
                      "gridcolor": "white",
                      "linecolor": "white",
                      "ticks": "",
                      "title": {
                        "standoff": 15
                      },
                      "zerolinecolor": "white",
                      "zerolinewidth": 2
                    },
                    "yaxis": {
                      "automargin": true,
                      "gridcolor": "white",
                      "linecolor": "white",
                      "ticks": "",
                      "title": {
                        "standoff": 15
                      },
                      "zerolinecolor": "white",
                      "zerolinewidth": 2
                    }
                  }
                },
                "title": {
                  "text": "Vendas por semana da loja 20 no período de 2010 a 2012"
                },
                "xaxis": {
                  "anchor": "y",
                  "domain": [
                    0,
                    1
                  ],
                  "title": {
                    "text": "Date"
                  }
                },
                "yaxis": {
                  "anchor": "x",
                  "domain": [
                    0,
                    1
                  ],
                  "title": {
                    "text": "Weekly_Sales"
                  }
                }
              }
            }
          },
          "metadata": {},
          "output_type": "display_data"
        }
      ],
      "source": [
        "\n",
        "# a loja com maior venda acumulada é a 20\n",
        "# filtrando a loja 20\n",
        "loja20 = walmart[walmart['Store'] == 20]\n",
        "# calculando a média de vendas semanais\n",
        "media_venda_semanal = loja20['Weekly_Sales'].mean()\n",
        "# calculando a quantidade de semanas que a loja 20 teve vendas acima da média\n",
        "loja20[loja20['Weekly_Sales'] > media_venda_semanal].count()\n",
        "# a loja 20 teve 52 semanas com vendas acima da média\n",
        "# exibir Weeks com vendas acima da média\n",
        "loja20[loja20['Weekly_Sales'] > media_venda_semanal]\n",
        "# exibir Weeks com vendas abaixo da média\n",
        "loja20[loja20['Weekly_Sales'] < media_venda_semanal]\n",
        "# exibir Weeks com vendas iguais a média\n",
        "loja20[loja20['Weekly_Sales'] == media_venda_semanal]\n",
        "# arreranjar os dados para plotar o gráfico\n",
        "loja20 = loja20.sort_values(by='Date')\n",
        "# plotar o gráfico\n",
        "fig = ex.line(loja20, x='Date', y='Weekly_Sales', title='Vendas por semana da loja 20 no período de 2010 a 2012')\n",
        "fig.show()\n"
      ]
    },
    {
      "cell_type": "code",
      "execution_count": 11,
      "metadata": {},
      "outputs": [],
      "source": [
        "# Faça um gráfico com as vendas máximas, mínimas e médias de todas as lojas ao longo do tempo. Ressalte de alguma forma, o período de feriados mencionados\n",
        "# Make a graph with the maximum, minimum and average sales of all stores over time. Highlight in some way, the holiday period mentioned\n",
        "# agrupando por data e calculando a média, máximo e mínimo de vendas\n",
        "vendas_por_data = walmart.groupby(['Date']).agg({'Weekly_Sales': [np.mean, np.max, np.min]}).reset_index()\n",
        "# renomeando as colunas\n",
        "vendas_por_data.columns = ['Date', 'Weekly_Sales_mean', 'Weekly_Sales_max', 'Weekly_Sales_min']"
      ]
    },
    {
      "cell_type": "code",
      "execution_count": 12,
      "metadata": {},
      "outputs": [
        {
          "data": {
            "application/vnd.plotly.v1+json": {
              "config": {
                "plotlyServerURL": "https://plot.ly"
              },
              "data": [
                {
                  "hovertemplate": "variable=Weekly_Sales_mean<br>Date=%{x}<br>value=%{y}<extra></extra>",
                  "legendgroup": "Weekly_Sales_mean",
                  "line": {
                    "color": "#636efa",
                    "dash": "solid"
                  },
                  "marker": {
                    "symbol": "circle"
                  },
                  "mode": "lines",
                  "name": "Weekly_Sales_mean",
                  "orientation": "v",
                  "showlegend": true,
                  "type": "scatter",
                  "x": [
                    "01-04-2011",
                    "01-06-2012",
                    "01-07-2011",
                    "01-10-2010",
                    "02-03-2012",
                    "02-04-2010",
                    "02-07-2010",
                    "02-09-2011",
                    "02-12-2011",
                    "03-02-2012",
                    "03-06-2011",
                    "03-08-2012",
                    "03-09-2010",
                    "03-12-2010",
                    "04-02-2011",
                    "04-03-2011",
                    "04-05-2012",
                    "04-06-2010",
                    "04-11-2011",
                    "05-02-2010",
                    "05-03-2010",
                    "05-08-2011",
                    "05-10-2012",
                    "05-11-2010",
                    "06-01-2012",
                    "06-04-2012",
                    "06-05-2011",
                    "06-07-2012",
                    "06-08-2010",
                    "07-01-2011",
                    "07-05-2010",
                    "07-09-2012",
                    "07-10-2011",
                    "08-04-2011",
                    "08-06-2012",
                    "08-07-2011",
                    "08-10-2010",
                    "09-03-2012",
                    "09-04-2010",
                    "09-07-2010",
                    "09-09-2011",
                    "09-12-2011",
                    "10-02-2012",
                    "10-06-2011",
                    "10-08-2012",
                    "10-09-2010",
                    "10-12-2010",
                    "11-02-2011",
                    "11-03-2011",
                    "11-05-2012",
                    "11-06-2010",
                    "11-11-2011",
                    "12-02-2010",
                    "12-03-2010",
                    "12-08-2011",
                    "12-10-2012",
                    "12-11-2010",
                    "13-01-2012",
                    "13-04-2012",
                    "13-05-2011",
                    "13-07-2012",
                    "13-08-2010",
                    "14-01-2011",
                    "14-05-2010",
                    "14-09-2012",
                    "14-10-2011",
                    "15-04-2011",
                    "15-06-2012",
                    "15-07-2011",
                    "15-10-2010",
                    "16-03-2012",
                    "16-04-2010",
                    "16-07-2010",
                    "16-09-2011",
                    "16-12-2011",
                    "17-02-2012",
                    "17-06-2011",
                    "17-08-2012",
                    "17-09-2010",
                    "17-12-2010",
                    "18-02-2011",
                    "18-03-2011",
                    "18-05-2012",
                    "18-06-2010",
                    "18-11-2011",
                    "19-02-2010",
                    "19-03-2010",
                    "19-08-2011",
                    "19-10-2012",
                    "19-11-2010",
                    "20-01-2012",
                    "20-04-2012",
                    "20-05-2011",
                    "20-07-2012",
                    "20-08-2010",
                    "21-01-2011",
                    "21-05-2010",
                    "21-09-2012",
                    "21-10-2011",
                    "22-04-2011",
                    "22-06-2012",
                    "22-07-2011",
                    "22-10-2010",
                    "23-03-2012",
                    "23-04-2010",
                    "23-07-2010",
                    "23-09-2011",
                    "23-12-2011",
                    "24-02-2012",
                    "24-06-2011",
                    "24-08-2012",
                    "24-09-2010",
                    "24-12-2010",
                    "25-02-2011",
                    "25-03-2011",
                    "25-05-2012",
                    "25-06-2010",
                    "25-11-2011",
                    "26-02-2010",
                    "26-03-2010",
                    "26-08-2011",
                    "26-10-2012",
                    "26-11-2010",
                    "27-01-2012",
                    "27-04-2012",
                    "27-05-2011",
                    "27-07-2012",
                    "27-08-2010",
                    "28-01-2011",
                    "28-05-2010",
                    "28-09-2012",
                    "28-10-2011",
                    "29-04-2011",
                    "29-06-2012",
                    "29-07-2011",
                    "29-10-2010",
                    "30-03-2012",
                    "30-04-2010",
                    "30-07-2010",
                    "30-09-2011",
                    "30-12-2011",
                    "31-08-2012",
                    "31-12-2010"
                  ],
                  "xaxis": "x",
                  "y": [
                    965755.3597777777,
                    1072925.5493333333,
                    1057300.4333333333,
                    938663.9082222221,
                    1041356.3326666666,
                    1120529.5835555554,
                    1087055.211111111,
                    1008369.4060000001,
                    1097567.922,
                    1024124.6242222222,
                    1083822.092888889,
                    1055242.2124444444,
                    1048761.2802222222,
                    1109089.5084444445,
                    1025624.6915555554,
                    1044013.4164444444,
                    1047204.3984444444,
                    1115300.958222222,
                    1081234.3177777778,
                    1105572.0111111111,
                    1041588.2288888888,
                    1067010.377111111,
                    1057036.4291111112,
                    1017377.3753333334,
                    999009.3766666667,
                    1188940.3526666665,
                    1041376.8508888888,
                    1138956.041777778,
                    1071222.2026666666,
                    950573.0615555554,
                    1077849.8560000001,
                    1074001.318,
                    1049148.6302222223,
                    1019721.4844444444,
                    1103359.372888889,
                    1063539.195111111,
                    1002288.3162222222,
                    1055121.2024444444,
                    1052562.0097777778,
                    1064433.986,
                    1039182.834,
                    1234692.171111111,
                    1111320.176,
                    1059327.4368888887,
                    1053410.023111111,
                    1014097.7297777777,
                    1237039.342,
                    1051915.3953333334,
                    991718.2088888888,
                    1042797.3108888889,
                    1062812.1493333334,
                    1077204.9944444445,
                    1074148.3917777778,
                    1020564.3668888889,
                    1027768.2046666667,
                    1025078.0944444444,
                    1024995.5739999999,
                    933846.1884444443,
                    1036205.809111111,
                    1009914.3293333333,
                    1024438.4911111111,
                    1032542.6313333334,
                    903859.512,
                    1007335.1155555557,
                    982800.8588888888,
                    986107.1177777777,
                    999407.292,
                    1075824.6822222222,
                    1011465.1093333333,
                    958877.1877777779,
                    1042255.6653333333,
                    1004081.4906666667,
                    1027642.2128888889,
                    973199.1128888888,
                    1335237.6875555555,
                    1115490.1546666666,
                    1054390.2615555557,
                    1052321.1566666665,
                    957349.478,
                    1373795.5522222223,
                    1082581.4248888888,
                    997162.7993333333,
                    1040531.9826666666,
                    1058267.694,
                    1031977.3457777778,
                    1072822.084,
                    999754.992,
                    1042607.7248888889,
                    1002720.2348888889,
                    1002790.7595555555,
                    935133.2568888889,
                    1001611.772888889,
                    978813.2891111111,
                    1023545.41,
                    1045798.9537777778,
                    903436.6228888889,
                    1002669.0680000001,
                    985656.6024444444,
                    1018198.9653333332,
                    1081704.2680000002,
                    1059295.2215555555,
                    1006098.0308888889,
                    957037.1004444443,
                    999862.098888889,
                    994098.9457777778,
                    997529.9802222222,
                    949291.0384444444,
                    1711072.029111111,
                    1017144.5904444444,
                    1019646.5462222222,
                    1054384.9688888888,
                    919078.0979999999,
                    1798475.9022222222,
                    980574.663111111,
                    952804.4262222222,
                    1064276.9624444444,
                    1035756.362,
                    1479857.8946666666,
                    977079.3584444445,
                    980754.69,
                    1053709.9655555557,
                    1012091.4731111111,
                    1462688.960888889,
                    885221.6593333334,
                    971484.4197777777,
                    1006521.2675555556,
                    979936.7771111111,
                    1020216.4542222222,
                    879996.7331111112,
                    1061277.8346666668,
                    971886.6533333333,
                    1019018.2455555554,
                    967334.0617777779,
                    1035491.3804444444,
                    970739.4284444444,
                    968951.7988888889,
                    1006063.6004444446,
                    971225.0380000001,
                    991785.8537777779,
                    937685.1291111112,
                    1023165.8008888889,
                    1047991.9873333334,
                    898500.4222222222
                  ],
                  "yaxis": "y"
                },
                {
                  "hovertemplate": "variable=Weekly_Sales_max<br>Date=%{x}<br>value=%{y}<extra></extra>",
                  "legendgroup": "Weekly_Sales_max",
                  "line": {
                    "color": "#EF553B",
                    "dash": "solid"
                  },
                  "marker": {
                    "symbol": "circle"
                  },
                  "mode": "lines",
                  "name": "Weekly_Sales_max",
                  "orientation": "v",
                  "showlegend": true,
                  "type": "scatter",
                  "x": [
                    "01-04-2011",
                    "01-06-2012",
                    "01-07-2011",
                    "01-10-2010",
                    "02-03-2012",
                    "02-04-2010",
                    "02-07-2010",
                    "02-09-2011",
                    "02-12-2011",
                    "03-02-2012",
                    "03-06-2011",
                    "03-08-2012",
                    "03-09-2010",
                    "03-12-2010",
                    "04-02-2011",
                    "04-03-2011",
                    "04-05-2012",
                    "04-06-2010",
                    "04-11-2011",
                    "05-02-2010",
                    "05-03-2010",
                    "05-08-2011",
                    "05-10-2012",
                    "05-11-2010",
                    "06-01-2012",
                    "06-04-2012",
                    "06-05-2011",
                    "06-07-2012",
                    "06-08-2010",
                    "07-01-2011",
                    "07-05-2010",
                    "07-09-2012",
                    "07-10-2011",
                    "08-04-2011",
                    "08-06-2012",
                    "08-07-2011",
                    "08-10-2010",
                    "09-03-2012",
                    "09-04-2010",
                    "09-07-2010",
                    "09-09-2011",
                    "09-12-2011",
                    "10-02-2012",
                    "10-06-2011",
                    "10-08-2012",
                    "10-09-2010",
                    "10-12-2010",
                    "11-02-2011",
                    "11-03-2011",
                    "11-05-2012",
                    "11-06-2010",
                    "11-11-2011",
                    "12-02-2010",
                    "12-03-2010",
                    "12-08-2011",
                    "12-10-2012",
                    "12-11-2010",
                    "13-01-2012",
                    "13-04-2012",
                    "13-05-2011",
                    "13-07-2012",
                    "13-08-2010",
                    "14-01-2011",
                    "14-05-2010",
                    "14-09-2012",
                    "14-10-2011",
                    "15-04-2011",
                    "15-06-2012",
                    "15-07-2011",
                    "15-10-2010",
                    "16-03-2012",
                    "16-04-2010",
                    "16-07-2010",
                    "16-09-2011",
                    "16-12-2011",
                    "17-02-2012",
                    "17-06-2011",
                    "17-08-2012",
                    "17-09-2010",
                    "17-12-2010",
                    "18-02-2011",
                    "18-03-2011",
                    "18-05-2012",
                    "18-06-2010",
                    "18-11-2011",
                    "19-02-2010",
                    "19-03-2010",
                    "19-08-2011",
                    "19-10-2012",
                    "19-11-2010",
                    "20-01-2012",
                    "20-04-2012",
                    "20-05-2011",
                    "20-07-2012",
                    "20-08-2010",
                    "21-01-2011",
                    "21-05-2010",
                    "21-09-2012",
                    "21-10-2011",
                    "22-04-2011",
                    "22-06-2012",
                    "22-07-2011",
                    "22-10-2010",
                    "23-03-2012",
                    "23-04-2010",
                    "23-07-2010",
                    "23-09-2011",
                    "23-12-2011",
                    "24-02-2012",
                    "24-06-2011",
                    "24-08-2012",
                    "24-09-2010",
                    "24-12-2010",
                    "25-02-2011",
                    "25-03-2011",
                    "25-05-2012",
                    "25-06-2010",
                    "25-11-2011",
                    "26-02-2010",
                    "26-03-2010",
                    "26-08-2011",
                    "26-10-2012",
                    "26-11-2010",
                    "27-01-2012",
                    "27-04-2012",
                    "27-05-2011",
                    "27-07-2012",
                    "27-08-2010",
                    "28-01-2011",
                    "28-05-2010",
                    "28-09-2012",
                    "28-10-2011",
                    "29-04-2011",
                    "29-06-2012",
                    "29-07-2011",
                    "29-10-2010",
                    "30-03-2012",
                    "30-04-2010",
                    "30-07-2010",
                    "30-09-2011",
                    "30-12-2011",
                    "31-08-2012",
                    "31-12-2010"
                  ],
                  "xaxis": "x",
                  "y": [
                    1927993.09,
                    2179360.94,
                    2074668.19,
                    1933719.21,
                    2206319.9,
                    2495630.51,
                    2334788.42,
                    2141765.98,
                    2298776.83,
                    2203523.2,
                    2182246.69,
                    2174514.13,
                    2182563.66,
                    2416051.17,
                    2351143.07,
                    2143424.61,
                    2196968.33,
                    2363601.47,
                    2284106.6,
                    2623469.95,
                    2237544.75,
                    2189353.63,
                    2246411.89,
                    2184316.64,
                    2047766.07,
                    2565259.92,
                    2095599.93,
                    2358055.3,
                    2219813.5,
                    1864746.1,
                    2370116.52,
                    2165796.31,
                    2166737.65,
                    2074953.46,
                    2245257.18,
                    2123787.79,
                    2091663.2,
                    2202450.81,
                    2258781.28,
                    2236209.13,
                    2202742.9,
                    2546123.78,
                    2462978.28,
                    2135062.04,
                    2193367.69,
                    2191767.76,
                    2752122.08,
                    2211388.14,
                    2039818.41,
                    2168097.11,
                    2249570.04,
                    2269975.85,
                    2188307.39,
                    2156035.06,
                    2105668.74,
                    2162951.36,
                    2187765.28,
                    1941676.61,
                    2105301.39,
                    2036748.53,
                    2134680.12,
                    2071022.45,
                    1884345.01,
                    2129771.13,
                    2117854.6,
                    2074548.85,
                    2057406.33,
                    2234190.93,
                    2049046.95,
                    1950676.39,
                    2214967.44,
                    2121788.61,
                    2130287.27,
                    2075577.33,
                    2771397.17,
                    2427640.17,
                    2141210.62,
                    2283540.3,
                    1953539.85,
                    2819193.17,
                    2316495.56,
                    2116475.38,
                    2207214.81,
                    2248645.59,
                    2243946.59,
                    2204556.7,
                    2066219.3,
                    2232892.1,
                    2097266.85,
                    2105058.91,
                    2005097.76,
                    2144336.89,
                    2015563.48,
                    2175563.69,
                    2057138.31,
                    1886393.94,
                    2108187.1,
                    2119438.53,
                    2207742.13,
                    2313861.81,
                    2197299.65,
                    2036231.39,
                    1936621.09,
                    2091592.54,
                    2138144.91,
                    2044155.39,
                    2031406.41,
                    3676388.98,
                    2226662.17,
                    2069523.52,
                    2125241.68,
                    1879891.13,
                    3818686.45,
                    2078094.69,
                    1944164.32,
                    2154137.67,
                    2246179.91,
                    3004702.33,
                    2095591.63,
                    2050396.27,
                    2273470.62,
                    2149594.46,
                    2939946.38,
                    1928720.51,
                    2064065.66,
                    2080694.24,
                    2048613.65,
                    2020332.07,
                    1814240.85,
                    2227152.16,
                    2027620.23,
                    2151659.59,
                    1930617.64,
                    2128362.92,
                    1989674.07,
                    1984768.34,
                    2089381.77,
                    2082355.12,
                    2054843.28,
                    1945808.26,
                    2043245,
                    2081181.35,
                    1799737.79
                  ],
                  "yaxis": "y"
                },
                {
                  "hovertemplate": "variable=Weekly_Sales_min<br>Date=%{x}<br>value=%{y}<extra></extra>",
                  "legendgroup": "Weekly_Sales_min",
                  "line": {
                    "color": "#00cc96",
                    "dash": "solid"
                  },
                  "marker": {
                    "symbol": "circle"
                  },
                  "mode": "lines",
                  "name": "Weekly_Sales_min",
                  "orientation": "v",
                  "showlegend": true,
                  "type": "scatter",
                  "x": [
                    "01-04-2011",
                    "01-06-2012",
                    "01-07-2011",
                    "01-10-2010",
                    "02-03-2012",
                    "02-04-2010",
                    "02-07-2010",
                    "02-09-2011",
                    "02-12-2011",
                    "03-02-2012",
                    "03-06-2011",
                    "03-08-2012",
                    "03-09-2010",
                    "03-12-2010",
                    "04-02-2011",
                    "04-03-2011",
                    "04-05-2012",
                    "04-06-2010",
                    "04-11-2011",
                    "05-02-2010",
                    "05-03-2010",
                    "05-08-2011",
                    "05-10-2012",
                    "05-11-2010",
                    "06-01-2012",
                    "06-04-2012",
                    "06-05-2011",
                    "06-07-2012",
                    "06-08-2010",
                    "07-01-2011",
                    "07-05-2010",
                    "07-09-2012",
                    "07-10-2011",
                    "08-04-2011",
                    "08-06-2012",
                    "08-07-2011",
                    "08-10-2010",
                    "09-03-2012",
                    "09-04-2010",
                    "09-07-2010",
                    "09-09-2011",
                    "09-12-2011",
                    "10-02-2012",
                    "10-06-2011",
                    "10-08-2012",
                    "10-09-2010",
                    "10-12-2010",
                    "11-02-2011",
                    "11-03-2011",
                    "11-05-2012",
                    "11-06-2010",
                    "11-11-2011",
                    "12-02-2010",
                    "12-03-2010",
                    "12-08-2011",
                    "12-10-2012",
                    "12-11-2010",
                    "13-01-2012",
                    "13-04-2012",
                    "13-05-2011",
                    "13-07-2012",
                    "13-08-2010",
                    "14-01-2011",
                    "14-05-2010",
                    "14-09-2012",
                    "14-10-2011",
                    "15-04-2011",
                    "15-06-2012",
                    "15-07-2011",
                    "15-10-2010",
                    "16-03-2012",
                    "16-04-2010",
                    "16-07-2010",
                    "16-09-2011",
                    "16-12-2011",
                    "17-02-2012",
                    "17-06-2011",
                    "17-08-2012",
                    "17-09-2010",
                    "17-12-2010",
                    "18-02-2011",
                    "18-03-2011",
                    "18-05-2012",
                    "18-06-2010",
                    "18-11-2011",
                    "19-02-2010",
                    "19-03-2010",
                    "19-08-2011",
                    "19-10-2012",
                    "19-11-2010",
                    "20-01-2012",
                    "20-04-2012",
                    "20-05-2011",
                    "20-07-2012",
                    "20-08-2010",
                    "21-01-2011",
                    "21-05-2010",
                    "21-09-2012",
                    "21-10-2011",
                    "22-04-2011",
                    "22-06-2012",
                    "22-07-2011",
                    "22-10-2010",
                    "23-03-2012",
                    "23-04-2010",
                    "23-07-2010",
                    "23-09-2011",
                    "23-12-2011",
                    "24-02-2012",
                    "24-06-2011",
                    "24-08-2012",
                    "24-09-2010",
                    "24-12-2010",
                    "25-02-2011",
                    "25-03-2011",
                    "25-05-2012",
                    "25-06-2010",
                    "25-11-2011",
                    "26-02-2010",
                    "26-03-2010",
                    "26-08-2011",
                    "26-10-2012",
                    "26-11-2010",
                    "27-01-2012",
                    "27-04-2012",
                    "27-05-2011",
                    "27-07-2012",
                    "27-08-2010",
                    "28-01-2011",
                    "28-05-2010",
                    "28-09-2012",
                    "28-10-2011",
                    "29-04-2011",
                    "29-06-2012",
                    "29-07-2011",
                    "29-10-2010",
                    "30-03-2012",
                    "30-04-2010",
                    "30-07-2010",
                    "30-09-2011",
                    "30-12-2011",
                    "31-08-2012",
                    "31-12-2010"
                  ],
                  "xaxis": "x",
                  "y": [
                    232769.09,
                    261131.09,
                    226702.36,
                    224294.39,
                    248051.53,
                    274634.52,
                    267495.76,
                    239198.36,
                    220060.35,
                    256091.32,
                    243477.03,
                    258533.12,
                    237405.82,
                    209986.25,
                    234218.03,
                    245435.8,
                    270497.51,
                    282351.82,
                    236157.12,
                    274593.43,
                    284617.27,
                    242456.39,
                    265444.9,
                    246124.61,
                    267058.08,
                    275911.97,
                    257031.19,
                    273690.37,
                    262789.95,
                    243948.82,
                    285379.86,
                    286428.78,
                    262159.13,
                    271924.73,
                    286082.76,
                    262717.71,
                    266484.19,
                    287346.29,
                    257361.3,
                    280472.78,
                    281842.28,
                    270373.05,
                    282552.58,
                    258427.39,
                    297753.49,
                    272834.88,
                    253050.1,
                    276198.74,
                    270921.44,
                    295841.84,
                    296641.91,
                    271961.04,
                    286857.13,
                    272190.83,
                    274721.85,
                    291781.15,
                    272803.94,
                    279447.22,
                    311390.22,
                    279466.87,
                    287033.64,
                    265367.51,
                    259527.75,
                    286515.92,
                    277417.53,
                    272487.33,
                    275749.56,
                    290444.31,
                    265003.47,
                    251732.92,
                    278067.73,
                    280048.74,
                    280701.7,
                    262407.57,
                    259638.35,
                    266300.98,
                    238172.66,
                    270097.76,
                    246277.18,
                    238875.26,
                    252349.6,
                    247234.47,
                    276899.95,
                    272399.08,
                    251294.5,
                    267956.3,
                    269624.2,
                    242771.37,
                    254412.34,
                    224639.76,
                    244899.2,
                    261837.2,
                    239206.26,
                    253205.89,
                    230519.49,
                    244856.44,
                    267065.35,
                    252709.58,
                    233543.08,
                    248603.3,
                    261666.29,
                    238915.05,
                    234175.92,
                    246970.97,
                    263263.02,
                    252734.31,
                    234793.12,
                    256235.19,
                    242526.7,
                    238433.53,
                    247672.56,
                    231976.84,
                    249246.8,
                    242901.21,
                    238084.08,
                    261851.74,
                    259419.91,
                    255996.47,
                    270281.63,
                    262893.76,
                    237095.82,
                    253731.13,
                    240044.57,
                    236920.49,
                    249798.75,
                    239431.85,
                    249134.32,
                    224031.19,
                    231155.9,
                    279246.33,
                    242813.51,
                    231319.96,
                    248561.86,
                    244338.31,
                    224806.96,
                    213538.32,
                    251327.67,
                    272997.65,
                    242047.03,
                    229731.98,
                    215359.21,
                    237129.81,
                    219804.85
                  ],
                  "yaxis": "y"
                }
              ],
              "layout": {
                "legend": {
                  "title": {
                    "text": "variable"
                  },
                  "tracegroupgap": 0
                },
                "template": {
                  "data": {
                    "bar": [
                      {
                        "error_x": {
                          "color": "#2a3f5f"
                        },
                        "error_y": {
                          "color": "#2a3f5f"
                        },
                        "marker": {
                          "line": {
                            "color": "#E5ECF6",
                            "width": 0.5
                          },
                          "pattern": {
                            "fillmode": "overlay",
                            "size": 10,
                            "solidity": 0.2
                          }
                        },
                        "type": "bar"
                      }
                    ],
                    "barpolar": [
                      {
                        "marker": {
                          "line": {
                            "color": "#E5ECF6",
                            "width": 0.5
                          },
                          "pattern": {
                            "fillmode": "overlay",
                            "size": 10,
                            "solidity": 0.2
                          }
                        },
                        "type": "barpolar"
                      }
                    ],
                    "carpet": [
                      {
                        "aaxis": {
                          "endlinecolor": "#2a3f5f",
                          "gridcolor": "white",
                          "linecolor": "white",
                          "minorgridcolor": "white",
                          "startlinecolor": "#2a3f5f"
                        },
                        "baxis": {
                          "endlinecolor": "#2a3f5f",
                          "gridcolor": "white",
                          "linecolor": "white",
                          "minorgridcolor": "white",
                          "startlinecolor": "#2a3f5f"
                        },
                        "type": "carpet"
                      }
                    ],
                    "choropleth": [
                      {
                        "colorbar": {
                          "outlinewidth": 0,
                          "ticks": ""
                        },
                        "type": "choropleth"
                      }
                    ],
                    "contour": [
                      {
                        "colorbar": {
                          "outlinewidth": 0,
                          "ticks": ""
                        },
                        "colorscale": [
                          [
                            0,
                            "#0d0887"
                          ],
                          [
                            0.1111111111111111,
                            "#46039f"
                          ],
                          [
                            0.2222222222222222,
                            "#7201a8"
                          ],
                          [
                            0.3333333333333333,
                            "#9c179e"
                          ],
                          [
                            0.4444444444444444,
                            "#bd3786"
                          ],
                          [
                            0.5555555555555556,
                            "#d8576b"
                          ],
                          [
                            0.6666666666666666,
                            "#ed7953"
                          ],
                          [
                            0.7777777777777778,
                            "#fb9f3a"
                          ],
                          [
                            0.8888888888888888,
                            "#fdca26"
                          ],
                          [
                            1,
                            "#f0f921"
                          ]
                        ],
                        "type": "contour"
                      }
                    ],
                    "contourcarpet": [
                      {
                        "colorbar": {
                          "outlinewidth": 0,
                          "ticks": ""
                        },
                        "type": "contourcarpet"
                      }
                    ],
                    "heatmap": [
                      {
                        "colorbar": {
                          "outlinewidth": 0,
                          "ticks": ""
                        },
                        "colorscale": [
                          [
                            0,
                            "#0d0887"
                          ],
                          [
                            0.1111111111111111,
                            "#46039f"
                          ],
                          [
                            0.2222222222222222,
                            "#7201a8"
                          ],
                          [
                            0.3333333333333333,
                            "#9c179e"
                          ],
                          [
                            0.4444444444444444,
                            "#bd3786"
                          ],
                          [
                            0.5555555555555556,
                            "#d8576b"
                          ],
                          [
                            0.6666666666666666,
                            "#ed7953"
                          ],
                          [
                            0.7777777777777778,
                            "#fb9f3a"
                          ],
                          [
                            0.8888888888888888,
                            "#fdca26"
                          ],
                          [
                            1,
                            "#f0f921"
                          ]
                        ],
                        "type": "heatmap"
                      }
                    ],
                    "heatmapgl": [
                      {
                        "colorbar": {
                          "outlinewidth": 0,
                          "ticks": ""
                        },
                        "colorscale": [
                          [
                            0,
                            "#0d0887"
                          ],
                          [
                            0.1111111111111111,
                            "#46039f"
                          ],
                          [
                            0.2222222222222222,
                            "#7201a8"
                          ],
                          [
                            0.3333333333333333,
                            "#9c179e"
                          ],
                          [
                            0.4444444444444444,
                            "#bd3786"
                          ],
                          [
                            0.5555555555555556,
                            "#d8576b"
                          ],
                          [
                            0.6666666666666666,
                            "#ed7953"
                          ],
                          [
                            0.7777777777777778,
                            "#fb9f3a"
                          ],
                          [
                            0.8888888888888888,
                            "#fdca26"
                          ],
                          [
                            1,
                            "#f0f921"
                          ]
                        ],
                        "type": "heatmapgl"
                      }
                    ],
                    "histogram": [
                      {
                        "marker": {
                          "pattern": {
                            "fillmode": "overlay",
                            "size": 10,
                            "solidity": 0.2
                          }
                        },
                        "type": "histogram"
                      }
                    ],
                    "histogram2d": [
                      {
                        "colorbar": {
                          "outlinewidth": 0,
                          "ticks": ""
                        },
                        "colorscale": [
                          [
                            0,
                            "#0d0887"
                          ],
                          [
                            0.1111111111111111,
                            "#46039f"
                          ],
                          [
                            0.2222222222222222,
                            "#7201a8"
                          ],
                          [
                            0.3333333333333333,
                            "#9c179e"
                          ],
                          [
                            0.4444444444444444,
                            "#bd3786"
                          ],
                          [
                            0.5555555555555556,
                            "#d8576b"
                          ],
                          [
                            0.6666666666666666,
                            "#ed7953"
                          ],
                          [
                            0.7777777777777778,
                            "#fb9f3a"
                          ],
                          [
                            0.8888888888888888,
                            "#fdca26"
                          ],
                          [
                            1,
                            "#f0f921"
                          ]
                        ],
                        "type": "histogram2d"
                      }
                    ],
                    "histogram2dcontour": [
                      {
                        "colorbar": {
                          "outlinewidth": 0,
                          "ticks": ""
                        },
                        "colorscale": [
                          [
                            0,
                            "#0d0887"
                          ],
                          [
                            0.1111111111111111,
                            "#46039f"
                          ],
                          [
                            0.2222222222222222,
                            "#7201a8"
                          ],
                          [
                            0.3333333333333333,
                            "#9c179e"
                          ],
                          [
                            0.4444444444444444,
                            "#bd3786"
                          ],
                          [
                            0.5555555555555556,
                            "#d8576b"
                          ],
                          [
                            0.6666666666666666,
                            "#ed7953"
                          ],
                          [
                            0.7777777777777778,
                            "#fb9f3a"
                          ],
                          [
                            0.8888888888888888,
                            "#fdca26"
                          ],
                          [
                            1,
                            "#f0f921"
                          ]
                        ],
                        "type": "histogram2dcontour"
                      }
                    ],
                    "mesh3d": [
                      {
                        "colorbar": {
                          "outlinewidth": 0,
                          "ticks": ""
                        },
                        "type": "mesh3d"
                      }
                    ],
                    "parcoords": [
                      {
                        "line": {
                          "colorbar": {
                            "outlinewidth": 0,
                            "ticks": ""
                          }
                        },
                        "type": "parcoords"
                      }
                    ],
                    "pie": [
                      {
                        "automargin": true,
                        "type": "pie"
                      }
                    ],
                    "scatter": [
                      {
                        "fillpattern": {
                          "fillmode": "overlay",
                          "size": 10,
                          "solidity": 0.2
                        },
                        "type": "scatter"
                      }
                    ],
                    "scatter3d": [
                      {
                        "line": {
                          "colorbar": {
                            "outlinewidth": 0,
                            "ticks": ""
                          }
                        },
                        "marker": {
                          "colorbar": {
                            "outlinewidth": 0,
                            "ticks": ""
                          }
                        },
                        "type": "scatter3d"
                      }
                    ],
                    "scattercarpet": [
                      {
                        "marker": {
                          "colorbar": {
                            "outlinewidth": 0,
                            "ticks": ""
                          }
                        },
                        "type": "scattercarpet"
                      }
                    ],
                    "scattergeo": [
                      {
                        "marker": {
                          "colorbar": {
                            "outlinewidth": 0,
                            "ticks": ""
                          }
                        },
                        "type": "scattergeo"
                      }
                    ],
                    "scattergl": [
                      {
                        "marker": {
                          "colorbar": {
                            "outlinewidth": 0,
                            "ticks": ""
                          }
                        },
                        "type": "scattergl"
                      }
                    ],
                    "scattermapbox": [
                      {
                        "marker": {
                          "colorbar": {
                            "outlinewidth": 0,
                            "ticks": ""
                          }
                        },
                        "type": "scattermapbox"
                      }
                    ],
                    "scatterpolar": [
                      {
                        "marker": {
                          "colorbar": {
                            "outlinewidth": 0,
                            "ticks": ""
                          }
                        },
                        "type": "scatterpolar"
                      }
                    ],
                    "scatterpolargl": [
                      {
                        "marker": {
                          "colorbar": {
                            "outlinewidth": 0,
                            "ticks": ""
                          }
                        },
                        "type": "scatterpolargl"
                      }
                    ],
                    "scatterternary": [
                      {
                        "marker": {
                          "colorbar": {
                            "outlinewidth": 0,
                            "ticks": ""
                          }
                        },
                        "type": "scatterternary"
                      }
                    ],
                    "surface": [
                      {
                        "colorbar": {
                          "outlinewidth": 0,
                          "ticks": ""
                        },
                        "colorscale": [
                          [
                            0,
                            "#0d0887"
                          ],
                          [
                            0.1111111111111111,
                            "#46039f"
                          ],
                          [
                            0.2222222222222222,
                            "#7201a8"
                          ],
                          [
                            0.3333333333333333,
                            "#9c179e"
                          ],
                          [
                            0.4444444444444444,
                            "#bd3786"
                          ],
                          [
                            0.5555555555555556,
                            "#d8576b"
                          ],
                          [
                            0.6666666666666666,
                            "#ed7953"
                          ],
                          [
                            0.7777777777777778,
                            "#fb9f3a"
                          ],
                          [
                            0.8888888888888888,
                            "#fdca26"
                          ],
                          [
                            1,
                            "#f0f921"
                          ]
                        ],
                        "type": "surface"
                      }
                    ],
                    "table": [
                      {
                        "cells": {
                          "fill": {
                            "color": "#EBF0F8"
                          },
                          "line": {
                            "color": "white"
                          }
                        },
                        "header": {
                          "fill": {
                            "color": "#C8D4E3"
                          },
                          "line": {
                            "color": "white"
                          }
                        },
                        "type": "table"
                      }
                    ]
                  },
                  "layout": {
                    "annotationdefaults": {
                      "arrowcolor": "#2a3f5f",
                      "arrowhead": 0,
                      "arrowwidth": 1
                    },
                    "autotypenumbers": "strict",
                    "coloraxis": {
                      "colorbar": {
                        "outlinewidth": 0,
                        "ticks": ""
                      }
                    },
                    "colorscale": {
                      "diverging": [
                        [
                          0,
                          "#8e0152"
                        ],
                        [
                          0.1,
                          "#c51b7d"
                        ],
                        [
                          0.2,
                          "#de77ae"
                        ],
                        [
                          0.3,
                          "#f1b6da"
                        ],
                        [
                          0.4,
                          "#fde0ef"
                        ],
                        [
                          0.5,
                          "#f7f7f7"
                        ],
                        [
                          0.6,
                          "#e6f5d0"
                        ],
                        [
                          0.7,
                          "#b8e186"
                        ],
                        [
                          0.8,
                          "#7fbc41"
                        ],
                        [
                          0.9,
                          "#4d9221"
                        ],
                        [
                          1,
                          "#276419"
                        ]
                      ],
                      "sequential": [
                        [
                          0,
                          "#0d0887"
                        ],
                        [
                          0.1111111111111111,
                          "#46039f"
                        ],
                        [
                          0.2222222222222222,
                          "#7201a8"
                        ],
                        [
                          0.3333333333333333,
                          "#9c179e"
                        ],
                        [
                          0.4444444444444444,
                          "#bd3786"
                        ],
                        [
                          0.5555555555555556,
                          "#d8576b"
                        ],
                        [
                          0.6666666666666666,
                          "#ed7953"
                        ],
                        [
                          0.7777777777777778,
                          "#fb9f3a"
                        ],
                        [
                          0.8888888888888888,
                          "#fdca26"
                        ],
                        [
                          1,
                          "#f0f921"
                        ]
                      ],
                      "sequentialminus": [
                        [
                          0,
                          "#0d0887"
                        ],
                        [
                          0.1111111111111111,
                          "#46039f"
                        ],
                        [
                          0.2222222222222222,
                          "#7201a8"
                        ],
                        [
                          0.3333333333333333,
                          "#9c179e"
                        ],
                        [
                          0.4444444444444444,
                          "#bd3786"
                        ],
                        [
                          0.5555555555555556,
                          "#d8576b"
                        ],
                        [
                          0.6666666666666666,
                          "#ed7953"
                        ],
                        [
                          0.7777777777777778,
                          "#fb9f3a"
                        ],
                        [
                          0.8888888888888888,
                          "#fdca26"
                        ],
                        [
                          1,
                          "#f0f921"
                        ]
                      ]
                    },
                    "colorway": [
                      "#636efa",
                      "#EF553B",
                      "#00cc96",
                      "#ab63fa",
                      "#FFA15A",
                      "#19d3f3",
                      "#FF6692",
                      "#B6E880",
                      "#FF97FF",
                      "#FECB52"
                    ],
                    "font": {
                      "color": "#2a3f5f"
                    },
                    "geo": {
                      "bgcolor": "white",
                      "lakecolor": "white",
                      "landcolor": "#E5ECF6",
                      "showlakes": true,
                      "showland": true,
                      "subunitcolor": "white"
                    },
                    "hoverlabel": {
                      "align": "left"
                    },
                    "hovermode": "closest",
                    "mapbox": {
                      "style": "light"
                    },
                    "paper_bgcolor": "white",
                    "plot_bgcolor": "#E5ECF6",
                    "polar": {
                      "angularaxis": {
                        "gridcolor": "white",
                        "linecolor": "white",
                        "ticks": ""
                      },
                      "bgcolor": "#E5ECF6",
                      "radialaxis": {
                        "gridcolor": "white",
                        "linecolor": "white",
                        "ticks": ""
                      }
                    },
                    "scene": {
                      "xaxis": {
                        "backgroundcolor": "#E5ECF6",
                        "gridcolor": "white",
                        "gridwidth": 2,
                        "linecolor": "white",
                        "showbackground": true,
                        "ticks": "",
                        "zerolinecolor": "white"
                      },
                      "yaxis": {
                        "backgroundcolor": "#E5ECF6",
                        "gridcolor": "white",
                        "gridwidth": 2,
                        "linecolor": "white",
                        "showbackground": true,
                        "ticks": "",
                        "zerolinecolor": "white"
                      },
                      "zaxis": {
                        "backgroundcolor": "#E5ECF6",
                        "gridcolor": "white",
                        "gridwidth": 2,
                        "linecolor": "white",
                        "showbackground": true,
                        "ticks": "",
                        "zerolinecolor": "white"
                      }
                    },
                    "shapedefaults": {
                      "line": {
                        "color": "#2a3f5f"
                      }
                    },
                    "ternary": {
                      "aaxis": {
                        "gridcolor": "white",
                        "linecolor": "white",
                        "ticks": ""
                      },
                      "baxis": {
                        "gridcolor": "white",
                        "linecolor": "white",
                        "ticks": ""
                      },
                      "bgcolor": "#E5ECF6",
                      "caxis": {
                        "gridcolor": "white",
                        "linecolor": "white",
                        "ticks": ""
                      }
                    },
                    "title": {
                      "x": 0.05
                    },
                    "xaxis": {
                      "automargin": true,
                      "gridcolor": "white",
                      "linecolor": "white",
                      "ticks": "",
                      "title": {
                        "standoff": 15
                      },
                      "zerolinecolor": "white",
                      "zerolinewidth": 2
                    },
                    "yaxis": {
                      "automargin": true,
                      "gridcolor": "white",
                      "linecolor": "white",
                      "ticks": "",
                      "title": {
                        "standoff": 15
                      },
                      "zerolinecolor": "white",
                      "zerolinewidth": 2
                    }
                  }
                },
                "title": {
                  "text": "Vendas máximas, mínimas e médias de todas as lojas ao longo do tempo"
                },
                "xaxis": {
                  "anchor": "y",
                  "domain": [
                    0,
                    1
                  ],
                  "title": {
                    "text": "Data"
                  }
                },
                "yaxis": {
                  "anchor": "x",
                  "domain": [
                    0,
                    1
                  ],
                  "title": {
                    "text": "Valor em $"
                  }
                }
              }
            }
          },
          "metadata": {},
          "output_type": "display_data"
        }
      ],
      "source": [
        "vendas_por_data = vendas_por_data.sort_values(by='Date')\n",
        "# plotar o gráfico\n",
        "fig = ex.line(vendas_por_data, x='Date', y=['Weekly_Sales_mean', 'Weekly_Sales_max', 'Weekly_Sales_min'], title='Vendas máximas, mínimas e médias de todas as lojas ao longo do tempo')\n",
        "fig.update_layout(xaxis_title='Data', yaxis_title='Valor em $')\n",
        "fig.show()"
      ]
    },
    {
      "cell_type": "code",
      "execution_count": 13,
      "metadata": {},
      "outputs": [
        {
          "data": {
            "text/html": [
              "<div>\n",
              "<style scoped>\n",
              "    .dataframe tbody tr th:only-of-type {\n",
              "        vertical-align: middle;\n",
              "    }\n",
              "\n",
              "    .dataframe tbody tr th {\n",
              "        vertical-align: top;\n",
              "    }\n",
              "\n",
              "    .dataframe thead th {\n",
              "        text-align: right;\n",
              "    }\n",
              "</style>\n",
              "<table border=\"1\" class=\"dataframe\">\n",
              "  <thead>\n",
              "    <tr style=\"text-align: right;\">\n",
              "      <th></th>\n",
              "      <th>Store</th>\n",
              "      <th>Weekly_Sales_mean</th>\n",
              "      <th>Weekly_Sales_max</th>\n",
              "      <th>Weekly_Sales_min</th>\n",
              "    </tr>\n",
              "  </thead>\n",
              "  <tbody>\n",
              "    <tr>\n",
              "      <th>19</th>\n",
              "      <td>20</td>\n",
              "      <td>2.107677e+06</td>\n",
              "      <td>3766687.43</td>\n",
              "      <td>1761016.51</td>\n",
              "    </tr>\n",
              "    <tr>\n",
              "      <th>3</th>\n",
              "      <td>4</td>\n",
              "      <td>2.094713e+06</td>\n",
              "      <td>3676388.98</td>\n",
              "      <td>1762539.30</td>\n",
              "    </tr>\n",
              "    <tr>\n",
              "      <th>13</th>\n",
              "      <td>14</td>\n",
              "      <td>2.020978e+06</td>\n",
              "      <td>3818686.45</td>\n",
              "      <td>1479514.66</td>\n",
              "    </tr>\n",
              "    <tr>\n",
              "      <th>12</th>\n",
              "      <td>13</td>\n",
              "      <td>2.003620e+06</td>\n",
              "      <td>3595903.20</td>\n",
              "      <td>1633663.12</td>\n",
              "    </tr>\n",
              "    <tr>\n",
              "      <th>1</th>\n",
              "      <td>2</td>\n",
              "      <td>1.925751e+06</td>\n",
              "      <td>3436007.68</td>\n",
              "      <td>1650394.44</td>\n",
              "    </tr>\n",
              "    <tr>\n",
              "      <th>9</th>\n",
              "      <td>10</td>\n",
              "      <td>1.899425e+06</td>\n",
              "      <td>3749057.69</td>\n",
              "      <td>1627707.31</td>\n",
              "    </tr>\n",
              "    <tr>\n",
              "      <th>26</th>\n",
              "      <td>27</td>\n",
              "      <td>1.775216e+06</td>\n",
              "      <td>3078162.08</td>\n",
              "      <td>1263534.86</td>\n",
              "    </tr>\n",
              "    <tr>\n",
              "      <th>5</th>\n",
              "      <td>6</td>\n",
              "      <td>1.564728e+06</td>\n",
              "      <td>2727575.18</td>\n",
              "      <td>1261253.18</td>\n",
              "    </tr>\n",
              "    <tr>\n",
              "      <th>0</th>\n",
              "      <td>1</td>\n",
              "      <td>1.555264e+06</td>\n",
              "      <td>2387950.20</td>\n",
              "      <td>1316899.31</td>\n",
              "    </tr>\n",
              "    <tr>\n",
              "      <th>38</th>\n",
              "      <td>39</td>\n",
              "      <td>1.450668e+06</td>\n",
              "      <td>2554482.84</td>\n",
              "      <td>1158698.44</td>\n",
              "    </tr>\n",
              "    <tr>\n",
              "      <th>18</th>\n",
              "      <td>19</td>\n",
              "      <td>1.444999e+06</td>\n",
              "      <td>2678206.42</td>\n",
              "      <td>1181204.53</td>\n",
              "    </tr>\n",
              "    <tr>\n",
              "      <th>30</th>\n",
              "      <td>31</td>\n",
              "      <td>1.395901e+06</td>\n",
              "      <td>2068942.97</td>\n",
              "      <td>1198071.60</td>\n",
              "    </tr>\n",
              "    <tr>\n",
              "      <th>22</th>\n",
              "      <td>23</td>\n",
              "      <td>1.389864e+06</td>\n",
              "      <td>2734277.10</td>\n",
              "      <td>1016756.10</td>\n",
              "    </tr>\n",
              "    <tr>\n",
              "      <th>23</th>\n",
              "      <td>24</td>\n",
              "      <td>1.356755e+06</td>\n",
              "      <td>2386015.75</td>\n",
              "      <td>1057290.41</td>\n",
              "    </tr>\n",
              "    <tr>\n",
              "      <th>10</th>\n",
              "      <td>11</td>\n",
              "      <td>1.356383e+06</td>\n",
              "      <td>2306265.36</td>\n",
              "      <td>1100418.69</td>\n",
              "    </tr>\n",
              "    <tr>\n",
              "      <th>27</th>\n",
              "      <td>28</td>\n",
              "      <td>1.323522e+06</td>\n",
              "      <td>2026026.39</td>\n",
              "      <td>1079669.11</td>\n",
              "    </tr>\n",
              "    <tr>\n",
              "      <th>40</th>\n",
              "      <td>41</td>\n",
              "      <td>1.268125e+06</td>\n",
              "      <td>2263722.68</td>\n",
              "      <td>991941.73</td>\n",
              "    </tr>\n",
              "    <tr>\n",
              "      <th>31</th>\n",
              "      <td>32</td>\n",
              "      <td>1.166568e+06</td>\n",
              "      <td>1959526.96</td>\n",
              "      <td>955463.84</td>\n",
              "    </tr>\n",
              "    <tr>\n",
              "      <th>17</th>\n",
              "      <td>18</td>\n",
              "      <td>1.084718e+06</td>\n",
              "      <td>2027507.15</td>\n",
              "      <td>540922.94</td>\n",
              "    </tr>\n",
              "    <tr>\n",
              "      <th>21</th>\n",
              "      <td>22</td>\n",
              "      <td>1.028501e+06</td>\n",
              "      <td>1962445.04</td>\n",
              "      <td>774262.28</td>\n",
              "    </tr>\n",
              "    <tr>\n",
              "      <th>11</th>\n",
              "      <td>12</td>\n",
              "      <td>1.009002e+06</td>\n",
              "      <td>1768249.89</td>\n",
              "      <td>802105.50</td>\n",
              "    </tr>\n",
              "    <tr>\n",
              "      <th>25</th>\n",
              "      <td>26</td>\n",
              "      <td>1.002912e+06</td>\n",
              "      <td>1573982.47</td>\n",
              "      <td>809833.21</td>\n",
              "    </tr>\n",
              "    <tr>\n",
              "      <th>33</th>\n",
              "      <td>34</td>\n",
              "      <td>9.667816e+05</td>\n",
              "      <td>1620748.25</td>\n",
              "      <td>836717.75</td>\n",
              "    </tr>\n",
              "    <tr>\n",
              "      <th>39</th>\n",
              "      <td>40</td>\n",
              "      <td>9.641280e+05</td>\n",
              "      <td>1648829.18</td>\n",
              "      <td>764014.75</td>\n",
              "    </tr>\n",
              "    <tr>\n",
              "      <th>34</th>\n",
              "      <td>35</td>\n",
              "      <td>9.197250e+05</td>\n",
              "      <td>1781866.98</td>\n",
              "      <td>576332.05</td>\n",
              "    </tr>\n",
              "    <tr>\n",
              "      <th>7</th>\n",
              "      <td>8</td>\n",
              "      <td>9.087495e+05</td>\n",
              "      <td>1511641.09</td>\n",
              "      <td>772539.12</td>\n",
              "    </tr>\n",
              "    <tr>\n",
              "      <th>16</th>\n",
              "      <td>17</td>\n",
              "      <td>8.935814e+05</td>\n",
              "      <td>1309226.79</td>\n",
              "      <td>635862.55</td>\n",
              "    </tr>\n",
              "    <tr>\n",
              "      <th>44</th>\n",
              "      <td>45</td>\n",
              "      <td>7.859814e+05</td>\n",
              "      <td>1682862.03</td>\n",
              "      <td>617207.58</td>\n",
              "    </tr>\n",
              "    <tr>\n",
              "      <th>20</th>\n",
              "      <td>21</td>\n",
              "      <td>7.560691e+05</td>\n",
              "      <td>1587257.78</td>\n",
              "      <td>596218.24</td>\n",
              "    </tr>\n",
              "    <tr>\n",
              "      <th>24</th>\n",
              "      <td>25</td>\n",
              "      <td>7.067215e+05</td>\n",
              "      <td>1295391.19</td>\n",
              "      <td>558794.63</td>\n",
              "    </tr>\n",
              "    <tr>\n",
              "      <th>42</th>\n",
              "      <td>43</td>\n",
              "      <td>6.333247e+05</td>\n",
              "      <td>725043.04</td>\n",
              "      <td>505405.85</td>\n",
              "    </tr>\n",
              "    <tr>\n",
              "      <th>14</th>\n",
              "      <td>15</td>\n",
              "      <td>6.233125e+05</td>\n",
              "      <td>1368318.17</td>\n",
              "      <td>454183.42</td>\n",
              "    </tr>\n",
              "    <tr>\n",
              "      <th>6</th>\n",
              "      <td>7</td>\n",
              "      <td>5.706173e+05</td>\n",
              "      <td>1059715.27</td>\n",
              "      <td>372673.61</td>\n",
              "    </tr>\n",
              "    <tr>\n",
              "      <th>41</th>\n",
              "      <td>42</td>\n",
              "      <td>5.564039e+05</td>\n",
              "      <td>674919.45</td>\n",
              "      <td>428953.60</td>\n",
              "    </tr>\n",
              "    <tr>\n",
              "      <th>8</th>\n",
              "      <td>9</td>\n",
              "      <td>5.439806e+05</td>\n",
              "      <td>905324.68</td>\n",
              "      <td>452905.22</td>\n",
              "    </tr>\n",
              "    <tr>\n",
              "      <th>28</th>\n",
              "      <td>29</td>\n",
              "      <td>5.394514e+05</td>\n",
              "      <td>1130926.79</td>\n",
              "      <td>395987.24</td>\n",
              "    </tr>\n",
              "    <tr>\n",
              "      <th>15</th>\n",
              "      <td>16</td>\n",
              "      <td>5.192477e+05</td>\n",
              "      <td>1004730.69</td>\n",
              "      <td>368600.00</td>\n",
              "    </tr>\n",
              "    <tr>\n",
              "      <th>36</th>\n",
              "      <td>37</td>\n",
              "      <td>5.189003e+05</td>\n",
              "      <td>605791.46</td>\n",
              "      <td>451327.61</td>\n",
              "    </tr>\n",
              "    <tr>\n",
              "      <th>29</th>\n",
              "      <td>30</td>\n",
              "      <td>4.385796e+05</td>\n",
              "      <td>519354.88</td>\n",
              "      <td>369722.32</td>\n",
              "    </tr>\n",
              "    <tr>\n",
              "      <th>2</th>\n",
              "      <td>3</td>\n",
              "      <td>4.027044e+05</td>\n",
              "      <td>605990.41</td>\n",
              "      <td>339597.38</td>\n",
              "    </tr>\n",
              "    <tr>\n",
              "      <th>37</th>\n",
              "      <td>38</td>\n",
              "      <td>3.857317e+05</td>\n",
              "      <td>499267.66</td>\n",
              "      <td>303908.81</td>\n",
              "    </tr>\n",
              "    <tr>\n",
              "      <th>35</th>\n",
              "      <td>36</td>\n",
              "      <td>3.735120e+05</td>\n",
              "      <td>489372.02</td>\n",
              "      <td>270677.98</td>\n",
              "    </tr>\n",
              "    <tr>\n",
              "      <th>4</th>\n",
              "      <td>5</td>\n",
              "      <td>3.180118e+05</td>\n",
              "      <td>507900.07</td>\n",
              "      <td>260636.71</td>\n",
              "    </tr>\n",
              "    <tr>\n",
              "      <th>43</th>\n",
              "      <td>44</td>\n",
              "      <td>3.027489e+05</td>\n",
              "      <td>376233.89</td>\n",
              "      <td>241937.11</td>\n",
              "    </tr>\n",
              "    <tr>\n",
              "      <th>32</th>\n",
              "      <td>33</td>\n",
              "      <td>2.598617e+05</td>\n",
              "      <td>331173.51</td>\n",
              "      <td>209986.25</td>\n",
              "    </tr>\n",
              "  </tbody>\n",
              "</table>\n",
              "</div>"
            ],
            "text/plain": [
              "    Store  Weekly_Sales_mean  Weekly_Sales_max  Weekly_Sales_min\n",
              "19     20       2.107677e+06        3766687.43        1761016.51\n",
              "3       4       2.094713e+06        3676388.98        1762539.30\n",
              "13     14       2.020978e+06        3818686.45        1479514.66\n",
              "12     13       2.003620e+06        3595903.20        1633663.12\n",
              "1       2       1.925751e+06        3436007.68        1650394.44\n",
              "9      10       1.899425e+06        3749057.69        1627707.31\n",
              "26     27       1.775216e+06        3078162.08        1263534.86\n",
              "5       6       1.564728e+06        2727575.18        1261253.18\n",
              "0       1       1.555264e+06        2387950.20        1316899.31\n",
              "38     39       1.450668e+06        2554482.84        1158698.44\n",
              "18     19       1.444999e+06        2678206.42        1181204.53\n",
              "30     31       1.395901e+06        2068942.97        1198071.60\n",
              "22     23       1.389864e+06        2734277.10        1016756.10\n",
              "23     24       1.356755e+06        2386015.75        1057290.41\n",
              "10     11       1.356383e+06        2306265.36        1100418.69\n",
              "27     28       1.323522e+06        2026026.39        1079669.11\n",
              "40     41       1.268125e+06        2263722.68         991941.73\n",
              "31     32       1.166568e+06        1959526.96         955463.84\n",
              "17     18       1.084718e+06        2027507.15         540922.94\n",
              "21     22       1.028501e+06        1962445.04         774262.28\n",
              "11     12       1.009002e+06        1768249.89         802105.50\n",
              "25     26       1.002912e+06        1573982.47         809833.21\n",
              "33     34       9.667816e+05        1620748.25         836717.75\n",
              "39     40       9.641280e+05        1648829.18         764014.75\n",
              "34     35       9.197250e+05        1781866.98         576332.05\n",
              "7       8       9.087495e+05        1511641.09         772539.12\n",
              "16     17       8.935814e+05        1309226.79         635862.55\n",
              "44     45       7.859814e+05        1682862.03         617207.58\n",
              "20     21       7.560691e+05        1587257.78         596218.24\n",
              "24     25       7.067215e+05        1295391.19         558794.63\n",
              "42     43       6.333247e+05         725043.04         505405.85\n",
              "14     15       6.233125e+05        1368318.17         454183.42\n",
              "6       7       5.706173e+05        1059715.27         372673.61\n",
              "41     42       5.564039e+05         674919.45         428953.60\n",
              "8       9       5.439806e+05         905324.68         452905.22\n",
              "28     29       5.394514e+05        1130926.79         395987.24\n",
              "15     16       5.192477e+05        1004730.69         368600.00\n",
              "36     37       5.189003e+05         605791.46         451327.61\n",
              "29     30       4.385796e+05         519354.88         369722.32\n",
              "2       3       4.027044e+05         605990.41         339597.38\n",
              "37     38       3.857317e+05         499267.66         303908.81\n",
              "35     36       3.735120e+05         489372.02         270677.98\n",
              "4       5       3.180118e+05         507900.07         260636.71\n",
              "43     44       3.027489e+05         376233.89         241937.11\n",
              "32     33       2.598617e+05         331173.51         209986.25"
            ]
          },
          "execution_count": 13,
          "metadata": {},
          "output_type": "execute_result"
        }
      ],
      "source": [
        "# Pensando na expansão de uma das lojas, que loja você escolheria e o por que?\n",
        "# Thinking about the expansion of one of the stores, which store would you choose and why?\n",
        "# agrupando por loja e calculando a média, máximo e mínimo de vendas\n",
        "vendas_por_loja = walmart.groupby(['Store']).agg({'Weekly_Sales': [np.mean, np.max, np.min]}).reset_index()\n",
        "# renomeando as colunas\n",
        "vendas_por_loja.columns = ['Store', 'Weekly_Sales_mean', 'Weekly_Sales_max', 'Weekly_Sales_min']\n",
        "# ordenando as médias de venda do maior para o menor\n",
        "vendas_por_loja.sort_values(by='Weekly_Sales_mean', ascending=False)\n"
      ]
    },
    {
      "cell_type": "code",
      "execution_count": 15,
      "metadata": {},
      "outputs": [
        {
          "data": {
            "application/vnd.plotly.v1+json": {
              "config": {
                "plotlyServerURL": "https://plot.ly"
              },
              "data": [
                {
                  "alignmentgroup": "True",
                  "hovertemplate": "Store=%{x}<br>Weekly_Sales_mean=%{y}<extra></extra>",
                  "legendgroup": "",
                  "marker": {
                    "color": "#636efa",
                    "pattern": {
                      "shape": ""
                    }
                  },
                  "name": "",
                  "offsetgroup": "",
                  "orientation": "v",
                  "showlegend": false,
                  "textposition": "auto",
                  "type": "bar",
                  "x": [
                    1,
                    2,
                    3,
                    4,
                    5,
                    6,
                    7,
                    8,
                    9,
                    10,
                    11,
                    12,
                    13,
                    14,
                    15,
                    16,
                    17,
                    18,
                    19,
                    20,
                    21,
                    22,
                    23,
                    24,
                    25,
                    26,
                    27,
                    28,
                    29,
                    30,
                    31,
                    32,
                    33,
                    34,
                    35,
                    36,
                    37,
                    38,
                    39,
                    40,
                    41,
                    42,
                    43,
                    44,
                    45
                  ],
                  "xaxis": "x",
                  "y": [
                    1555264.3975524476,
                    1925751.3355244757,
                    402704.44104895106,
                    2094712.9606993007,
                    318011.8104895105,
                    1564728.1862937063,
                    570617.3086713287,
                    908749.5183916084,
                    543980.5523776223,
                    1899424.5726573425,
                    1356383.1244755245,
                    1009001.6094405595,
                    2003620.3062937064,
                    2020978.4009790209,
                    623312.474965035,
                    519247.7300699301,
                    893581.3904195804,
                    1084718.421048951,
                    1444999.0356643356,
                    2107676.8703496503,
                    756069.0833566433,
                    1028501.0389510489,
                    1389864.4604895106,
                    1356755.3935664336,
                    706721.5326573426,
                    1002911.8446853146,
                    1775216.2019580419,
                    1323522.241818182,
                    539451.4287412588,
                    438579.6162237762,
                    1395901.437062937,
                    1166568.154965035,
                    259861.69202797202,
                    966781.5594405595,
                    919724.9795804196,
                    373511.9927972028,
                    518900.2819580419,
                    385731.6532867133,
                    1450668.1291608391,
                    964128.0404895104,
                    1268125.418811189,
                    556403.863146853,
                    633324.7231468532,
                    302748.86601398606,
                    785981.4085314686
                  ],
                  "yaxis": "y"
                }
              ],
              "layout": {
                "barmode": "relative",
                "legend": {
                  "tracegroupgap": 0
                },
                "template": {
                  "data": {
                    "bar": [
                      {
                        "error_x": {
                          "color": "#2a3f5f"
                        },
                        "error_y": {
                          "color": "#2a3f5f"
                        },
                        "marker": {
                          "line": {
                            "color": "#E5ECF6",
                            "width": 0.5
                          },
                          "pattern": {
                            "fillmode": "overlay",
                            "size": 10,
                            "solidity": 0.2
                          }
                        },
                        "type": "bar"
                      }
                    ],
                    "barpolar": [
                      {
                        "marker": {
                          "line": {
                            "color": "#E5ECF6",
                            "width": 0.5
                          },
                          "pattern": {
                            "fillmode": "overlay",
                            "size": 10,
                            "solidity": 0.2
                          }
                        },
                        "type": "barpolar"
                      }
                    ],
                    "carpet": [
                      {
                        "aaxis": {
                          "endlinecolor": "#2a3f5f",
                          "gridcolor": "white",
                          "linecolor": "white",
                          "minorgridcolor": "white",
                          "startlinecolor": "#2a3f5f"
                        },
                        "baxis": {
                          "endlinecolor": "#2a3f5f",
                          "gridcolor": "white",
                          "linecolor": "white",
                          "minorgridcolor": "white",
                          "startlinecolor": "#2a3f5f"
                        },
                        "type": "carpet"
                      }
                    ],
                    "choropleth": [
                      {
                        "colorbar": {
                          "outlinewidth": 0,
                          "ticks": ""
                        },
                        "type": "choropleth"
                      }
                    ],
                    "contour": [
                      {
                        "colorbar": {
                          "outlinewidth": 0,
                          "ticks": ""
                        },
                        "colorscale": [
                          [
                            0,
                            "#0d0887"
                          ],
                          [
                            0.1111111111111111,
                            "#46039f"
                          ],
                          [
                            0.2222222222222222,
                            "#7201a8"
                          ],
                          [
                            0.3333333333333333,
                            "#9c179e"
                          ],
                          [
                            0.4444444444444444,
                            "#bd3786"
                          ],
                          [
                            0.5555555555555556,
                            "#d8576b"
                          ],
                          [
                            0.6666666666666666,
                            "#ed7953"
                          ],
                          [
                            0.7777777777777778,
                            "#fb9f3a"
                          ],
                          [
                            0.8888888888888888,
                            "#fdca26"
                          ],
                          [
                            1,
                            "#f0f921"
                          ]
                        ],
                        "type": "contour"
                      }
                    ],
                    "contourcarpet": [
                      {
                        "colorbar": {
                          "outlinewidth": 0,
                          "ticks": ""
                        },
                        "type": "contourcarpet"
                      }
                    ],
                    "heatmap": [
                      {
                        "colorbar": {
                          "outlinewidth": 0,
                          "ticks": ""
                        },
                        "colorscale": [
                          [
                            0,
                            "#0d0887"
                          ],
                          [
                            0.1111111111111111,
                            "#46039f"
                          ],
                          [
                            0.2222222222222222,
                            "#7201a8"
                          ],
                          [
                            0.3333333333333333,
                            "#9c179e"
                          ],
                          [
                            0.4444444444444444,
                            "#bd3786"
                          ],
                          [
                            0.5555555555555556,
                            "#d8576b"
                          ],
                          [
                            0.6666666666666666,
                            "#ed7953"
                          ],
                          [
                            0.7777777777777778,
                            "#fb9f3a"
                          ],
                          [
                            0.8888888888888888,
                            "#fdca26"
                          ],
                          [
                            1,
                            "#f0f921"
                          ]
                        ],
                        "type": "heatmap"
                      }
                    ],
                    "heatmapgl": [
                      {
                        "colorbar": {
                          "outlinewidth": 0,
                          "ticks": ""
                        },
                        "colorscale": [
                          [
                            0,
                            "#0d0887"
                          ],
                          [
                            0.1111111111111111,
                            "#46039f"
                          ],
                          [
                            0.2222222222222222,
                            "#7201a8"
                          ],
                          [
                            0.3333333333333333,
                            "#9c179e"
                          ],
                          [
                            0.4444444444444444,
                            "#bd3786"
                          ],
                          [
                            0.5555555555555556,
                            "#d8576b"
                          ],
                          [
                            0.6666666666666666,
                            "#ed7953"
                          ],
                          [
                            0.7777777777777778,
                            "#fb9f3a"
                          ],
                          [
                            0.8888888888888888,
                            "#fdca26"
                          ],
                          [
                            1,
                            "#f0f921"
                          ]
                        ],
                        "type": "heatmapgl"
                      }
                    ],
                    "histogram": [
                      {
                        "marker": {
                          "pattern": {
                            "fillmode": "overlay",
                            "size": 10,
                            "solidity": 0.2
                          }
                        },
                        "type": "histogram"
                      }
                    ],
                    "histogram2d": [
                      {
                        "colorbar": {
                          "outlinewidth": 0,
                          "ticks": ""
                        },
                        "colorscale": [
                          [
                            0,
                            "#0d0887"
                          ],
                          [
                            0.1111111111111111,
                            "#46039f"
                          ],
                          [
                            0.2222222222222222,
                            "#7201a8"
                          ],
                          [
                            0.3333333333333333,
                            "#9c179e"
                          ],
                          [
                            0.4444444444444444,
                            "#bd3786"
                          ],
                          [
                            0.5555555555555556,
                            "#d8576b"
                          ],
                          [
                            0.6666666666666666,
                            "#ed7953"
                          ],
                          [
                            0.7777777777777778,
                            "#fb9f3a"
                          ],
                          [
                            0.8888888888888888,
                            "#fdca26"
                          ],
                          [
                            1,
                            "#f0f921"
                          ]
                        ],
                        "type": "histogram2d"
                      }
                    ],
                    "histogram2dcontour": [
                      {
                        "colorbar": {
                          "outlinewidth": 0,
                          "ticks": ""
                        },
                        "colorscale": [
                          [
                            0,
                            "#0d0887"
                          ],
                          [
                            0.1111111111111111,
                            "#46039f"
                          ],
                          [
                            0.2222222222222222,
                            "#7201a8"
                          ],
                          [
                            0.3333333333333333,
                            "#9c179e"
                          ],
                          [
                            0.4444444444444444,
                            "#bd3786"
                          ],
                          [
                            0.5555555555555556,
                            "#d8576b"
                          ],
                          [
                            0.6666666666666666,
                            "#ed7953"
                          ],
                          [
                            0.7777777777777778,
                            "#fb9f3a"
                          ],
                          [
                            0.8888888888888888,
                            "#fdca26"
                          ],
                          [
                            1,
                            "#f0f921"
                          ]
                        ],
                        "type": "histogram2dcontour"
                      }
                    ],
                    "mesh3d": [
                      {
                        "colorbar": {
                          "outlinewidth": 0,
                          "ticks": ""
                        },
                        "type": "mesh3d"
                      }
                    ],
                    "parcoords": [
                      {
                        "line": {
                          "colorbar": {
                            "outlinewidth": 0,
                            "ticks": ""
                          }
                        },
                        "type": "parcoords"
                      }
                    ],
                    "pie": [
                      {
                        "automargin": true,
                        "type": "pie"
                      }
                    ],
                    "scatter": [
                      {
                        "fillpattern": {
                          "fillmode": "overlay",
                          "size": 10,
                          "solidity": 0.2
                        },
                        "type": "scatter"
                      }
                    ],
                    "scatter3d": [
                      {
                        "line": {
                          "colorbar": {
                            "outlinewidth": 0,
                            "ticks": ""
                          }
                        },
                        "marker": {
                          "colorbar": {
                            "outlinewidth": 0,
                            "ticks": ""
                          }
                        },
                        "type": "scatter3d"
                      }
                    ],
                    "scattercarpet": [
                      {
                        "marker": {
                          "colorbar": {
                            "outlinewidth": 0,
                            "ticks": ""
                          }
                        },
                        "type": "scattercarpet"
                      }
                    ],
                    "scattergeo": [
                      {
                        "marker": {
                          "colorbar": {
                            "outlinewidth": 0,
                            "ticks": ""
                          }
                        },
                        "type": "scattergeo"
                      }
                    ],
                    "scattergl": [
                      {
                        "marker": {
                          "colorbar": {
                            "outlinewidth": 0,
                            "ticks": ""
                          }
                        },
                        "type": "scattergl"
                      }
                    ],
                    "scattermapbox": [
                      {
                        "marker": {
                          "colorbar": {
                            "outlinewidth": 0,
                            "ticks": ""
                          }
                        },
                        "type": "scattermapbox"
                      }
                    ],
                    "scatterpolar": [
                      {
                        "marker": {
                          "colorbar": {
                            "outlinewidth": 0,
                            "ticks": ""
                          }
                        },
                        "type": "scatterpolar"
                      }
                    ],
                    "scatterpolargl": [
                      {
                        "marker": {
                          "colorbar": {
                            "outlinewidth": 0,
                            "ticks": ""
                          }
                        },
                        "type": "scatterpolargl"
                      }
                    ],
                    "scatterternary": [
                      {
                        "marker": {
                          "colorbar": {
                            "outlinewidth": 0,
                            "ticks": ""
                          }
                        },
                        "type": "scatterternary"
                      }
                    ],
                    "surface": [
                      {
                        "colorbar": {
                          "outlinewidth": 0,
                          "ticks": ""
                        },
                        "colorscale": [
                          [
                            0,
                            "#0d0887"
                          ],
                          [
                            0.1111111111111111,
                            "#46039f"
                          ],
                          [
                            0.2222222222222222,
                            "#7201a8"
                          ],
                          [
                            0.3333333333333333,
                            "#9c179e"
                          ],
                          [
                            0.4444444444444444,
                            "#bd3786"
                          ],
                          [
                            0.5555555555555556,
                            "#d8576b"
                          ],
                          [
                            0.6666666666666666,
                            "#ed7953"
                          ],
                          [
                            0.7777777777777778,
                            "#fb9f3a"
                          ],
                          [
                            0.8888888888888888,
                            "#fdca26"
                          ],
                          [
                            1,
                            "#f0f921"
                          ]
                        ],
                        "type": "surface"
                      }
                    ],
                    "table": [
                      {
                        "cells": {
                          "fill": {
                            "color": "#EBF0F8"
                          },
                          "line": {
                            "color": "white"
                          }
                        },
                        "header": {
                          "fill": {
                            "color": "#C8D4E3"
                          },
                          "line": {
                            "color": "white"
                          }
                        },
                        "type": "table"
                      }
                    ]
                  },
                  "layout": {
                    "annotationdefaults": {
                      "arrowcolor": "#2a3f5f",
                      "arrowhead": 0,
                      "arrowwidth": 1
                    },
                    "autotypenumbers": "strict",
                    "coloraxis": {
                      "colorbar": {
                        "outlinewidth": 0,
                        "ticks": ""
                      }
                    },
                    "colorscale": {
                      "diverging": [
                        [
                          0,
                          "#8e0152"
                        ],
                        [
                          0.1,
                          "#c51b7d"
                        ],
                        [
                          0.2,
                          "#de77ae"
                        ],
                        [
                          0.3,
                          "#f1b6da"
                        ],
                        [
                          0.4,
                          "#fde0ef"
                        ],
                        [
                          0.5,
                          "#f7f7f7"
                        ],
                        [
                          0.6,
                          "#e6f5d0"
                        ],
                        [
                          0.7,
                          "#b8e186"
                        ],
                        [
                          0.8,
                          "#7fbc41"
                        ],
                        [
                          0.9,
                          "#4d9221"
                        ],
                        [
                          1,
                          "#276419"
                        ]
                      ],
                      "sequential": [
                        [
                          0,
                          "#0d0887"
                        ],
                        [
                          0.1111111111111111,
                          "#46039f"
                        ],
                        [
                          0.2222222222222222,
                          "#7201a8"
                        ],
                        [
                          0.3333333333333333,
                          "#9c179e"
                        ],
                        [
                          0.4444444444444444,
                          "#bd3786"
                        ],
                        [
                          0.5555555555555556,
                          "#d8576b"
                        ],
                        [
                          0.6666666666666666,
                          "#ed7953"
                        ],
                        [
                          0.7777777777777778,
                          "#fb9f3a"
                        ],
                        [
                          0.8888888888888888,
                          "#fdca26"
                        ],
                        [
                          1,
                          "#f0f921"
                        ]
                      ],
                      "sequentialminus": [
                        [
                          0,
                          "#0d0887"
                        ],
                        [
                          0.1111111111111111,
                          "#46039f"
                        ],
                        [
                          0.2222222222222222,
                          "#7201a8"
                        ],
                        [
                          0.3333333333333333,
                          "#9c179e"
                        ],
                        [
                          0.4444444444444444,
                          "#bd3786"
                        ],
                        [
                          0.5555555555555556,
                          "#d8576b"
                        ],
                        [
                          0.6666666666666666,
                          "#ed7953"
                        ],
                        [
                          0.7777777777777778,
                          "#fb9f3a"
                        ],
                        [
                          0.8888888888888888,
                          "#fdca26"
                        ],
                        [
                          1,
                          "#f0f921"
                        ]
                      ]
                    },
                    "colorway": [
                      "#636efa",
                      "#EF553B",
                      "#00cc96",
                      "#ab63fa",
                      "#FFA15A",
                      "#19d3f3",
                      "#FF6692",
                      "#B6E880",
                      "#FF97FF",
                      "#FECB52"
                    ],
                    "font": {
                      "color": "#2a3f5f"
                    },
                    "geo": {
                      "bgcolor": "white",
                      "lakecolor": "white",
                      "landcolor": "#E5ECF6",
                      "showlakes": true,
                      "showland": true,
                      "subunitcolor": "white"
                    },
                    "hoverlabel": {
                      "align": "left"
                    },
                    "hovermode": "closest",
                    "mapbox": {
                      "style": "light"
                    },
                    "paper_bgcolor": "white",
                    "plot_bgcolor": "#E5ECF6",
                    "polar": {
                      "angularaxis": {
                        "gridcolor": "white",
                        "linecolor": "white",
                        "ticks": ""
                      },
                      "bgcolor": "#E5ECF6",
                      "radialaxis": {
                        "gridcolor": "white",
                        "linecolor": "white",
                        "ticks": ""
                      }
                    },
                    "scene": {
                      "xaxis": {
                        "backgroundcolor": "#E5ECF6",
                        "gridcolor": "white",
                        "gridwidth": 2,
                        "linecolor": "white",
                        "showbackground": true,
                        "ticks": "",
                        "zerolinecolor": "white"
                      },
                      "yaxis": {
                        "backgroundcolor": "#E5ECF6",
                        "gridcolor": "white",
                        "gridwidth": 2,
                        "linecolor": "white",
                        "showbackground": true,
                        "ticks": "",
                        "zerolinecolor": "white"
                      },
                      "zaxis": {
                        "backgroundcolor": "#E5ECF6",
                        "gridcolor": "white",
                        "gridwidth": 2,
                        "linecolor": "white",
                        "showbackground": true,
                        "ticks": "",
                        "zerolinecolor": "white"
                      }
                    },
                    "shapedefaults": {
                      "line": {
                        "color": "#2a3f5f"
                      }
                    },
                    "ternary": {
                      "aaxis": {
                        "gridcolor": "white",
                        "linecolor": "white",
                        "ticks": ""
                      },
                      "baxis": {
                        "gridcolor": "white",
                        "linecolor": "white",
                        "ticks": ""
                      },
                      "bgcolor": "#E5ECF6",
                      "caxis": {
                        "gridcolor": "white",
                        "linecolor": "white",
                        "ticks": ""
                      }
                    },
                    "title": {
                      "x": 0.05
                    },
                    "xaxis": {
                      "automargin": true,
                      "gridcolor": "white",
                      "linecolor": "white",
                      "ticks": "",
                      "title": {
                        "standoff": 15
                      },
                      "zerolinecolor": "white",
                      "zerolinewidth": 2
                    },
                    "yaxis": {
                      "automargin": true,
                      "gridcolor": "white",
                      "linecolor": "white",
                      "ticks": "",
                      "title": {
                        "standoff": 15
                      },
                      "zerolinecolor": "white",
                      "zerolinewidth": 2
                    }
                  }
                },
                "title": {
                  "text": "Média de vendas por loja"
                },
                "xaxis": {
                  "anchor": "y",
                  "domain": [
                    0,
                    1
                  ],
                  "title": {
                    "text": "Loja"
                  }
                },
                "yaxis": {
                  "anchor": "x",
                  "domain": [
                    0,
                    1
                  ],
                  "title": {
                    "text": "Valor em $"
                  }
                }
              }
            }
          },
          "metadata": {},
          "output_type": "display_data"
        }
      ],
      "source": [
        "# plotar um gráfico de barras com a média de vendas por loja\n",
        "fig = ex.bar(vendas_por_loja, x='Store', y='Weekly_Sales_mean', title='Média de vendas por loja')\n",
        "fig.update_layout(xaxis_title='Loja', yaxis_title='Valor em $') \n",
        "fig.show()"
      ]
    },
    {
      "cell_type": "code",
      "execution_count": 16,
      "metadata": {},
      "outputs": [
        {
          "data": {
            "application/vnd.plotly.v1+json": {
              "config": {
                "plotlyServerURL": "https://plot.ly"
              },
              "data": [
                {
                  "alignmentgroup": "True",
                  "hovertemplate": "variable=Weekly_Sales_max<br>Store=%{x}<br>value=%{y}<extra></extra>",
                  "legendgroup": "Weekly_Sales_max",
                  "marker": {
                    "color": "#636efa",
                    "pattern": {
                      "shape": ""
                    }
                  },
                  "name": "Weekly_Sales_max",
                  "offsetgroup": "Weekly_Sales_max",
                  "orientation": "v",
                  "showlegend": true,
                  "textposition": "auto",
                  "type": "bar",
                  "x": [
                    1,
                    2,
                    3,
                    4,
                    5,
                    6,
                    7,
                    8,
                    9,
                    10,
                    11,
                    12,
                    13,
                    14,
                    15,
                    16,
                    17,
                    18,
                    19,
                    20,
                    21,
                    22,
                    23,
                    24,
                    25,
                    26,
                    27,
                    28,
                    29,
                    30,
                    31,
                    32,
                    33,
                    34,
                    35,
                    36,
                    37,
                    38,
                    39,
                    40,
                    41,
                    42,
                    43,
                    44,
                    45
                  ],
                  "xaxis": "x",
                  "y": [
                    2387950.2,
                    3436007.68,
                    605990.41,
                    3676388.98,
                    507900.07,
                    2727575.18,
                    1059715.27,
                    1511641.09,
                    905324.68,
                    3749057.69,
                    2306265.36,
                    1768249.89,
                    3595903.2,
                    3818686.45,
                    1368318.17,
                    1004730.69,
                    1309226.79,
                    2027507.15,
                    2678206.42,
                    3766687.43,
                    1587257.78,
                    1962445.04,
                    2734277.1,
                    2386015.75,
                    1295391.19,
                    1573982.47,
                    3078162.08,
                    2026026.39,
                    1130926.79,
                    519354.88,
                    2068942.97,
                    1959526.96,
                    331173.51,
                    1620748.25,
                    1781866.98,
                    489372.02,
                    605791.46,
                    499267.66,
                    2554482.84,
                    1648829.18,
                    2263722.68,
                    674919.45,
                    725043.04,
                    376233.89,
                    1682862.03
                  ],
                  "yaxis": "y"
                },
                {
                  "alignmentgroup": "True",
                  "hovertemplate": "variable=Weekly_Sales_min<br>Store=%{x}<br>value=%{y}<extra></extra>",
                  "legendgroup": "Weekly_Sales_min",
                  "marker": {
                    "color": "#EF553B",
                    "pattern": {
                      "shape": ""
                    }
                  },
                  "name": "Weekly_Sales_min",
                  "offsetgroup": "Weekly_Sales_min",
                  "orientation": "v",
                  "showlegend": true,
                  "textposition": "auto",
                  "type": "bar",
                  "x": [
                    1,
                    2,
                    3,
                    4,
                    5,
                    6,
                    7,
                    8,
                    9,
                    10,
                    11,
                    12,
                    13,
                    14,
                    15,
                    16,
                    17,
                    18,
                    19,
                    20,
                    21,
                    22,
                    23,
                    24,
                    25,
                    26,
                    27,
                    28,
                    29,
                    30,
                    31,
                    32,
                    33,
                    34,
                    35,
                    36,
                    37,
                    38,
                    39,
                    40,
                    41,
                    42,
                    43,
                    44,
                    45
                  ],
                  "xaxis": "x",
                  "y": [
                    1316899.31,
                    1650394.44,
                    339597.38,
                    1762539.3,
                    260636.71,
                    1261253.18,
                    372673.61,
                    772539.12,
                    452905.22,
                    1627707.31,
                    1100418.69,
                    802105.5,
                    1633663.12,
                    1479514.66,
                    454183.42,
                    368600,
                    635862.55,
                    540922.94,
                    1181204.53,
                    1761016.51,
                    596218.24,
                    774262.28,
                    1016756.1,
                    1057290.41,
                    558794.63,
                    809833.21,
                    1263534.86,
                    1079669.11,
                    395987.24,
                    369722.32,
                    1198071.6,
                    955463.84,
                    209986.25,
                    836717.75,
                    576332.05,
                    270677.98,
                    451327.61,
                    303908.81,
                    1158698.44,
                    764014.75,
                    991941.73,
                    428953.6,
                    505405.85,
                    241937.11,
                    617207.58
                  ],
                  "yaxis": "y"
                }
              ],
              "layout": {
                "barmode": "relative",
                "legend": {
                  "title": {
                    "text": "variable"
                  },
                  "tracegroupgap": 0
                },
                "template": {
                  "data": {
                    "bar": [
                      {
                        "error_x": {
                          "color": "#2a3f5f"
                        },
                        "error_y": {
                          "color": "#2a3f5f"
                        },
                        "marker": {
                          "line": {
                            "color": "#E5ECF6",
                            "width": 0.5
                          },
                          "pattern": {
                            "fillmode": "overlay",
                            "size": 10,
                            "solidity": 0.2
                          }
                        },
                        "type": "bar"
                      }
                    ],
                    "barpolar": [
                      {
                        "marker": {
                          "line": {
                            "color": "#E5ECF6",
                            "width": 0.5
                          },
                          "pattern": {
                            "fillmode": "overlay",
                            "size": 10,
                            "solidity": 0.2
                          }
                        },
                        "type": "barpolar"
                      }
                    ],
                    "carpet": [
                      {
                        "aaxis": {
                          "endlinecolor": "#2a3f5f",
                          "gridcolor": "white",
                          "linecolor": "white",
                          "minorgridcolor": "white",
                          "startlinecolor": "#2a3f5f"
                        },
                        "baxis": {
                          "endlinecolor": "#2a3f5f",
                          "gridcolor": "white",
                          "linecolor": "white",
                          "minorgridcolor": "white",
                          "startlinecolor": "#2a3f5f"
                        },
                        "type": "carpet"
                      }
                    ],
                    "choropleth": [
                      {
                        "colorbar": {
                          "outlinewidth": 0,
                          "ticks": ""
                        },
                        "type": "choropleth"
                      }
                    ],
                    "contour": [
                      {
                        "colorbar": {
                          "outlinewidth": 0,
                          "ticks": ""
                        },
                        "colorscale": [
                          [
                            0,
                            "#0d0887"
                          ],
                          [
                            0.1111111111111111,
                            "#46039f"
                          ],
                          [
                            0.2222222222222222,
                            "#7201a8"
                          ],
                          [
                            0.3333333333333333,
                            "#9c179e"
                          ],
                          [
                            0.4444444444444444,
                            "#bd3786"
                          ],
                          [
                            0.5555555555555556,
                            "#d8576b"
                          ],
                          [
                            0.6666666666666666,
                            "#ed7953"
                          ],
                          [
                            0.7777777777777778,
                            "#fb9f3a"
                          ],
                          [
                            0.8888888888888888,
                            "#fdca26"
                          ],
                          [
                            1,
                            "#f0f921"
                          ]
                        ],
                        "type": "contour"
                      }
                    ],
                    "contourcarpet": [
                      {
                        "colorbar": {
                          "outlinewidth": 0,
                          "ticks": ""
                        },
                        "type": "contourcarpet"
                      }
                    ],
                    "heatmap": [
                      {
                        "colorbar": {
                          "outlinewidth": 0,
                          "ticks": ""
                        },
                        "colorscale": [
                          [
                            0,
                            "#0d0887"
                          ],
                          [
                            0.1111111111111111,
                            "#46039f"
                          ],
                          [
                            0.2222222222222222,
                            "#7201a8"
                          ],
                          [
                            0.3333333333333333,
                            "#9c179e"
                          ],
                          [
                            0.4444444444444444,
                            "#bd3786"
                          ],
                          [
                            0.5555555555555556,
                            "#d8576b"
                          ],
                          [
                            0.6666666666666666,
                            "#ed7953"
                          ],
                          [
                            0.7777777777777778,
                            "#fb9f3a"
                          ],
                          [
                            0.8888888888888888,
                            "#fdca26"
                          ],
                          [
                            1,
                            "#f0f921"
                          ]
                        ],
                        "type": "heatmap"
                      }
                    ],
                    "heatmapgl": [
                      {
                        "colorbar": {
                          "outlinewidth": 0,
                          "ticks": ""
                        },
                        "colorscale": [
                          [
                            0,
                            "#0d0887"
                          ],
                          [
                            0.1111111111111111,
                            "#46039f"
                          ],
                          [
                            0.2222222222222222,
                            "#7201a8"
                          ],
                          [
                            0.3333333333333333,
                            "#9c179e"
                          ],
                          [
                            0.4444444444444444,
                            "#bd3786"
                          ],
                          [
                            0.5555555555555556,
                            "#d8576b"
                          ],
                          [
                            0.6666666666666666,
                            "#ed7953"
                          ],
                          [
                            0.7777777777777778,
                            "#fb9f3a"
                          ],
                          [
                            0.8888888888888888,
                            "#fdca26"
                          ],
                          [
                            1,
                            "#f0f921"
                          ]
                        ],
                        "type": "heatmapgl"
                      }
                    ],
                    "histogram": [
                      {
                        "marker": {
                          "pattern": {
                            "fillmode": "overlay",
                            "size": 10,
                            "solidity": 0.2
                          }
                        },
                        "type": "histogram"
                      }
                    ],
                    "histogram2d": [
                      {
                        "colorbar": {
                          "outlinewidth": 0,
                          "ticks": ""
                        },
                        "colorscale": [
                          [
                            0,
                            "#0d0887"
                          ],
                          [
                            0.1111111111111111,
                            "#46039f"
                          ],
                          [
                            0.2222222222222222,
                            "#7201a8"
                          ],
                          [
                            0.3333333333333333,
                            "#9c179e"
                          ],
                          [
                            0.4444444444444444,
                            "#bd3786"
                          ],
                          [
                            0.5555555555555556,
                            "#d8576b"
                          ],
                          [
                            0.6666666666666666,
                            "#ed7953"
                          ],
                          [
                            0.7777777777777778,
                            "#fb9f3a"
                          ],
                          [
                            0.8888888888888888,
                            "#fdca26"
                          ],
                          [
                            1,
                            "#f0f921"
                          ]
                        ],
                        "type": "histogram2d"
                      }
                    ],
                    "histogram2dcontour": [
                      {
                        "colorbar": {
                          "outlinewidth": 0,
                          "ticks": ""
                        },
                        "colorscale": [
                          [
                            0,
                            "#0d0887"
                          ],
                          [
                            0.1111111111111111,
                            "#46039f"
                          ],
                          [
                            0.2222222222222222,
                            "#7201a8"
                          ],
                          [
                            0.3333333333333333,
                            "#9c179e"
                          ],
                          [
                            0.4444444444444444,
                            "#bd3786"
                          ],
                          [
                            0.5555555555555556,
                            "#d8576b"
                          ],
                          [
                            0.6666666666666666,
                            "#ed7953"
                          ],
                          [
                            0.7777777777777778,
                            "#fb9f3a"
                          ],
                          [
                            0.8888888888888888,
                            "#fdca26"
                          ],
                          [
                            1,
                            "#f0f921"
                          ]
                        ],
                        "type": "histogram2dcontour"
                      }
                    ],
                    "mesh3d": [
                      {
                        "colorbar": {
                          "outlinewidth": 0,
                          "ticks": ""
                        },
                        "type": "mesh3d"
                      }
                    ],
                    "parcoords": [
                      {
                        "line": {
                          "colorbar": {
                            "outlinewidth": 0,
                            "ticks": ""
                          }
                        },
                        "type": "parcoords"
                      }
                    ],
                    "pie": [
                      {
                        "automargin": true,
                        "type": "pie"
                      }
                    ],
                    "scatter": [
                      {
                        "fillpattern": {
                          "fillmode": "overlay",
                          "size": 10,
                          "solidity": 0.2
                        },
                        "type": "scatter"
                      }
                    ],
                    "scatter3d": [
                      {
                        "line": {
                          "colorbar": {
                            "outlinewidth": 0,
                            "ticks": ""
                          }
                        },
                        "marker": {
                          "colorbar": {
                            "outlinewidth": 0,
                            "ticks": ""
                          }
                        },
                        "type": "scatter3d"
                      }
                    ],
                    "scattercarpet": [
                      {
                        "marker": {
                          "colorbar": {
                            "outlinewidth": 0,
                            "ticks": ""
                          }
                        },
                        "type": "scattercarpet"
                      }
                    ],
                    "scattergeo": [
                      {
                        "marker": {
                          "colorbar": {
                            "outlinewidth": 0,
                            "ticks": ""
                          }
                        },
                        "type": "scattergeo"
                      }
                    ],
                    "scattergl": [
                      {
                        "marker": {
                          "colorbar": {
                            "outlinewidth": 0,
                            "ticks": ""
                          }
                        },
                        "type": "scattergl"
                      }
                    ],
                    "scattermapbox": [
                      {
                        "marker": {
                          "colorbar": {
                            "outlinewidth": 0,
                            "ticks": ""
                          }
                        },
                        "type": "scattermapbox"
                      }
                    ],
                    "scatterpolar": [
                      {
                        "marker": {
                          "colorbar": {
                            "outlinewidth": 0,
                            "ticks": ""
                          }
                        },
                        "type": "scatterpolar"
                      }
                    ],
                    "scatterpolargl": [
                      {
                        "marker": {
                          "colorbar": {
                            "outlinewidth": 0,
                            "ticks": ""
                          }
                        },
                        "type": "scatterpolargl"
                      }
                    ],
                    "scatterternary": [
                      {
                        "marker": {
                          "colorbar": {
                            "outlinewidth": 0,
                            "ticks": ""
                          }
                        },
                        "type": "scatterternary"
                      }
                    ],
                    "surface": [
                      {
                        "colorbar": {
                          "outlinewidth": 0,
                          "ticks": ""
                        },
                        "colorscale": [
                          [
                            0,
                            "#0d0887"
                          ],
                          [
                            0.1111111111111111,
                            "#46039f"
                          ],
                          [
                            0.2222222222222222,
                            "#7201a8"
                          ],
                          [
                            0.3333333333333333,
                            "#9c179e"
                          ],
                          [
                            0.4444444444444444,
                            "#bd3786"
                          ],
                          [
                            0.5555555555555556,
                            "#d8576b"
                          ],
                          [
                            0.6666666666666666,
                            "#ed7953"
                          ],
                          [
                            0.7777777777777778,
                            "#fb9f3a"
                          ],
                          [
                            0.8888888888888888,
                            "#fdca26"
                          ],
                          [
                            1,
                            "#f0f921"
                          ]
                        ],
                        "type": "surface"
                      }
                    ],
                    "table": [
                      {
                        "cells": {
                          "fill": {
                            "color": "#EBF0F8"
                          },
                          "line": {
                            "color": "white"
                          }
                        },
                        "header": {
                          "fill": {
                            "color": "#C8D4E3"
                          },
                          "line": {
                            "color": "white"
                          }
                        },
                        "type": "table"
                      }
                    ]
                  },
                  "layout": {
                    "annotationdefaults": {
                      "arrowcolor": "#2a3f5f",
                      "arrowhead": 0,
                      "arrowwidth": 1
                    },
                    "autotypenumbers": "strict",
                    "coloraxis": {
                      "colorbar": {
                        "outlinewidth": 0,
                        "ticks": ""
                      }
                    },
                    "colorscale": {
                      "diverging": [
                        [
                          0,
                          "#8e0152"
                        ],
                        [
                          0.1,
                          "#c51b7d"
                        ],
                        [
                          0.2,
                          "#de77ae"
                        ],
                        [
                          0.3,
                          "#f1b6da"
                        ],
                        [
                          0.4,
                          "#fde0ef"
                        ],
                        [
                          0.5,
                          "#f7f7f7"
                        ],
                        [
                          0.6,
                          "#e6f5d0"
                        ],
                        [
                          0.7,
                          "#b8e186"
                        ],
                        [
                          0.8,
                          "#7fbc41"
                        ],
                        [
                          0.9,
                          "#4d9221"
                        ],
                        [
                          1,
                          "#276419"
                        ]
                      ],
                      "sequential": [
                        [
                          0,
                          "#0d0887"
                        ],
                        [
                          0.1111111111111111,
                          "#46039f"
                        ],
                        [
                          0.2222222222222222,
                          "#7201a8"
                        ],
                        [
                          0.3333333333333333,
                          "#9c179e"
                        ],
                        [
                          0.4444444444444444,
                          "#bd3786"
                        ],
                        [
                          0.5555555555555556,
                          "#d8576b"
                        ],
                        [
                          0.6666666666666666,
                          "#ed7953"
                        ],
                        [
                          0.7777777777777778,
                          "#fb9f3a"
                        ],
                        [
                          0.8888888888888888,
                          "#fdca26"
                        ],
                        [
                          1,
                          "#f0f921"
                        ]
                      ],
                      "sequentialminus": [
                        [
                          0,
                          "#0d0887"
                        ],
                        [
                          0.1111111111111111,
                          "#46039f"
                        ],
                        [
                          0.2222222222222222,
                          "#7201a8"
                        ],
                        [
                          0.3333333333333333,
                          "#9c179e"
                        ],
                        [
                          0.4444444444444444,
                          "#bd3786"
                        ],
                        [
                          0.5555555555555556,
                          "#d8576b"
                        ],
                        [
                          0.6666666666666666,
                          "#ed7953"
                        ],
                        [
                          0.7777777777777778,
                          "#fb9f3a"
                        ],
                        [
                          0.8888888888888888,
                          "#fdca26"
                        ],
                        [
                          1,
                          "#f0f921"
                        ]
                      ]
                    },
                    "colorway": [
                      "#636efa",
                      "#EF553B",
                      "#00cc96",
                      "#ab63fa",
                      "#FFA15A",
                      "#19d3f3",
                      "#FF6692",
                      "#B6E880",
                      "#FF97FF",
                      "#FECB52"
                    ],
                    "font": {
                      "color": "#2a3f5f"
                    },
                    "geo": {
                      "bgcolor": "white",
                      "lakecolor": "white",
                      "landcolor": "#E5ECF6",
                      "showlakes": true,
                      "showland": true,
                      "subunitcolor": "white"
                    },
                    "hoverlabel": {
                      "align": "left"
                    },
                    "hovermode": "closest",
                    "mapbox": {
                      "style": "light"
                    },
                    "paper_bgcolor": "white",
                    "plot_bgcolor": "#E5ECF6",
                    "polar": {
                      "angularaxis": {
                        "gridcolor": "white",
                        "linecolor": "white",
                        "ticks": ""
                      },
                      "bgcolor": "#E5ECF6",
                      "radialaxis": {
                        "gridcolor": "white",
                        "linecolor": "white",
                        "ticks": ""
                      }
                    },
                    "scene": {
                      "xaxis": {
                        "backgroundcolor": "#E5ECF6",
                        "gridcolor": "white",
                        "gridwidth": 2,
                        "linecolor": "white",
                        "showbackground": true,
                        "ticks": "",
                        "zerolinecolor": "white"
                      },
                      "yaxis": {
                        "backgroundcolor": "#E5ECF6",
                        "gridcolor": "white",
                        "gridwidth": 2,
                        "linecolor": "white",
                        "showbackground": true,
                        "ticks": "",
                        "zerolinecolor": "white"
                      },
                      "zaxis": {
                        "backgroundcolor": "#E5ECF6",
                        "gridcolor": "white",
                        "gridwidth": 2,
                        "linecolor": "white",
                        "showbackground": true,
                        "ticks": "",
                        "zerolinecolor": "white"
                      }
                    },
                    "shapedefaults": {
                      "line": {
                        "color": "#2a3f5f"
                      }
                    },
                    "ternary": {
                      "aaxis": {
                        "gridcolor": "white",
                        "linecolor": "white",
                        "ticks": ""
                      },
                      "baxis": {
                        "gridcolor": "white",
                        "linecolor": "white",
                        "ticks": ""
                      },
                      "bgcolor": "#E5ECF6",
                      "caxis": {
                        "gridcolor": "white",
                        "linecolor": "white",
                        "ticks": ""
                      }
                    },
                    "title": {
                      "x": 0.05
                    },
                    "xaxis": {
                      "automargin": true,
                      "gridcolor": "white",
                      "linecolor": "white",
                      "ticks": "",
                      "title": {
                        "standoff": 15
                      },
                      "zerolinecolor": "white",
                      "zerolinewidth": 2
                    },
                    "yaxis": {
                      "automargin": true,
                      "gridcolor": "white",
                      "linecolor": "white",
                      "ticks": "",
                      "title": {
                        "standoff": 15
                      },
                      "zerolinecolor": "white",
                      "zerolinewidth": 2
                    }
                  }
                },
                "title": {
                  "text": "Máximo e mínimo de vendas por loja"
                },
                "xaxis": {
                  "anchor": "y",
                  "domain": [
                    0,
                    1
                  ],
                  "title": {
                    "text": "Loja"
                  }
                },
                "yaxis": {
                  "anchor": "x",
                  "domain": [
                    0,
                    1
                  ],
                  "title": {
                    "text": "Valor em $"
                  }
                }
              }
            }
          },
          "metadata": {},
          "output_type": "display_data"
        }
      ],
      "source": [
        "# plotar um gráfico vendas_por_loja  com o max e min de vendas por loja\n",
        "fig = ex.bar(vendas_por_loja, x='Store', y=['Weekly_Sales_max', 'Weekly_Sales_min'], title='Máximo e mínimo de vendas por loja')\n",
        "fig.update_layout(xaxis_title='Loja', yaxis_title='Valor em $')\n",
        "fig.show()\n"
      ]
    }
  ],
  "metadata": {
    "colab": {
      "provenance": []
    },
    "kernelspec": {
      "display_name": "Python 3",
      "name": "python3"
    },
    "language_info": {
      "codemirror_mode": {
        "name": "ipython",
        "version": 3
      },
      "file_extension": ".py",
      "mimetype": "text/x-python",
      "name": "python",
      "nbconvert_exporter": "python",
      "pygments_lexer": "ipython3",
      "version": "3.9.7"
    }
  },
  "nbformat": 4,
  "nbformat_minor": 0
}
