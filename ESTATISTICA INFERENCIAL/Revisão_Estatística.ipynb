{
  "cells": [
    {
      "cell_type": "markdown",
      "source": [
        "# Import e Conhecendo os dados"
      ],
      "metadata": {
        "id": "kLrY19gWG0Us"
      }
    },
    {
      "cell_type": "code",
      "source": [],
      "metadata": {
        "id": "Vk0giOw0KcCB"
      },
      "execution_count": null,
      "outputs": []
    },
    {
      "cell_type": "code",
      "execution_count": null,
      "metadata": {
        "id": "qC5sACf1v1Qe"
      },
      "outputs": [],
      "source": [
        "# Importação das bibliotecas\n",
        "from google.colab import files\n",
        "\n",
        "import numpy as np\n",
        "import pandas as pd\n",
        "\n",
        "import seaborn as sns\n",
        "import matplotlib.pyplot as plt\n",
        "\n",
        "from scipy import stats"
      ]
    },
    {
      "cell_type": "code",
      "execution_count": null,
      "metadata": {
        "id": "qJPJdg7-v17E",
        "colab": {
          "resources": {
            "http://localhost:8080/nbextensions/google.colab/files.js": {
              "data": "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",
              "ok": true,
              "headers": [
                [
                  "content-type",
                  "application/javascript"
                ]
              ],
              "status": 200,
              "status_text": ""
            }
          },
          "base_uri": "https://localhost:8080/",
          "height": 306
        },
        "outputId": "7a810a9a-d475-4f37-8c96-75cc198c0e3b"
      },
      "outputs": [
        {
          "output_type": "display_data",
          "data": {
            "text/plain": [
              "<IPython.core.display.HTML object>"
            ],
            "text/html": [
              "\n",
              "     <input type=\"file\" id=\"files-80c057db-404e-4749-87db-ed19ee91321c\" name=\"files[]\" multiple disabled\n",
              "        style=\"border:none\" />\n",
              "     <output id=\"result-80c057db-404e-4749-87db-ed19ee91321c\">\n",
              "      Upload widget is only available when the cell has been executed in the\n",
              "      current browser session. Please rerun this cell to enable.\n",
              "      </output>\n",
              "      <script src=\"/nbextensions/google.colab/files.js\"></script> "
            ]
          },
          "metadata": {}
        },
        {
          "output_type": "stream",
          "name": "stdout",
          "text": [
            "Saving Data Science Jobs Salaries.csv to Data Science Jobs Salaries.csv\n"
          ]
        },
        {
          "output_type": "execute_result",
          "data": {
            "text/plain": [
              "   work_year experience_level employment_type                  job_title  \\\n",
              "0       2021               EN              FT    Data Science Consultant   \n",
              "1       2020               SE              FT             Data Scientist   \n",
              "2       2021               EX              FT       Head of Data Science   \n",
              "3       2021               EX              FT               Head of Data   \n",
              "4       2021               EN              FT  Machine Learning Engineer   \n",
              "\n",
              "   salary salary_currency  salary_in_usd employee_residence  remote_ratio  \\\n",
              "0   54000             EUR          64369                 DE            50   \n",
              "1   60000             EUR          68428                 GR           100   \n",
              "2   85000             USD          85000                 RU             0   \n",
              "3  230000             USD         230000                 RU            50   \n",
              "4  125000             USD         125000                 US           100   \n",
              "\n",
              "  company_location company_size  \n",
              "0               DE            L  \n",
              "1               US            L  \n",
              "2               RU            M  \n",
              "3               RU            L  \n",
              "4               US            S  "
            ],
            "text/html": [
              "\n",
              "  <div id=\"df-d11dff29-b651-4a04-9b33-13c2b53d5cea\">\n",
              "    <div class=\"colab-df-container\">\n",
              "      <div>\n",
              "<style scoped>\n",
              "    .dataframe tbody tr th:only-of-type {\n",
              "        vertical-align: middle;\n",
              "    }\n",
              "\n",
              "    .dataframe tbody tr th {\n",
              "        vertical-align: top;\n",
              "    }\n",
              "\n",
              "    .dataframe thead th {\n",
              "        text-align: right;\n",
              "    }\n",
              "</style>\n",
              "<table border=\"1\" class=\"dataframe\">\n",
              "  <thead>\n",
              "    <tr style=\"text-align: right;\">\n",
              "      <th></th>\n",
              "      <th>work_year</th>\n",
              "      <th>experience_level</th>\n",
              "      <th>employment_type</th>\n",
              "      <th>job_title</th>\n",
              "      <th>salary</th>\n",
              "      <th>salary_currency</th>\n",
              "      <th>salary_in_usd</th>\n",
              "      <th>employee_residence</th>\n",
              "      <th>remote_ratio</th>\n",
              "      <th>company_location</th>\n",
              "      <th>company_size</th>\n",
              "    </tr>\n",
              "  </thead>\n",
              "  <tbody>\n",
              "    <tr>\n",
              "      <th>0</th>\n",
              "      <td>2021</td>\n",
              "      <td>EN</td>\n",
              "      <td>FT</td>\n",
              "      <td>Data Science Consultant</td>\n",
              "      <td>54000</td>\n",
              "      <td>EUR</td>\n",
              "      <td>64369</td>\n",
              "      <td>DE</td>\n",
              "      <td>50</td>\n",
              "      <td>DE</td>\n",
              "      <td>L</td>\n",
              "    </tr>\n",
              "    <tr>\n",
              "      <th>1</th>\n",
              "      <td>2020</td>\n",
              "      <td>SE</td>\n",
              "      <td>FT</td>\n",
              "      <td>Data Scientist</td>\n",
              "      <td>60000</td>\n",
              "      <td>EUR</td>\n",
              "      <td>68428</td>\n",
              "      <td>GR</td>\n",
              "      <td>100</td>\n",
              "      <td>US</td>\n",
              "      <td>L</td>\n",
              "    </tr>\n",
              "    <tr>\n",
              "      <th>2</th>\n",
              "      <td>2021</td>\n",
              "      <td>EX</td>\n",
              "      <td>FT</td>\n",
              "      <td>Head of Data Science</td>\n",
              "      <td>85000</td>\n",
              "      <td>USD</td>\n",
              "      <td>85000</td>\n",
              "      <td>RU</td>\n",
              "      <td>0</td>\n",
              "      <td>RU</td>\n",
              "      <td>M</td>\n",
              "    </tr>\n",
              "    <tr>\n",
              "      <th>3</th>\n",
              "      <td>2021</td>\n",
              "      <td>EX</td>\n",
              "      <td>FT</td>\n",
              "      <td>Head of Data</td>\n",
              "      <td>230000</td>\n",
              "      <td>USD</td>\n",
              "      <td>230000</td>\n",
              "      <td>RU</td>\n",
              "      <td>50</td>\n",
              "      <td>RU</td>\n",
              "      <td>L</td>\n",
              "    </tr>\n",
              "    <tr>\n",
              "      <th>4</th>\n",
              "      <td>2021</td>\n",
              "      <td>EN</td>\n",
              "      <td>FT</td>\n",
              "      <td>Machine Learning Engineer</td>\n",
              "      <td>125000</td>\n",
              "      <td>USD</td>\n",
              "      <td>125000</td>\n",
              "      <td>US</td>\n",
              "      <td>100</td>\n",
              "      <td>US</td>\n",
              "      <td>S</td>\n",
              "    </tr>\n",
              "  </tbody>\n",
              "</table>\n",
              "</div>\n",
              "      <button class=\"colab-df-convert\" onclick=\"convertToInteractive('df-d11dff29-b651-4a04-9b33-13c2b53d5cea')\"\n",
              "              title=\"Convert this dataframe to an interactive table.\"\n",
              "              style=\"display:none;\">\n",
              "        \n",
              "  <svg xmlns=\"http://www.w3.org/2000/svg\" height=\"24px\"viewBox=\"0 0 24 24\"\n",
              "       width=\"24px\">\n",
              "    <path d=\"M0 0h24v24H0V0z\" fill=\"none\"/>\n",
              "    <path d=\"M18.56 5.44l.94 2.06.94-2.06 2.06-.94-2.06-.94-.94-2.06-.94 2.06-2.06.94zm-11 1L8.5 8.5l.94-2.06 2.06-.94-2.06-.94L8.5 2.5l-.94 2.06-2.06.94zm10 10l.94 2.06.94-2.06 2.06-.94-2.06-.94-.94-2.06-.94 2.06-2.06.94z\"/><path d=\"M17.41 7.96l-1.37-1.37c-.4-.4-.92-.59-1.43-.59-.52 0-1.04.2-1.43.59L10.3 9.45l-7.72 7.72c-.78.78-.78 2.05 0 2.83L4 21.41c.39.39.9.59 1.41.59.51 0 1.02-.2 1.41-.59l7.78-7.78 2.81-2.81c.8-.78.8-2.07 0-2.86zM5.41 20L4 18.59l7.72-7.72 1.47 1.35L5.41 20z\"/>\n",
              "  </svg>\n",
              "      </button>\n",
              "      \n",
              "  <style>\n",
              "    .colab-df-container {\n",
              "      display:flex;\n",
              "      flex-wrap:wrap;\n",
              "      gap: 12px;\n",
              "    }\n",
              "\n",
              "    .colab-df-convert {\n",
              "      background-color: #E8F0FE;\n",
              "      border: none;\n",
              "      border-radius: 50%;\n",
              "      cursor: pointer;\n",
              "      display: none;\n",
              "      fill: #1967D2;\n",
              "      height: 32px;\n",
              "      padding: 0 0 0 0;\n",
              "      width: 32px;\n",
              "    }\n",
              "\n",
              "    .colab-df-convert:hover {\n",
              "      background-color: #E2EBFA;\n",
              "      box-shadow: 0px 1px 2px rgba(60, 64, 67, 0.3), 0px 1px 3px 1px rgba(60, 64, 67, 0.15);\n",
              "      fill: #174EA6;\n",
              "    }\n",
              "\n",
              "    [theme=dark] .colab-df-convert {\n",
              "      background-color: #3B4455;\n",
              "      fill: #D2E3FC;\n",
              "    }\n",
              "\n",
              "    [theme=dark] .colab-df-convert:hover {\n",
              "      background-color: #434B5C;\n",
              "      box-shadow: 0px 1px 3px 1px rgba(0, 0, 0, 0.15);\n",
              "      filter: drop-shadow(0px 1px 2px rgba(0, 0, 0, 0.3));\n",
              "      fill: #FFFFFF;\n",
              "    }\n",
              "  </style>\n",
              "\n",
              "      <script>\n",
              "        const buttonEl =\n",
              "          document.querySelector('#df-d11dff29-b651-4a04-9b33-13c2b53d5cea button.colab-df-convert');\n",
              "        buttonEl.style.display =\n",
              "          google.colab.kernel.accessAllowed ? 'block' : 'none';\n",
              "\n",
              "        async function convertToInteractive(key) {\n",
              "          const element = document.querySelector('#df-d11dff29-b651-4a04-9b33-13c2b53d5cea');\n",
              "          const dataTable =\n",
              "            await google.colab.kernel.invokeFunction('convertToInteractive',\n",
              "                                                     [key], {});\n",
              "          if (!dataTable) return;\n",
              "\n",
              "          const docLinkHtml = 'Like what you see? Visit the ' +\n",
              "            '<a target=\"_blank\" href=https://colab.research.google.com/notebooks/data_table.ipynb>data table notebook</a>'\n",
              "            + ' to learn more about interactive tables.';\n",
              "          element.innerHTML = '';\n",
              "          dataTable['output_type'] = 'display_data';\n",
              "          await google.colab.output.renderOutput(dataTable, element);\n",
              "          const docLink = document.createElement('div');\n",
              "          docLink.innerHTML = docLinkHtml;\n",
              "          element.appendChild(docLink);\n",
              "        }\n",
              "      </script>\n",
              "    </div>\n",
              "  </div>\n",
              "  "
            ]
          },
          "metadata": {},
          "execution_count": 2
        }
      ],
      "source": [
        "# Upload do arquivo\n",
        "uploaded = files.upload()\n",
        "\n",
        "# Leitura e ajuste dos dados\n",
        "df = pd.read_csv('Data Science Jobs Salaries.csv')\n",
        "df['work_year'] = df['work_year'].str.replace('2021e','2021').astype(int)\n",
        "df['company_size'] = pd.Categorical(df.company_size, categories=list('SML') , ordered=True)\n",
        "df['experience_level'] = pd.Categorical(df.experience_level, categories=['EN','MI','SE','EX'], ordered=True)\n",
        "\n",
        "\n",
        "df.head()"
      ]
    },
    {
      "cell_type": "code",
      "source": [
        "# Preview da qualidade dos dados\n",
        "df.info()"
      ],
      "metadata": {
        "colab": {
          "base_uri": "https://localhost:8080/"
        },
        "id": "jP32EoCo6UOX",
        "outputId": "7036a830-7b4c-4e38-f50b-9f24b3649074"
      },
      "execution_count": null,
      "outputs": [
        {
          "output_type": "stream",
          "name": "stdout",
          "text": [
            "<class 'pandas.core.frame.DataFrame'>\n",
            "RangeIndex: 245 entries, 0 to 244\n",
            "Data columns (total 11 columns):\n",
            " #   Column              Non-Null Count  Dtype   \n",
            "---  ------              --------------  -----   \n",
            " 0   work_year           245 non-null    int64   \n",
            " 1   experience_level    245 non-null    category\n",
            " 2   employment_type     245 non-null    object  \n",
            " 3   job_title           245 non-null    object  \n",
            " 4   salary              245 non-null    int64   \n",
            " 5   salary_currency     245 non-null    object  \n",
            " 6   salary_in_usd       245 non-null    int64   \n",
            " 7   employee_residence  245 non-null    object  \n",
            " 8   remote_ratio        245 non-null    int64   \n",
            " 9   company_location    245 non-null    object  \n",
            " 10  company_size        245 non-null    category\n",
            "dtypes: category(2), int64(4), object(5)\n",
            "memory usage: 18.2+ KB\n"
          ]
        }
      ]
    },
    {
      "cell_type": "markdown",
      "metadata": {
        "id": "IcVa7VlmS6lH"
      },
      "source": [
        "# Amostragem\n",
        "\n"
      ]
    },
    {
      "cell_type": "markdown",
      "source": [
        "![img](https://www.questionpro.com/blog/wp-content/uploads/2018/03/Amostragem-1-2.jpg)"
      ],
      "metadata": {
        "id": "Mrhrb02b5td3"
      }
    },
    {
      "cell_type": "markdown",
      "metadata": {
        "id": "-0aJvykDhAes"
      },
      "source": [
        "#### População"
      ]
    },
    {
      "cell_type": "code",
      "source": [
        "# Todos os dados possíveis\n",
        "df"
      ],
      "metadata": {
        "colab": {
          "base_uri": "https://localhost:8080/",
          "height": 468
        },
        "id": "J8a9lShMG4bH",
        "outputId": "ee0abc4f-00af-4c97-f5e2-8907aa4a6444"
      },
      "execution_count": null,
      "outputs": [
        {
          "output_type": "execute_result",
          "data": {
            "text/plain": [
              "     work_year experience_level employment_type                  job_title  \\\n",
              "0         2021               EN              FT    Data Science Consultant   \n",
              "1         2020               SE              FT             Data Scientist   \n",
              "2         2021               EX              FT       Head of Data Science   \n",
              "3         2021               EX              FT               Head of Data   \n",
              "4         2021               EN              FT  Machine Learning Engineer   \n",
              "..         ...              ...             ...                        ...   \n",
              "240       2020               SE              FT             Data Scientist   \n",
              "241       2021               MI              FT   Principal Data Scientist   \n",
              "242       2020               EN              FT             Data Scientist   \n",
              "243       2020               EN              CT      Business Data Analyst   \n",
              "244       2021               SE              FT       Data Science Manager   \n",
              "\n",
              "      salary salary_currency  salary_in_usd employee_residence  remote_ratio  \\\n",
              "0      54000             EUR          64369                 DE            50   \n",
              "1      60000             EUR          68428                 GR           100   \n",
              "2      85000             USD          85000                 RU             0   \n",
              "3     230000             USD         230000                 RU            50   \n",
              "4     125000             USD         125000                 US           100   \n",
              "..       ...             ...            ...                ...           ...   \n",
              "240   412000             USD         412000                 US           100   \n",
              "241   151000             USD         151000                 US           100   \n",
              "242   105000             USD         105000                 US           100   \n",
              "243   100000             USD         100000                 US           100   \n",
              "244  7000000             INR          94917                 IN            50   \n",
              "\n",
              "    company_location company_size  \n",
              "0                 DE            L  \n",
              "1                 US            L  \n",
              "2                 RU            M  \n",
              "3                 RU            L  \n",
              "4                 US            S  \n",
              "..               ...          ...  \n",
              "240               US            L  \n",
              "241               US            L  \n",
              "242               US            S  \n",
              "243               US            L  \n",
              "244               IN            L  \n",
              "\n",
              "[245 rows x 11 columns]"
            ],
            "text/html": [
              "\n",
              "  <div id=\"df-7d778922-a7c7-4117-9f75-c4af78e948ca\">\n",
              "    <div class=\"colab-df-container\">\n",
              "      <div>\n",
              "<style scoped>\n",
              "    .dataframe tbody tr th:only-of-type {\n",
              "        vertical-align: middle;\n",
              "    }\n",
              "\n",
              "    .dataframe tbody tr th {\n",
              "        vertical-align: top;\n",
              "    }\n",
              "\n",
              "    .dataframe thead th {\n",
              "        text-align: right;\n",
              "    }\n",
              "</style>\n",
              "<table border=\"1\" class=\"dataframe\">\n",
              "  <thead>\n",
              "    <tr style=\"text-align: right;\">\n",
              "      <th></th>\n",
              "      <th>work_year</th>\n",
              "      <th>experience_level</th>\n",
              "      <th>employment_type</th>\n",
              "      <th>job_title</th>\n",
              "      <th>salary</th>\n",
              "      <th>salary_currency</th>\n",
              "      <th>salary_in_usd</th>\n",
              "      <th>employee_residence</th>\n",
              "      <th>remote_ratio</th>\n",
              "      <th>company_location</th>\n",
              "      <th>company_size</th>\n",
              "    </tr>\n",
              "  </thead>\n",
              "  <tbody>\n",
              "    <tr>\n",
              "      <th>0</th>\n",
              "      <td>2021</td>\n",
              "      <td>EN</td>\n",
              "      <td>FT</td>\n",
              "      <td>Data Science Consultant</td>\n",
              "      <td>54000</td>\n",
              "      <td>EUR</td>\n",
              "      <td>64369</td>\n",
              "      <td>DE</td>\n",
              "      <td>50</td>\n",
              "      <td>DE</td>\n",
              "      <td>L</td>\n",
              "    </tr>\n",
              "    <tr>\n",
              "      <th>1</th>\n",
              "      <td>2020</td>\n",
              "      <td>SE</td>\n",
              "      <td>FT</td>\n",
              "      <td>Data Scientist</td>\n",
              "      <td>60000</td>\n",
              "      <td>EUR</td>\n",
              "      <td>68428</td>\n",
              "      <td>GR</td>\n",
              "      <td>100</td>\n",
              "      <td>US</td>\n",
              "      <td>L</td>\n",
              "    </tr>\n",
              "    <tr>\n",
              "      <th>2</th>\n",
              "      <td>2021</td>\n",
              "      <td>EX</td>\n",
              "      <td>FT</td>\n",
              "      <td>Head of Data Science</td>\n",
              "      <td>85000</td>\n",
              "      <td>USD</td>\n",
              "      <td>85000</td>\n",
              "      <td>RU</td>\n",
              "      <td>0</td>\n",
              "      <td>RU</td>\n",
              "      <td>M</td>\n",
              "    </tr>\n",
              "    <tr>\n",
              "      <th>3</th>\n",
              "      <td>2021</td>\n",
              "      <td>EX</td>\n",
              "      <td>FT</td>\n",
              "      <td>Head of Data</td>\n",
              "      <td>230000</td>\n",
              "      <td>USD</td>\n",
              "      <td>230000</td>\n",
              "      <td>RU</td>\n",
              "      <td>50</td>\n",
              "      <td>RU</td>\n",
              "      <td>L</td>\n",
              "    </tr>\n",
              "    <tr>\n",
              "      <th>4</th>\n",
              "      <td>2021</td>\n",
              "      <td>EN</td>\n",
              "      <td>FT</td>\n",
              "      <td>Machine Learning Engineer</td>\n",
              "      <td>125000</td>\n",
              "      <td>USD</td>\n",
              "      <td>125000</td>\n",
              "      <td>US</td>\n",
              "      <td>100</td>\n",
              "      <td>US</td>\n",
              "      <td>S</td>\n",
              "    </tr>\n",
              "    <tr>\n",
              "      <th>...</th>\n",
              "      <td>...</td>\n",
              "      <td>...</td>\n",
              "      <td>...</td>\n",
              "      <td>...</td>\n",
              "      <td>...</td>\n",
              "      <td>...</td>\n",
              "      <td>...</td>\n",
              "      <td>...</td>\n",
              "      <td>...</td>\n",
              "      <td>...</td>\n",
              "      <td>...</td>\n",
              "    </tr>\n",
              "    <tr>\n",
              "      <th>240</th>\n",
              "      <td>2020</td>\n",
              "      <td>SE</td>\n",
              "      <td>FT</td>\n",
              "      <td>Data Scientist</td>\n",
              "      <td>412000</td>\n",
              "      <td>USD</td>\n",
              "      <td>412000</td>\n",
              "      <td>US</td>\n",
              "      <td>100</td>\n",
              "      <td>US</td>\n",
              "      <td>L</td>\n",
              "    </tr>\n",
              "    <tr>\n",
              "      <th>241</th>\n",
              "      <td>2021</td>\n",
              "      <td>MI</td>\n",
              "      <td>FT</td>\n",
              "      <td>Principal Data Scientist</td>\n",
              "      <td>151000</td>\n",
              "      <td>USD</td>\n",
              "      <td>151000</td>\n",
              "      <td>US</td>\n",
              "      <td>100</td>\n",
              "      <td>US</td>\n",
              "      <td>L</td>\n",
              "    </tr>\n",
              "    <tr>\n",
              "      <th>242</th>\n",
              "      <td>2020</td>\n",
              "      <td>EN</td>\n",
              "      <td>FT</td>\n",
              "      <td>Data Scientist</td>\n",
              "      <td>105000</td>\n",
              "      <td>USD</td>\n",
              "      <td>105000</td>\n",
              "      <td>US</td>\n",
              "      <td>100</td>\n",
              "      <td>US</td>\n",
              "      <td>S</td>\n",
              "    </tr>\n",
              "    <tr>\n",
              "      <th>243</th>\n",
              "      <td>2020</td>\n",
              "      <td>EN</td>\n",
              "      <td>CT</td>\n",
              "      <td>Business Data Analyst</td>\n",
              "      <td>100000</td>\n",
              "      <td>USD</td>\n",
              "      <td>100000</td>\n",
              "      <td>US</td>\n",
              "      <td>100</td>\n",
              "      <td>US</td>\n",
              "      <td>L</td>\n",
              "    </tr>\n",
              "    <tr>\n",
              "      <th>244</th>\n",
              "      <td>2021</td>\n",
              "      <td>SE</td>\n",
              "      <td>FT</td>\n",
              "      <td>Data Science Manager</td>\n",
              "      <td>7000000</td>\n",
              "      <td>INR</td>\n",
              "      <td>94917</td>\n",
              "      <td>IN</td>\n",
              "      <td>50</td>\n",
              "      <td>IN</td>\n",
              "      <td>L</td>\n",
              "    </tr>\n",
              "  </tbody>\n",
              "</table>\n",
              "<p>245 rows × 11 columns</p>\n",
              "</div>\n",
              "      <button class=\"colab-df-convert\" onclick=\"convertToInteractive('df-7d778922-a7c7-4117-9f75-c4af78e948ca')\"\n",
              "              title=\"Convert this dataframe to an interactive table.\"\n",
              "              style=\"display:none;\">\n",
              "        \n",
              "  <svg xmlns=\"http://www.w3.org/2000/svg\" height=\"24px\"viewBox=\"0 0 24 24\"\n",
              "       width=\"24px\">\n",
              "    <path d=\"M0 0h24v24H0V0z\" fill=\"none\"/>\n",
              "    <path d=\"M18.56 5.44l.94 2.06.94-2.06 2.06-.94-2.06-.94-.94-2.06-.94 2.06-2.06.94zm-11 1L8.5 8.5l.94-2.06 2.06-.94-2.06-.94L8.5 2.5l-.94 2.06-2.06.94zm10 10l.94 2.06.94-2.06 2.06-.94-2.06-.94-.94-2.06-.94 2.06-2.06.94z\"/><path d=\"M17.41 7.96l-1.37-1.37c-.4-.4-.92-.59-1.43-.59-.52 0-1.04.2-1.43.59L10.3 9.45l-7.72 7.72c-.78.78-.78 2.05 0 2.83L4 21.41c.39.39.9.59 1.41.59.51 0 1.02-.2 1.41-.59l7.78-7.78 2.81-2.81c.8-.78.8-2.07 0-2.86zM5.41 20L4 18.59l7.72-7.72 1.47 1.35L5.41 20z\"/>\n",
              "  </svg>\n",
              "      </button>\n",
              "      \n",
              "  <style>\n",
              "    .colab-df-container {\n",
              "      display:flex;\n",
              "      flex-wrap:wrap;\n",
              "      gap: 12px;\n",
              "    }\n",
              "\n",
              "    .colab-df-convert {\n",
              "      background-color: #E8F0FE;\n",
              "      border: none;\n",
              "      border-radius: 50%;\n",
              "      cursor: pointer;\n",
              "      display: none;\n",
              "      fill: #1967D2;\n",
              "      height: 32px;\n",
              "      padding: 0 0 0 0;\n",
              "      width: 32px;\n",
              "    }\n",
              "\n",
              "    .colab-df-convert:hover {\n",
              "      background-color: #E2EBFA;\n",
              "      box-shadow: 0px 1px 2px rgba(60, 64, 67, 0.3), 0px 1px 3px 1px rgba(60, 64, 67, 0.15);\n",
              "      fill: #174EA6;\n",
              "    }\n",
              "\n",
              "    [theme=dark] .colab-df-convert {\n",
              "      background-color: #3B4455;\n",
              "      fill: #D2E3FC;\n",
              "    }\n",
              "\n",
              "    [theme=dark] .colab-df-convert:hover {\n",
              "      background-color: #434B5C;\n",
              "      box-shadow: 0px 1px 3px 1px rgba(0, 0, 0, 0.15);\n",
              "      filter: drop-shadow(0px 1px 2px rgba(0, 0, 0, 0.3));\n",
              "      fill: #FFFFFF;\n",
              "    }\n",
              "  </style>\n",
              "\n",
              "      <script>\n",
              "        const buttonEl =\n",
              "          document.querySelector('#df-7d778922-a7c7-4117-9f75-c4af78e948ca button.colab-df-convert');\n",
              "        buttonEl.style.display =\n",
              "          google.colab.kernel.accessAllowed ? 'block' : 'none';\n",
              "\n",
              "        async function convertToInteractive(key) {\n",
              "          const element = document.querySelector('#df-7d778922-a7c7-4117-9f75-c4af78e948ca');\n",
              "          const dataTable =\n",
              "            await google.colab.kernel.invokeFunction('convertToInteractive',\n",
              "                                                     [key], {});\n",
              "          if (!dataTable) return;\n",
              "\n",
              "          const docLinkHtml = 'Like what you see? Visit the ' +\n",
              "            '<a target=\"_blank\" href=https://colab.research.google.com/notebooks/data_table.ipynb>data table notebook</a>'\n",
              "            + ' to learn more about interactive tables.';\n",
              "          element.innerHTML = '';\n",
              "          dataTable['output_type'] = 'display_data';\n",
              "          await google.colab.output.renderOutput(dataTable, element);\n",
              "          const docLink = document.createElement('div');\n",
              "          docLink.innerHTML = docLinkHtml;\n",
              "          element.appendChild(docLink);\n",
              "        }\n",
              "      </script>\n",
              "    </div>\n",
              "  </div>\n",
              "  "
            ]
          },
          "metadata": {},
          "execution_count": 4
        }
      ]
    },
    {
      "cell_type": "code",
      "source": [
        "# Boxplot dos salários por nível de experiência\n",
        "sns.boxplot(data=df,x='experience_level', y='salary_in_usd')"
      ],
      "metadata": {
        "colab": {
          "base_uri": "https://localhost:8080/",
          "height": 297
        },
        "id": "6AQsZYisOjqK",
        "outputId": "393729d6-37db-46d5-e985-3808b8f8dfb9"
      },
      "execution_count": null,
      "outputs": [
        {
          "output_type": "execute_result",
          "data": {
            "text/plain": [
              "<matplotlib.axes._subplots.AxesSubplot at 0x7f1291d76b90>"
            ]
          },
          "metadata": {},
          "execution_count": 61
        },
        {
          "output_type": "display_data",
          "data": {
            "text/plain": [
              "<Figure size 432x288 with 1 Axes>"
            ],
            "image/png": "[encoded data removed]"
          },
          "metadata": {
            "needs_background": "light"
          }
        }
      ]
    },
    {
      "cell_type": "code",
      "source": [
        "# Boxplot dos salários por ano de coleta dos dados\n",
        "sns.boxplot(data=df,x='work_year', y='salary_in_usd')"
      ],
      "metadata": {
        "colab": {
          "base_uri": "https://localhost:8080/",
          "height": 297
        },
        "id": "WiOnOh4k6o5V",
        "outputId": "d9819647-f6fd-43ed-c2b6-97b8227ecdf7"
      },
      "execution_count": null,
      "outputs": [
        {
          "output_type": "execute_result",
          "data": {
            "text/plain": [
              "<matplotlib.axes._subplots.AxesSubplot at 0x7f50a77e17d0>"
            ]
          },
          "metadata": {},
          "execution_count": 5
        },
        {
          "output_type": "display_data",
          "data": {
            "text/plain": [
              "<Figure size 432x288 with 1 Axes>"
            ],
            "image/png": "[encoded data removed]"
          },
          "metadata": {
            "needs_background": "light"
          }
        }
      ]
    },
    {
      "cell_type": "code",
      "source": [
        "# Histograma dos salários pelo tamanho da empresa\n",
        "sns.histplot(data=df,x='salary_in_usd',hue = 'company_size',kde=True)"
      ],
      "metadata": {
        "colab": {
          "base_uri": "https://localhost:8080/",
          "height": 297
        },
        "id": "j6-VLUjAOn9z",
        "outputId": "764e086b-f630-4765-a895-aeaf248ff04d"
      },
      "execution_count": null,
      "outputs": [
        {
          "output_type": "execute_result",
          "data": {
            "text/plain": [
              "<matplotlib.axes._subplots.AxesSubplot at 0x7f1291c33b50>"
            ]
          },
          "metadata": {},
          "execution_count": 62
        },
        {
          "output_type": "display_data",
          "data": {
            "text/plain": [
              "<Figure size 432x288 with 1 Axes>"
            ],
            "image/png": "[encoded data removed]"
          },
          "metadata": {
            "needs_background": "light"
          }
        }
      ]
    },
    {
      "cell_type": "markdown",
      "source": [
        "![](https://nova-escola-producao.s3.amazonaws.com/FQFG2d57rDf26ty9HRkacBCHY6V8VyJWmapgunh3MA6scbB29rSYw5TtazwJ/sistematizacao-do-conceito)"
      ],
      "metadata": {
        "id": "w5ln2AoA7KW6"
      }
    },
    {
      "cell_type": "markdown",
      "metadata": {
        "id": "bBkfbCMPg6-Q"
      },
      "source": [
        "#### Amostragem Simples "
      ]
    },
    {
      "cell_type": "code",
      "source": [
        "# Amostrando simples usando o random_state\n",
        "sample_simp = df.sample(5,random_state= 0)\n",
        "sample_simp"
      ],
      "metadata": {
        "colab": {
          "base_uri": "https://localhost:8080/",
          "height": 206
        },
        "id": "5UkmnHcYG-rf",
        "outputId": "0d07ec0e-1f32-41a9-d58b-d5c8018c506d"
      },
      "execution_count": null,
      "outputs": [
        {
          "output_type": "execute_result",
          "data": {
            "text/plain": [
              "     work_year experience_level employment_type            job_title  salary  \\\n",
              "92        2020               MI              FT  Lead Data Scientist  115000   \n",
              "238       2021               MI              FT        Data Engineer   24000   \n",
              "73        2021               MI              FT         Data Analyst   93000   \n",
              "55        2021               MI              FT         Data Analyst   37456   \n",
              "181       2021               MI              FT   Research Scientist   48000   \n",
              "\n",
              "    salary_currency  salary_in_usd employee_residence  remote_ratio  \\\n",
              "92              USD         115000                 AE             0   \n",
              "238             EUR          28608                 MT            50   \n",
              "73              USD          93000                 US           100   \n",
              "55              GBP          51814                 GB            50   \n",
              "181             EUR          57217                 FR            50   \n",
              "\n",
              "    company_location company_size  \n",
              "92                AE            L  \n",
              "238               MT            L  \n",
              "73                US            L  \n",
              "55                GB            L  \n",
              "181               FR            S  "
            ],
            "text/html": [
              "\n",
              "  <div id=\"df-00ff69cc-634a-49e2-be88-b1962c8ab4dd\">\n",
              "    <div class=\"colab-df-container\">\n",
              "      <div>\n",
              "<style scoped>\n",
              "    .dataframe tbody tr th:only-of-type {\n",
              "        vertical-align: middle;\n",
              "    }\n",
              "\n",
              "    .dataframe tbody tr th {\n",
              "        vertical-align: top;\n",
              "    }\n",
              "\n",
              "    .dataframe thead th {\n",
              "        text-align: right;\n",
              "    }\n",
              "</style>\n",
              "<table border=\"1\" class=\"dataframe\">\n",
              "  <thead>\n",
              "    <tr style=\"text-align: right;\">\n",
              "      <th></th>\n",
              "      <th>work_year</th>\n",
              "      <th>experience_level</th>\n",
              "      <th>employment_type</th>\n",
              "      <th>job_title</th>\n",
              "      <th>salary</th>\n",
              "      <th>salary_currency</th>\n",
              "      <th>salary_in_usd</th>\n",
              "      <th>employee_residence</th>\n",
              "      <th>remote_ratio</th>\n",
              "      <th>company_location</th>\n",
              "      <th>company_size</th>\n",
              "    </tr>\n",
              "  </thead>\n",
              "  <tbody>\n",
              "    <tr>\n",
              "      <th>92</th>\n",
              "      <td>2020</td>\n",
              "      <td>MI</td>\n",
              "      <td>FT</td>\n",
              "      <td>Lead Data Scientist</td>\n",
              "      <td>115000</td>\n",
              "      <td>USD</td>\n",
              "      <td>115000</td>\n",
              "      <td>AE</td>\n",
              "      <td>0</td>\n",
              "      <td>AE</td>\n",
              "      <td>L</td>\n",
              "    </tr>\n",
              "    <tr>\n",
              "      <th>238</th>\n",
              "      <td>2021</td>\n",
              "      <td>MI</td>\n",
              "      <td>FT</td>\n",
              "      <td>Data Engineer</td>\n",
              "      <td>24000</td>\n",
              "      <td>EUR</td>\n",
              "      <td>28608</td>\n",
              "      <td>MT</td>\n",
              "      <td>50</td>\n",
              "      <td>MT</td>\n",
              "      <td>L</td>\n",
              "    </tr>\n",
              "    <tr>\n",
              "      <th>73</th>\n",
              "      <td>2021</td>\n",
              "      <td>MI</td>\n",
              "      <td>FT</td>\n",
              "      <td>Data Analyst</td>\n",
              "      <td>93000</td>\n",
              "      <td>USD</td>\n",
              "      <td>93000</td>\n",
              "      <td>US</td>\n",
              "      <td>100</td>\n",
              "      <td>US</td>\n",
              "      <td>L</td>\n",
              "    </tr>\n",
              "    <tr>\n",
              "      <th>55</th>\n",
              "      <td>2021</td>\n",
              "      <td>MI</td>\n",
              "      <td>FT</td>\n",
              "      <td>Data Analyst</td>\n",
              "      <td>37456</td>\n",
              "      <td>GBP</td>\n",
              "      <td>51814</td>\n",
              "      <td>GB</td>\n",
              "      <td>50</td>\n",
              "      <td>GB</td>\n",
              "      <td>L</td>\n",
              "    </tr>\n",
              "    <tr>\n",
              "      <th>181</th>\n",
              "      <td>2021</td>\n",
              "      <td>MI</td>\n",
              "      <td>FT</td>\n",
              "      <td>Research Scientist</td>\n",
              "      <td>48000</td>\n",
              "      <td>EUR</td>\n",
              "      <td>57217</td>\n",
              "      <td>FR</td>\n",
              "      <td>50</td>\n",
              "      <td>FR</td>\n",
              "      <td>S</td>\n",
              "    </tr>\n",
              "  </tbody>\n",
              "</table>\n",
              "</div>\n",
              "      <button class=\"colab-df-convert\" onclick=\"convertToInteractive('df-00ff69cc-634a-49e2-be88-b1962c8ab4dd')\"\n",
              "              title=\"Convert this dataframe to an interactive table.\"\n",
              "              style=\"display:none;\">\n",
              "        \n",
              "  <svg xmlns=\"http://www.w3.org/2000/svg\" height=\"24px\"viewBox=\"0 0 24 24\"\n",
              "       width=\"24px\">\n",
              "    <path d=\"M0 0h24v24H0V0z\" fill=\"none\"/>\n",
              "    <path d=\"M18.56 5.44l.94 2.06.94-2.06 2.06-.94-2.06-.94-.94-2.06-.94 2.06-2.06.94zm-11 1L8.5 8.5l.94-2.06 2.06-.94-2.06-.94L8.5 2.5l-.94 2.06-2.06.94zm10 10l.94 2.06.94-2.06 2.06-.94-2.06-.94-.94-2.06-.94 2.06-2.06.94z\"/><path d=\"M17.41 7.96l-1.37-1.37c-.4-.4-.92-.59-1.43-.59-.52 0-1.04.2-1.43.59L10.3 9.45l-7.72 7.72c-.78.78-.78 2.05 0 2.83L4 21.41c.39.39.9.59 1.41.59.51 0 1.02-.2 1.41-.59l7.78-7.78 2.81-2.81c.8-.78.8-2.07 0-2.86zM5.41 20L4 18.59l7.72-7.72 1.47 1.35L5.41 20z\"/>\n",
              "  </svg>\n",
              "      </button>\n",
              "      \n",
              "  <style>\n",
              "    .colab-df-container {\n",
              "      display:flex;\n",
              "      flex-wrap:wrap;\n",
              "      gap: 12px;\n",
              "    }\n",
              "\n",
              "    .colab-df-convert {\n",
              "      background-color: #E8F0FE;\n",
              "      border: none;\n",
              "      border-radius: 50%;\n",
              "      cursor: pointer;\n",
              "      display: none;\n",
              "      fill: #1967D2;\n",
              "      height: 32px;\n",
              "      padding: 0 0 0 0;\n",
              "      width: 32px;\n",
              "    }\n",
              "\n",
              "    .colab-df-convert:hover {\n",
              "      background-color: #E2EBFA;\n",
              "      box-shadow: 0px 1px 2px rgba(60, 64, 67, 0.3), 0px 1px 3px 1px rgba(60, 64, 67, 0.15);\n",
              "      fill: #174EA6;\n",
              "    }\n",
              "\n",
              "    [theme=dark] .colab-df-convert {\n",
              "      background-color: #3B4455;\n",
              "      fill: #D2E3FC;\n",
              "    }\n",
              "\n",
              "    [theme=dark] .colab-df-convert:hover {\n",
              "      background-color: #434B5C;\n",
              "      box-shadow: 0px 1px 3px 1px rgba(0, 0, 0, 0.15);\n",
              "      filter: drop-shadow(0px 1px 2px rgba(0, 0, 0, 0.3));\n",
              "      fill: #FFFFFF;\n",
              "    }\n",
              "  </style>\n",
              "\n",
              "      <script>\n",
              "        const buttonEl =\n",
              "          document.querySelector('#df-00ff69cc-634a-49e2-be88-b1962c8ab4dd button.colab-df-convert');\n",
              "        buttonEl.style.display =\n",
              "          google.colab.kernel.accessAllowed ? 'block' : 'none';\n",
              "\n",
              "        async function convertToInteractive(key) {\n",
              "          const element = document.querySelector('#df-00ff69cc-634a-49e2-be88-b1962c8ab4dd');\n",
              "          const dataTable =\n",
              "            await google.colab.kernel.invokeFunction('convertToInteractive',\n",
              "                                                     [key], {});\n",
              "          if (!dataTable) return;\n",
              "\n",
              "          const docLinkHtml = 'Like what you see? Visit the ' +\n",
              "            '<a target=\"_blank\" href=https://colab.research.google.com/notebooks/data_table.ipynb>data table notebook</a>'\n",
              "            + ' to learn more about interactive tables.';\n",
              "          element.innerHTML = '';\n",
              "          dataTable['output_type'] = 'display_data';\n",
              "          await google.colab.output.renderOutput(dataTable, element);\n",
              "          const docLink = document.createElement('div');\n",
              "          docLink.innerHTML = docLinkHtml;\n",
              "          element.appendChild(docLink);\n",
              "        }\n",
              "      </script>\n",
              "    </div>\n",
              "  </div>\n",
              "  "
            ]
          },
          "metadata": {},
          "execution_count": 8
        }
      ]
    },
    {
      "cell_type": "code",
      "source": [
        "# Amostrando simples usando o seed\n",
        "np.random.seed(0)\n",
        "df.sample(5)"
      ],
      "metadata": {
        "colab": {
          "base_uri": "https://localhost:8080/",
          "height": 206
        },
        "id": "KR6zC54WHIPt",
        "outputId": "ac1ea0e0-4052-4383-9a25-5215306cd9b8"
      },
      "execution_count": null,
      "outputs": [
        {
          "output_type": "execute_result",
          "data": {
            "text/plain": [
              "     work_year experience_level employment_type            job_title  salary  \\\n",
              "92        2020               MI              FT  Lead Data Scientist  115000   \n",
              "238       2021               MI              FT        Data Engineer   24000   \n",
              "73        2021               MI              FT         Data Analyst   93000   \n",
              "55        2021               MI              FT         Data Analyst   37456   \n",
              "181       2021               MI              FT   Research Scientist   48000   \n",
              "\n",
              "    salary_currency  salary_in_usd employee_residence  remote_ratio  \\\n",
              "92              USD         115000                 AE             0   \n",
              "238             EUR          28608                 MT            50   \n",
              "73              USD          93000                 US           100   \n",
              "55              GBP          51814                 GB            50   \n",
              "181             EUR          57217                 FR            50   \n",
              "\n",
              "    company_location company_size  \n",
              "92                AE            L  \n",
              "238               MT            L  \n",
              "73                US            L  \n",
              "55                GB            L  \n",
              "181               FR            S  "
            ],
            "text/html": [
              "\n",
              "  <div id=\"df-21642153-9580-4233-9895-035eb0e355cc\">\n",
              "    <div class=\"colab-df-container\">\n",
              "      <div>\n",
              "<style scoped>\n",
              "    .dataframe tbody tr th:only-of-type {\n",
              "        vertical-align: middle;\n",
              "    }\n",
              "\n",
              "    .dataframe tbody tr th {\n",
              "        vertical-align: top;\n",
              "    }\n",
              "\n",
              "    .dataframe thead th {\n",
              "        text-align: right;\n",
              "    }\n",
              "</style>\n",
              "<table border=\"1\" class=\"dataframe\">\n",
              "  <thead>\n",
              "    <tr style=\"text-align: right;\">\n",
              "      <th></th>\n",
              "      <th>work_year</th>\n",
              "      <th>experience_level</th>\n",
              "      <th>employment_type</th>\n",
              "      <th>job_title</th>\n",
              "      <th>salary</th>\n",
              "      <th>salary_currency</th>\n",
              "      <th>salary_in_usd</th>\n",
              "      <th>employee_residence</th>\n",
              "      <th>remote_ratio</th>\n",
              "      <th>company_location</th>\n",
              "      <th>company_size</th>\n",
              "    </tr>\n",
              "  </thead>\n",
              "  <tbody>\n",
              "    <tr>\n",
              "      <th>92</th>\n",
              "      <td>2020</td>\n",
              "      <td>MI</td>\n",
              "      <td>FT</td>\n",
              "      <td>Lead Data Scientist</td>\n",
              "      <td>115000</td>\n",
              "      <td>USD</td>\n",
              "      <td>115000</td>\n",
              "      <td>AE</td>\n",
              "      <td>0</td>\n",
              "      <td>AE</td>\n",
              "      <td>L</td>\n",
              "    </tr>\n",
              "    <tr>\n",
              "      <th>238</th>\n",
              "      <td>2021</td>\n",
              "      <td>MI</td>\n",
              "      <td>FT</td>\n",
              "      <td>Data Engineer</td>\n",
              "      <td>24000</td>\n",
              "      <td>EUR</td>\n",
              "      <td>28608</td>\n",
              "      <td>MT</td>\n",
              "      <td>50</td>\n",
              "      <td>MT</td>\n",
              "      <td>L</td>\n",
              "    </tr>\n",
              "    <tr>\n",
              "      <th>73</th>\n",
              "      <td>2021</td>\n",
              "      <td>MI</td>\n",
              "      <td>FT</td>\n",
              "      <td>Data Analyst</td>\n",
              "      <td>93000</td>\n",
              "      <td>USD</td>\n",
              "      <td>93000</td>\n",
              "      <td>US</td>\n",
              "      <td>100</td>\n",
              "      <td>US</td>\n",
              "      <td>L</td>\n",
              "    </tr>\n",
              "    <tr>\n",
              "      <th>55</th>\n",
              "      <td>2021</td>\n",
              "      <td>MI</td>\n",
              "      <td>FT</td>\n",
              "      <td>Data Analyst</td>\n",
              "      <td>37456</td>\n",
              "      <td>GBP</td>\n",
              "      <td>51814</td>\n",
              "      <td>GB</td>\n",
              "      <td>50</td>\n",
              "      <td>GB</td>\n",
              "      <td>L</td>\n",
              "    </tr>\n",
              "    <tr>\n",
              "      <th>181</th>\n",
              "      <td>2021</td>\n",
              "      <td>MI</td>\n",
              "      <td>FT</td>\n",
              "      <td>Research Scientist</td>\n",
              "      <td>48000</td>\n",
              "      <td>EUR</td>\n",
              "      <td>57217</td>\n",
              "      <td>FR</td>\n",
              "      <td>50</td>\n",
              "      <td>FR</td>\n",
              "      <td>S</td>\n",
              "    </tr>\n",
              "  </tbody>\n",
              "</table>\n",
              "</div>\n",
              "      <button class=\"colab-df-convert\" onclick=\"convertToInteractive('df-21642153-9580-4233-9895-035eb0e355cc')\"\n",
              "              title=\"Convert this dataframe to an interactive table.\"\n",
              "              style=\"display:none;\">\n",
              "        \n",
              "  <svg xmlns=\"http://www.w3.org/2000/svg\" height=\"24px\"viewBox=\"0 0 24 24\"\n",
              "       width=\"24px\">\n",
              "    <path d=\"M0 0h24v24H0V0z\" fill=\"none\"/>\n",
              "    <path d=\"M18.56 5.44l.94 2.06.94-2.06 2.06-.94-2.06-.94-.94-2.06-.94 2.06-2.06.94zm-11 1L8.5 8.5l.94-2.06 2.06-.94-2.06-.94L8.5 2.5l-.94 2.06-2.06.94zm10 10l.94 2.06.94-2.06 2.06-.94-2.06-.94-.94-2.06-.94 2.06-2.06.94z\"/><path d=\"M17.41 7.96l-1.37-1.37c-.4-.4-.92-.59-1.43-.59-.52 0-1.04.2-1.43.59L10.3 9.45l-7.72 7.72c-.78.78-.78 2.05 0 2.83L4 21.41c.39.39.9.59 1.41.59.51 0 1.02-.2 1.41-.59l7.78-7.78 2.81-2.81c.8-.78.8-2.07 0-2.86zM5.41 20L4 18.59l7.72-7.72 1.47 1.35L5.41 20z\"/>\n",
              "  </svg>\n",
              "      </button>\n",
              "      \n",
              "  <style>\n",
              "    .colab-df-container {\n",
              "      display:flex;\n",
              "      flex-wrap:wrap;\n",
              "      gap: 12px;\n",
              "    }\n",
              "\n",
              "    .colab-df-convert {\n",
              "      background-color: #E8F0FE;\n",
              "      border: none;\n",
              "      border-radius: 50%;\n",
              "      cursor: pointer;\n",
              "      display: none;\n",
              "      fill: #1967D2;\n",
              "      height: 32px;\n",
              "      padding: 0 0 0 0;\n",
              "      width: 32px;\n",
              "    }\n",
              "\n",
              "    .colab-df-convert:hover {\n",
              "      background-color: #E2EBFA;\n",
              "      box-shadow: 0px 1px 2px rgba(60, 64, 67, 0.3), 0px 1px 3px 1px rgba(60, 64, 67, 0.15);\n",
              "      fill: #174EA6;\n",
              "    }\n",
              "\n",
              "    [theme=dark] .colab-df-convert {\n",
              "      background-color: #3B4455;\n",
              "      fill: #D2E3FC;\n",
              "    }\n",
              "\n",
              "    [theme=dark] .colab-df-convert:hover {\n",
              "      background-color: #434B5C;\n",
              "      box-shadow: 0px 1px 3px 1px rgba(0, 0, 0, 0.15);\n",
              "      filter: drop-shadow(0px 1px 2px rgba(0, 0, 0, 0.3));\n",
              "      fill: #FFFFFF;\n",
              "    }\n",
              "  </style>\n",
              "\n",
              "      <script>\n",
              "        const buttonEl =\n",
              "          document.querySelector('#df-21642153-9580-4233-9895-035eb0e355cc button.colab-df-convert');\n",
              "        buttonEl.style.display =\n",
              "          google.colab.kernel.accessAllowed ? 'block' : 'none';\n",
              "\n",
              "        async function convertToInteractive(key) {\n",
              "          const element = document.querySelector('#df-21642153-9580-4233-9895-035eb0e355cc');\n",
              "          const dataTable =\n",
              "            await google.colab.kernel.invokeFunction('convertToInteractive',\n",
              "                                                     [key], {});\n",
              "          if (!dataTable) return;\n",
              "\n",
              "          const docLinkHtml = 'Like what you see? Visit the ' +\n",
              "            '<a target=\"_blank\" href=https://colab.research.google.com/notebooks/data_table.ipynb>data table notebook</a>'\n",
              "            + ' to learn more about interactive tables.';\n",
              "          element.innerHTML = '';\n",
              "          dataTable['output_type'] = 'display_data';\n",
              "          await google.colab.output.renderOutput(dataTable, element);\n",
              "          const docLink = document.createElement('div');\n",
              "          docLink.innerHTML = docLinkHtml;\n",
              "          element.appendChild(docLink);\n",
              "        }\n",
              "      </script>\n",
              "    </div>\n",
              "  </div>\n",
              "  "
            ]
          },
          "metadata": {},
          "execution_count": 12
        }
      ]
    },
    {
      "cell_type": "code",
      "source": [
        "# Quantidade de classes distintas na amostra\n",
        "df['salary_currency'].sample(15, random_state=123).value_counts(normalize=True)"
      ],
      "metadata": {
        "colab": {
          "base_uri": "https://localhost:8080/"
        },
        "id": "_q1xOmmSHq5n",
        "outputId": "2dc341cb-e602-409d-a20e-627d96437bc7"
      },
      "execution_count": null,
      "outputs": [
        {
          "output_type": "execute_result",
          "data": {
            "text/plain": [
              "USD    0.466667\n",
              "INR    0.133333\n",
              "CAD    0.133333\n",
              "DKK    0.066667\n",
              "JPY    0.066667\n",
              "GBP    0.066667\n",
              "EUR    0.066667\n",
              "Name: salary_currency, dtype: float64"
            ]
          },
          "metadata": {},
          "execution_count": 10
        }
      ]
    },
    {
      "cell_type": "code",
      "source": [
        "# Verificando todos os tipos de salário\n",
        "df['salary_currency'].value_counts().index"
      ],
      "metadata": {
        "colab": {
          "base_uri": "https://localhost:8080/"
        },
        "id": "pNH65plX7tqx",
        "outputId": "9aa72a7f-bfed-4953-f409-e8bf543af8b0"
      },
      "execution_count": null,
      "outputs": [
        {
          "output_type": "execute_result",
          "data": {
            "text/plain": [
              "Index(['USD', 'EUR', 'INR', 'GBP', 'CAD', 'TRY', 'PLN', 'HUF', 'SGD', 'MXN',\n",
              "       'DKK', 'BRL', 'CLP', 'JPY', 'CNY'],\n",
              "      dtype='object')"
            ]
          },
          "metadata": {},
          "execution_count": 12
        }
      ]
    },
    {
      "cell_type": "markdown",
      "metadata": {
        "id": "d_fHExX3oEVz"
      },
      "source": [
        "#### Amostragem Sistemática "
      ]
    },
    {
      "cell_type": "code",
      "source": [
        "# Amostragem sistemática com passo e primeiro valor definidos\n",
        "passo = 25\n",
        "inicial = 132\n",
        "indices = np.arange(inicial,df.shape[0],passo)\n",
        "amostra = df.loc[indices]\n",
        "amostra\n"
      ],
      "metadata": {
        "colab": {
          "base_uri": "https://localhost:8080/",
          "height": 250
        },
        "id": "BMwm9x8rIfJL",
        "outputId": "0da957e6-4a9e-486e-fe90-d7faf61d08ea"
      },
      "execution_count": null,
      "outputs": [
        {
          "output_type": "execute_result",
          "data": {
            "text/plain": [
              "     work_year experience_level employment_type                  job_title  \\\n",
              "132       2021               SE              FT             Data Scientist   \n",
              "157       2021               EN              FT    Data Science Consultant   \n",
              "182       2021               MI              FT  Machine Learning Engineer   \n",
              "207       2021               MI              FT  Machine Learning Engineer   \n",
              "232       2020               MI              FT             Data Scientist   \n",
              "\n",
              "     salary salary_currency  salary_in_usd employee_residence  remote_ratio  \\\n",
              "132  135000             USD         135000                 US             0   \n",
              "157   90000             USD          90000                 US           100   \n",
              "182   21000             EUR          25032                 SI            50   \n",
              "207   74000             USD          74000                 JP            50   \n",
              "232  138350             USD         138350                 US           100   \n",
              "\n",
              "    company_location company_size  \n",
              "132               US            L  \n",
              "157               US            S  \n",
              "182               SI            L  \n",
              "207               JP            S  \n",
              "232               US            M  "
            ],
            "text/html": [
              "\n",
              "  <div id=\"df-2402c4c9-2596-4412-8b17-8ca97c8b6b99\">\n",
              "    <div class=\"colab-df-container\">\n",
              "      <div>\n",
              "<style scoped>\n",
              "    .dataframe tbody tr th:only-of-type {\n",
              "        vertical-align: middle;\n",
              "    }\n",
              "\n",
              "    .dataframe tbody tr th {\n",
              "        vertical-align: top;\n",
              "    }\n",
              "\n",
              "    .dataframe thead th {\n",
              "        text-align: right;\n",
              "    }\n",
              "</style>\n",
              "<table border=\"1\" class=\"dataframe\">\n",
              "  <thead>\n",
              "    <tr style=\"text-align: right;\">\n",
              "      <th></th>\n",
              "      <th>work_year</th>\n",
              "      <th>experience_level</th>\n",
              "      <th>employment_type</th>\n",
              "      <th>job_title</th>\n",
              "      <th>salary</th>\n",
              "      <th>salary_currency</th>\n",
              "      <th>salary_in_usd</th>\n",
              "      <th>employee_residence</th>\n",
              "      <th>remote_ratio</th>\n",
              "      <th>company_location</th>\n",
              "      <th>company_size</th>\n",
              "    </tr>\n",
              "  </thead>\n",
              "  <tbody>\n",
              "    <tr>\n",
              "      <th>132</th>\n",
              "      <td>2021</td>\n",
              "      <td>SE</td>\n",
              "      <td>FT</td>\n",
              "      <td>Data Scientist</td>\n",
              "      <td>135000</td>\n",
              "      <td>USD</td>\n",
              "      <td>135000</td>\n",
              "      <td>US</td>\n",
              "      <td>0</td>\n",
              "      <td>US</td>\n",
              "      <td>L</td>\n",
              "    </tr>\n",
              "    <tr>\n",
              "      <th>157</th>\n",
              "      <td>2021</td>\n",
              "      <td>EN</td>\n",
              "      <td>FT</td>\n",
              "      <td>Data Science Consultant</td>\n",
              "      <td>90000</td>\n",
              "      <td>USD</td>\n",
              "      <td>90000</td>\n",
              "      <td>US</td>\n",
              "      <td>100</td>\n",
              "      <td>US</td>\n",
              "      <td>S</td>\n",
              "    </tr>\n",
              "    <tr>\n",
              "      <th>182</th>\n",
              "      <td>2021</td>\n",
              "      <td>MI</td>\n",
              "      <td>FT</td>\n",
              "      <td>Machine Learning Engineer</td>\n",
              "      <td>21000</td>\n",
              "      <td>EUR</td>\n",
              "      <td>25032</td>\n",
              "      <td>SI</td>\n",
              "      <td>50</td>\n",
              "      <td>SI</td>\n",
              "      <td>L</td>\n",
              "    </tr>\n",
              "    <tr>\n",
              "      <th>207</th>\n",
              "      <td>2021</td>\n",
              "      <td>MI</td>\n",
              "      <td>FT</td>\n",
              "      <td>Machine Learning Engineer</td>\n",
              "      <td>74000</td>\n",
              "      <td>USD</td>\n",
              "      <td>74000</td>\n",
              "      <td>JP</td>\n",
              "      <td>50</td>\n",
              "      <td>JP</td>\n",
              "      <td>S</td>\n",
              "    </tr>\n",
              "    <tr>\n",
              "      <th>232</th>\n",
              "      <td>2020</td>\n",
              "      <td>MI</td>\n",
              "      <td>FT</td>\n",
              "      <td>Data Scientist</td>\n",
              "      <td>138350</td>\n",
              "      <td>USD</td>\n",
              "      <td>138350</td>\n",
              "      <td>US</td>\n",
              "      <td>100</td>\n",
              "      <td>US</td>\n",
              "      <td>M</td>\n",
              "    </tr>\n",
              "  </tbody>\n",
              "</table>\n",
              "</div>\n",
              "      <button class=\"colab-df-convert\" onclick=\"convertToInteractive('df-2402c4c9-2596-4412-8b17-8ca97c8b6b99')\"\n",
              "              title=\"Convert this dataframe to an interactive table.\"\n",
              "              style=\"display:none;\">\n",
              "        \n",
              "  <svg xmlns=\"http://www.w3.org/2000/svg\" height=\"24px\"viewBox=\"0 0 24 24\"\n",
              "       width=\"24px\">\n",
              "    <path d=\"M0 0h24v24H0V0z\" fill=\"none\"/>\n",
              "    <path d=\"M18.56 5.44l.94 2.06.94-2.06 2.06-.94-2.06-.94-.94-2.06-.94 2.06-2.06.94zm-11 1L8.5 8.5l.94-2.06 2.06-.94-2.06-.94L8.5 2.5l-.94 2.06-2.06.94zm10 10l.94 2.06.94-2.06 2.06-.94-2.06-.94-.94-2.06-.94 2.06-2.06.94z\"/><path d=\"M17.41 7.96l-1.37-1.37c-.4-.4-.92-.59-1.43-.59-.52 0-1.04.2-1.43.59L10.3 9.45l-7.72 7.72c-.78.78-.78 2.05 0 2.83L4 21.41c.39.39.9.59 1.41.59.51 0 1.02-.2 1.41-.59l7.78-7.78 2.81-2.81c.8-.78.8-2.07 0-2.86zM5.41 20L4 18.59l7.72-7.72 1.47 1.35L5.41 20z\"/>\n",
              "  </svg>\n",
              "      </button>\n",
              "      \n",
              "  <style>\n",
              "    .colab-df-container {\n",
              "      display:flex;\n",
              "      flex-wrap:wrap;\n",
              "      gap: 12px;\n",
              "    }\n",
              "\n",
              "    .colab-df-convert {\n",
              "      background-color: #E8F0FE;\n",
              "      border: none;\n",
              "      border-radius: 50%;\n",
              "      cursor: pointer;\n",
              "      display: none;\n",
              "      fill: #1967D2;\n",
              "      height: 32px;\n",
              "      padding: 0 0 0 0;\n",
              "      width: 32px;\n",
              "    }\n",
              "\n",
              "    .colab-df-convert:hover {\n",
              "      background-color: #E2EBFA;\n",
              "      box-shadow: 0px 1px 2px rgba(60, 64, 67, 0.3), 0px 1px 3px 1px rgba(60, 64, 67, 0.15);\n",
              "      fill: #174EA6;\n",
              "    }\n",
              "\n",
              "    [theme=dark] .colab-df-convert {\n",
              "      background-color: #3B4455;\n",
              "      fill: #D2E3FC;\n",
              "    }\n",
              "\n",
              "    [theme=dark] .colab-df-convert:hover {\n",
              "      background-color: #434B5C;\n",
              "      box-shadow: 0px 1px 3px 1px rgba(0, 0, 0, 0.15);\n",
              "      filter: drop-shadow(0px 1px 2px rgba(0, 0, 0, 0.3));\n",
              "      fill: #FFFFFF;\n",
              "    }\n",
              "  </style>\n",
              "\n",
              "      <script>\n",
              "        const buttonEl =\n",
              "          document.querySelector('#df-2402c4c9-2596-4412-8b17-8ca97c8b6b99 button.colab-df-convert');\n",
              "        buttonEl.style.display =\n",
              "          google.colab.kernel.accessAllowed ? 'block' : 'none';\n",
              "\n",
              "        async function convertToInteractive(key) {\n",
              "          const element = document.querySelector('#df-2402c4c9-2596-4412-8b17-8ca97c8b6b99');\n",
              "          const dataTable =\n",
              "            await google.colab.kernel.invokeFunction('convertToInteractive',\n",
              "                                                     [key], {});\n",
              "          if (!dataTable) return;\n",
              "\n",
              "          const docLinkHtml = 'Like what you see? Visit the ' +\n",
              "            '<a target=\"_blank\" href=https://colab.research.google.com/notebooks/data_table.ipynb>data table notebook</a>'\n",
              "            + ' to learn more about interactive tables.';\n",
              "          element.innerHTML = '';\n",
              "          dataTable['output_type'] = 'display_data';\n",
              "          await google.colab.output.renderOutput(dataTable, element);\n",
              "          const docLink = document.createElement('div');\n",
              "          docLink.innerHTML = docLinkHtml;\n",
              "          element.appendChild(docLink);\n",
              "        }\n",
              "      </script>\n",
              "    </div>\n",
              "  </div>\n",
              "  "
            ]
          },
          "metadata": {},
          "execution_count": 27
        }
      ]
    },
    {
      "cell_type": "markdown",
      "metadata": {
        "id": "6g1OmQlGoFDO"
      },
      "source": [
        "#### Amostragem Estratificada "
      ]
    },
    {
      "cell_type": "code",
      "source": [
        "# Verificando quantos tipos diferentes de classe temos na amostra\n",
        "df['experience_level'].value_counts()"
      ],
      "metadata": {
        "colab": {
          "base_uri": "https://localhost:8080/"
        },
        "id": "EUwfD6QNI5K6",
        "outputId": "78c12998-2291-45e9-88e4-fcaae6a2a940"
      },
      "execution_count": null,
      "outputs": [
        {
          "output_type": "execute_result",
          "data": {
            "text/plain": [
              "MI    103\n",
              "SE     77\n",
              "EN     54\n",
              "EX     11\n",
              "Name: experience_level, dtype: int64"
            ]
          },
          "metadata": {},
          "execution_count": 16
        }
      ]
    },
    {
      "cell_type": "code",
      "source": [
        "from sklearn.model_selection import train_test_split\n",
        "\n",
        "# Amostragem estratificada usando train_test_split\n",
        "X_1, X_2 = train_test_split(df, test_size = 10 #Tamanho da amostra X_2 - Amostra alvo\n",
        "                            , stratify = df['experience_level'])\n",
        "X_2['experience_level'].value_counts()"
      ],
      "metadata": {
        "colab": {
          "base_uri": "https://localhost:8080/"
        },
        "id": "cMBy6A9pI-Wk",
        "outputId": "3210ee35-cb0e-440e-ec73-e8fb2ed1699e"
      },
      "execution_count": null,
      "outputs": [
        {
          "output_type": "execute_result",
          "data": {
            "text/plain": [
              "MI    4\n",
              "SE    3\n",
              "EN    2\n",
              "EX    1\n",
              "Name: experience_level, dtype: int64"
            ]
          },
          "metadata": {},
          "execution_count": 19
        }
      ]
    },
    {
      "cell_type": "code",
      "source": [
        "X_1['experience_level'].value_counts()"
      ],
      "metadata": {
        "colab": {
          "base_uri": "https://localhost:8080/"
        },
        "id": "CBGqKpGnJYfy",
        "outputId": "30671d6b-789c-4a44-e9fc-4920d8daecd8"
      },
      "execution_count": null,
      "outputs": [
        {
          "output_type": "execute_result",
          "data": {
            "text/plain": [
              "MI    99\n",
              "SE    74\n",
              "EN    52\n",
              "EX    10\n",
              "Name: experience_level, dtype: int64"
            ]
          },
          "metadata": {},
          "execution_count": 20
        }
      ]
    },
    {
      "cell_type": "markdown",
      "metadata": {
        "id": "1rDmAY66L-cF"
      },
      "source": [
        "#### Amostragem Clusterizada "
      ]
    },
    {
      "cell_type": "code",
      "source": [
        "# Amostragem clusterizada selecionando apenas os seniores\n",
        "amostra = df[df.experience_level=='SE'].sample(frac=0.1)\n",
        "amostra"
      ],
      "metadata": {
        "colab": {
          "base_uri": "https://localhost:8080/",
          "height": 344
        },
        "id": "bfj6mkN7JlEq",
        "outputId": "badd76e3-d31a-49d8-f849-09826fa9b8ad"
      },
      "execution_count": null,
      "outputs": [
        {
          "output_type": "execute_result",
          "data": {
            "text/plain": [
              "     work_year experience_level employment_type                  job_title  \\\n",
              "9         2021               SE              FT      Data Science Engineer   \n",
              "210       2020               SE              FL   Computer Vision Engineer   \n",
              "244       2021               SE              FT       Data Science Manager   \n",
              "50        2021               SE              FT  Machine Learning Engineer   \n",
              "138       2021               SE              FT         Research Scientist   \n",
              "134       2021               SE              FT       Data Science Manager   \n",
              "86        2021               SE              FT         Big Data Architect   \n",
              "202       2020               SE              FT             Data Scientist   \n",
              "\n",
              "      salary salary_currency  salary_in_usd employee_residence  remote_ratio  \\\n",
              "9     159500             CAD         127543                 CA            50   \n",
              "210    60000             USD          60000                 RU           100   \n",
              "244  7000000             INR          94917                 IN            50   \n",
              "50     80000             EUR          95362                 DE            50   \n",
              "138   120500             CAD          96357                 CA            50   \n",
              "134  4000000             INR          54238                 IN            50   \n",
              "86    125000             CAD          99956                 CA            50   \n",
              "202   120000             USD         120000                 US            50   \n",
              "\n",
              "    company_location company_size  \n",
              "9                 CA            L  \n",
              "210               US            S  \n",
              "244               IN            L  \n",
              "50                DE            L  \n",
              "138               CA            L  \n",
              "134               US            L  \n",
              "86                CA            M  \n",
              "202               US            L  "
            ],
            "text/html": [
              "\n",
              "  <div id=\"df-36375b55-a64b-4453-a6a9-464d29fb8eae\">\n",
              "    <div class=\"colab-df-container\">\n",
              "      <div>\n",
              "<style scoped>\n",
              "    .dataframe tbody tr th:only-of-type {\n",
              "        vertical-align: middle;\n",
              "    }\n",
              "\n",
              "    .dataframe tbody tr th {\n",
              "        vertical-align: top;\n",
              "    }\n",
              "\n",
              "    .dataframe thead th {\n",
              "        text-align: right;\n",
              "    }\n",
              "</style>\n",
              "<table border=\"1\" class=\"dataframe\">\n",
              "  <thead>\n",
              "    <tr style=\"text-align: right;\">\n",
              "      <th></th>\n",
              "      <th>work_year</th>\n",
              "      <th>experience_level</th>\n",
              "      <th>employment_type</th>\n",
              "      <th>job_title</th>\n",
              "      <th>salary</th>\n",
              "      <th>salary_currency</th>\n",
              "      <th>salary_in_usd</th>\n",
              "      <th>employee_residence</th>\n",
              "      <th>remote_ratio</th>\n",
              "      <th>company_location</th>\n",
              "      <th>company_size</th>\n",
              "    </tr>\n",
              "  </thead>\n",
              "  <tbody>\n",
              "    <tr>\n",
              "      <th>9</th>\n",
              "      <td>2021</td>\n",
              "      <td>SE</td>\n",
              "      <td>FT</td>\n",
              "      <td>Data Science Engineer</td>\n",
              "      <td>159500</td>\n",
              "      <td>CAD</td>\n",
              "      <td>127543</td>\n",
              "      <td>CA</td>\n",
              "      <td>50</td>\n",
              "      <td>CA</td>\n",
              "      <td>L</td>\n",
              "    </tr>\n",
              "    <tr>\n",
              "      <th>210</th>\n",
              "      <td>2020</td>\n",
              "      <td>SE</td>\n",
              "      <td>FL</td>\n",
              "      <td>Computer Vision Engineer</td>\n",
              "      <td>60000</td>\n",
              "      <td>USD</td>\n",
              "      <td>60000</td>\n",
              "      <td>RU</td>\n",
              "      <td>100</td>\n",
              "      <td>US</td>\n",
              "      <td>S</td>\n",
              "    </tr>\n",
              "    <tr>\n",
              "      <th>244</th>\n",
              "      <td>2021</td>\n",
              "      <td>SE</td>\n",
              "      <td>FT</td>\n",
              "      <td>Data Science Manager</td>\n",
              "      <td>7000000</td>\n",
              "      <td>INR</td>\n",
              "      <td>94917</td>\n",
              "      <td>IN</td>\n",
              "      <td>50</td>\n",
              "      <td>IN</td>\n",
              "      <td>L</td>\n",
              "    </tr>\n",
              "    <tr>\n",
              "      <th>50</th>\n",
              "      <td>2021</td>\n",
              "      <td>SE</td>\n",
              "      <td>FT</td>\n",
              "      <td>Machine Learning Engineer</td>\n",
              "      <td>80000</td>\n",
              "      <td>EUR</td>\n",
              "      <td>95362</td>\n",
              "      <td>DE</td>\n",
              "      <td>50</td>\n",
              "      <td>DE</td>\n",
              "      <td>L</td>\n",
              "    </tr>\n",
              "    <tr>\n",
              "      <th>138</th>\n",
              "      <td>2021</td>\n",
              "      <td>SE</td>\n",
              "      <td>FT</td>\n",
              "      <td>Research Scientist</td>\n",
              "      <td>120500</td>\n",
              "      <td>CAD</td>\n",
              "      <td>96357</td>\n",
              "      <td>CA</td>\n",
              "      <td>50</td>\n",
              "      <td>CA</td>\n",
              "      <td>L</td>\n",
              "    </tr>\n",
              "    <tr>\n",
              "      <th>134</th>\n",
              "      <td>2021</td>\n",
              "      <td>SE</td>\n",
              "      <td>FT</td>\n",
              "      <td>Data Science Manager</td>\n",
              "      <td>4000000</td>\n",
              "      <td>INR</td>\n",
              "      <td>54238</td>\n",
              "      <td>IN</td>\n",
              "      <td>50</td>\n",
              "      <td>US</td>\n",
              "      <td>L</td>\n",
              "    </tr>\n",
              "    <tr>\n",
              "      <th>86</th>\n",
              "      <td>2021</td>\n",
              "      <td>SE</td>\n",
              "      <td>FT</td>\n",
              "      <td>Big Data Architect</td>\n",
              "      <td>125000</td>\n",
              "      <td>CAD</td>\n",
              "      <td>99956</td>\n",
              "      <td>CA</td>\n",
              "      <td>50</td>\n",
              "      <td>CA</td>\n",
              "      <td>M</td>\n",
              "    </tr>\n",
              "    <tr>\n",
              "      <th>202</th>\n",
              "      <td>2020</td>\n",
              "      <td>SE</td>\n",
              "      <td>FT</td>\n",
              "      <td>Data Scientist</td>\n",
              "      <td>120000</td>\n",
              "      <td>USD</td>\n",
              "      <td>120000</td>\n",
              "      <td>US</td>\n",
              "      <td>50</td>\n",
              "      <td>US</td>\n",
              "      <td>L</td>\n",
              "    </tr>\n",
              "  </tbody>\n",
              "</table>\n",
              "</div>\n",
              "      <button class=\"colab-df-convert\" onclick=\"convertToInteractive('df-36375b55-a64b-4453-a6a9-464d29fb8eae')\"\n",
              "              title=\"Convert this dataframe to an interactive table.\"\n",
              "              style=\"display:none;\">\n",
              "        \n",
              "  <svg xmlns=\"http://www.w3.org/2000/svg\" height=\"24px\"viewBox=\"0 0 24 24\"\n",
              "       width=\"24px\">\n",
              "    <path d=\"M0 0h24v24H0V0z\" fill=\"none\"/>\n",
              "    <path d=\"M18.56 5.44l.94 2.06.94-2.06 2.06-.94-2.06-.94-.94-2.06-.94 2.06-2.06.94zm-11 1L8.5 8.5l.94-2.06 2.06-.94-2.06-.94L8.5 2.5l-.94 2.06-2.06.94zm10 10l.94 2.06.94-2.06 2.06-.94-2.06-.94-.94-2.06-.94 2.06-2.06.94z\"/><path d=\"M17.41 7.96l-1.37-1.37c-.4-.4-.92-.59-1.43-.59-.52 0-1.04.2-1.43.59L10.3 9.45l-7.72 7.72c-.78.78-.78 2.05 0 2.83L4 21.41c.39.39.9.59 1.41.59.51 0 1.02-.2 1.41-.59l7.78-7.78 2.81-2.81c.8-.78.8-2.07 0-2.86zM5.41 20L4 18.59l7.72-7.72 1.47 1.35L5.41 20z\"/>\n",
              "  </svg>\n",
              "      </button>\n",
              "      \n",
              "  <style>\n",
              "    .colab-df-container {\n",
              "      display:flex;\n",
              "      flex-wrap:wrap;\n",
              "      gap: 12px;\n",
              "    }\n",
              "\n",
              "    .colab-df-convert {\n",
              "      background-color: #E8F0FE;\n",
              "      border: none;\n",
              "      border-radius: 50%;\n",
              "      cursor: pointer;\n",
              "      display: none;\n",
              "      fill: #1967D2;\n",
              "      height: 32px;\n",
              "      padding: 0 0 0 0;\n",
              "      width: 32px;\n",
              "    }\n",
              "\n",
              "    .colab-df-convert:hover {\n",
              "      background-color: #E2EBFA;\n",
              "      box-shadow: 0px 1px 2px rgba(60, 64, 67, 0.3), 0px 1px 3px 1px rgba(60, 64, 67, 0.15);\n",
              "      fill: #174EA6;\n",
              "    }\n",
              "\n",
              "    [theme=dark] .colab-df-convert {\n",
              "      background-color: #3B4455;\n",
              "      fill: #D2E3FC;\n",
              "    }\n",
              "\n",
              "    [theme=dark] .colab-df-convert:hover {\n",
              "      background-color: #434B5C;\n",
              "      box-shadow: 0px 1px 3px 1px rgba(0, 0, 0, 0.15);\n",
              "      filter: drop-shadow(0px 1px 2px rgba(0, 0, 0, 0.3));\n",
              "      fill: #FFFFFF;\n",
              "    }\n",
              "  </style>\n",
              "\n",
              "      <script>\n",
              "        const buttonEl =\n",
              "          document.querySelector('#df-36375b55-a64b-4453-a6a9-464d29fb8eae button.colab-df-convert');\n",
              "        buttonEl.style.display =\n",
              "          google.colab.kernel.accessAllowed ? 'block' : 'none';\n",
              "\n",
              "        async function convertToInteractive(key) {\n",
              "          const element = document.querySelector('#df-36375b55-a64b-4453-a6a9-464d29fb8eae');\n",
              "          const dataTable =\n",
              "            await google.colab.kernel.invokeFunction('convertToInteractive',\n",
              "                                                     [key], {});\n",
              "          if (!dataTable) return;\n",
              "\n",
              "          const docLinkHtml = 'Like what you see? Visit the ' +\n",
              "            '<a target=\"_blank\" href=https://colab.research.google.com/notebooks/data_table.ipynb>data table notebook</a>'\n",
              "            + ' to learn more about interactive tables.';\n",
              "          element.innerHTML = '';\n",
              "          dataTable['output_type'] = 'display_data';\n",
              "          await google.colab.output.renderOutput(dataTable, element);\n",
              "          const docLink = document.createElement('div');\n",
              "          docLink.innerHTML = docLinkHtml;\n",
              "          element.appendChild(docLink);\n",
              "        }\n",
              "      </script>\n",
              "    </div>\n",
              "  </div>\n",
              "  "
            ]
          },
          "metadata": {},
          "execution_count": 23
        }
      ]
    },
    {
      "cell_type": "markdown",
      "source": [
        "# Distribuição Normal\n",
        "\n",
        "\n",
        "<img alt=\"Correlação\" width=\"85%\" src=\"https://proeducacional.com/packages/uploads/2020/08/img_5f2ae87aaa0c2.png\">\n"
      ],
      "metadata": {
        "id": "pOW6nGRlKcqw"
      }
    },
    {
      "cell_type": "code",
      "source": [
        "# Testando a função normaltest em dados que com certeza são normais\n",
        "\n",
        "np.random.seed(0) # Gera a semente aleatória\n",
        "normal_points = np.random.normal(0,1,10**3) # gera 10**3 pontos dentro de uma distribuição normal\n",
        "sns.histplot(x= normal_points,kde=True,stat='probability') # Plota a distripuição dos dados\n",
        "\n",
        "k2, p = stats.normaltest(normal_points) # Realiza o teste normal\n",
        "alpha = 1e-3 # Probabilidade limite - caso o p (probabilidade do teste ser verdade) for menor que esse valor, então a hipótese nula pode ser rejeitada\n",
        "\n",
        "\n",
        "print(\"p = {:g}\".format(p))\n",
        "#p = 0.890035\n",
        "if p < alpha:  # H0: os dados seguem uma distribuição normal\n",
        "    print(\"H0 pode ser rejeitado\")\n",
        "else:\n",
        "    print(\"H0 não pode ser rejeitado\")"
      ],
      "metadata": {
        "colab": {
          "base_uri": "https://localhost:8080/",
          "height": 300
        },
        "id": "ZfJCDXjcKvSW",
        "outputId": "e5babeda-0108-4889-b296-6ae3971b04b5"
      },
      "execution_count": null,
      "outputs": [
        {
          "output_type": "stream",
          "name": "stdout",
          "text": [
            "p = 0.890035\n",
            "H0 não pode ser rejeitado\n"
          ]
        },
        {
          "output_type": "display_data",
          "data": {
            "text/plain": [
              "<Figure size 432x288 with 1 Axes>"
            ],
            "image/png": "[encoded data removed]"
          },
          "metadata": {
            "needs_background": "light"
          }
        }
      ]
    },
    {
      "cell_type": "code",
      "source": [
        "# Visualizando a distribuição dos salários\n",
        "sns.histplot(data=df,x='salary_in_usd',kde=True)"
      ],
      "metadata": {
        "colab": {
          "base_uri": "https://localhost:8080/",
          "height": 297
        },
        "id": "-Tlxg_sqKxFN",
        "outputId": "5ca335b3-3bea-4a8e-87e2-02cec6fcec3e"
      },
      "execution_count": null,
      "outputs": [
        {
          "output_type": "execute_result",
          "data": {
            "text/plain": [
              "<matplotlib.axes._subplots.AxesSubplot at 0x7f50a6727f10>"
            ]
          },
          "metadata": {},
          "execution_count": 27
        },
        {
          "output_type": "display_data",
          "data": {
            "text/plain": [
              "<Figure size 432x288 with 1 Axes>"
            ],
            "image/png": "[encoded data removed]"
          },
          "metadata": {
            "needs_background": "light"
          }
        }
      ]
    },
    {
      "cell_type": "code",
      "source": [
        "k2, p = stats.normaltest(df.salary_in_usd)\n",
        "print(\"p = {:g}\".format(p))\n",
        "if p < alpha:  # H0: os dados seguem uma distribuição normal\n",
        "    print(\"H0 pode ser rejeitado\")\n",
        "else:\n",
        "    print(\"H0 não pode ser rejeitado\")"
      ],
      "metadata": {
        "colab": {
          "base_uri": "https://localhost:8080/"
        },
        "id": "a449OOodK04A",
        "outputId": "7bb3f59d-7a86-4632-b620-a88748224061"
      },
      "execution_count": null,
      "outputs": [
        {
          "output_type": "stream",
          "name": "stdout",
          "text": [
            "p = 1.39497e-31\n",
            "H0 pode ser rejeitado\n"
          ]
        }
      ]
    },
    {
      "cell_type": "markdown",
      "source": [
        "# Intervalo de confiança"
      ],
      "metadata": {
        "id": "g-UIjWHz-AGv"
      }
    },
    {
      "cell_type": "markdown",
      "source": [
        "<img alt=\"Correlação\" width=\"85%\" src=\"https://www.dummies.com/wp-content/uploads/451825.image0.jpg\">\n",
        "\n",
        "\n",
        "\n"
      ],
      "metadata": {
        "id": "MSyR6udPMFgR"
      }
    },
    {
      "cell_type": "markdown",
      "source": [
        "![](data:image/png;base64,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)"
      ],
      "metadata": {
        "id": "qMeKKxl4-NLf"
      }
    },
    {
      "cell_type": "markdown",
      "source": [
        "![](https://www.statisticshowto.com/wp-content/uploads/2021/12/confidence-limits.bmp)"
      ],
      "metadata": {
        "id": "eB-gNZdG-p0p"
      }
    },
    {
      "cell_type": "code",
      "source": [
        "# Realizando o teste com uma amostragem aleatória simples com 25 amostras -> Teste T\n",
        "amostra = df.sample(25, random_state=0)\n",
        "confidence = 0.95\n",
        "dof = amostra.shape[0]-1\n",
        "\n",
        "interval = stats.t.interval(alpha=confidence, df=dof, loc=amostra.salary_in_usd.mean(), scale = stats.sem(amostra.salary_in_usd))\n",
        "interval"
      ],
      "metadata": {
        "colab": {
          "base_uri": "https://localhost:8080/"
        },
        "id": "MeUaufkML6qB",
        "outputId": "6e976b0f-51e3-4760-baa1-36fe7e643026"
      },
      "execution_count": null,
      "outputs": [
        {
          "output_type": "execute_result",
          "data": {
            "text/plain": [
              "(41088.60815163888, 116269.71184836113)"
            ]
          },
          "metadata": {},
          "execution_count": 29
        }
      ]
    },
    {
      "cell_type": "code",
      "source": [
        "# Verificando a média da população\n",
        "df.salary_in_usd.mean()"
      ],
      "metadata": {
        "colab": {
          "base_uri": "https://localhost:8080/"
        },
        "id": "Q7peZV_hNliJ",
        "outputId": "3515fbc6-f216-42fd-9d77-a9fafce74983"
      },
      "execution_count": null,
      "outputs": [
        {
          "output_type": "execute_result",
          "data": {
            "text/plain": [
              "99868.01224489795"
            ]
          },
          "metadata": {},
          "execution_count": 28
        }
      ]
    },
    {
      "cell_type": "code",
      "source": [
        "# Visualizando a distribuição dos dados como ele são\n",
        "sns.histplot(data=df,x='salary_in_usd',kde=True)\n",
        "plt.axvline(df.salary_in_usd.mean(),0, 40,c='Red', label='Mean')\n",
        "plt.legend()"
      ],
      "metadata": {
        "colab": {
          "base_uri": "https://localhost:8080/",
          "height": 297
        },
        "id": "ixlpbI05_ETi",
        "outputId": "1e98dad7-c315-4738-f357-34d96525aa7a"
      },
      "execution_count": null,
      "outputs": [
        {
          "output_type": "execute_result",
          "data": {
            "text/plain": [
              "<matplotlib.legend.Legend at 0x7f50a650c790>"
            ]
          },
          "metadata": {},
          "execution_count": 33
        },
        {
          "output_type": "display_data",
          "data": {
            "text/plain": [
              "<Figure size 432x288 with 1 Axes>"
            ],
            "image/png": "[encoded data removed]"
          },
          "metadata": {
            "needs_background": "light"
          }
        }
      ]
    },
    {
      "cell_type": "code",
      "source": [
        "# Visualizando a distribuição dos dados aplicando o teorema do limite central\n",
        "val_list = []\n",
        "for i in range(10000):\n",
        "  val_list.append(df.sample(30).salary_in_usd.mean())\n",
        "\n",
        "sns.histplot(val_list,kde=True)\n",
        "plt.axvline(np.array(val_list).mean(),0, 40,c='Red', label='Mean')\n",
        "plt.legend()"
      ],
      "metadata": {
        "colab": {
          "base_uri": "https://localhost:8080/",
          "height": 282
        },
        "id": "_GvYQ3NS_PFf",
        "outputId": "20d1c855-7028-4d93-a524-5c506e0eff40"
      },
      "execution_count": null,
      "outputs": [
        {
          "output_type": "execute_result",
          "data": {
            "text/plain": [
              "<matplotlib.legend.Legend at 0x7f50a673b250>"
            ]
          },
          "metadata": {},
          "execution_count": 38
        },
        {
          "output_type": "display_data",
          "data": {
            "text/plain": [
              "<Figure size 432x288 with 1 Axes>"
            ],
            "image/png": "[encoded data removed]"
          },
          "metadata": {
            "needs_background": "light"
          }
        }
      ]
    },
    {
      "cell_type": "code",
      "source": [
        "# Realizando o teste com uma amostragem aleatória simples com 50 amostras -> Teorema do Limite Central -> Teste Normal\n",
        "amostra = df.sample(50, random_state=0)\n",
        "confidence = 0.95\n",
        "\n",
        "interval = stats.norm.interval(alpha=confidence, loc=amostra.salary_in_usd.mean(), scale = stats.sem(amostra.salary_in_usd))\n",
        "interval\n"
      ],
      "metadata": {
        "colab": {
          "base_uri": "https://localhost:8080/"
        },
        "id": "s2mAIEvpM1_B",
        "outputId": "96d394a9-acba-450f-a900-cfc8ac30c2c0"
      },
      "execution_count": null,
      "outputs": [
        {
          "output_type": "execute_result",
          "data": {
            "text/plain": [
              "(71889.18259929774, 118278.77740070225)"
            ]
          },
          "metadata": {},
          "execution_count": 39
        }
      ]
    },
    {
      "cell_type": "code",
      "source": [
        "# Verificando a média da população\n",
        "df.salary_in_usd.mean()"
      ],
      "metadata": {
        "colab": {
          "base_uri": "https://localhost:8080/"
        },
        "id": "7U6qlbn4_xZX",
        "outputId": "6d02fa5f-1f63-4e5d-dc40-de9e95157f3f"
      },
      "execution_count": null,
      "outputs": [
        {
          "output_type": "execute_result",
          "data": {
            "text/plain": [
              "99868.01224489795"
            ]
          },
          "metadata": {},
          "execution_count": 40
        }
      ]
    }
  ],
  "metadata": {
    "colab": {
      "provenance": []
    },
    "kernelspec": {
      "display_name": "Python 3",
      "name": "python3"
    },
    "language_info": {
      "name": "python"
    }
  },
  "nbformat": 4,
  "nbformat_minor": 0
}